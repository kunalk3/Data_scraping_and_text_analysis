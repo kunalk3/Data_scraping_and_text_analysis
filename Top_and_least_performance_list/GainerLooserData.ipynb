{
 "cells": [
  {
   "cell_type": "markdown",
   "id": "1bbd6874",
   "metadata": {},
   "source": [
    "## A) Loading Data And Directory"
   ]
  },
  {
   "cell_type": "code",
   "execution_count": 1,
   "id": "071f983f",
   "metadata": {},
   "outputs": [],
   "source": [
    "import requests\n",
    "from bs4 import BeautifulSoup\n",
    "import pandas as pd\n",
    "import os, time, logging\n",
    "from datetime import datetime\n",
    "import matplotlib.pyplot as plt\n",
    "import seaborn as sns\n",
    "%matplotlib inline\n",
    "sns.set_style('darkgrid')\n",
    "#import schedule"
   ]
  },
  {
   "cell_type": "code",
   "execution_count": 2,
   "id": "ebe079c6",
   "metadata": {},
   "outputs": [],
   "source": [
    "CURRENT_DIR = os.getcwd()\n",
    "CURRENT_DATE = datetime.today().strftime('%d.%m.%Y')\n",
    "GAIN_DIR = os.path.join(CURRENT_DIR, 'NSE_Gainer\\\\')\n",
    "LOSS_DIR = os.path.join(CURRENT_DIR, 'NSE_Looser\\\\')\n",
    "OUTPUT_DIR = os.path.join(CURRENT_DIR, 'NSE_Output_Images\\\\')\n",
    "LOG_DIR = os.path.join(CURRENT_DIR, 'NSE_Logs\\\\')"
   ]
  },
  {
   "cell_type": "code",
   "execution_count": 3,
   "id": "56d3bee2",
   "metadata": {},
   "outputs": [],
   "source": [
    "if not os.path.exists(LOG_DIR):\n",
    "    os.makedirs(LOG_DIR)\n",
    "else:\n",
    "    pass\n",
    "\n",
    "log = LOG_DIR + time.strftime('Logs_%d.%m.%Y_%H.%M.%S.%p'+'.log')\n",
    "logging.basicConfig(filename=log, level=logging.DEBUG, format='[%(asctime)s] : %(message)s', datefmt='%d/%m/%Y %H:%M:%S', filemode='w')"
   ]
  },
  {
   "cell_type": "code",
   "execution_count": 4,
   "id": "fd1925a8",
   "metadata": {},
   "outputs": [],
   "source": [
    "if not os.path.exists(GAIN_DIR):\n",
    "    os.makedirs(GAIN_DIR)\n",
    "    logging.debug(f'NSE_Gainer directory is created...')\n",
    "else: \n",
    "    logging.debug(f'NSE_Gainer directory is exists...')\n",
    "if not os.path.exists(LOSS_DIR):\n",
    "    os.makedirs(LOSS_DIR)\n",
    "    logging.debug(f'NSE_Looser directory is created...')\n",
    "else:\n",
    "    logging.debug(f'NSE_Looser directory is exists...')\n",
    "if not os.path.exists(OUTPUT_DIR):\n",
    "    os.makedirs(OUTPUT_DIR)\n",
    "    logging.debug(f'NSE_Output_Images directory is created...')\n",
    "else:\n",
    "    logging.debug(f'NSE_Output_Images directory is exists...')"
   ]
  },
  {
   "cell_type": "code",
   "execution_count": 5,
   "id": "6ddf9d83",
   "metadata": {},
   "outputs": [],
   "source": [
    "# NSE gainer (day, week, month)\n",
    "TOP_GAINER_NSE_NIFTY50_DAY = 'https://money.rediff.com/gainers/nse/daily/nifty'\n",
    "TOP_GAINER_NSE_NIFTY50_WEEK = 'https://money.rediff.com/gainers/nse/weekly/nifty'\n",
    "TOP_GAINER_NSE_NIFTY50_MONTH = 'https://money.rediff.com/gainers/nse/monthly/nifty'\n",
    "\n",
    "# NSE looser (day, week, month)\n",
    "TOP_LOOSER_NSE_NIFTY50_DAY = 'https://money.rediff.com/losers/nse/daily/nifty'\n",
    "TOP_LOOSER_NSE_NIFTY50_WEEK = 'https://money.rediff.com/losers/nse/weekly/nifty'\n",
    "TOP_LOOSER_NSE_NIFTY50_MONTH = 'https://money.rediff.com/losers/nse/monthly/nifty'"
   ]
  },
  {
   "cell_type": "code",
   "execution_count": 6,
   "id": "9ca8dc15",
   "metadata": {},
   "outputs": [],
   "source": [
    "# NSE gainer (day, week, month)\n",
    "data_gainer_day = pd.read_html(TOP_GAINER_NSE_NIFTY50_DAY, header=0)\n",
    "data_gainer_week = pd.read_html(TOP_GAINER_NSE_NIFTY50_WEEK, header=0)\n",
    "data_gainer_month = pd.read_html(TOP_GAINER_NSE_NIFTY50_MONTH, header=0)\n",
    "logging.debug(f'NSE NIFTY50 top gainer data is fetched...')\n",
    "\n",
    "# NSE looser (day, week, month)\n",
    "data_looser_day = pd.read_html(TOP_LOOSER_NSE_NIFTY50_DAY, header=0)\n",
    "data_looser_week = pd.read_html(TOP_LOOSER_NSE_NIFTY50_WEEK, header=0)\n",
    "data_looser_month = pd.read_html(TOP_LOOSER_NSE_NIFTY50_MONTH, header=0)\n",
    "logging.debug(f'NSE NIFTY50 top looser data is fetched...')"
   ]
  },
  {
   "cell_type": "markdown",
   "id": "04b3e329",
   "metadata": {},
   "source": [
    "## B) Data View , Clean And Save"
   ]
  },
  {
   "cell_type": "markdown",
   "id": "434b7849",
   "metadata": {},
   "source": [
    "### B-1) NSE NIFTY50 - _Top Gainer Data_\n",
    "\n",
    "Top gainers are calculated by (Current Price - Opening Price) / Opening Price"
   ]
  },
  {
   "cell_type": "markdown",
   "id": "ab7b1bc8",
   "metadata": {},
   "source": [
    "#### i) Top Gainer Data - Daily basis"
   ]
  },
  {
   "cell_type": "code",
   "execution_count": 7,
   "id": "87eb078e",
   "metadata": {},
   "outputs": [
    {
     "data": {
      "text/html": [
       "<div>\n",
       "<style scoped>\n",
       "    .dataframe tbody tr th:only-of-type {\n",
       "        vertical-align: middle;\n",
       "    }\n",
       "\n",
       "    .dataframe tbody tr th {\n",
       "        vertical-align: top;\n",
       "    }\n",
       "\n",
       "    .dataframe thead th {\n",
       "        text-align: right;\n",
       "    }\n",
       "</style>\n",
       "<table border=\"1\" class=\"dataframe\">\n",
       "  <thead>\n",
       "    <tr style=\"text-align: right;\">\n",
       "      <th></th>\n",
       "      <th>Company</th>\n",
       "      <th>Prev Close (Rs)</th>\n",
       "      <th>Current Price (Rs)</th>\n",
       "      <th>% Change</th>\n",
       "    </tr>\n",
       "  </thead>\n",
       "  <tbody>\n",
       "    <tr>\n",
       "      <th>0</th>\n",
       "      <td>Hindalco Indus.</td>\n",
       "      <td>453.95</td>\n",
       "      <td>465.20</td>\n",
       "      <td>2.48</td>\n",
       "    </tr>\n",
       "    <tr>\n",
       "      <th>1</th>\n",
       "      <td>Tech Mahindra</td>\n",
       "      <td>1521.95</td>\n",
       "      <td>1550.95</td>\n",
       "      <td>1.91</td>\n",
       "    </tr>\n",
       "    <tr>\n",
       "      <th>2</th>\n",
       "      <td>HDFC Life Insurance</td>\n",
       "      <td>702.60</td>\n",
       "      <td>715.50</td>\n",
       "      <td>1.84</td>\n",
       "    </tr>\n",
       "    <tr>\n",
       "      <th>3</th>\n",
       "      <td>Nestle India</td>\n",
       "      <td>18854.00</td>\n",
       "      <td>19104.40</td>\n",
       "      <td>1.33</td>\n",
       "    </tr>\n",
       "    <tr>\n",
       "      <th>4</th>\n",
       "      <td>Tata Consumer Produc</td>\n",
       "      <td>837.65</td>\n",
       "      <td>848.70</td>\n",
       "      <td>1.32</td>\n",
       "    </tr>\n",
       "    <tr>\n",
       "      <th>5</th>\n",
       "      <td>Adani Ports &amp; Speci</td>\n",
       "      <td>735.10</td>\n",
       "      <td>743.50</td>\n",
       "      <td>1.14</td>\n",
       "    </tr>\n",
       "    <tr>\n",
       "      <th>6</th>\n",
       "      <td>Grasim Inds.</td>\n",
       "      <td>1844.35</td>\n",
       "      <td>1865.00</td>\n",
       "      <td>1.12</td>\n",
       "    </tr>\n",
       "    <tr>\n",
       "      <th>7</th>\n",
       "      <td>Wipro</td>\n",
       "      <td>641.80</td>\n",
       "      <td>648.85</td>\n",
       "      <td>1.10</td>\n",
       "    </tr>\n",
       "    <tr>\n",
       "      <th>8</th>\n",
       "      <td>Bharti Airtel</td>\n",
       "      <td>728.60</td>\n",
       "      <td>736.20</td>\n",
       "      <td>1.04</td>\n",
       "    </tr>\n",
       "    <tr>\n",
       "      <th>9</th>\n",
       "      <td>Bajaj Finserv Ltd.</td>\n",
       "      <td>17871.35</td>\n",
       "      <td>18052.85</td>\n",
       "      <td>1.02</td>\n",
       "    </tr>\n",
       "    <tr>\n",
       "      <th>10</th>\n",
       "      <td>Infosys</td>\n",
       "      <td>1733.30</td>\n",
       "      <td>1749.45</td>\n",
       "      <td>0.93</td>\n",
       "    </tr>\n",
       "    <tr>\n",
       "      <th>11</th>\n",
       "      <td>Titan Company</td>\n",
       "      <td>2528.10</td>\n",
       "      <td>2550.40</td>\n",
       "      <td>0.88</td>\n",
       "    </tr>\n",
       "    <tr>\n",
       "      <th>12</th>\n",
       "      <td>Tata Steel</td>\n",
       "      <td>1299.60</td>\n",
       "      <td>1310.70</td>\n",
       "      <td>0.85</td>\n",
       "    </tr>\n",
       "    <tr>\n",
       "      <th>13</th>\n",
       "      <td>HCL Technologies</td>\n",
       "      <td>1160.70</td>\n",
       "      <td>1170.30</td>\n",
       "      <td>0.83</td>\n",
       "    </tr>\n",
       "    <tr>\n",
       "      <th>14</th>\n",
       "      <td>Sun Pharma.</td>\n",
       "      <td>794.85</td>\n",
       "      <td>801.35</td>\n",
       "      <td>0.82</td>\n",
       "    </tr>\n",
       "  </tbody>\n",
       "</table>\n",
       "</div>"
      ],
      "text/plain": [
       "                 Company  Prev Close (Rs)  Current Price (Rs)  % Change\n",
       "0        Hindalco Indus.           453.95              465.20      2.48\n",
       "1          Tech Mahindra          1521.95             1550.95      1.91\n",
       "2    HDFC Life Insurance           702.60              715.50      1.84\n",
       "3           Nestle India         18854.00            19104.40      1.33\n",
       "4   Tata Consumer Produc           837.65              848.70      1.32\n",
       "5    Adani Ports & Speci           735.10              743.50      1.14\n",
       "6           Grasim Inds.          1844.35             1865.00      1.12\n",
       "7                  Wipro           641.80              648.85      1.10\n",
       "8          Bharti Airtel           728.60              736.20      1.04\n",
       "9     Bajaj Finserv Ltd.         17871.35            18052.85      1.02\n",
       "10               Infosys          1733.30             1749.45      0.93\n",
       "11         Titan Company          2528.10             2550.40      0.88\n",
       "12            Tata Steel          1299.60             1310.70      0.85\n",
       "13      HCL Technologies          1160.70             1170.30      0.83\n",
       "14           Sun Pharma.           794.85              801.35      0.82"
      ]
     },
     "execution_count": 7,
     "metadata": {},
     "output_type": "execute_result"
    }
   ],
   "source": [
    "df_gainer_day = pd.DataFrame(data_gainer_day[0])\n",
    "data_gainer_day[0][:15]\n",
    "# OR data_gainer_day = data_gainer_day[0] # taking 1st element from list into dataframe"
   ]
  },
  {
   "cell_type": "code",
   "execution_count": 8,
   "id": "b9b9d68c",
   "metadata": {},
   "outputs": [],
   "source": [
    "# Saving the data to csv file\n",
    "df_gainer_day.to_csv(GAIN_DIR + 'TopGainerDay_' + CURRENT_DATE + '.csv', index=False)\n",
    "logging.debug(f'NSE NIFTY50 top daily gainer data csv saved...')"
   ]
  },
  {
   "cell_type": "markdown",
   "id": "bd1e0cc0",
   "metadata": {},
   "source": [
    "#### ii) Top Gainer Data - Weekly basis"
   ]
  },
  {
   "cell_type": "code",
   "execution_count": 9,
   "id": "2d8cb1e7",
   "metadata": {},
   "outputs": [
    {
     "data": {
      "text/html": [
       "<div>\n",
       "<style scoped>\n",
       "    .dataframe tbody tr th:only-of-type {\n",
       "        vertical-align: middle;\n",
       "    }\n",
       "\n",
       "    .dataframe tbody tr th {\n",
       "        vertical-align: top;\n",
       "    }\n",
       "\n",
       "    .dataframe thead th {\n",
       "        text-align: right;\n",
       "    }\n",
       "</style>\n",
       "<table border=\"1\" class=\"dataframe\">\n",
       "  <thead>\n",
       "    <tr style=\"text-align: right;\">\n",
       "      <th></th>\n",
       "      <th>Company</th>\n",
       "      <th>Prev Close (Rs)</th>\n",
       "      <th>Current Price (Rs)</th>\n",
       "      <th>% Change</th>\n",
       "    </tr>\n",
       "  </thead>\n",
       "  <tbody>\n",
       "  </tbody>\n",
       "</table>\n",
       "</div>"
      ],
      "text/plain": [
       "Empty DataFrame\n",
       "Columns: [Company, Prev Close (Rs), Current Price (Rs), % Change]\n",
       "Index: []"
      ]
     },
     "execution_count": 9,
     "metadata": {},
     "output_type": "execute_result"
    }
   ],
   "source": [
    "df_gainer_week = pd.DataFrame(data_gainer_week[0])\n",
    "data_gainer_week[0][:15]"
   ]
  },
  {
   "cell_type": "code",
   "execution_count": 10,
   "id": "d49dc1d6",
   "metadata": {},
   "outputs": [],
   "source": [
    "df_gainer_week['% Change'] = df_gainer_week['% Change'].str.replace(' ', \"\")"
   ]
  },
  {
   "cell_type": "code",
   "execution_count": 11,
   "id": "4e4b200f",
   "metadata": {},
   "outputs": [],
   "source": [
    "# Saving the data to csv file\n",
    "df_gainer_week.to_csv(GAIN_DIR + 'TopGainerWeek_' + CURRENT_DATE + '.csv', index=False)\n",
    "logging.debug(f'NSE NIFTY50 top weekly gainer data csv saved...')"
   ]
  },
  {
   "cell_type": "markdown",
   "id": "7eb00f73",
   "metadata": {},
   "source": [
    "#### iii) Top Gainer Data - Monthly basis"
   ]
  },
  {
   "cell_type": "code",
   "execution_count": 12,
   "id": "949aff37",
   "metadata": {},
   "outputs": [
    {
     "data": {
      "text/html": [
       "<div>\n",
       "<style scoped>\n",
       "    .dataframe tbody tr th:only-of-type {\n",
       "        vertical-align: middle;\n",
       "    }\n",
       "\n",
       "    .dataframe tbody tr th {\n",
       "        vertical-align: top;\n",
       "    }\n",
       "\n",
       "    .dataframe thead th {\n",
       "        text-align: right;\n",
       "    }\n",
       "</style>\n",
       "<table border=\"1\" class=\"dataframe\">\n",
       "  <thead>\n",
       "    <tr style=\"text-align: right;\">\n",
       "      <th></th>\n",
       "      <th>Company</th>\n",
       "      <th>Prev Close (Rs)</th>\n",
       "      <th>Current Price (Rs)</th>\n",
       "      <th>% Change</th>\n",
       "    </tr>\n",
       "  </thead>\n",
       "  <tbody>\n",
       "    <tr>\n",
       "      <th>0</th>\n",
       "      <td>Grasim Inds.</td>\n",
       "      <td>1677.05</td>\n",
       "      <td>1863.80</td>\n",
       "      <td>+ 11.14</td>\n",
       "    </tr>\n",
       "    <tr>\n",
       "      <th>1</th>\n",
       "      <td>L&amp;T</td>\n",
       "      <td>1752.05</td>\n",
       "      <td>1942.00</td>\n",
       "      <td>+ 10.84</td>\n",
       "    </tr>\n",
       "    <tr>\n",
       "      <th>2</th>\n",
       "      <td>Tech Mahindra</td>\n",
       "      <td>1402.15</td>\n",
       "      <td>1553.60</td>\n",
       "      <td>+ 10.80</td>\n",
       "    </tr>\n",
       "    <tr>\n",
       "      <th>3</th>\n",
       "      <td>UltraTech Cement</td>\n",
       "      <td>7350.40</td>\n",
       "      <td>8052.00</td>\n",
       "      <td>+ 9.55</td>\n",
       "    </tr>\n",
       "    <tr>\n",
       "      <th>4</th>\n",
       "      <td>ICICI Bank</td>\n",
       "      <td>709.95</td>\n",
       "      <td>774.10</td>\n",
       "      <td>+ 9.04</td>\n",
       "    </tr>\n",
       "    <tr>\n",
       "      <th>5</th>\n",
       "      <td>Bharti Airtel</td>\n",
       "      <td>689.90</td>\n",
       "      <td>735.40</td>\n",
       "      <td>+ 6.60</td>\n",
       "    </tr>\n",
       "    <tr>\n",
       "      <th>6</th>\n",
       "      <td>SBI</td>\n",
       "      <td>481.70</td>\n",
       "      <td>508.30</td>\n",
       "      <td>+ 5.52</td>\n",
       "    </tr>\n",
       "    <tr>\n",
       "      <th>7</th>\n",
       "      <td>HDFC</td>\n",
       "      <td>2765.60</td>\n",
       "      <td>2915.80</td>\n",
       "      <td>+ 5.43</td>\n",
       "    </tr>\n",
       "    <tr>\n",
       "      <th>8</th>\n",
       "      <td>Shree Cement</td>\n",
       "      <td>27815.70</td>\n",
       "      <td>29209.95</td>\n",
       "      <td>+ 5.01</td>\n",
       "    </tr>\n",
       "    <tr>\n",
       "      <th>9</th>\n",
       "      <td>Kotak Mahindra Bank</td>\n",
       "      <td>2009.35</td>\n",
       "      <td>2070.05</td>\n",
       "      <td>+ 3.02</td>\n",
       "    </tr>\n",
       "    <tr>\n",
       "      <th>10</th>\n",
       "      <td>UPL</td>\n",
       "      <td>747.45</td>\n",
       "      <td>769.50</td>\n",
       "      <td>+ 2.95</td>\n",
       "    </tr>\n",
       "    <tr>\n",
       "      <th>11</th>\n",
       "      <td>Infosys</td>\n",
       "      <td>1709.20</td>\n",
       "      <td>1750.80</td>\n",
       "      <td>+ 2.43</td>\n",
       "    </tr>\n",
       "    <tr>\n",
       "      <th>12</th>\n",
       "      <td>Indian Oil Corp</td>\n",
       "      <td>131.25</td>\n",
       "      <td>134.25</td>\n",
       "      <td>+ 2.29</td>\n",
       "    </tr>\n",
       "    <tr>\n",
       "      <th>13</th>\n",
       "      <td>HDFC Life Insurance</td>\n",
       "      <td>700.90</td>\n",
       "      <td>716.15</td>\n",
       "      <td>+ 2.18</td>\n",
       "    </tr>\n",
       "    <tr>\n",
       "      <th>14</th>\n",
       "      <td>Titan Company</td>\n",
       "      <td>2537.20</td>\n",
       "      <td>2553.40</td>\n",
       "      <td>+ 0.64</td>\n",
       "    </tr>\n",
       "  </tbody>\n",
       "</table>\n",
       "</div>"
      ],
      "text/plain": [
       "                Company  Prev Close (Rs)  Current Price (Rs) % Change\n",
       "0          Grasim Inds.          1677.05             1863.80  + 11.14\n",
       "1                   L&T          1752.05             1942.00  + 10.84\n",
       "2         Tech Mahindra          1402.15             1553.60  + 10.80\n",
       "3      UltraTech Cement          7350.40             8052.00   + 9.55\n",
       "4            ICICI Bank           709.95              774.10   + 9.04\n",
       "5         Bharti Airtel           689.90              735.40   + 6.60\n",
       "6                   SBI           481.70              508.30   + 5.52\n",
       "7                  HDFC          2765.60             2915.80   + 5.43\n",
       "8          Shree Cement         27815.70            29209.95   + 5.01\n",
       "9   Kotak Mahindra Bank          2009.35             2070.05   + 3.02\n",
       "10                  UPL           747.45              769.50   + 2.95\n",
       "11              Infosys          1709.20             1750.80   + 2.43\n",
       "12      Indian Oil Corp           131.25              134.25   + 2.29\n",
       "13  HDFC Life Insurance           700.90              716.15   + 2.18\n",
       "14        Titan Company          2537.20             2553.40   + 0.64"
      ]
     },
     "execution_count": 12,
     "metadata": {},
     "output_type": "execute_result"
    }
   ],
   "source": [
    "df_gainer_month = pd.DataFrame(data_gainer_month[0])\n",
    "data_gainer_month[0][:15]"
   ]
  },
  {
   "cell_type": "code",
   "execution_count": 13,
   "id": "f3fb4901",
   "metadata": {},
   "outputs": [],
   "source": [
    "df_gainer_month['% Change'] = df_gainer_month['% Change'].str.replace(' ', \"\")"
   ]
  },
  {
   "cell_type": "code",
   "execution_count": 14,
   "id": "9c349323",
   "metadata": {},
   "outputs": [],
   "source": [
    "# Saving the data to csv file\n",
    "df_gainer_month.to_csv(GAIN_DIR + 'TopLooserMonth_' + CURRENT_DATE + '.csv', index=False)\n",
    "logging.debug(f'NSE NIFTY50 top monthly gainer data csv saved...')"
   ]
  },
  {
   "cell_type": "markdown",
   "id": "0d4e7752",
   "metadata": {},
   "source": [
    "### B-2) NSE NIFTY50 - _Top Looser Data_"
   ]
  },
  {
   "cell_type": "markdown",
   "id": "f2f54f75",
   "metadata": {},
   "source": [
    "#### i) Top Looser Data - Daily basis"
   ]
  },
  {
   "cell_type": "code",
   "execution_count": 15,
   "id": "39d52180",
   "metadata": {},
   "outputs": [
    {
     "data": {
      "text/html": [
       "<div>\n",
       "<style scoped>\n",
       "    .dataframe tbody tr th:only-of-type {\n",
       "        vertical-align: middle;\n",
       "    }\n",
       "\n",
       "    .dataframe tbody tr th {\n",
       "        vertical-align: top;\n",
       "    }\n",
       "\n",
       "    .dataframe thead th {\n",
       "        text-align: right;\n",
       "    }\n",
       "</style>\n",
       "<table border=\"1\" class=\"dataframe\">\n",
       "  <thead>\n",
       "    <tr style=\"text-align: right;\">\n",
       "      <th></th>\n",
       "      <th>Company</th>\n",
       "      <th>Prev Close (Rs)</th>\n",
       "      <th>Current Price (Rs)</th>\n",
       "      <th>% Change</th>\n",
       "    </tr>\n",
       "  </thead>\n",
       "  <tbody>\n",
       "    <tr>\n",
       "      <th>0</th>\n",
       "      <td>Bajaj Auto Ltd.</td>\n",
       "      <td>3749.95</td>\n",
       "      <td>3714.3</td>\n",
       "      <td>-0.95</td>\n",
       "    </tr>\n",
       "    <tr>\n",
       "      <th>1</th>\n",
       "      <td>Tata Motors Ltd.</td>\n",
       "      <td>503.45</td>\n",
       "      <td>500.8</td>\n",
       "      <td>-0.53</td>\n",
       "    </tr>\n",
       "    <tr>\n",
       "      <th>2</th>\n",
       "      <td>NTPC</td>\n",
       "      <td>136.65</td>\n",
       "      <td>136.5</td>\n",
       "      <td>-0.11</td>\n",
       "    </tr>\n",
       "    <tr>\n",
       "      <th>3</th>\n",
       "      <td>UltraTech Cement</td>\n",
       "      <td>8050.65</td>\n",
       "      <td>8047.8</td>\n",
       "      <td>-0.04</td>\n",
       "    </tr>\n",
       "    <tr>\n",
       "      <th>4</th>\n",
       "      <td>Divi's Lab</td>\n",
       "      <td>4833.25</td>\n",
       "      <td>4832.0</td>\n",
       "      <td>-0.03</td>\n",
       "    </tr>\n",
       "  </tbody>\n",
       "</table>\n",
       "</div>"
      ],
      "text/plain": [
       "            Company  Prev Close (Rs)  Current Price (Rs)  % Change\n",
       "0   Bajaj Auto Ltd.          3749.95              3714.3     -0.95\n",
       "1  Tata Motors Ltd.           503.45               500.8     -0.53\n",
       "2              NTPC           136.65               136.5     -0.11\n",
       "3  UltraTech Cement          8050.65              8047.8     -0.04\n",
       "4        Divi's Lab          4833.25              4832.0     -0.03"
      ]
     },
     "execution_count": 15,
     "metadata": {},
     "output_type": "execute_result"
    }
   ],
   "source": [
    "df_looser_day = pd.DataFrame(data_looser_day[0])\n",
    "data_looser_day[0][:15]"
   ]
  },
  {
   "cell_type": "code",
   "execution_count": 16,
   "id": "407dbd90",
   "metadata": {},
   "outputs": [],
   "source": [
    "# Saving the data to csv file\n",
    "df_looser_day.to_csv(LOSS_DIR + 'TopLooserDay_' + CURRENT_DATE + '.csv', index=False)\n",
    "logging.debug(f'NSE NIFTY50 top daily looser data csv saved...')"
   ]
  },
  {
   "cell_type": "markdown",
   "id": "9d48c762",
   "metadata": {},
   "source": [
    "#### ii) Top Looser Data - Weekly basis"
   ]
  },
  {
   "cell_type": "code",
   "execution_count": 17,
   "id": "104d5781",
   "metadata": {},
   "outputs": [
    {
     "data": {
      "text/html": [
       "<div>\n",
       "<style scoped>\n",
       "    .dataframe tbody tr th:only-of-type {\n",
       "        vertical-align: middle;\n",
       "    }\n",
       "\n",
       "    .dataframe tbody tr th {\n",
       "        vertical-align: top;\n",
       "    }\n",
       "\n",
       "    .dataframe thead th {\n",
       "        text-align: right;\n",
       "    }\n",
       "</style>\n",
       "<table border=\"1\" class=\"dataframe\">\n",
       "  <thead>\n",
       "    <tr style=\"text-align: right;\">\n",
       "      <th></th>\n",
       "      <th>Company</th>\n",
       "      <th>Prev Close (Rs)</th>\n",
       "      <th>Current Price (Rs)</th>\n",
       "      <th>% Change</th>\n",
       "    </tr>\n",
       "  </thead>\n",
       "  <tbody>\n",
       "  </tbody>\n",
       "</table>\n",
       "</div>"
      ],
      "text/plain": [
       "Empty DataFrame\n",
       "Columns: [Company, Prev Close (Rs), Current Price (Rs), % Change]\n",
       "Index: []"
      ]
     },
     "execution_count": 17,
     "metadata": {},
     "output_type": "execute_result"
    }
   ],
   "source": [
    "df_looser_week = pd.DataFrame(data_looser_week[0])\n",
    "data_looser_week[0][:15]"
   ]
  },
  {
   "cell_type": "code",
   "execution_count": 18,
   "id": "0f28a142",
   "metadata": {},
   "outputs": [],
   "source": [
    "df_looser_week['% Change'] = df_looser_week['% Change'].str.replace(' ', \"\")"
   ]
  },
  {
   "cell_type": "code",
   "execution_count": 19,
   "id": "52e05c30",
   "metadata": {},
   "outputs": [],
   "source": [
    "# Saving the data to csv file\n",
    "df_looser_week.to_csv(LOSS_DIR + 'TopLooserWeek_' + CURRENT_DATE + '.csv', index=False)\n",
    "logging.debug(f'NSE NIFTY50 top weekly looser data csv saved...')"
   ]
  },
  {
   "cell_type": "markdown",
   "id": "5dcaf7f5",
   "metadata": {},
   "source": [
    "#### iii) Top Looser Data - Monthly basis"
   ]
  },
  {
   "cell_type": "code",
   "execution_count": 20,
   "id": "89dfb1fb",
   "metadata": {},
   "outputs": [
    {
     "data": {
      "text/html": [
       "<div>\n",
       "<style scoped>\n",
       "    .dataframe tbody tr th:only-of-type {\n",
       "        vertical-align: middle;\n",
       "    }\n",
       "\n",
       "    .dataframe tbody tr th {\n",
       "        vertical-align: top;\n",
       "    }\n",
       "\n",
       "    .dataframe thead th {\n",
       "        text-align: right;\n",
       "    }\n",
       "</style>\n",
       "<table border=\"1\" class=\"dataframe\">\n",
       "  <thead>\n",
       "    <tr style=\"text-align: right;\">\n",
       "      <th></th>\n",
       "      <th>Company</th>\n",
       "      <th>Prev Close (Rs)</th>\n",
       "      <th>Current Price (Rs)</th>\n",
       "      <th>% Change</th>\n",
       "    </tr>\n",
       "  </thead>\n",
       "  <tbody>\n",
       "    <tr>\n",
       "      <th>0</th>\n",
       "      <td>IndusInd Bank</td>\n",
       "      <td>1184.50</td>\n",
       "      <td>1031.90</td>\n",
       "      <td>-12.88</td>\n",
       "    </tr>\n",
       "    <tr>\n",
       "      <th>1</th>\n",
       "      <td>Coal India</td>\n",
       "      <td>190.05</td>\n",
       "      <td>167.45</td>\n",
       "      <td>-11.89</td>\n",
       "    </tr>\n",
       "    <tr>\n",
       "      <th>2</th>\n",
       "      <td>Hindustan Unilever L</td>\n",
       "      <td>2646.75</td>\n",
       "      <td>2384.85</td>\n",
       "      <td>-9.90</td>\n",
       "    </tr>\n",
       "    <tr>\n",
       "      <th>3</th>\n",
       "      <td>Hindalco Indus.</td>\n",
       "      <td>508.05</td>\n",
       "      <td>464.80</td>\n",
       "      <td>-8.51</td>\n",
       "    </tr>\n",
       "    <tr>\n",
       "      <th>4</th>\n",
       "      <td>Power Grid Corpo</td>\n",
       "      <td>199.40</td>\n",
       "      <td>182.85</td>\n",
       "      <td>-8.30</td>\n",
       "    </tr>\n",
       "    <tr>\n",
       "      <th>5</th>\n",
       "      <td>Divi's Lab</td>\n",
       "      <td>5248.90</td>\n",
       "      <td>4826.45</td>\n",
       "      <td>-8.05</td>\n",
       "    </tr>\n",
       "    <tr>\n",
       "      <th>6</th>\n",
       "      <td>Hero MotoCorp</td>\n",
       "      <td>2925.20</td>\n",
       "      <td>2693.85</td>\n",
       "      <td>-7.91</td>\n",
       "    </tr>\n",
       "    <tr>\n",
       "      <th>7</th>\n",
       "      <td>HCL Technologies</td>\n",
       "      <td>1265.35</td>\n",
       "      <td>1171.85</td>\n",
       "      <td>-7.39</td>\n",
       "    </tr>\n",
       "    <tr>\n",
       "      <th>8</th>\n",
       "      <td>ITC Ltd.</td>\n",
       "      <td>249.20</td>\n",
       "      <td>231.00</td>\n",
       "      <td>-7.30</td>\n",
       "    </tr>\n",
       "    <tr>\n",
       "      <th>9</th>\n",
       "      <td>Asian Paints Ltd.</td>\n",
       "      <td>3323.50</td>\n",
       "      <td>3084.80</td>\n",
       "      <td>-7.18</td>\n",
       "    </tr>\n",
       "    <tr>\n",
       "      <th>10</th>\n",
       "      <td>Axis Bank Ltd.</td>\n",
       "      <td>794.60</td>\n",
       "      <td>738.70</td>\n",
       "      <td>-7.03</td>\n",
       "    </tr>\n",
       "    <tr>\n",
       "      <th>11</th>\n",
       "      <td>NTPC</td>\n",
       "      <td>146.35</td>\n",
       "      <td>136.40</td>\n",
       "      <td>-6.80</td>\n",
       "    </tr>\n",
       "    <tr>\n",
       "      <th>12</th>\n",
       "      <td>Eicher Motors</td>\n",
       "      <td>2905.75</td>\n",
       "      <td>2709.90</td>\n",
       "      <td>-6.74</td>\n",
       "    </tr>\n",
       "    <tr>\n",
       "      <th>13</th>\n",
       "      <td>Bajaj Auto Ltd.</td>\n",
       "      <td>3967.65</td>\n",
       "      <td>3702.65</td>\n",
       "      <td>-6.68</td>\n",
       "    </tr>\n",
       "    <tr>\n",
       "      <th>14</th>\n",
       "      <td>Bharat Petroleum</td>\n",
       "      <td>458.65</td>\n",
       "      <td>428.35</td>\n",
       "      <td>-6.61</td>\n",
       "    </tr>\n",
       "  </tbody>\n",
       "</table>\n",
       "</div>"
      ],
      "text/plain": [
       "                 Company  Prev Close (Rs)  Current Price (Rs)  % Change\n",
       "0          IndusInd Bank          1184.50             1031.90    -12.88\n",
       "1             Coal India           190.05              167.45    -11.89\n",
       "2   Hindustan Unilever L          2646.75             2384.85     -9.90\n",
       "3        Hindalco Indus.           508.05              464.80     -8.51\n",
       "4       Power Grid Corpo           199.40              182.85     -8.30\n",
       "5             Divi's Lab          5248.90             4826.45     -8.05\n",
       "6          Hero MotoCorp          2925.20             2693.85     -7.91\n",
       "7       HCL Technologies          1265.35             1171.85     -7.39\n",
       "8               ITC Ltd.           249.20              231.00     -7.30\n",
       "9      Asian Paints Ltd.          3323.50             3084.80     -7.18\n",
       "10        Axis Bank Ltd.           794.60              738.70     -7.03\n",
       "11                  NTPC           146.35              136.40     -6.80\n",
       "12         Eicher Motors          2905.75             2709.90     -6.74\n",
       "13       Bajaj Auto Ltd.          3967.65             3702.65     -6.68\n",
       "14      Bharat Petroleum           458.65              428.35     -6.61"
      ]
     },
     "execution_count": 20,
     "metadata": {},
     "output_type": "execute_result"
    }
   ],
   "source": [
    "df_looser_month = pd.DataFrame(data_looser_month[0])\n",
    "data_looser_month[0][:15]"
   ]
  },
  {
   "cell_type": "code",
   "execution_count": 22,
   "id": "fe2bab22",
   "metadata": {},
   "outputs": [],
   "source": [
    "#df_looser_month['% Change'] = df_looser_month['% Change'].str.replace(' ', \"\")"
   ]
  },
  {
   "cell_type": "code",
   "execution_count": 23,
   "id": "a7a1a0a7",
   "metadata": {},
   "outputs": [],
   "source": [
    "# Saving the data to csv file\n",
    "df_looser_month.to_csv(LOSS_DIR + 'TopLooserMonth_' + CURRENT_DATE + '.csv', index=False)\n",
    "logging.debug(f'NSE NIFTY50 top monthly looser data csv saved...')"
   ]
  },
  {
   "cell_type": "markdown",
   "id": "84594c9e",
   "metadata": {},
   "source": [
    "## C) Data Visualization With Exports"
   ]
  },
  {
   "cell_type": "code",
   "execution_count": 24,
   "id": "ef729fc9",
   "metadata": {},
   "outputs": [],
   "source": [
    "# Function to visualize and save to directory\n",
    "def show_barplot(dataframe, n):\n",
    "    dataframe = dataframe[:15]\n",
    "    # Figure Size\n",
    "    fig, ax = plt.subplots()\n",
    "\n",
    "    # Horizontal Bar Plot\n",
    "    ax.barh(dataframe['Company'], dataframe['% Change'])\n",
    "\n",
    "    # Remove axes splines\n",
    "    for s in ['top', 'bottom', 'left', 'right']:\n",
    "        ax.spines[s].set_visible(False)\n",
    "\n",
    "    # Remove x, y Ticks\n",
    "    ax.xaxis.set_ticks_position('none')\n",
    "    ax.yaxis.set_ticks_position('none')\n",
    "\n",
    "    # Add padding between axes and labels\n",
    "    ax.xaxis.set_tick_params(pad = 4)\n",
    "    ax.yaxis.set_tick_params(pad = 10)\n",
    "\n",
    "    # Add x, y gridlines\n",
    "    ax.grid(b = True, color ='grey', linestyle ='-.', linewidth = 0.5, alpha = 0.4)\n",
    "\n",
    "    # Show top values\n",
    "    ax.invert_yaxis()\n",
    "\n",
    "    # Add annotation to bars\n",
    "    for i in ax.patches:\n",
    "        plt.text(i.get_width()+0.05, i.get_y()+0.5, str(round((i.get_width()), 2)), fontsize = 10, fontweight ='bold', color ='black')\n",
    "\n",
    "    # Add Plot Title, and labels\n",
    "    ax.set_ylabel('Company')\n",
    "    ax.set_xlabel('% Change')\n",
    "    ax.set_title('Company and % Change',loc ='left')\n",
    "\n",
    "    # Add Text watermark\n",
    "    fig.text(0.9, 0.9, 'github.com/kunalk3', fontsize = 10, color ='grey', ha ='right', va ='bottom', alpha = 0.5)\n",
    "\n",
    "    # Show Plot\n",
    "    if n == 1:\n",
    "        plt.savefig(OUTPUT_DIR + 'DailyTopGainer_' + CURRENT_DATE + '.png', bbox_inches='tight')\n",
    "    elif n == 2:\n",
    "        plt.savefig(OUTPUT_DIR + 'MonthlyTopGainer_' + CURRENT_DATE + '.png', bbox_inches='tight')\n",
    "    elif n == 3:\n",
    "        plt.savefig(OUTPUT_DIR + 'WeeklyTopGainer_' + CURRENT_DATE + '.png', bbox_inches='tight')\n",
    "    elif n == 4:\n",
    "        plt.savefig(OUTPUT_DIR + 'DailyTopLooser_' + CURRENT_DATE + '.png', bbox_inches='tight')\n",
    "    elif n == 5:\n",
    "        plt.savefig(OUTPUT_DIR + 'WeeklyTopLooser_' + CURRENT_DATE + '.png', bbox_inches='tight')\n",
    "    elif n == 6:\n",
    "        plt.savefig(OUTPUT_DIR + 'MonthlyTopLooser_' + CURRENT_DATE + '.png', bbox_inches='tight')\n",
    "    plt.show()\n",
    "    "
   ]
  },
  {
   "cell_type": "code",
   "execution_count": 25,
   "id": "8aece9ea",
   "metadata": {},
   "outputs": [
    {
     "data": {
      "image/png": "[encoded data removed]",
      "text/plain": [
       "<Figure size 432x288 with 1 Axes>"
      ]
     },
     "metadata": {},
     "output_type": "display_data"
    }
   ],
   "source": [
    "# Visualize and save top gainer (Day)\n",
    "show_barplot(df_gainer_day, n=1)\n",
    "logging.debug(f'Daily gainer graph is exported...')"
   ]
  },
  {
   "cell_type": "code",
   "execution_count": 26,
   "id": "0bcb543e",
   "metadata": {},
   "outputs": [
    {
     "data": {
      "image/png": "[encoded data removed]",
      "text/plain": [
       "<Figure size 432x288 with 1 Axes>"
      ]
     },
     "metadata": {},
     "output_type": "display_data"
    }
   ],
   "source": [
    "# Visualize and save top gainer (week)\n",
    "show_barplot(df_gainer_week, n=2)\n",
    "logging.debug(f'Weekly gainer graph is exported...')"
   ]
  },
  {
   "cell_type": "code",
   "execution_count": 27,
   "id": "8d537a34",
   "metadata": {},
   "outputs": [
    {
     "data": {
      "image/png": "[encoded data removed]",
      "text/plain": [
       "<Figure size 432x288 with 1 Axes>"
      ]
     },
     "metadata": {},
     "output_type": "display_data"
    }
   ],
   "source": [
    "# Visualize and save top gainer (month)\n",
    "show_barplot(df_gainer_month, n=3)\n",
    "logging.debug(f'Monthly gainer graph is exported...')"
   ]
  },
  {
   "cell_type": "code",
   "execution_count": 28,
   "id": "f8938235",
   "metadata": {},
   "outputs": [
    {
     "data": {
      "image/png": "[encoded data removed]",
      "text/plain": [
       "<Figure size 432x288 with 1 Axes>"
      ]
     },
     "metadata": {},
     "output_type": "display_data"
    }
   ],
   "source": [
    "# Visualize and save top looser (Day)\n",
    "show_barplot(df_looser_day, n=4)\n",
    "logging.debug(f'Daily looser graph is exported...')"
   ]
  },
  {
   "cell_type": "code",
   "execution_count": 29,
   "id": "6e04c09b",
   "metadata": {},
   "outputs": [
    {
     "data": {
      "image/png": "[encoded data removed]",
      "text/plain": [
       "<Figure size 432x288 with 1 Axes>"
      ]
     },
     "metadata": {},
     "output_type": "display_data"
    }
   ],
   "source": [
    "# Visualize and save top looser (week)\n",
    "show_barplot(df_looser_week, n=5)\n",
    "logging.debug(f'Weekly looser graph is exported...')"
   ]
  },
  {
   "cell_type": "code",
   "execution_count": 30,
   "id": "38e772f1",
   "metadata": {},
   "outputs": [
    {
     "data": {
      "image/png": "[encoded data removed]",
      "text/plain": [
       "<Figure size 432x288 with 1 Axes>"
      ]
     },
     "metadata": {},
     "output_type": "display_data"
    }
   ],
   "source": [
    "# Visualize and save top looser (month)\n",
    "show_barplot(df_looser_month, n=6)\n",
    "logging.debug(f'Monthly looser graph is exported...')"
   ]
  },
  {
   "cell_type": "code",
   "execution_count": null,
   "id": "3aebbc92",
   "metadata": {},
   "outputs": [],
   "source": []
  }
 ],
 "metadata": {
  "kernelspec": {
   "display_name": "Python 3",
   "language": "python",
   "name": "python3"
  },
  "language_info": {
   "codemirror_mode": {
    "name": "ipython",
    "version": 3
   },
   "file_extension": ".py",
   "mimetype": "text/x-python",
   "name": "python",
   "nbconvert_exporter": "python",
   "pygments_lexer": "ipython3",
   "version": "3.8.8"
  }
 },
 "nbformat": 4,
 "nbformat_minor": 5
}
