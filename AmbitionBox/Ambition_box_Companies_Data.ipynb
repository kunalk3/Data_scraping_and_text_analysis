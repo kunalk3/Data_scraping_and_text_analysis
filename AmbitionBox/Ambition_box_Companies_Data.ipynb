{
 "cells": [
  {
   "cell_type": "markdown",
   "metadata": {},
   "source": [
    "### A) Import library"
   ]
  },
  {
   "cell_type": "code",
   "execution_count": 1,
   "metadata": {},
   "outputs": [],
   "source": [
    "import numpy as np\n",
    "import pandas as pd\n",
    "import requests\n",
    "from bs4 import BeautifulSoup\n",
    "import time\n",
    "from datetime import timedelta"
   ]
  },
  {
   "cell_type": "markdown",
   "metadata": {},
   "source": [
    "### B) Request and Fetch the Webpage"
   ]
  },
  {
   "cell_type": "code",
   "execution_count": 2,
   "metadata": {},
   "outputs": [
    {
     "data": {
      "text/plain": [
       "<Response [200]>"
      ]
     },
     "execution_count": 2,
     "metadata": {},
     "output_type": "execute_result"
    }
   ],
   "source": [
    "# hit \"www.ambitionbox.com/list-of-companies\"\n",
    "requests.get(\"https://www.ambitionbox.com/list-of-companies?page=1\")"
   ]
  },
  {
   "cell_type": "code",
   "execution_count": 3,
   "metadata": {},
   "outputs": [
    {
     "data": {
      "text/plain": [
       "'<!doctype html>\\n<html data-n-head-ssr lang=\"en\" data-n-head=\"%7B%22lang%22:%7B%22ssr%22:%22en%22%7D%7D\">\\n  <head >\\n    <meta charset=\"UTF-8\">\\n    <meta name=\"viewport\" content=\"width=device-width,initial-scale=1\">\\n    <meta http-equiv=\"X-UA-Compatible\" content=\"IE=edge\"> \\n    <title>List of companies - 594.3k companies | AmbitionBox</title><meta data-n-head=\"ssr\" name=\"copyright\" content=\"2021 AmbitionBox\"><meta data-n-head=\"ssr\" name=\"revisit-after\" content=\"1 day\"><meta data-n-head=\"ssr\" name=\"application-name\" content=\"AmbitionBox\"><meta data-n-head=\"ssr\" name=\"content-language\" content=\"EN\"><meta data-n-head=\"ssr\" name=\"google-signin-client_id\" content=\"462822053404-hphug4pkahqljh2tc96g35at47o4isv2.apps.googleusercontent.com\"><meta data-n-head=\"ssr\" property=\"fb:app_id\" content=\"712617688793459\"><meta data-n-head=\"ssr\" name=\"theme-color\" content=\"#ffffff\"><meta data-n-head=\"ssr\" name=\"msapplication-navbutton-color\" content=\"#ffffff\"><meta data-n-head=\"ssr\" name=\"apple-mobile-web-app-status-bar-style\" content=\"default\"><meta data-n-head=\"ssr\" property=\"fb:admins\" content=\"100001438127755,100000444923785\"><meta data-n-head=\"ssr\" property=\"og:site_name\" content=\"AmbitionBox\"><meta data-n-head=\"ssr\" property=\"og:type\" content=\"website\"><meta data-n-head=\"ssr\" name=\"twitter:card\" content=\"summary_large_image\"><meta data-n-head=\"ssr\" name=\"twitter:domain\" content=\"ambitionbox.com\"><meta data-n-head=\"ssr\" name=\"author\" content=\"www.ambitionbox.com\"><meta data-n-head=\"ssr\" name=\"resource-type\" content=\"document\"><meta data-n-head=\"ssr\" name=\"distribution\" content=\"GLOBAL\"><meta data-n-head=\"ssr\" name=\"rating\" content=\"general\"><meta data-n-head=\"ssr\" name=\"pragma\" content=\"no-cache\"><meta data-n-head=\"ssr\" name=\"classification\" content=\"Company:Reviews,Salaries,Benefits,Overview,Interview Questions\"><meta data-n-head=\"ssr\" name=\"msapplication-square310x310logo\" content=\"https://static.ambitionbox.com/alpha/img/supporting-images/browser_icon_192x192.png\"><meta data-n-head=\"ssr\" name=\"mobile-web-app-capable\" content=\"yes\"><meta data-n-head=\"ssr\" name=\"apple-mobile-web-app-title\" content=\"AmbitionBox\"><meta data-n-head=\"ssr\" data-hid=\"og:title\" property=\"og:title\" content=\"List of companies - 594.3k companies | AmbitionBox\"><meta data-n-head=\"ssr\" data-hid=\"twitter:title\" name=\"twitter:title\" content=\"List of companies - 594.3k companies | AmbitionBox\"><meta data-n-head=\"ssr\" data-hid=\"description\" name=\"description\" content=\"View list of companies in India with in-depth information on reviews, salaries, interviews, employee benefits, and more shared by 20 Lakh+ real employees.\"><meta data-n-head=\"ssr\" data-hid=\"og:description\" property=\"og:description\" content=\"View list of companies in India with in-depth information on reviews, salaries, interviews, employee benefits, and more shared by 20 Lakh+ real employees.\"><meta data-n-head=\"ssr\" data-hid=\"twitter:description\" name=\"twitter:description\" content=\"View list of companies in India with in-depth information on reviews, salaries, interviews, employee benefits, and more shared by 20 Lakh+ real employees.\"><meta data-n-head=\"ssr\" data-hid=\"og:image\" property=\"og:image\" content=\"https://static.ambitionbox.com/static/list-of-companies.jpg\"><meta data-n-head=\"ssr\" data-hid=\"twitter:image\" name=\"twitter:image\" content=\"https://static.ambitionbox.com/static/list-of-companies.jpg\"><meta data-n-head=\"ssr\" name=\"robots\" content=\"ALL\"><meta data-n-head=\"ssr\" property=\"og:url\" content=\"https://www.ambitionbox.com/list-of-companies\"><meta data-n-head=\"ssr\" property=\"twitter:url\" content=\"https://www.ambitionbox.com/list-of-companies\"><link data-n-head=\"ssr\" rel=\"icon\" type=\"image/png\" sizes=\"16x16\" href=\"https://static.ambitionbox.com/alpha/img/supporting-images/browser_icon_16x16.png\"><link data-n-head=\"ssr\" rel=\"icon\" type=\"image/png\" sizes=\"32x32\" href=\"https://static.ambitionbox.com/alpha/img/supporting-images/browser_icon_32x32.png\"><link data-n-head=\"ssr\" rel=\"icon\" type=\"image/png\" sizes=\"48x48\" href=\"https://static.ambitionbox.com/alpha/img/supporting-images/browser_icon_48x48.png\"><link data-n-head=\"ssr\" rel=\"icon\" type=\"image/png\" sizes=\"96x96\" href=\"https://static.ambitionbox.com/alpha/img/supporting-images/browser_icon_96x96.png\"><link data-n-head=\"ssr\" rel=\"icon\" type=\"image/png\" sizes=\"144x144\" href=\"https://static.ambitionbox.com/alpha/img/supporting-images/browser_icon_144x144.png\"><link data-n-head=\"ssr\" rel=\"icon\" type=\"image/png\" sizes=\"192x192\" href=\"https://static.ambitionbox.com/alpha/img/supporting-images/browser_icon_192x192.png\"><link data-n-head=\"ssr\" rel=\"apple-touch-icon\" href=\"https://static.ambitionbox.com/alpha/img/supporting-images/browser_icon_192x192.png\"><link data-n-head=\"ssr\" rel=\"preconnect\" href=\"https://static.ambitionbox.com\" crossorigin=\"anonymous\"><link data-n-head=\"ssr\" rel=\"dns-prefetch\" href=\"https://static.ambitionbox.com\" crossorigin=\"anonymous\"><link data-n-head=\"ssr\" rel=\"preconnect\" href=\"https://cdnjs.cloudflare.com\" crossorigin=\"anonymous\"><link data-n-head=\"ssr\" rel=\"manifest\" href=\"https://static.ambitionbox.com/_nuxt/manifest.json\"><link data-n-head=\"ssr\" rel=\"stylesheet\" skip=\"false\" href=\"https://cdnjs.cloudflare.com/ajax/libs/lightslider/1.1.6/css/lightslider.min.css\"><link data-n-head=\"ssr\" rel=\"canonical\" href=\"https://www.ambitionbox.com/list-of-companies\"><link data-n-head=\"ssr\" rel=\"first\" href=\"https://www.ambitionbox.com/list-of-companies\"><link data-n-head=\"ssr\" rel=\"last\" href=\"https://www.ambitionbox.com/list-of-companies?page=19809\"><link data-n-head=\"ssr\" rel=\"next\" href=\"https://www.ambitionbox.com/list-of-companies?page=2\"><link rel=\"preload\" href=\"https://static.ambitionbox.com/_nuxt/runtime.7fb9fd1e6d6e473b93c1.js\" as=\"script\"><link rel=\"preload\" href=\"https://static.ambitionbox.com/_nuxt/commons.app.8235bf4a5d300332f246.js\" as=\"script\"><link rel=\"preload\" href=\"https://static.ambitionbox.com/_nuxt/vendors.app.0daf207a203db8f95566.js\" as=\"script\"><link rel=\"preload\" href=\"https://static.ambitionbox.com/_nuxt/app.8f5ac79de539bca73fe2.js\" as=\"script\"><link rel=\"preload\" href=\"https://static.ambitionbox.com/_nuxt/layouts/browseCompaniesLayout.66af76835d9108d3869b.js\" as=\"script\"><link rel=\"preload\" href=\"https://static.ambitionbox.com/_nuxt/header.0f1ba168b1350143bba4.js\" as=\"script\"><link rel=\"preload\" href=\"https://static.ambitionbox.com/_nuxt/typeahead.9113ae7c31f7c08bd5c2.js\" as=\"script\"><link rel=\"preload\" href=\"https://static.ambitionbox.com/_nuxt/15.42014493982e2af45b48.js\" as=\"script\"><link rel=\"preload\" href=\"https://static.ambitionbox.com/_nuxt/ab.atoms.6846b8df70411d225aa3.js\" as=\"script\"><link rel=\"preload\" href=\"https://static.ambitionbox.com/_nuxt/c.listing.7654b57a8d517940a961.js\" as=\"script\"><link rel=\"preload\" href=\"https://static.ambitionbox.com/_nuxt/145.53a74adfa7255dd014be.js\" as=\"script\"><link rel=\"preload\" href=\"https://static.ambitionbox.com/_nuxt/paginator.7d724f4233a699ccd96c.js\" as=\"script\"><link rel=\"preload\" href=\"https://static.ambitionbox.com/_nuxt/footer.88a72de2437db7706258.js\" as=\"script\"><style data-vue-ssr-id=\"689920f2:0 b0f53faa:0 6a8e9471:0 4be82e98:0 2a1776e7:0 36e5d130:0 cec9c172:0 5e3b3fd4:0 8b5572ba:0 516564da:0 755c304a:0 27015a14:0 c39b9cfc:0 e455d08c:0 35295af8:0 e1f88e5c:0 48687b7c:0\">html{-webkit-text-size-adjust:100%}body{margin:0}main{display:block}h1{font-size:2em;margin:0.67em 0}hr{box-sizing:content-box;height:0;overflow:visible}pre{font-family:monospace, monospace;font-size:1em}a{background-color:transparent;text-decoration:none}b,strong{font-weight:bolder}code{font-family:monospace, monospace;font-size:1em;line-height:1.15}small{font-size:80%}sub{font-size:75%;line-height:0;position:relative;vertical-align:baseline}sub{bottom:-0.25em}img{border-style:none}button,input,select,textarea{font-family:inherit;font-size:100%;line-height:1.15;margin:0}button,input{overflow:visible}button,select{text-transform:none}button,[type=\"button\"],[type=\"reset\"],[type=\"submit\"]{-webkit-appearance:button}button::-moz-focus-inner,[type=\"button\"]::-moz-focus-inner,[type=\"reset\"]::-moz-focus-inner,[type=\"submit\"]::-moz-focus-inner{border-style:none;padding:0}button:-moz-focusring,[type=\"button\"]:-moz-focusring,[type=\"reset\"]:-moz-focusring,[type=\"submit\"]:-moz-focusring{outline:1px dotted ButtonText}legend{box-sizing:border-box;color:inherit;display:table;max-width:100%;padding:0;white-space:normal}progress{vertical-align:baseline}textarea{overflow:auto}[type=\"checkbox\"],[type=\"radio\"]{box-sizing:border-box;padding:0}[type=\"number\"]::-webkit-inner-spin-button,[type=\"number\"]::-webkit-outer-spin-button{height:auto;-webkit-appearance:none;margin:0}[type=\"search\"]{-webkit-appearance:textfield;outline-offset:-2px}[type=\"search\"]::-webkit-search-decoration{-webkit-appearance:none}::-webkit-file-upload-button{-webkit-appearance:button;font:inherit}details{display:block}summary{display:list-item}template{display:none}[hidden]{display:none}@font-face{font-family:\"proxima-nova\";src:url(https://static.ambitionbox.com/_nuxt/fonts/25482f2.woff2) format(\"woff2\"),url(https://static.ambitionbox.com/_nuxt/fonts/35870fd.woff) format(\"woff\"),url(https://static.ambitionbox.com/_nuxt/fonts/ce90cee.otf) format(\"opentype\");font-display:swap;font-style:normal;font-weight:700}@font-face{font-family:\"proxima-nova\";src:url(https://static.ambitionbox.com/_nuxt/fonts/350c624.woff2) format(\"woff2\"),url(https://static.ambitionbox.com/_nuxt/fonts/0b5323a.woff) format(\"woff\"),url(https://static.ambitionbox.com/_nuxt/fonts/60e0422.otf) format(\"opentype\");font-display:swap;font-style:normal;font-weight:600}@font-face{font-family:\"proxima-nova\";src:url(https://static.ambitionbox.com/_nuxt/fonts/2af231f.woff2) format(\"woff2\"),url(https://static.ambitionbox.com/_nuxt/fonts/49ef797.woff) format(\"woff\"),url(https://static.ambitionbox.com/_nuxt/fonts/93c058e.otf) format(\"opentype\");font-display:swap;font-style:normal;font-weight:500}@font-face{font-family:\"proxima-nova\";src:url(https://static.ambitionbox.com/_nuxt/fonts/ff08770.woff2) format(\"woff2\"),url(https://static.ambitionbox.com/_nuxt/fonts/b462dd3.woff) format(\"woff\"),url(https://static.ambitionbox.com/_nuxt/fonts/a79fa42.otf) format(\"opentype\");font-display:swap;font-style:normal;font-weight:400}.row{display:flex;flex-wrap:wrap;margin-right:-15px;margin-left:-15px}.no-gutters,.no-row-gutters{margin-right:0;margin-left:0}.no-gutters>.col,.no-gutters>[class*=\"col-\"]{padding-right:0;padding-left:0}.col-6,.col-12,.col-sm-6,.col-sm-12,.col-md-3,.col-md-4,.col-md-6,.col-md-8,.col-md-12,.col-lg-4,.col-xl-5,.col-xl-7,.col-20{position:relative;width:100%;padding-right:15px;padding-left:15px}.col-20{flex-basis:0;flex-grow:1;max-width:25%}.col-6{flex:0 0 50%;max-width:50%}.col-12{flex:0 0 100%;max-width:100%}@media (min-width: 576px){.col-sm-6{flex:0 0 50%;max-width:50%}.col-sm-12{flex:0 0 100%;max-width:100%}}@media (min-width: 768px){.col-md-3{flex:0 0 25%;max-width:25%}.col-md-4{flex:0 0 33.333333%;max-width:33.333333%}.col-md-6{flex:0 0 50%;max-width:50%}.col-md-8{flex:0 0 66.666667%;max-width:66.666667%}.col-md-12{flex:0 0 100%;max-width:100%}}@media (min-width: 992px){.col-20{flex:0 0 20%;max-width:20%}.col-lg-4{flex:0 0 33.333333%;max-width:33.333333%}.col-lg-8{flex:0 0 66.666667%;max-width:66.666667%}}@media (min-width: 1200px){.col-xl-5{flex:0 0 41.666667%;max-width:41.666667%}.col-xl-7{flex:0 0 58.333333%;max-width:58.333333%}}.bold,.bold-display-xxl,.bold-display-xl,.bold-display-l,.bold-display,.bold-title-l,.bold-title,.bold-title-s,.bold-section-header,.bold-list-header,.bold-Labels{font-weight:bold;letter-spacing:normal;color:#1e223c}.semibold,.bold-header-desc,.sbold-title-l,.sbold-title,.sbold-section-header,.sbold-list-header,.sbold-Labels{font-weight:500;letter-spacing:normal;color:#1e223c}.body-text,.body-small,.body-small-l,.body-medium,.body-large{font-weight:normal;letter-spacing:normal;color:#1e223c}.caption-strong,.caption-strong-medium,.caption-strong-large{font-weight:500;letter-spacing:normal;color:#5e6b92}.caption-normal-medium{font-weight:400;letter-spacing:normal;color:#5e6b92}.caption-subdued,.caption-subdued-small,.caption-subdued-medium,.caption-subdued-large{font-weight:500;letter-spacing:normal;color:#97a0be}.ctas,.ctas-a-small,.ctas-a-medium,.ctas-a-large,.ctas-btn-small,.ctas-btn-medium{font-weight:600;line-height:1.5;color:#5670fb;cursor:pointer;letter-spacing:normal}.ctas:hover,.ctas-a-small:hover,.ctas-a-medium:hover,.ctas-a-large:hover,.ctas-btn-small:hover,.ctas-btn-medium:hover{color:#4158d4}.overline-text-large{font-weight:600;letter-spacing:2px}.input-fields{font-weight:600;letter-spacing:normal}.badge-small,.badge-large,.badge-x-large{font-weight:600;letter-spacing:normal}.mediumbold-medium{font-weight:600;letter-spacing:normal;color:#1e223c}.bold-display-xxl{font-size:2.5rem;line-height:1.4}.bold-display-xl{font-size:2.25rem;line-height:1.44}.bold-display-l{font-size:2rem;line-height:1.5}.bold-display{font-size:1.75rem;line-height:1.43}.bold-title-l{font-size:1.5rem;line-height:1.33}.bold-title{font-size:1.25rem;line-height:1.4}.bold-title-s{font-size:1.125rem;line-height:1.1}.bold-section-header{font-size:1rem;line-height:1.5}.bold-list-header{font-size:.875rem;line-height:1.43}.bold-Labels{font-size:.75rem;line-height:1.33}.bold-header-desc{font-size:.875rem;line-height:1.43}.sbold-title-l{font-size:1.5rem;line-height:1.33}.sbold-title{font-size:1.25rem;line-height:1.4}.sbold-section-header{font-size:1rem;line-height:1.5}.sbold-list-header{font-size:.875rem;line-height:1.43}.sbold-Labels{font-size:.75rem;line-height:1.33}.body-small{font-size:.75rem;line-height:1.33}.body-small-l{font-size:.8125rem;line-height:1.33}.body-medium{font-size:.875rem;line-height:1.43}.body-large{font-size:1rem;line-height:1.5}.caption-strong-medium{font-size:.75rem;line-height:1.33}.caption-strong-large{font-size:.875rem;line-height:1.43}.caption-normal-medium{font-size:.875rem;line-height:1.25rem}.caption-subdued-small{font-size:.625rem;line-height:1.2}.caption-subdued-medium{font-size:.75rem;line-height:1.33}.caption-subdued-large{font-size:.875rem;line-height:1.43}.ctas-a-small{font-size:.75rem;line-height:1.33}.ctas-a-medium{font-size:.875rem;line-height:1.43}.ctas-a-large{font-size:1rem;line-height:1.5}.ctas-btn-small{font-weight:bold;font-size:.75rem;line-height:1.33}.ctas-btn-medium{font-weight:bold;font-size:.875rem;line-height:1.43}.overline-text-large{font-size:.875rem;line-height:1.43}.badge-small{font-size:.5rem}.badge-large{font-size:.625rem}.badge-x-large{font-size:1.25rem}.mediumbold-medium{font-size:.875rem;line-height:20px}@font-face{font-family:\"icomoon\";src:url(https://static.ambitionbox.com/_nuxt/fonts/167fa02.woff2) format(\"woff2\"),url(https://static.ambitionbox.com/_nuxt/fonts/b1a02c1.woff) format(\"woff\"),url(https://static.ambitionbox.com/_nuxt/fonts/c4ae345.ttf) format(\"truetype\"),url(https://static.ambitionbox.com/_nuxt/img/5014542.svg#icomoon) format(\"svg\"),url(https://static.ambitionbox.com/_nuxt/fonts/4d5aaff.eot#iefix) format(\"embedded-opentype\");font-weight:normal;font-style:normal;font-display:block}i{font-family:\"icomoon\" !important;speak:none;font-style:normal;font-weight:normal;font-variant:normal;text-transform:none;line-height:1;font-size:1.25rem;color:#5e6b92;-webkit-font-smoothing:antialiased;-moz-osx-font-smoothing:grayscale}.icon-external-link .path1:before{content:\"\\\\e916\";color:#fff}.icon-external-link .path2:before{content:\"\\\\e918\"}.icon-vacancies:before{content:\"\\\\e915\"}.icon-pin-outline:before{content:\"\\\\e912\"}.icon-work:before{content:\"\\\\e913\"}.icon-wallet:before{content:\"\\\\e914\"}.icon-company-selectedsvg .path1:before{content:\"\\\\e95b\";color:#c8d0f9}.icon-company-selectedsvg .path2:before{content:\"\\\\e95c\";margin-left:-1.375em;color:#5670fb}.icon-company-selectedsvg .path3:before{content:\"\\\\e95d\";margin-left:-1.375em;color:#fff}.icon-company-selectedsvg .path4:before{content:\"\\\\e95e\";margin-left:-1.375em;color:#5670fb}.icon-company-selectedsvg .path5:before{content:\"\\\\e95f\";margin-left:-1.375em;color:#5670fb}.icon-company-selectedsvg .path6:before{content:\"\\\\e960\";margin-left:-1.375em;color:#5670fb}.icon-company .path1:before{content:\"\\\\e93d\";color:#fff}.icon-company .path2:before{content:\"\\\\e93e\";margin-left:-1.375em;color:#5e6b92}.icon-company .path3:before{content:\"\\\\e93f\";margin-left:-1.375em;color:#fff}.icon-company .path4:before{content:\"\\\\e940\";margin-left:-1.375em;color:#5e6b92}.icon-company .path5:before{content:\"\\\\e941\";margin-left:-1.375em;color:#5e6b92}.icon-company .path6:before{content:\"\\\\e942\";margin-left:-1.375em;color:#5e6b92}.icon-company .path7:before{content:\"\\\\e943\";margin-left:-1.375em;color:#5e6b92}.icon-company .path8:before{content:\"\\\\e944\";margin-left:-1.375em;color:#5e6b92}.icon-company .path9:before{content:\"\\\\e945\";margin-left:-1.375em;color:#5e6b92}.icon-salary-selected .path1:before{content:\"\\\\e946\";color:#c8d0f9}.icon-salary-selected .path2:before{content:\"\\\\e947\";margin-left:-0.875em;color:#5670fb}.icon-salary-selected .path3:before{content:\"\\\\e948\";margin-left:-0.875em;color:#fff}.icon-salary-selected .path4:before{content:\"\\\\e949\";margin-left:-0.875em;color:#5670fb}.icon-salary-selected .path5:before{content:\"\\\\e94a\";margin-left:-0.875em;color:#5670fb}.icon-salary:before{content:\"\\\\e94b\";color:#5e6b92}.icon-review-selected .path1:before{content:\"\\\\e94c\";color:#c8d0f9}.icon-review-selected .path2:before{content:\"\\\\e94d\";margin-left:-1em;color:#5670fb}.icon-review-selected .path3:before{content:\"\\\\e94e\";margin-left:-1em;color:#5670fb}.icon-review-selected .path4:before{content:\"\\\\e94f\";margin-left:-1em;color:#5670fb}.icon-review:before{content:\"\\\\e950\";color:#5e6b92}.icon-home-selected .path1:before{content:\"\\\\e951\";color:#5670fb}.icon-home-selected .path2:before{content:\"\\\\e952\";margin-left:-1.375em;color:#ccd4fd}.icon-home-selected .path3:before{content:\"\\\\e953\";margin-left:-1.375em;color:#5670fb}.icon-home-selected .path4:before{content:\"\\\\e954\";margin-left:-1.375em;color:#fff}.icon-home-selected .path5:before{content:\"\\\\e955\";margin-left:-1.375em;color:#5670fb}.icon-home .path1:before{content:\"\\\\e956\";color:#5e6b92}.icon-home .path2:before{content:\"\\\\e957\";margin-left:-1.375em;color:#fff}.icon-home .path3:before{content:\"\\\\e958\";margin-left:-1.375em;color:#5e6b92}.icon-home .path4:before{content:\"\\\\e959\";margin-left:-1.375em;color:#fff}.icon-home .path5:before{content:\"\\\\e95a\";margin-left:-1.375em;color:#5e6b92}.icon-close:before{content:\"\\\\e931\";color:#97a0be}.icon-share:before{content:\"\\\\e92b\";color:#5e6b92}.icon-flag:before{content:\"\\\\e92c\";color:#5e6b92}.icon-verified:before{content:\"\\\\e92d\";color:#377e01}.icon-filter:before{content:\"\\\\e917\";color:#5e6b92}.icon-tick:before{content:\"\\\\e926\"}.icon-trust .path1:before{content:\"\\\\e929\";color:#5670fb}.icon-trust .path2:before{content:\"\\\\e92a\";margin-left:-1em;color:#fff}.icon-google-plus-lite:before{content:\"\\\\e90e\"}.icon-logout:before{content:\"\\\\e90f\"}.icon-user-silhouette:before{content:\"\\\\e910\"}.icon-linkedin:before{content:\"\\\\e901\"}.icon-twitter:before{content:\"\\\\e902\";color:#5e6b92}.icon-facebook:before{content:\"\\\\e900\";color:#5e6b92}.icon-star:before{content:\"\\\\e90c\"}.icon-access-time:before{content:\"\\\\e903\";color:#5e6b92}.icon-chevron-right:before{content:\"\\\\e904\";color:#5e6b92}.icon-company-placeholder .path1:before{content:\"\\\\e905\";color:#f6f7ff}.icon-company-placeholder .path2:before{content:\"\\\\e906\";margin-left:-1em;color:#5e6b92}.icon-company-placeholder .path3:before{content:\"\\\\e907\";margin-left:-1em;color:#5e6b92}.icon-domain:before{content:\"\\\\e908\";color:#5e6b92}.icon-pin-drop:before{content:\"\\\\e909\";color:#5e6b92}.icon-search:before{content:\"\\\\e90a\";color:#5e6b92}.icon-star-border:before{content:\"\\\\e90b\";color:#5e6b92}.icon-supervisor-account:before{content:\"\\\\e90d\";color:#5e6b92}.icon-google3:before{content:\"\\\\ea8a\"}.icon-google:before{content:\"\\\\e930\"}.icon-facebook-lite:before{content:\"\\\\ea90\"}.icon-linkedin-lite:before{content:\"\\\\eaca\"}.icon-star-half:before{content:\"\\\\e9d8\"}.icon-arrow-right:before{content:\"\\\\e911\"}.icon-stats-bars:before{content:\"\\\\e919\"}.icon-interview:before{content:\"\\\\e91a\";color:#5e6b92}.icon-delete:before{content:\"\\\\e91c\";color:#5e6b92}.icon-edit:before{content:\"\\\\e91f\";color:#5e6b92}.icon-dots-menu:before{content:\"\\\\e91b\";color:#97a0be}.icon-bold:before{content:\"\\\\e920\";color:#5e6b92}.icon-italic:before{content:\"\\\\e921\";color:#5e6b92}.icon-underline:before{content:\"\\\\e922\";color:#5e6b92}.icon-link:before{content:\"\\\\e923\";color:#5e6b92}.icon-ordered-list:before{content:\"\\\\e924\";color:#5e6b92}.icon-list:before{content:\"\\\\e925\";color:#5e6b92}.shadow-elevation-1{box-shadow:0 2px 6px -2px rgba(23,34,96,0.2);border:solid 1px #f5f7fd}.shadow-elevation-4{box-shadow:2px 6px 0 rgba(0,106,194,0.2)}.container,.container-two-col{width:100%;max-width:64rem;margin:0 auto}.container.maxWidthFix,.maxWidthFix.container-two-col{max-width:inherit;padding:0}@media (max-width: 1024px){.container,.container-two-col{margin:0;padding:0 1rem}}.container-two-col{display:flex}@media only screen and (max-width: 768px){.container-two-col{display:block;max-width:100%}}.container-two-col .col-left{flex:0 0 65.625%;max-width:65.625%;margin-right:1.953125%}@media only screen and (max-width: 768px){.container-two-col .col-left{flex:0 0 100%;max-width:100%;margin-right:0}}.container-two-col .col-right{flex:0 0 32.421875%;max-width:32.421875%}@media only screen and (max-width: 768px){.container-two-col .col-right{flex:0 0 100%;max-width:100%}}.block{display:block}.text-center{text-align:center}.text-right{text-align:right}.no-padd{padding:0}.container-left{max-width:64rem;margin:0 auto;position:relative}@media (max-width: 1024px){.container-left{margin:0;padding:0 1rem;padding-right:0}}.card-slider{display:flex;flex-direction:row;align-items:flex-start;height:auto !important;overflow-y:hidden;-webkit-overflow-scrolling:touch;scrollbar-width:none}.card-slider::-webkit-scrollbar{display:none}.card-slider>div,.card-slider>a{margin-right:20px}@media only screen and (max-width: 768px){.card-slider>div,.card-slider>a{margin-right:8px}}@media only screen and (max-width: 768px){.set-min-width .card-slider>.ab_card{min-width:50vw}}@media only screen and (max-width: 575px){.set-min-width .card-slider>.ab_card{min-width:80vw}}.shadow-buffer{padding-bottom:4px}.hidden_control{display:none !important}.slider_next{right:-1rem}@media (max-width: 1100px){.slider_next{right:0}}.slider_btns{width:2rem;height:2rem;position:absolute;opacity:0.85;border-radius:50%;top:calc(50% - 1rem);color:#757575;cursor:pointer;user-select:none;display:flex;justify-content:center;align-items:center;box-shadow:0 3px 8px 0 rgba(0,106,194,0.2);background-color:#fff}@media only screen and (max-width: 768px){.slider_btns{display:none}}.slider_btns:hover{opacity:1;color:#222;border:solid 1px #ebf0f6;background-color:#fff}.slider_btns i{font-size:24px}.slider_prev{left:-1rem}@media (max-width: 1100px){.slider_prev{left:0}}.slider_prev i,.slider_prev svg{transform:rotate(-180deg)}.flex-cont{display:flex;flex-wrap:wrap;justify-content:flex-start}@media only screen and (max-width: 768px){.flex-cont{justify-content:space-between}}.flex-row{display:flex;flex-direction:row}@media screen and (min-width: 767px){.margin-bot-0-3n.visible:nth-last-child(-n+3),.margin-bot-0-3n:nth-last-child(-n+3){margin-bottom:0px;padding-bottom:0 !important}}@media screen and (min-width: 576px) and (max-width: 767px){.margin-bot-0-3n.visible:nth-last-child(-n+2),.margin-bot-0-3n:nth-last-child(-n+2){margin-bottom:0;padding-bottom:0 !important}}@media screen and (max-width: 576px){.margin-bot-0-3n.visible:last-child,.margin-bot-0-3n:last-child{margin-bottom:0;padding-bottom:0 !important}}@media screen and (min-width: 576px){.margin-bot-0-2n:nth-last-child(-n+2),.margin-bot-0-2n.visible:nth-last-child(-n+2){margin-bottom:0;padding-bottom:0 !important}}@media screen and (max-width: 576px){.margin-bot-0-2n:last-child,.margin-bot-0-2n.visible:last-child{margin-bottom:0;padding-bottom:0 !important}}.footer-mg-null{padding-bottom:2.5rem;margin-bottom:-3rem}.slide-right-enter,.slide-right-leave-to{-webkit-transform:translate3d(100%, 0, 0);transform:translate3d(100%, 0, 0)}.slide-right-enter-to,.slide-right-leave{-webkit-transform:translate3d(0, 0, 0);transform:translate3d(0, 0, 0)}.slide-right-enter-active,.slide-right-leave-active{transition:transform linear 100ms}.tray-enter{opacity:0}.tray-enter-to{opacity:1}.tray-enter-active{transition:opacity ease 500ms}.opacity-enter,.opacity-leave-to{opacity:0}.opacity-enter-to,.opacity-leave{opacity:1}.opacity-enter-active,.opacity-leave-active{transition:opacity linear 100ms}.bounce-top{-webkit-animation:bounce-top 0.6s ease-in-out;animation:bounce-top 0.6s ease-in-out}@keyframes bounce-top{20%{transform:rotateZ(-15deg) scale(1.25)}80%{transform:rotateZ(15deg) scale(1.25)}0%,100%{transform:rotateY(0deg) scale(1)}}.rating-45{background:#377e01}.rating-4{background:#5ba829}.rating-35{background:#9acd32}.rating-3{background:#cdd614}.rating-25{background:#ffba01}.rating-2{background:#ff9a05}.rating-15{background:#ff6e2b}.rating-1{background:#ff4b2b}.rating-0{background:#bfbfbf}.star-rating-45{color:#377e01}.star-rating-4{color:#5ba829}.star-rating-35{color:#9acd32}.star-rating-3{color:#cdd614}.star-rating-25{color:#ffba01}.star-rating-2{color:#ff9a05}.star-rating-15{color:#ff6e2b}.star-rating-1{color:#ff4b2b}.star-rating-0{color:#bfbfbf}.custom-checkbox{position:absolute;opacity:0}.custom-checkbox+label{position:relative;cursor:pointer;padding:0;font-size:.875rem;line-height:1.43;color:#091e42;font-weight:normal;display:flex;align-items:flex-start}.custom-checkbox+label span{color:#97A0BE}.custom-checkbox+label div{margin-top:-.125rem}.custom-checkbox+label div.text-wrap{margin-top:0}.custom-checkbox+label:before{content:\\'\\';margin-right:.625rem;display:inline-block;vertical-align:text-top;width:.9375rem;height:.9375rem;border:.0625rem solid #5E6B92;border-radius:2px;background:#fff;transition:background-color 0.15s ease-in;margin-top:.0625rem;flex:none}@media only screen and (max-width: 768px){.custom-checkbox+label:before{border-radius:.125rem}}.custom-checkbox:checked+label:before{background:#5670fb;border:.125rem solid #5670fb}@media only screen and (max-width: 768px){.custom-checkbox:checked+label:before{border-radius:.125rem;border:solid .0625rem #5670fb}}.custom-checkbox:disabled+label{color:#b8b8b8;cursor:auto}.custom-checkbox:disabled+label:before{box-shadow:none;background:#ddd}.custom-checkbox:checked+label:after{content:\\'\\';position:absolute;left:.1875rem;top:.5rem;background:#fff;width:.125rem;height:.125rem;box-shadow:.0625rem 0 0 #fff,.1875rem 0 0 #fff,.1875rem -.125rem 0 #fff,.1875rem -.25rem 0 #fff,.1875rem -.375rem 0 #fff,.1875rem -.5rem 0 #fff;transform:rotate(45deg)}::-webkit-scrollbar{width:4px;height:4px;border-radius:14px}::-webkit-scrollbar-track{background:#fff}::-webkit-scrollbar-thumb{background:#dfe6ed}::-webkit-scrollbar-thumb:hover{background:#eee}@media only screen and (max-width: 768px){.noscrollbars-sm{scrollbar-width:none}.noscrollbars-sm::-webkit-scrollbar{display:none}}@media only screen and (max-width: 768px){.greyTablet{background-color:#f6f7ff}}.greyDesktopTablet{background-color:#f6f7ff}.whiteDesktop{background-color:#fff}.whiteDesktopGreyMobile{background-color:#fff}@media only screen and (max-width: 768px){.whiteDesktopGreyMobile{background-color:#f6f7ff}}.transparentDesktop{background-color:transparent;transition:background-color .3s ease}.transparentDesktopWhiteMob{background-color:transparent;transition:background-color .3s ease}@media only screen and (max-width: 768px){.transparentDesktopWhiteMob{transition:none;background-color:#fff}}.shadow{box-shadow:0 2px 6px -2px rgba(0,106,194,0.2)}.noshadow{box-shadow:none !important}.floating-header{background-color:#fff !important;box-shadow:0 2px 6px -2px rgba(0,106,194,0.2)}@media only screen and (min-width: 769px){.scrollUpHeader{transform:translateY(-4rem) !important}}@media only screen and (max-width: 768px){.scrollUpHeader{transform:translateY(-3.375rem) !important}}#layoutTypeahed{background-color:#f6f7ff;z-index:200;padding:0 1.25rem}@media screen and (max-width: 1024px){#layoutTypeahed{padding:0 1rem}}#layoutTypeahed.mobile{height:100vh;position:fixed;top:0;left:0;width:100%;z-index:200;overflow:hidden;transform:translateY(200vh);background-color:#f6f7ff}#layoutTypeahed.mobile.expanded{transform:none}#layoutHeaderWrapper{position:fixed;top:0;left:0;right:0;z-index:200;transform:translateY(0);transition:transform 300ms ease-in,background-color 300ms ease;-webkit-transition:transform 300ms ease-in,background-color 300ms ease}html,body{font-family:\\'proxima-nova\\', Arial, sans-serif;font-size:1rem;line-height:1.5;box-sizing:border-box;margin:0;padding:0;-webkit-tap-highlight-color:transparent}*,*:before,*:after{box-sizing:border-box;margin:0;padding:0}.section-margin-bottom{margin-bottom:2rem}@media only screen and (max-width: 768px){.section-margin-bottom{margin-bottom:1.75rem}}.mg-tb-38{margin-top:2.5rem}.no-mg-btm{margin-bottom:0}.mg-btm-20{margin-bottom:1.25rem !important}.mg-btm-16{margin-bottom:1rem}.mg-btm-24{margin-bottom:1.5rem}.mg-btm-10{margin-bottom:.625rem}.mg-top-4{margin-top:.25rem}.pd-btm-48{padding-bottom:3rem}.mg-top-20{margin-top:1.25rem}.capitalize{text-transform:capitalize}.p-0{padding:0px !important}input[type=\"search\"]::-webkit-search-decoration,input[type=\"search\"]::-webkit-search-cancel-button,input[type=\"search\"]::-webkit-search-results-button,input[type=\"search\"]::-webkit-search-results-decoration{display:none}.badge-purple{padding:2px 8px;display:inline-block;border-radius:12px;color:#2a47de;font-size:10px;font-weight:600;line-height:1.2;background-color:#e7eaff}.live-badge{width:2.625rem;height:1.125rem;font-size:.6875rem;font-weight:600;line-height:1.09;letter-spacing:normal;text-align:right;color:#fff;border-radius:.125rem;background-color:#ff6f30;display:inline-flex;align-items:center;padding:.3125rem .375rem .25rem .375rem;vertical-align:text-top;margin-left:.1875rem}.live-badge span{width:.25rem;height:.25rem;background-color:#fff;margin-left:.1875rem;border-radius:50%}.badge-orange{padding:.075rem .4rem;border-radius:.5625rem;background-color:#ff6e2b;color:#FFFFFF;font-size:0.6875rem;font-weight:500;line-height:normal;display:inline-block;vertical-align:middle;height:1rem;margin-left:.1875rem;box-sizing:border-box}.badge-orange.awards{background-color:#FFF2CF;color:#AD7E0D;font-size:.625rem;border-radius:3px;line-height:1.43;margin-left:.4375rem;height:fit-content}.hide{display:none}.show{display:block}.show-flex{display:flex}.filter-by{display:flex;align-items:center;color:#5E6B92;font-size:.875rem;margin-right:.75rem}.filter-by img{margin-right:.25rem}.icon-star,.icon-star-border{font-size:19px}.icon-star-half{font-size:16px}.visible-sm{display:none}@media only screen and (max-width: 768px){.visible-sm{display:block}}.hidden-sm{display:block}@media only screen and (max-width: 768px){.hidden-sm{display:none}}.read-more{font-weight:bold;letter-spacing:normal;font-weight:600;cursor:pointer}.read-more:hover{color:#4158d4}.page-enter-active,.page-leave-active{transition:opacity .5s}.page-enter,.page-leave-to{opacity:0}.vue-notification-group{z-index:9999999 !important;top:30px !important}:invalid{box-shadow:none}:-moz-submit-invalid{box-shadow:none}:-moz-ui-invalid{box-shadow:none}.layout-enter-active,.layout-leave-active{transition:opacity .2s}.layout-enter,.layout-leave-active{opacity:0}.text-capitalize{text-transform:capitalize}.text-right{text-align:right}.inline{display:inline-block}.loading{background-image:linear-gradient(90deg, #f4f4f4 0px, rgba(229,229,229,0.8) 40px, #f4f4f4 80px);background-size:600px;animation:shine-lines 2s infinite ease-out}.line{height:14px;border-radius:7px}@keyframes shine-lines{0%{background-position:-100px}40%,100%{background-position:140px}}.badge-icon{background-color:#e59c05;font-size:10px;font-weight:500;line-height:normal;letter-spacing:normal;color:#ffffff;border-radius:50%;padding:2px 6px;margin:auto 5px auto 0px}.stickFilter{top:53px;left:0;right:0;background-color:#fff;z-index:100;transition:top 300ms ease-in;-webkit-transition:top 300ms ease-in}.stickFilter>*:last-child{position:relative}.stickFilter>*:last-child::after{position:absolute;content:\\'\\';right:-1rem;width:1rem;height:100%}.stickFilterSlideUp{position:fixed;box-shadow:0 2px 6px -2px rgba(0,106,194,0.2);top:0px}.stickFilterSlideUpReview{position:fixed;box-shadow:0 2px 6px -2px rgba(0,106,194,0.2);top:106px;border-top:solid 1px #ebf0f6}.stickFilterSlideDown{position:fixed;box-shadow:0 2px 6px -2px rgba(0,106,194,0.2);top:63px;border-top:solid 1px #ebf0f6}@media only screen and (max-width: 768px){.stickFilterSlideDown{top:53px}}main.card-arch{padding-top:1.75rem;border-radius:1.5rem 1.5rem 0 0;box-shadow:0 -4px 6px -2px rgba(0,106,194,0.09);margin-top:-1.5rem;overflow:hidden;background:#fff;border-top:solid 1px #ebf0f6}.stickFiltersUp{position:fixed;box-shadow:0 2px 6px -2px rgba(0,106,194,0.2);top:3.375rem;background-color:#fff;transition:top 300ms ease-in;z-index:99;translate:top;width:100%}.stickFiltersDown{position:fixed;box-shadow:0 2px 6px -2px rgba(0,106,194,0.2);top:6.625rem;background-color:#fff;transition:top 300ms ease-in;z-index:99;width:100%}.stickTabsUp{width:100%;position:fixed;top:0;left:0;z-index:100;transition:top 300ms ease-in}.stickTabsDown{width:100%;position:fixed;left:0;z-index:100;transition:top 300ms ease-in;top:8rem}@media only screen and (max-width: 768px){.stickTabsDown{top:3.25rem}}.new-suggestion{color:#5770fc;font-size:.875rem;line-height:1.0625rem;margin-bottom:1rem;cursor:pointer}.question-badge{background-color:#97A0BE;color:#fff;cursor:default;height:.75rem;width:.75rem;border-radius:50%;text-align:center;font-size:.6875rem;line-height:.78125rem;display:flex;justify-content:center;align-items:center}.ab_seo_interlinking{margin-top:1.75rem}@media only screen and (max-width: 768px){.ab_seo_interlinking{margin-top:1.25rem}}.red-dot{position:absolute;height:.375rem;width:.375rem;background-color:#e23030;border-radius:50%;top:0rem;right:-0.5rem}.round-loader{border:0.25rem solid #f4f4f4;border-radius:50%;border-top:0.25rem solid #97A0BE;width:2rem;height:2rem;margin:1.5rem auto 1rem;-webkit-animation:spin 1.5s linear infinite;animation:spin 1.5s linear infinite}.round-loader.small{margin:.125rem auto -.75rem;width:1.5rem;height:1.5rem;border-width:.1875rem}@keyframes spin{0%{-webkit-transform:rotate(0deg);transform:rotate(0deg)}100%{transform:rotate(360deg);-webkit-transform:rotate(360deg)}}.salary_card_faqs{margin-top:1.75rem}@media only screen and (max-width: 768px){.salary_card_faqs{margin:1.25rem -1rem 0 -1rem}}.error-color{color:#FF4869}.medium-space{margin-top:2.5rem}.large-space{margin-top:3.4rem}.cursor-pointer{cursor:pointer}.cursor-auto{cursor:auto}.visibility-hidden{visibility:hidden}.word-break{word-break:break-word}\\n\\n\\n.nuxt-progress {\\n  position: fixed;\\n  top: 0px;\\n  left: 0px;\\n  right: 0px;\\n  height: 3px;\\n  width: 0%;\\n  opacity: 1;\\n  transition: width 0.1s, opacity 0.4s;\\n  background-color: #5670fb;\\n  z-index: 999999;\\n}\\n.nuxt-progress.nuxt-progress-notransition {\\n  transition: none;\\n}\\n.nuxt-progress-failed {\\n  background-color: red;\\n}\\n\\n.fixed-typeahead-wrapper[data-v-1b4eaba2]{padding-top:4rem;background-color:#f6f7ff}@media only screen and (max-width: 768px){.fixed-typeahead-wrapper[data-v-1b4eaba2]{padding-bottom:0;margin-bottom:0;padding-top:3.375rem}}\\n\\n.white-bg{background-color:#fff !important}.white-txt{color:#fff !important}.white-txt::before{color:#fff}.ab_header{width:100%}@media only screen and (max-width: 768px){.ab_header.grey{background-color:#f6f7ff}}@media only screen and (max-width: 768px){.ab_header{padding:0px;z-index:100}}.ab_header .container{margin:auto;display:flex;flex-direction:row;justify-content:space-between;align-items:center}.ab_header .navbar{height:64px;display:flex;justify-content:space-between;padding:0px 30px;width:100vw}@media only screen and (max-width: 768px){.ab_header .navbar{height:54px;padding:0px 10px;margin-bottom:0px}}@media screen and (max-width: 1024px){.ab_header .navbar{padding:0px 10px}}.ab_header .navbar.invert .border-right::after{opacity:0.1}.ab_header .logo{text-decoration:none;display:flex;flex-direction:row;justify-content:center;align-items:center;padding:.625rem;margin-right:.75rem;margin-top:-.1875rem}@media only screen and (max-width: 768px){.ab_header .logo{margin-right:0;margin-top:0}}.ab_header .logo img{object-fit:contain;height:1.875rem}@media only screen and (max-width: 768px){.ab_header .logo img{height:1.25rem}}.ab_header .logo .text{font-size:1.2875rem;font-weight:bold;line-height:normal;letter-spacing:.02187rem;line-height:1.22;margin-left:.5rem}@media only screen and (max-width: 768px){.ab_header .logo .text{font-size:.83125rem;line-height:normal;letter-spacing:.01438rem}}.ab_header .right-container,.ab_header .left-container{display:flex;flex-direction:row;justify-content:center;align-items:center}.ab_header .nav-list-right,.ab_header .nav-list-left{display:flex;flex-direction:row;justify-content:center;align-items:center}.ab_header .nav-list-right .list-item,.ab_header .nav-list-left .list-item{display:inline-flex}@media only screen and (max-width: 768px){.ab_header .nav-list-right .list-item,.ab_header .nav-list-left .list-item{display:none}}.ab_header .nav-list-right .list-item.visible-xs,.ab_header .nav-list-left .list-item.visible-xs{display:none !important}@media only screen and (max-width: 768px){.ab_header .nav-list-right .list-item.visible-xs,.ab_header .nav-list-left .list-item.visible-xs{display:inline-flex !important}}.ab_header .nav-list-right .list-item a,.ab_header .nav-list-left .list-item a{text-decoration:none;padding:.6875rem;display:inline-flex;font-size:.875rem;font-weight:500;line-height:normal;align-self:center;letter-spacing:normal;color:#1E223C;cursor:pointer;position:relative}.ab_header .nav-list-right .list-item a .mg-top-2,.ab_header .nav-list-left .list-item a .mg-top-2{margin-top:2px}.ab_header .nav-list-right .list-item a.purple-btn,.ab_header .nav-list-left .list-item a.purple-btn{font-size:.875rem;font-weight:500;text-align:right;line-height:1.5;letter-spacing:normal;color:#5670fb;text-decoration:none}@media only screen and (max-width: 768px){.ab_header .nav-list-right .list-item a.purple-btn,.ab_header .nav-list-left .list-item a.purple-btn{font-weight:600}}@media screen and (max-width: 890px){.ab_header .nav-list-right .list-item a.purple-btn,.ab_header .nav-list-left .list-item a.purple-btn{text-align:left}}.ab_header .nav-list-right .list-item a.purple-btn:hover,.ab_header .nav-list-left .list-item a.purple-btn:hover{color:#4158d4}.ab_header .nav-list-right .red-dot,.ab_header .nav-list-left .red-dot{top:0.6rem;right:0.225rem}.ab_header .mg-top-1{margin-top:1px}.ab_header .ic{position:relative;width:24px;height:22px;display:inline-block}.ab_header .ic .line.one{top:6px;transform-origin:right bottom}.ab_header .ic .line.two{top:11px}.ab_header .ic .line.thr{transform-origin:right top;top:16px}.ab_header .ic .line{position:absolute;left:3px;right:3px;height:1.3px;background:#5E6B92;outline:1px solid transparent}.ab_header .icon-search{font-size:1.25rem;margin-top:.0625rem}@media only screen and (max-width: 768px){.ab_header .right-container{flex-direction:row-reverse}}.ab_header .right-container .nav-list-right .list-item{position:relative}.ab_header .right-container .nav-list-right .list-item a{padding:.75rem}@media only screen and (max-width: 575px){.ab_header .right-container .nav-list-right .list-item a{padding:.625rem}}.ab_header .right-container .nav-list-right .list-item .login-btn{padding-right:1.5rem}.ab_header .right-container .nav-list-right .list-item .employer{padding-left:1.5rem}.ab_header .right-container .nav-list-right .list-item.border-right::after{width:.0625rem;position:absolute;right:0;content:\\'\\';top:calc(50% - 6px);background-color:#97A0BE;height:.75rem}@media only screen and (max-width: 768px){.ab_header .right-container .nav-list-right .list-item.border-right::after{top:calc(50% - 15px);background-color:#e9e8f9;height:1.875rem}}.ab_header .right-container .nav-list-right .list-item.border-right.white-br::after{background-color:#fff}.ab_header .right-container .nav-list-right .list-item .userinfo{display:flex;flex-direction:row;align-items:center;justify-content:center;padding-right:1.5rem}.ab_header .right-container .nav-list-right .list-item .userinfo .userimg{border-radius:50%;width:35px;margin-right:.625rem}.ab_header .right-container .nav-list-right .list-item:hover .dropdown{display:block}.ab_header .right-container .nav-list-right .list-item .dropdown{position:absolute;top:100%;left:.5rem;display:none;z-index:1000;box-shadow:0 2px 6px 0 rgba(0,106,194,0.2);border:1px solid #e9e8f9;background:#fff;padding:14px 0;border-radius:3px}.ab_header .right-container .nav-list-right .list-item .dropdown .a-row{display:flex;flex-direction:row;justify-content:space-between;align-items:center;padding:10px 24px;white-space:nowrap}.ab_header .right-container .nav-list-right .list-item .dropdown .a-row:hover{background-color:#f6f7ff}.ab_header .right-container .nav-list-right .list-item .dropdown .a-row .icon{font-size:0.9rem}.ab_header .right-container .nav-list-right .list-item .dropdown::after{content:\\'\\';position:absolute;top:calc(-0.2rem - 1px);left:1rem;transform:rotate(-45deg);width:0.4rem;height:0.4rem;background-color:white;border:solid 1px rgba(0,0,0,0.15);border-bottom:none;border-left:none}.ab_header .right-container .nav-list-right a.purple-btn{font-size:.875rem;font-weight:500;text-align:right;line-height:1.5;letter-spacing:normal;color:#5670fb;text-decoration:none}@media screen and (max-width: 890px){.ab_header .right-container .nav-list-right a.purple-btn{text-align:left}}@media only screen and (max-width: 575px){.ab_header .right-container .nav-list-right a.purple-btn{font-size:1rem}}.ab_header .right-container .nav-list-right a.purple-btn:hover{color:#4158d4}@media only screen and (max-width: 768px){.ab_header .left-container{flex-direction:row-reverse}}.ab_header .left-container .nav-list-left .list-item a{color:#5E6B92}.ab_header .left-container .nav-list-left .list-item a.router-link-exact-active,.ab_header .left-container .nav-list-left .list-item a.nuxt-link-active,.ab_header .left-container .nav-list-left .list-item a:hover{color:#1E223C}\\n\\n.ab_typeahead3{background-repeat:no-repeat}.ab_typeahead3 .twitter-typeahead{width:100%;padding:0.5rem 0.5rem 0.5rem 0}.ab_typeahead3 .twitter-typeahead .tt-menu{z-index:100;background-color:#fff !important;box-shadow:0 .5625rem .875rem 0 rgba(88,95,135,0.1);border:0;left:0 !important;top:calc(100% + 1.2rem) !important;border-radius:.75rem;width:100%;max-height:20.625rem;overflow-y:auto}.ab_typeahead3 .twitter-typeahead .tt-menu::-webkit-scrollbar-track{background:transparent}.ab_typeahead3 .twitter-typeahead .tt-menu::-webkit-scrollbar-thumb{border-radius:.3125rem;background-color:#c4c4c4}.ab_typeahead3 .twitter-typeahead .tt-menu .tt-dataset{padding:1.25rem 0;box-shadow:none;border:0;background-color:#fff}.ab_typeahead3 .twitter-typeahead .tt-menu .tt-dataset .typeahed-header{display:flex;padding:0 1.5rem .25rem;justify-content:space-between;align-items:center}.ab_typeahead3 .twitter-typeahead .tt-menu .tt-dataset .typeahed-header p{color:#5E6B92;font-size:.8125rem;font-weight:normal;line-height:1.43}.ab_typeahead3 .twitter-typeahead .tt-menu .tt-dataset .typeahed-header p:nth-child(2){cursor:pointer;display:flex}.ab_typeahead3 .twitter-typeahead .tt-menu .tt-dataset .typeahed-header p i{padding:0 !important;margin-left:.3125rem;font-size:1.0625rem}.ab_typeahead3 .twitter-typeahead .tt-menu .tt-dataset .suggestion_wrap{display:flex;padding:.5rem 1.25rem;background-color:#fff;cursor:pointer;align-items:center}.ab_typeahead3 .twitter-typeahead .tt-menu .tt-dataset .suggestion_wrap:last-child{padding-bottom:1rem}.ab_typeahead3 .twitter-typeahead .tt-menu .tt-dataset .suggestion_wrap:hover,.ab_typeahead3 .twitter-typeahead .tt-menu .tt-dataset .suggestion_wrap.tt-cursor{background-color:#f5f7fd}.ab_typeahead3 .twitter-typeahead .tt-menu .tt-dataset .suggestion_wrap .logo_wrap{width:1.25rem;height:1.25rem;margin-right:.5rem;text-align:center}.ab_typeahead3 .twitter-typeahead .tt-menu .tt-dataset .suggestion_wrap .logo_wrap img{border:solid 1px #f0f0f0;background:#fff;object-fit:contain;border-radius:.125rem;border:solid 1px #f0f0f0;height:inherit;width:inherit}.ab_typeahead3 .twitter-typeahead .tt-menu .tt-dataset .suggestion_wrap .suggestion{overflow:hidden}.ab_typeahead3 .twitter-typeahead .tt-menu .tt-dataset .suggestion_wrap .suggestion .top-row{line-height:1.43}.ab_typeahead3 .twitter-typeahead .tt-menu .tt-dataset .suggestion_wrap .suggestion .top-row .tt_text{font-size:.9375rem;font-weight:500;letter-spacing:normal;color:#1E223C}.ab_typeahead3 .twitter-typeahead .tt-menu .tt-dataset .suggestion_wrap .suggestion .top-row .rating-wrapper{align-items:center;line-height:1.33;display:inline-flex}.ab_typeahead3 .twitter-typeahead .tt-menu .tt-dataset .suggestion_wrap .suggestion .top-row .rating-wrapper .rating{color:#fff;padding:.125rem;border-radius:.125rem;width:2.25rem;height:1rem;font-size:.6875rem;line-height:1.33;align-items:center;margin-right:0.25rem}@media only screen and (max-width: 768px){.ab_typeahead3 .twitter-typeahead .tt-menu .tt-dataset .suggestion_wrap .suggestion .top-row .rating-wrapper .rating{font-size:.625rem}}.ab_typeahead3 .twitter-typeahead .tt-menu .tt-dataset .suggestion_wrap .suggestion .top-row .rating-wrapper .rating i{width:.6875rem;font-size:.6875rem;color:#fff;padding:.0625rem .125rem}.ab_typeahead3 .twitter-typeahead .tt-menu .tt-dataset .suggestion_wrap .suggestion .top-row .rating-wrapper .review-count{color:#97A0BE;font-size:.6875rem}.ab_typeahead3 .twitter-typeahead .tt-menu .tt-dataset .suggestion_wrap.desig_wrap{padding:0.5rem 1.5rem}.ab_typeahead3 .twitter-typeahead .tt-menu .tt-dataset .suggestion_wrap.desig_wrap .logo_wrap{height:1rem}.ab_typeahead3 .twitter-typeahead .tt-menu .tt-dataset .suggestion_wrap.desig_wrap .suggestion .tt_text{font-weight:500;font-size:.9375rem;margin-top:.125rem}.ab_typeahead3 .twitter-typeahead .tt-menu .tt-dataset .suggestion_wrap.desig_wrap:last-child{box-shadow:none}.ab_typeahead3 .twitter-typeahead .tt-menu .tt-dataset-company-search{margin-bottom:-1.5rem}.ab_typeahead3 .twitter-typeahead .tt-menu .tt-dataset-company-search:empty{padding-top:.75rem}.ab_typeahead3 .twitter-typeahead .tt-menu .tt-dataset-desig-search{padding-top:0.75rem;padding-bottom:0.625rem}.ab_typeahead3 .twitter-typeahead .tt-menu .tt-dataset-desig-search:empty{padding-bottom:.375rem}\\n\\n.border-inputbox{border-bottom-width:0;border-radius:.25rem .25rem 0 0}.typeahead-title{padding-bottom:.125rem;padding-top:1.75rem;margin:0;padding-bottom:0;line-height:normal}.subtitle{font-size:1rem;font-weight:normal;line-height:1.3;color:#fff}.typeahead-wrapper3{padding:1.5rem 0 3rem 0 !important}.typeahead-wrapper3 .wrapper{display:flex;justify-content:space-between;align-items:center;border-radius:1.5rem;background-color:#fff;padding:0.5rem;max-width:46.5625rem;width:100%;height:3.25rem;border:solid 1px #E4E6EE;box-shadow:0 2px 6px -2px rgba(0,106,194,0.2)}.typeahead-wrapper3 .search-company{width:calc(100% - 20rem);height:2.1875rem;flex:1;border-radius:1.5rem 0 0 1.5rem;background-color:#fff;outline:none;display:flex;position:relative}.typeahead-wrapper3 .search-company input{width:100%;height:100%;border:0;outline:none;direction:ltr;font-size:.875rem;padding-left:1.5rem;font-weight:500;color:#5E6B92}.typeahead-wrapper3 .search-company input::placeholder{color:#97A0BE}.typeahead-wrapper3 .search-company input:focus{color:#1E223C}.typeahead-wrapper3 .dropdown{width:12.1875rem;position:relative}.typeahead-wrapper3 .dropdown::before{width:.0625rem;content:\\'\\';background:#e4e6ee;z-index:100;height:50%;position:absolute;left:0;top:25%}.typeahead-wrapper3 .dropdown .autocomplete-list{top:calc(100% + 1.05rem);border-radius:.75rem;max-height:unset;padding:.625rem 0}.typeahead-wrapper3 .dropdown .autocomplete-list li{border-bottom:none !important;padding:.5625rem 1.5rem}.typeahead-wrapper3 .dropdown .autocomplete-list li.active{color:#5670fb;font-weight:500}.typeahead-wrapper3 .dropdown .wrapper-dropdown{border:0 !important;height:2.5rem;border-radius:0}.typeahead-wrapper3 .dropdown .wrapper-dropdown .input-box{padding:0 1.5rem;justify-content:flex-start}.typeahead-wrapper3 .dropdown .wrapper-dropdown .input-box p{color:#5E6B92}.typeahead-wrapper3 .dropdown .wrapper-dropdown .input-box i{font-size:1rem;margin-left:0.125rem}.typeahead-wrapper3 .dropdown .wrapper-dropdown .list-open{border:0 !important;max-height:unset !important}.typeahead-wrapper3 .close{margin-right:.5rem}.typeahead-wrapper3 .search-btn{min-width:6.75rem;box-shadow:none}.typeahead-wrapper3.float-search{padding:0 0 1.25rem 0 !important;margin-top:-.25rem}.typeahead-wrapper3.float-search .wrapper{margin:auto;height:3rem;padding:.375rem .5rem}\\n\\n.border-suggestion-box[data-v-61f82f61]{border:solid 2px #a0a8c4 !important;border-bottom:0px !important}.border-input-box[data-v-61f82f61]{overflow:unset !important;border-radius:4px 4px 0px 0px !important}.wrapper-dropdown[data-v-61f82f61]{position:relative;width:100%;border-radius:4px;border:solid 2px #E4E6EE;background-color:#fff;overflow:hidden}.wrapper-dropdown .input-box[data-v-61f82f61]{height:40px;cursor:pointer;display:flex;align-items:center;justify-content:space-between;padding:12px 24px}@media only screen and (max-width: 768px){.wrapper-dropdown .input-box[data-v-61f82f61]{padding:12px 16px}}.wrapper-dropdown .input-box p[data-v-61f82f61]{font-size:14px;font-weight:500;line-height:1.43;letter-spacing:normal;color:#1E223C}.wrapper-dropdown .input-box i[data-v-61f82f61]{transform:rotate(90deg)}.wrapper-dropdown .autocomplete-list[data-v-61f82f61]{position:absolute;left:-2px;right:-2px;box-shadow:0 9px 14px 0 rgba(88,95,135,0.1);background-color:#fff;list-style:none;overflow-y:hidden;max-height:0px;border:solid 2px #a0a8c4;border-top:0px;border-bottom:solid 2px #E4E6EE;z-index:2;transition:max-height 250ms ease-in;-webkit-transition:max-height 250ms ease-in;will-change:max-height}.wrapper-dropdown .autocomplete-list.list-open[data-v-61f82f61]{max-height:200px;height:auto;border:solid 2px #a0a8c4;border-top:0px;overflow-y:auto}.wrapper-dropdown .autocomplete-list li[data-v-61f82f61]{font-size:0.9rem;margin:0;padding:12px 24px;border-bottom:solid 1px #ebf0f6;background-color:#fff;cursor:pointer;user-select:none;font-size:14px;font-weight:normal;line-height:1.43;letter-spacing:normal;color:#1E223C}.wrapper-dropdown .autocomplete-list li[data-v-61f82f61]:hover{background-color:#f5f7fd}@media only screen and (max-width: 768px){.wrapper-dropdown .autocomplete-list li[data-v-61f82f61]{padding:12px 16px}}@media only screen and (max-width: 768px){.wrapper-dropdown .autocomplete-list li.padding-fix[data-v-61f82f61]{padding:12px}}@media only screen and (max-width: 768px){.component-wrapper-dropdown[data-v-61f82f61]{margin-bottom:20px;border-radius:2px;box-shadow:0 2px 6px -2px rgba(0,106,194,0.2);border:solid 1px #ebf0f6}}@media only screen and (max-width: 768px){.component-wrapper-dropdown .component-input-box[data-v-61f82f61]{padding:10px 10px 10px 12px}}\\n\\n.ab_btn{padding:7px 14px;min-width:120px;cursor:pointer;box-shadow:0 2px 6px -2px rgba(0,106,194,0.2);background-color:#5670fb;border:1px solid #5670fb;color:#fff;border-radius:1.5rem;outline:none}.ab_btn span{color:#fff !important}.ab_btn span.largeText{font-size:1rem;font-weight:600}@media only screen and (max-width: 575px){.ab_btn span.largeText{font-size:.875rem;font-weight:bold}}.ab_btn:hover{background-color:#4158d4}.ab_btn:active{background-color:#2f48cd}.ab_btn.round{border-radius:24px}.ab_btn.invert{background-color:#fff;border-color:#5670fb;box-shadow:none}.ab_btn.invert span{color:#5670fb !important}.ab_btn.invert:hover{border-color:#4158d4}.ab_btn.invert:hover span{color:#4158d4 !important}.ab_btn.invert.active{border-color:#2f48cd}.ab_btn.invert.active span{color:#2f48cd !important}\\n\\n.radio{position:relative;padding-left:27px}.radio .radio-label{font-size:.875rem;line-height:1.43;color:#091e42;font-weight:normal;cursor:pointer;vertical-align:middle;word-break:break-word}.radio .radio-label span{color:#97A0BE}.radio .radio-label .icon-star{vertical-align:text-bottom}.radio input[type=\\'radio\\']{position:absolute;opacity:0}.radio input[type=\\'radio\\']+.radio-label:before{content:\\'\\';border-radius:100%;border:2px solid #97A0BE;display:inline-block;width:18px;height:18px;position:absolute;left:0;top:4px;cursor:pointer;text-align:center;transition:all 250ms ease}@media only screen and (max-width: 768px){.radio input[type=\\'radio\\']+.radio-label:before{border:1px solid #97A0BE}}.radio input[type=\\'radio\\']:checked+.radio-label:before{background-color:#5670fb;box-shadow:inset 0 0 0 4px #fff;border:2px solid #5670fb}@media only screen and (max-width: 768px){.radio input[type=\\'radio\\']:checked+.radio-label:before{border:1px solid #5670fb}}.radio input[type=\\'radio\\']:focus+.radio-label:before{outline:none;border-color:#5670fb}.radio input[type=\\'radio\\']:disabled+.radio-label:before{box-shadow:inset 0 0 0 4px #97A0BE;border-color:#525d83}.radio input[type=\\'radio\\']+.radio-label:empty:before{margin-right:0}\\n\\n.filter-padding[data-v-5051744e]{padding:1.25rem 1rem}.loader-ui[data-v-5051744e]{margin:0.75rem 0 1rem;padding:1rem;box-shadow:0 2px 6px -2px rgba(0,106,194,0.2);border-radius:.375rem;border:solid 1px #ebf0f6}.filters-listing[data-v-5051744e]{display:flex;overflow-x:auto;overflow-y:hidden;padding-top:0.75rem;padding-bottom:0.25rem}.filters-listing i[data-v-5051744e]{padding-right:0.25rem}.filters-listing .icon-chevron-right[data-v-5051744e]{padding:0;transform:rotate(90deg);font-size:1rem}.company-count-wrapper[data-v-5051744e]{padding-top:1.25rem;padding-bottom:1.25rem}@media only screen and (max-width: 768px){.company-count-wrapper[data-v-5051744e]{padding-top:0.5rem;padding-bottom:0}}.company-count-wrapper .title[data-v-5051744e]{margin-top:.25rem;margin-bottom:.125rem;color:#1E223C}@media only screen and (max-width: 768px){.company-count-wrapper .title[data-v-5051744e]{font-size:1.25rem;line-height:1.4;margin-top:0}}.company-count-wrapper .subtitle[data-v-5051744e]{margin-bottom:.125rem;color:#1E223C}@media only screen and (max-width: 768px){.company-count-wrapper .subtitle[data-v-5051744e]{font-size:.875rem;line-height:1.43;margin-top:0}}@media only screen and (max-width: 768px){.company-listing-wrapper[data-v-5051744e]{border-top:0;padding-top:0}}.company-listing-wrapper .filters-wrapper[data-v-5051744e]{padding-right:2.8125rem;margin-top:2rem}@media only screen and (max-width: 768px){.company-listing-wrapper .filters-wrapper[data-v-5051744e]{display:none}}.company-listing-wrapper .filters-wrapper .filtersCont[data-v-5051744e]{overflow-y:hidden}.company-listing-wrapper .filters-wrapper .filtersCont .filter[data-v-5051744e]:last-child{margin-bottom:0;border-bottom:0}.company-listing-wrapper .filters-wrapper .filter[data-v-5051744e]{margin-bottom:2rem;width:fem(280px);padding-bottom:1.25rem;border-bottom:1px solid #E4E6EE}@media only screen and (max-width: 768px){.company-listing-wrapper .filters-wrapper .filter[data-v-5051744e]{margin-bottom:0;width:100% !important;border-bottom:0}}@media (max-width: 900px) and (min-width: 768px){.company-listing-wrapper .filters-wrapper .filter[data-v-5051744e]{width:14.375rem}}.company-listing-wrapper .results-wrapper #cards-list[data-v-5051744e]{text-align:right}@media only screen and (max-width: 768px){.company-listing-wrapper .results-wrapper #cards-list[data-v-5051744e]{text-align:initial}}.company-listing-wrapper .results-wrapper #cards-list .sort-btn[data-v-5051744e]{display:inline-block;margin-bottom:0.25rem;position:relative}.company-listing-wrapper .results-wrapper #cards-list .sort-btn[data-v-5051744e] .ab_chip{margin-right:0}.company-listing-wrapper .results-wrapper #cards-list .sort-btn[data-v-5051744e]::after{content:\\'\\';position:absolute;right:1.5rem;width:8.75rem;right:0;height:3.125rem}.company-listing-wrapper .results-wrapper #cards-list .sort-btn[data-v-5051744e]:hover{background-color:transparent}.company-listing-wrapper .results-wrapper #cards-list .sort-btn:hover .sort-wrap[data-v-5051744e]{display:block}.company-listing-wrapper .results-wrapper #cards-list .sort-btn i[data-v-5051744e]{transform:rotate(90deg)}.company-listing-wrapper .results-wrapper #cards-list .sort-btn .sort-wrap[data-v-5051744e]{display:none;position:absolute;top:2.3rem;right:0;width:11.25rem;z-index:10;box-shadow:0 2px 6px -2px rgba(0,106,194,0.2);border:1px solid #e9e8f9;background:#fff;border-radius:.1875rem;padding:0.25rem 0}.company-listing-wrapper .results-wrapper #cards-list .sort-btn .sort-wrap[data-v-5051744e]::after{content:\\'\\';position:absolute;top:calc(-0.3rem);right:2rem;transform:rotate(-45deg);width:0.4rem;height:0.4rem;background-color:#fff;border:solid 1px rgba(0,0,0,0.15);border-bottom:none;border-left:none}.company-listing-wrapper .results-wrapper #cards-list .sort-btn .sort-wrap a[data-v-5051744e]{display:flex;flex-direction:row;justify-content:space-between;align-items:center;padding:.625rem 1.5rem;white-space:nowrap;color:#000;cursor:pointer}.company-listing-wrapper .results-wrapper #cards-list .sort-btn .sort-wrap a.active[data-v-5051744e]{background-color:#f6f7ff}.company-listing-wrapper .results-wrapper #cards-list .sort-btn .sort-wrap a[data-v-5051744e]:hover{background-color:#f6f7ff}.company-listing-wrapper .results-wrapper .show-more-btn[data-v-5051744e]{height:2.625rem;border-radius:1.625rem;border:solid 1px #E4E6EE;background-color:#fff;width:100%;cursor:pointer;outline:none;margin-top:0.25rem;display:flex;align-items:center;justify-content:center;font-size:.875rem;font-weight:normal;line-height:1.43;letter-spacing:normal;color:#1E223C;overflow-anchor:none}.company-listing-wrapper .results-wrapper .show-more-btn i[data-v-5051744e]{transform:rotate(90deg);margin-left:.625rem}.desktop-chips-wrap[data-v-5051744e]{display:flex;flex-direction:row;flex-wrap:wrap}.desktop-chips-wrap .chip[data-v-5051744e]{padding:.1875rem .625rem .1875rem 0.75rem;align-items:center}.desktop-chips-wrap .chip[data-v-5051744e]:hover{background-color:#fff}.desktop-chips-wrap .chip .stars[data-v-5051744e]{display:flex;align-items:center;line-height:1;margin-top:-.125rem}.desktop-chips-wrap .chip i[data-v-5051744e]{margin-left:.125rem;font-size:1rem}.desktop-chips-wrap .chip i[data-v-5051744e]::before{color:#1E223C}.desktop-chips-wrap .clear[data-v-5051744e]{font-weight:600;margin:.3125rem .875rem 0 .25rem}.radios-cont[data-v-5051744e]{display:flex;padding:.625rem 0 1rem;border-bottom:1px solid #E4E6EE;margin-bottom:1.125rem}@media only screen and (max-width: 768px){.radios-cont[data-v-5051744e]{padding:0 0 .75rem}}.radios-cont .radio[data-v-5051744e]{margin-right:1rem}.full-length[data-v-5051744e] .vl-cont{max-height:100% !important}\\n\\n.ab_chip{padding:.25rem .75rem;border-radius:14px;background:#fff;border:solid 1px #E4E6EE;display:inline-flex;cursor:pointer;margin-right:.5rem;text-decoration:none;margin-bottom:.5rem;white-space:nowrap;user-select:none;word-wrap:unset}.ab_chip:hover{background-color:#fffbf3}@media only screen and (max-width: 768px){.ab_chip:hover{background-color:unset}}.ab_chip.active{background-color:#fff5e4;border:solid 1px #f6d399}.ab_chip.colored{border:solid 1px #5670fb;color:#5670fb}.ab_chip.colored:hover{background-color:#f6f7ff}\\n\\n.ab-company-result-card{overflow:hidden;box-shadow:0 2px 6px -2px rgba(0,106,194,0.2);border-radius:.375rem;border:solid 1px #ebf0f6;background-color:#fff;margin-bottom:1rem;width:100%;cursor:pointer}.ab-company-result-card .company-content-wrapper{display:flex;flex-direction:column;padding:1.5rem 1.5rem 0 1.5rem}@media only screen and (max-width: 768px){.ab-company-result-card .company-content-wrapper{padding:1.25rem 1rem 0 1rem}}.ab-company-result-card .company-content-wrapper .company-content{display:flex}@media only screen and (max-width: 768px){.ab-company-result-card .company-content-wrapper .company-content{margin-bottom:.75rem}}.ab-company-result-card .company-content-wrapper .company-content .company-logo{width:6.25rem;height:6.25rem;margin-right:2rem}@media only screen and (max-width: 768px){.ab-company-result-card .company-content-wrapper .company-content .company-logo{width:3rem;height:3rem;margin-right:.625rem}}.ab-company-result-card .company-content-wrapper .company-content .company-logo img{width:6.25rem;height:6.25rem;border-radius:.25rem;border:solid 1px #f0f0f0;object-fit:contain}@media only screen and (max-width: 768px){.ab-company-result-card .company-content-wrapper .company-content .company-logo img{width:3rem;height:3rem}}.ab-company-result-card .company-content-wrapper .company-content .company-info-wrapper{width:100%}.ab-company-result-card .company-content-wrapper .company-content .company-info-wrapper .company-info{display:flex;justify-content:space-between;align-items:flex-end;margin-bottom:.5rem}.ab-company-result-card .company-content-wrapper .company-content .company-info-wrapper .company-info .left{display:flex;flex:1;align-items:center}@media only screen and (max-width: 768px){.ab-company-result-card .company-content-wrapper .company-content .company-info-wrapper .company-info .left{flex-direction:column;align-items:flex-start}}.ab-company-result-card .company-content-wrapper .company-content .company-info-wrapper .company-info .left .company-name{margin-right:.5rem;text-transform:capitalize;color:#1E223C}@media only screen and (max-width: 768px){.ab-company-result-card .company-content-wrapper .company-content .company-info-wrapper .company-info .left .company-name{font-size:1.125rem;margin-bottom:.25rem}}.ab-company-result-card .company-content-wrapper .company-content .company-info-wrapper .company-info .left .rating-wrapper{display:flex;align-items:center;line-height:1.33}.ab-company-result-card .company-content-wrapper .company-content .company-info-wrapper .company-info .left .rating-wrapper .rating{color:#fff;margin-right:.5rem;padding:.1875rem .3125rem;border-radius:.25rem;display:flex;width:2.625rem;height:1.25rem;font-size:0.75rem}.ab-company-result-card .company-content-wrapper .company-content .company-info-wrapper .company-info .left .rating-wrapper .rating i{width:.625rem;font-size:.8125rem;margin-right:.3125rem;color:#fff}.ab-company-result-card .company-content-wrapper .company-content .company-info-wrapper .company-info .left .rating-wrapper .review-count{color:#97A0BE}.ab-company-result-card .company-content-wrapper .company-content .company-info-wrapper .company-info .left .rating-wrapper .review-count:hover{color:#5670fb}.ab-company-result-card .company-content-wrapper .company-content .company-info-wrapper .company-info .follow-btn{min-width:4.625rem;padding:.3125rem 1rem}@media only screen and (max-width: 768px){.ab-company-result-card .company-content-wrapper .company-content .company-info-wrapper .company-info .follow-btn{min-width:3.6875rem;padding:.25rem .625rem}}.ab-company-result-card .company-content-wrapper .description{margin-top:8px;color:#1E223C;overflow:hidden;position:relative;line-height:1.33em;max-height:2.66em;text-align:justify;margin-right:-1em;padding-right:1em}.ab-company-result-card .company-content-wrapper .description:before{content:\\'...\\';position:absolute;right:0;bottom:2px}.ab-company-result-card .company-content-wrapper .description:after{content:\\'\\';position:absolute;right:0;width:1em;height:1em;margin-top:0.2em;background:#fff}.ab-company-result-card .company-action-center{display:flex;justify-content:space-between;margin-top:1.5rem;padding:0 1.5rem 1.25rem}@media only screen and (max-width: 768px){.ab-company-result-card .company-action-center{padding:0 1.25rem 1.25rem 1.25rem;margin-top:0}}.ab-company-result-card .company-action-center a{color:#1E223C;text-decoration:none}@media only screen and (max-width: 768px){.ab-company-result-card .company-action-center a{display:flex;flex-direction:column;justify-content:flex-start;font-size:.875rem;line-height:1.2}}.ab-company-result-card .company-action-center a:hover{color:#5670fb;font-weight:600}.ab-company-result-card .company-action-center a:hover span{color:#5E6B92}.ab-company-result-card .company-action-center a span{color:#1E223C;font-weight:500}@media only screen and (max-width: 768px){.ab-company-result-card .company-action-center a span{font-weight:600;line-height:1.2;margin-top:.125rem;display:inline-block}}.ab-company-result-card .company-action-center a span.dash{font-size:.75rem}.ab-company-result-card .company-basic-info{display:flex;flex-wrap:wrap;margin-bottom:1rem}@media only screen and (max-width: 768px){.ab-company-result-card .company-basic-info{margin-bottom:.75rem}}.ab-company-result-card .company-basic-info .infoEntity{font-size:.875rem;color:#5E6B92;display:flex;width:50%;margin:.25rem 0;text-align:initial}@media only screen and (max-width: 575px){.ab-company-result-card .company-basic-info .infoEntity{width:100%;margin:0}}.ab-company-result-card .company-basic-info .infoEntity i{width:1.25rem;height:1.25rem;margin-right:.5rem}.ab-company-result-card .chips-block{display:flex;margin-bottom:.75rem;flex-wrap:wrap}@media only screen and (max-width: 575px){.ab-company-result-card .chips-block{flex-wrap:nowrap;overflow-x:auto;scrollbar-width:none;-webkit-overflow-scrolling:touch}.ab-company-result-card .chips-block::-webkit-scrollbar{display:none}}\\n\\n.leaf-list-wrapper[data-v-230c1e7d]{display:flex}@media only screen and (min-width: 769px){.leaf-list-wrapper[data-v-230c1e7d]{flex-wrap:wrap}}@media only screen and (max-width: 1024px){.leaf-list-wrapper[data-v-230c1e7d]{overflow-x:scroll}}@media only screen and (max-width: 1024px){.leaf-list-wrapper.m-justify-center[data-v-230c1e7d]{justify-content:center}}.leaf-list-wrapper .expand-btn[data-v-230c1e7d]{font-size:.875rem;line-height:1.25rem;color:#c09545;display:flex;align-items:center;cursor:pointer}\\n\\n.award-leaf[data-v-0c9b8739]{white-space:nowrap;display:flex;align-items:center;margin:.3125rem .3125rem .3125rem 0;background-image:url(\"https://static.ambitionbox.com/static/awards/black-theme/golden-border.png\");background-repeat:no-repeat;background-size:90% 1.625rem;background-position:49% 0;cursor:pointer}.award-leaf .ambox-logo[data-v-0c9b8739]{margin-right:.3125rem}.award-leaf p[data-v-0c9b8739]{font-weight:600;font-size:.75rem;color:#c09545;padding:.25rem 0}\\n\\n#ab-paginator-wrapper{display:flex;justify-content:center;align-items:center;margin:40px 0px}#ab-paginator-wrapper .pagination-btns{display:flex}#ab-paginator-wrapper .pagination-btns a{text-decoration:none;display:flex}#ab-paginator-wrapper .pagination-btns .link-active{background-color:#5E6B92;color:#fff !important}#ab-paginator-wrapper .pagination-btns .page{min-width:32px;width:100%;height:32px;margin:0px 4px;border-radius:1rem;display:flex;justify-content:center;align-items:center;cursor:pointer;transition:border-color 0.4s ease-in-out;padding:4px 8px;border:solid 1px #fff}#ab-paginator-wrapper .pagination-btns .page:hover:not(.link-active){border:solid 1px #5E6B92}#ab-paginator-wrapper .page-nav-btn{width:32px;height:32px;border:solid 1px #ebf0f6;background-color:#fff;border-radius:50%;cursor:pointer;margin:0px 8px;display:flex;align-items:center;justify-content:center}#ab-paginator-wrapper .page-nav-btn:hover{box-shadow:0 3px 8px 0 rgba(0,106,194,0.2);transition:150ms linear}#ab-paginator-wrapper .page-nav-btn .nav-btn{width:20px;height:20px}#ab-paginator-wrapper .page-nav-btn .prev{transform:rotate(180deg)}\\n\\n.ab_card{padding:1.5rem;border-radius:6px;position:relative;box-shadow:0 2px 6px -2px rgba(0,106,194,0.2);border:solid 1px #ebf0f6;background-color:#fff;box-sizing:border-box}.ab_card.slimCard{padding:1.5rem 1.25rem}@media only screen and (max-width: 768px){.ab_card.slimCard{padding:1.25rem 1rem}}.ab_card.slimCardMed{min-width:19.375rem;min-height:12rem;padding:1.375rem 1rem !important}@media only screen and (max-width: 360px){.ab_card.slimCardMed{min-width:unset}}.ab_card.slimCardSmall{min-width:19.375rem;min-height:12rem;padding:.9375rem 0 .875rem .875rem !important}.ab_card.borderFix{border-bottom:none}.ab_card .anchor{text-transform:none;color:initial;display:block;position:absolute;top:0;left:0;width:100%;height:100%;cursor:pointer}.ab_card .anchor:hover,.ab_card .anchor:visited,.ab_card .anchor:active{text-transform:none;color:initial}@media only screen and (max-width: 768px){.ab_card{padding:1.25rem 1rem}}\\n\\n#ab-footer{background-color:#f6f7ff;padding-top:2rem}#ab-footer.app{padding-top:0;padding-bottom:0;margin-bottom:0;margin-top:3.75rem}#ab-footer .col{padding-left:0}#ab-footer .col ul{list-style-type:none}#ab-footer .container{max-width:67rem}#ab-footer .container .info .logo-wrap{display:flex;align-items:center}#ab-footer .container .info .logo-wrap .logo-img{width:1.7rem;height:1.9375rem;vertical-align:middle}#ab-footer .container .info .logo-wrap .logo-text{font-size:1.325rem;font-weight:700;letter-spacing:0.36px;color:#040a1e;margin-left:9px;vertical-align:middle}#ab-footer .container .info .title{margin:.9375rem auto .625rem;font-size:1rem;line-height:1.23}@media only screen and (max-width: 575px){#ab-footer .container .info .title{font-size:.8125rem;font-weight:normal;margin:.375rem auto 1rem}}#ab-footer .container .info .col{display:flex;flex-wrap:wrap;width:75%}@media only screen and (max-width: 768px){#ab-footer .container .info .col{padding:0;width:100%}}#ab-footer .container .info .col .item{min-width:25%}#ab-footer .container .info .col .item span{font-size:1.125rem;line-height:0.89}#ab-footer .container .info .col .item p{font-size:.875rem;line-height:1.07}@media only screen and (max-width: 768px){#ab-footer .container .info .col .item p{font-size:.75rem;font-weight:normal}}#ab-footer .btn{margin-bottom:.5rem}#ab-footer .btn.invert{background-color:transparent}@media only screen and (max-width: 768px){#ab-footer .btn{margin-right:.5rem}}#ab-footer .btn span{font-size:.875rem;font-weight:600}@media only screen and (max-width: 768px){#ab-footer .btn span{font-size:.8125rem}}#ab-footer .ab_typeahead3{padding:0}#ab-footer .ab_typeahead3 .typeahead-wrapper3{padding:0;margin:2.5rem 0 0}#ab-footer .ab_typeahead3 .typeahead-wrapper3 .wrapper{margin:0}#ab-footer .ab_typeahead2{width:100%;padding:0}#ab-footer .ab_typeahead2 #typeahead-wrapper2{padding:1rem 0 2.25rem}#ab-footer .footer-nav-section{padding:2.5rem 0 2rem;display:flex;flex-direction:row;align-items:flex-start}@media only screen and (max-width: 768px){#ab-footer .footer-nav-section{align-items:center;flex-direction:column;margin-top:1.5rem;padding:.875rem 0 0;border-top:solid 1px #e9e8f9}}#ab-footer .footer-nav-section .left-col{display:flex;min-width:80%;flex-direction:row;align-items:flex-start;align-content:flex-start;flex-wrap:wrap}@media only screen and (max-width: 768px){#ab-footer .footer-nav-section .left-col{min-width:100%}}#ab-footer .footer-nav-section .left-col .col{min-width:22%;padding-right:1.25rem;display:flex;flex-direction:column}@media only screen and (max-width: 768px){#ab-footer .footer-nav-section .left-col .col{min-width:unset;width:50%;margin-bottom:1.5rem}}#ab-footer .footer-nav-section .left-col .col .item{padding:4px 0px}@media only screen and (max-width: 768px){#ab-footer .footer-nav-section .left-col .col .item{padding:1px 0px}}#ab-footer .footer-nav-section .left-col .col .item .awards{color:#ad7e0d;margin-top:-.1875rem;margin-left:.1875rem}#ab-footer .footer-nav-section .left-col a{text-decoration:none;color:#1E223C;line-height:1.71;padding:.25rem 0}#ab-footer .footer-nav-section .left-col a:hover{color:#5670fb}@media only screen and (max-width: 768px){#ab-footer .footer-nav-section .left-col a{padding:0}}#ab-footer .footer-nav-section .bold-title{font-size:1.125rem;margin-bottom:.375rem;display:inline-block;line-height:1.56}@media only screen and (max-width: 768px){#ab-footer .footer-nav-section .bold-title{font-size:1rem;line-height:1.75}}#ab-footer .footer-nav-section .right-col{display:flex;flex-direction:column;justify-content:center;align-items:center}#ab-footer .footer-nav-section .right-col .item{display:block;padding:.25rem 0}#ab-footer .social{margin-bottom:1.5625rem}@media only screen and (max-width: 768px){#ab-footer .social{margin-bottom:0}}#ab-footer .social img{margin-right:.375rem}#ab-footer .social a:last-child img{margin-right:0}#ab-footer .contribute-mobile{font-weight:600;padding:1.5625rem 1.5625rem 1.0625rem;background-color:#e9e8f9;text-align:center}#ab-footer .contribute-mobile p{margin-bottom:.5rem}#ab-footer a{cursor:pointer}@media only screen and (max-width: 768px){#ab-footer a{font-size:.875rem}}#ab-footer .support-mobile{padding:1rem 1.5625rem;text-align:center;word-break:break-word}#ab-footer .support-mobile li{border-right:1px solid #E4E6EE;padding-right:.625rem;margin-right:.625rem;white-space:nowrap;display:inline-block}#ab-footer .support-mobile li:last-child{border-right:none}#ab-footer .support-mobile a{font-weight:600;color:#1E223C;white-space:nowrap}#ab-footer .copyright-container{padding:1.25rem 0;position:relative;border-top:solid 1px #e9e8f9}@media only screen and (max-width: 575px){#ab-footer .copyright-container{border-top:none;padding:0 0 .4375rem}}#ab-footer .copyright-container p{text-align:left}@media only screen and (max-width: 768px){#ab-footer .copyright-container p{text-align:center;line-height:1.33}}#ab-footer.black-theme{background-color:#090800}#ab-footer.black-theme .logo-img{filter:brightness(0) invert(1)}#ab-footer.black-theme a{color:rgba(255,255,255,0.7) !important}#ab-footer.black-theme .info p{color:rgba(255,255,255,0.75)}@media only screen and (max-width: 768px){#ab-footer.black-theme .info p{color:rgba(255,255,255,0.8);font-weight:500}}#ab-footer.black-theme .footer-nav-section{border-top-color:rgba(233,232,249,0.2)}#ab-footer.black-theme span,#ab-footer.black-theme .title,#ab-footer.black-theme a:hover{color:#fff !important}@media only screen and (max-width: 768px){#ab-footer.black-theme span,#ab-footer.black-theme .title,#ab-footer.black-theme a:hover{opacity:0.96}}#ab-footer.black-theme .title{font-weight:400}@media only screen and (max-width: 768px){#ab-footer.black-theme .title{font-weight:500;opacity:0.8}}#ab-footer.black-theme button.invert{color:#fff;background-color:rgba(255,255,255,0.05);border-color:#fff}#ab-footer.black-theme .copyright-container{border-top-color:rgba(233,232,249,0.2)}#ab-footer.black-theme .copyright-container p{color:#c6c6c6}#ab-footer.black-theme .contribute-mobile{background:linear-gradient(264.11deg, #212121 -19.75%, #1a1919 36.64%, #1a1a1a 100%)}#ab-footer.black-theme .contribute-mobile p{color:#fff}\\n</style>\\n  </head>\\n  <body >\\n    <div data-server-rendered=\"true\" id=\"__nuxt\"><!----><div id=\"__layout\"><div id=\"defaultListing\" data-v-1b4eaba2><div id=\"layoutHeaderWrapper\" data-v-1b4eaba2><header id=\"ambitionbox-header\" class=\"ab_header mobile greyDesktopTablet\" data-v-1b4eaba2><div class=\"navbar\"><div class=\"left-container\"><a href=\"https://www.ambitionbox.com\" class=\"logo\"><img src=\"https://static.ambitionbox.com/static/logo.svg\" alt=\"AmbitionBox\" height=\"32\" width=\"26.5\" style=\"filter:unset;\"> <p class=\"text\" style=\"color:#040a1e;\">\\n\\t\\t\\t\\t\\tAmbitionBox\\n\\t\\t\\t\\t</p></a> <div class=\"nav-list-left\"><div class=\"list-item\"><a href=\"/list-of-companies\" title=\"List of companies in India\" class=\"router-link-active\">Companies</a></div> <div class=\"list-item\"><a href=\"/reviews\" title=\"Company reviews by employees\">Reviews</a></div> <div class=\"list-item\"><a href=\"/salaries\" title=\"Company Salaries\">Salaries</a></div> <div class=\"list-item\"><a href=\"https://www.ambitionbox.com/interviews\" style=\"color:;\">Interviews</a></div> <div class=\"list-item\"><a href=\"/jobs\" title=\"Jobs\">Jobs</a></div> <div class=\"list-item\"><a href=\"/salaries/take-home-salary-calculator\" title=\"Salary Calculator\">Salary Calculator</a></div> <div class=\"list-item\"><a href=\"/best-places-to-work-in-india-2021\" title=\"Best Places to Work in India\">Awards 2021\\n\\t\\t\\t\\t\\t</a></div></div></div> <div class=\"right-container\"><div class=\"nav-list-right\"><div class=\"list-item\"><a href=\"/contribute\" class=\"purple-btn\">+Contribute</a></div> <!----> <div class=\"list-item\"><a href=\"https://employer.ambitionbox.com\" target=\"_blank\" rel=\"noopener\" class=\"employer\" style=\"color:;\">\\n\\t\\t\\t\\t\\t\\tEmployer?\\n\\t\\t\\t\\t\\t</a></div> <!----> <!----> <div class=\"list-item visible-xs\"><a class=\"open-menu\"><span class=\"ic\"><i class=\"line one\"></i> <i class=\"line two\"></i> <i class=\"line thr\"></i></span></a></div></div></div></div></header> <!----></div> <div class=\"fixed-typeahead-wrapper\" data-v-1b4eaba2><div id=\"fixed-typeahead\" typeahead-as-component=\"true\" title=\"Discover Best Places to Work!\" sub-text=\"Company reviews. Salaries. Interviews. Jobs.\" default-drop-down-option=\"3\" type-id=\"fixed-typeahead\" class=\"container ab_typeahead3\" style=\"background-image:url(\\'https://static.ambitionbox.com/static/icons/typeahead/companies.svg\\');background-position:96% 185%;background-size:200px;\" data-v-1b4eaba2><p class=\"typeahead-title bold-display-l\" style=\"color:#1e223c;\">\\n\\t\\tDiscover Best Places to Work!\\n\\t</p> <p class=\"subtitle\" style=\"color:#1e223c;\">Company reviews. Salaries. Interviews. Jobs.</p> <div class=\"typeahead-wrapper3\"><div class=\"wrapper\"><div class=\"search-company component-search-company\"><input title=\"Enter a Company or Designation\" name=\"CompanyName\" autocomplete=\"off\" type=\"search\" placeholder=\"Search by Company or Designation\" class=\"component-input\"></div> <div class=\"dropdown\"><div class=\"wrapper-dropdown component-wrapper-dropdown\" data-v-61f82f61><div class=\"input-box component-input-box\" data-v-61f82f61><p data-v-61f82f61>About Company</p> <i class=\"icon-chevron-right\" data-v-61f82f61></i></div> <ul class=\"autocomplete-list\" data-v-61f82f61><li rel=\"CompanyReviews\" data-v-61f82f61>\\n\\t\\t\\tReviews\\n\\t\\t</li><li rel=\"CompanyJobs\" data-v-61f82f61>\\n\\t\\t\\tJobs\\n\\t\\t</li><li rel=\"InterviewQuestions\" data-v-61f82f61>\\n\\t\\t\\tInterview Questions\\n\\t\\t</li><li rel=\"CompanyOverview\" class=\"active\" data-v-61f82f61>\\n\\t\\t\\tAbout Company\\n\\t\\t</li><li rel=\"CompanySalaries\" data-v-61f82f61>\\n\\t\\t\\tSalaries\\n\\t\\t</li><li rel=\"CompanyBenefits\" data-v-61f82f61>\\n\\t\\t\\tBenefits\\n\\t\\t</li></ul></div></div> <button class=\"ab_btn search-btn round component-search-btn\"><span class=\"ctas-btn-medium\">Search</span></button></div></div></div></div> <main class=\"pd-btm-48\" data-v-5051744e data-v-1b4eaba2><div class=\"company-count-wrapper container\" data-v-5051744e><h1 class=\"bold-title-l title\" data-v-5051744e>List of companies in India</h1> <p class=\"sbold-section-header subtitle\" data-v-5051744e>\\n\\t\\t\\t594,260 unique\\n\\t\\t\\tcompanies found\\n\\t\\t</p></div> <div class=\"stickFilter\" data-v-5051744e><!----></div> <div class=\"company-listing-wrapper\" data-v-5051744e><div class=\"container\" data-v-5051744e><div class=\"row\" data-v-5051744e><aside id=\"filtersWrapper\" class=\"filters-wrapper col-md-4\" data-v-5051744e><div class=\"loader-ui\" data-v-5051744e><svg viewBox=\"0 0 228 134\" version=\"1.1\" preserveAspectRatio=\"xMidYMid meet\" data-v-5051744e data-v-5051744e><rect clip-path=\"url(#8sktsxyexn8)\" x=\"0\" y=\"0\" width=\"228\" height=\"134\" style=\"fill:url(#5p50wv4zvkh);\" data-v-5051744e data-v-5051744e></rect><defs data-v-5051744e data-v-5051744e><clipPath id=\"8sktsxyexn8\" data-v-5051744e data-v-5051744e><circle cx=\"-206\" cy=\"188\" r=\"20\" data-v-5051744e></circle> <rect x=\"35\" y=\"-3\" rx=\"0\" ry=\"0\" width=\"184\" height=\"18\" data-v-5051744e></rect> <rect x=\"35\" y=\"26\" rx=\"0\" ry=\"0\" width=\"184\" height=\"18\" data-v-5051744e></rect> <rect x=\"35\" y=\"58\" rx=\"0\" ry=\"0\" width=\"184\" height=\"18\" data-v-5051744e></rect> <rect x=\"35\" y=\"87\" rx=\"0\" ry=\"0\" width=\"184\" height=\"18\" data-v-5051744e></rect> <rect x=\"35\" y=\"117\" rx=\"0\" ry=\"0\" width=\"184\" height=\"18\" data-v-5051744e></rect> <circle cx=\"15\" cy=\"9\" r=\"7\" data-v-5051744e></circle> <circle cx=\"15\" cy=\"34\" r=\"7\" data-v-5051744e></circle> <circle cx=\"15\" cy=\"67\" r=\"7\" data-v-5051744e></circle> <circle cx=\"15\" cy=\"98\" r=\"7\" data-v-5051744e></circle> <circle cx=\"15\" cy=\"126\" r=\"7\" data-v-5051744e></circle></clipPath><linearGradient id=\"5p50wv4zvkh\" data-v-5051744e data-v-5051744e><stop offset=\"0%\" stop-color=\"#f9f9f9\" stop-opacity=\"1\" data-v-5051744e data-v-5051744e><animate attributeName=\"offset\" values=\"-2; 1\" dur=\"2s\" repeatCount=\"indefinite\" data-v-5051744e data-v-5051744e></animate></stop><stop offset=\"50%\" stop-color=\"#ecebeb\" stop-opacity=\"1\" data-v-5051744e data-v-5051744e><animate attributeName=\"offset\" values=\"-1.5; 1.5\" dur=\"2s\" repeatCount=\"indefinite\" data-v-5051744e data-v-5051744e></animate></stop><stop offset=\"100%\" stop-color=\"#f9f9f9\" stop-opacity=\"1\" data-v-5051744e data-v-5051744e><animate attributeName=\"offset\" values=\"-1; 2\" dur=\"2s\" repeatCount=\"indefinite\" data-v-5051744e data-v-5051744e></animate></stop></linearGradient></defs></svg></div><div class=\"loader-ui\" data-v-5051744e><svg viewBox=\"0 0 228 134\" version=\"1.1\" preserveAspectRatio=\"xMidYMid meet\" data-v-5051744e data-v-5051744e><rect clip-path=\"url(#vler17tlqdf)\" x=\"0\" y=\"0\" width=\"228\" height=\"134\" style=\"fill:url(#hi6j7izkd8r);\" data-v-5051744e data-v-5051744e></rect><defs data-v-5051744e data-v-5051744e><clipPath id=\"vler17tlqdf\" data-v-5051744e data-v-5051744e><circle cx=\"-206\" cy=\"188\" r=\"20\" data-v-5051744e></circle> <rect x=\"35\" y=\"-3\" rx=\"0\" ry=\"0\" width=\"184\" height=\"18\" data-v-5051744e></rect> <rect x=\"35\" y=\"26\" rx=\"0\" ry=\"0\" width=\"184\" height=\"18\" data-v-5051744e></rect> <rect x=\"35\" y=\"58\" rx=\"0\" ry=\"0\" width=\"184\" height=\"18\" data-v-5051744e></rect> <rect x=\"35\" y=\"87\" rx=\"0\" ry=\"0\" width=\"184\" height=\"18\" data-v-5051744e></rect> <rect x=\"35\" y=\"117\" rx=\"0\" ry=\"0\" width=\"184\" height=\"18\" data-v-5051744e></rect> <circle cx=\"15\" cy=\"9\" r=\"7\" data-v-5051744e></circle> <circle cx=\"15\" cy=\"34\" r=\"7\" data-v-5051744e></circle> <circle cx=\"15\" cy=\"67\" r=\"7\" data-v-5051744e></circle> <circle cx=\"15\" cy=\"98\" r=\"7\" data-v-5051744e></circle> <circle cx=\"15\" cy=\"126\" r=\"7\" data-v-5051744e></circle></clipPath><linearGradient id=\"hi6j7izkd8r\" data-v-5051744e data-v-5051744e><stop offset=\"0%\" stop-color=\"#f9f9f9\" stop-opacity=\"1\" data-v-5051744e data-v-5051744e><animate attributeName=\"offset\" values=\"-2; 1\" dur=\"2s\" repeatCount=\"indefinite\" data-v-5051744e data-v-5051744e></animate></stop><stop offset=\"50%\" stop-color=\"#ecebeb\" stop-opacity=\"1\" data-v-5051744e data-v-5051744e><animate attributeName=\"offset\" values=\"-1.5; 1.5\" dur=\"2s\" repeatCount=\"indefinite\" data-v-5051744e data-v-5051744e></animate></stop><stop offset=\"100%\" stop-color=\"#f9f9f9\" stop-opacity=\"1\" data-v-5051744e data-v-5051744e><animate attributeName=\"offset\" values=\"-1; 2\" dur=\"2s\" repeatCount=\"indefinite\" data-v-5051744e data-v-5051744e></animate></stop></linearGradient></defs></svg></div><div class=\"loader-ui\" data-v-5051744e><svg viewBox=\"0 0 228 134\" version=\"1.1\" preserveAspectRatio=\"xMidYMid meet\" data-v-5051744e data-v-5051744e><rect clip-path=\"url(#5crcyx89d74)\" x=\"0\" y=\"0\" width=\"228\" height=\"134\" style=\"fill:url(#9uckudkpe17);\" data-v-5051744e data-v-5051744e></rect><defs data-v-5051744e data-v-5051744e><clipPath id=\"5crcyx89d74\" data-v-5051744e data-v-5051744e><circle cx=\"-206\" cy=\"188\" r=\"20\" data-v-5051744e></circle> <rect x=\"35\" y=\"-3\" rx=\"0\" ry=\"0\" width=\"184\" height=\"18\" data-v-5051744e></rect> <rect x=\"35\" y=\"26\" rx=\"0\" ry=\"0\" width=\"184\" height=\"18\" data-v-5051744e></rect> <rect x=\"35\" y=\"58\" rx=\"0\" ry=\"0\" width=\"184\" height=\"18\" data-v-5051744e></rect> <rect x=\"35\" y=\"87\" rx=\"0\" ry=\"0\" width=\"184\" height=\"18\" data-v-5051744e></rect> <rect x=\"35\" y=\"117\" rx=\"0\" ry=\"0\" width=\"184\" height=\"18\" data-v-5051744e></rect> <circle cx=\"15\" cy=\"9\" r=\"7\" data-v-5051744e></circle> <circle cx=\"15\" cy=\"34\" r=\"7\" data-v-5051744e></circle> <circle cx=\"15\" cy=\"67\" r=\"7\" data-v-5051744e></circle> <circle cx=\"15\" cy=\"98\" r=\"7\" data-v-5051744e></circle> <circle cx=\"15\" cy=\"126\" r=\"7\" data-v-5051744e></circle></clipPath><linearGradient id=\"9uckudkpe17\" data-v-5051744e data-v-5051744e><stop offset=\"0%\" stop-color=\"#f9f9f9\" stop-opacity=\"1\" data-v-5051744e data-v-5051744e><animate attributeName=\"offset\" values=\"-2; 1\" dur=\"2s\" repeatCount=\"indefinite\" data-v-5051744e data-v-5051744e></animate></stop><stop offset=\"50%\" stop-color=\"#ecebeb\" stop-opacity=\"1\" data-v-5051744e data-v-5051744e><animate attributeName=\"offset\" values=\"-1.5; 1.5\" dur=\"2s\" repeatCount=\"indefinite\" data-v-5051744e data-v-5051744e></animate></stop><stop offset=\"100%\" stop-color=\"#f9f9f9\" stop-opacity=\"1\" data-v-5051744e data-v-5051744e><animate attributeName=\"offset\" values=\"-1; 2\" dur=\"2s\" repeatCount=\"indefinite\" data-v-5051744e data-v-5051744e></animate></stop></linearGradient></defs></svg></div></aside> <section class=\"results-wrapper col-lg-8 col-12\" data-v-5051744e><div id=\"cards-list\" data-v-5051744e><div class=\"sort-btn\" data-v-5051744e><div class=\"ab_chip body-medium\" data-v-5051744e><p class=\"sbold-list-header\" data-v-5051744e>Sort By:\\xa0</p> <p class=\"bold-list-header show-flex\" data-v-5051744e>\\n\\t\\t\\t\\t\\t\\t\\t\\t\\tPopular\\n\\t\\t\\t\\t\\t\\t\\t\\t\\t<i class=\"icon-chevron-right\" data-v-5051744e></i></p></div> <!----></div> <div class=\"desktop-chips-wrap\" data-v-5051744e><!----> </div> <div itemscope=\"itemscope\" itemtype=\"http://schema.org/ItemList\" data-v-5051744e><meta itemprop=\"numberOfItems\" content=\"30\" data-v-5051744e> <meta itemprop=\"name\" content=\"List of companies in India\" data-v-5051744e> <meta itemprop=\"url\" content=\"https://www.ambitionbox.com/list-of-companies?page=1\" data-v-5051744e> <div itemprop=\"itemListElement\" itemscope=\"itemscope\" itemtype=\"http://schema.org/ListItem\" class=\"ab-company-result-card\" data-v-5051744e><meta itemprop=\"position\" content=\"1\"> <meta itemprop=\"name\" content=\"TCS\"> <meta itemprop=\"alternateName\" content=\"Tata Consultancy Services\"> <meta itemprop=\"url\" content=\"https://www.ambitionbox.com/overview/tcs-overview\"> <meta itemprop=\"image\" content=\"https://static.ambitionbox.com/alpha/company/photos/logos/tcs.jpg\"> <div class=\"company-content-wrapper\"><div class=\"company-content\"><div class=\"company-logo\"><img data-src=\"https://static.ambitionbox.com/alpha/company/photos/logos/tcs.jpg\" src=\"https://static.ambitionbox.com/static/icons/company-placeholder.svg\" alt=\"Tata Consultancy Services logo\" onerror=\"this.onerror=null;this.src=\\'/static/icons/company-placeholder.svg\\';\" class=\"lazy\"></div> <div class=\"company-info-wrapper\"><div class=\"company-info\"><div class=\"left\"><a href=\"/overview/tcs-overview\"><h2 title=\"TCS\" class=\"company-name bold-title-l\">\\n\\t\\t\\t\\t\\t\\t\\t\\tTCS\\n\\t\\t\\t\\t\\t\\t\\t</h2></a> <div class=\"rating-wrapper\"><p class=\"rating badge-large rating-35\"><i class=\"icon icon-star\"></i>\\n\\t\\t\\t\\t\\t\\t\\t\\t3.9\\n\\t\\t\\t\\t\\t\\t\\t</p> <a href=\"https://www.ambitionbox.com/reviews/tcs-reviews\" class=\"review-count sbold-Labels\">\\n\\t\\t\\t\\t\\t\\t\\t\\t(30.2k Reviews)\\n\\t\\t\\t\\t\\t\\t\\t</a></div></div> <button class=\"ab_btn follow-btn invert round\"><span class=\"ctas-btn-medium\">Follow</span></button></div> <div class=\"leaf-list-wrapper noscrollbars-sm mg-btm-16 mg-top-4\" data-v-230c1e7d><div class=\"award-leaf\" data-v-0c9b8739 data-v-230c1e7d><img width=\"15\" height=\"26\" src=\"https://static.ambitionbox.com/static/awards/black-theme/golden-leaf-left.png\" data-v-0c9b8739> <img width=\"15\" height=\"17\" src=\"https://static.ambitionbox.com/static/awards/black-theme/gold-ambox-logo.svg\" class=\"ambox-logo\" data-v-0c9b8739> <p data-v-0c9b8739>#6 Best Mega Company - 2021</p> <img width=\"15\" height=\"26\" src=\"https://static.ambitionbox.com/static/awards/black-theme/golden-leaf-right.png\" data-v-0c9b8739></div><!----> <!----></div> <div class=\"company-basic-info\"><p class=\"infoEntity sbold-list-header\"><i class=\"icon-domain\"></i>\\n\\t\\t\\t\\t\\t\\tPublic\\n\\t\\t\\t\\t\\t</p> <p class=\"infoEntity sbold-list-header\"><i class=\"icon-pin-drop\"></i>\\n\\t\\t\\t\\t\\t\\tMumbai,Maharashtra \\n\\t\\t\\t\\t\\t</p> <p class=\"infoEntity sbold-list-header\"><i class=\"icon-access-time\"></i>\\n\\t\\t\\t\\t\\t\\t54 years old\\n\\t\\t\\t\\t\\t</p> <p class=\"infoEntity sbold-list-header\"><i class=\"icon-supervisor-account\"></i>\\n\\t\\t\\t\\t\\t\\t1 Lakh+ employees (India)\\n\\t\\t\\t\\t\\t</p></div> <div class=\"chips-block\"><a href=\"/bpo-or-call-centre-companies-in-india\" data-filter-name=\"chips_Company-Tags_bpo-or-call-centre\" title=\"BPO / Call Centre companies in India\" class=\"ab_chip body-medium\">\\n\\t\\t\\t\\t\\t\\tBPO / Call Centre\\n\\t\\t\\t\\t\\t</a><a href=\"/it-services-and-consulting-companies-in-india\" data-filter-name=\"chips_Company-Tags_it-services-and-consulting\" title=\"IT Services &amp; Consulting companies in India\" class=\"ab_chip body-medium\">\\n\\t\\t\\t\\t\\t\\tIT Services &amp; Consulting\\n\\t\\t\\t\\t\\t</a><a href=\"/fortune500-companies-in-india\" data-filter-name=\"chips_Company-Tags_fortune500\" title=\"Fortune500 companies in India\" class=\"ab_chip body-medium\">\\n\\t\\t\\t\\t\\t\\tFortune500\\n\\t\\t\\t\\t\\t</a><a href=\"/forbesglobal2000-companies-in-india\" data-filter-name=\"chips_Company-Tags_forbesglobal2000\" title=\"Forbes Global 2000 companies in India\" class=\"ab_chip body-medium\">\\n\\t\\t\\t\\t\\t\\tForbes Global 2000\\n\\t\\t\\t\\t\\t</a><a href=\"/public-companies-in-india\" data-filter-name=\"chips_Company-Tags_public\" title=\"Public companies in India\" class=\"ab_chip body-medium\">\\n\\t\\t\\t\\t\\t\\tPublic\\n\\t\\t\\t\\t\\t</a><a href=\"/companies-in-mumbai\" data-filter-name=\"chips_Company-Tags_mumbai\" title=\"Companies in Mumbai,Maharashtra\" class=\"ab_chip body-medium\">\\n\\t\\t\\t\\t\\t\\tMumbai,Maharashtra\\n\\t\\t\\t\\t\\t</a></div></div></div> <!----> <p itemprop=\"description\" class=\"description body-small\">\\n\\t\\t\\t\\tWe ensure the highest levels of certainty and satisfaction through a deep-set commitment to our clients, comprehensive industry expertise and a global network of innovation and delivery centers.\\n\\nWe function as a full stakeholder to business, offering a consulting-led approach with an integrated portfolio of technology led solutions that encompass the entire Enterprise value chain. Our Customer-centric Engagement Model defines how we do engage with you, offering specialized services and solutions that meet the distinct needs of your business.\\n\\nWe build bespoke teams around your domain and technology requirements drawn from our talent pool of over 488,649 global professionals including 36.5% women from 154 nationalities. Our domain expertise has been built upon decades of experience working across industries and this knowledge underpins our suite of solutions.\\n\\nOur organization structure is domain led and empowered to help provide Customers a single window to industry specific solutions. Agile industry units have embedded capabilities to enable rapid responses that provide a competitive edge to our Customers. This is coupled with a unique Global Network Delivery Model™ (GNDM™), spanning 40 global locations, that is today recognized as the benchmark of excellence in technology deployment.\\n\\nWe have made significant investments in Digital platforms and products spanning Technology Products, Horizontal Platforms and Products, Vertical Platforms and Products.\\n\\t\\t\\t</p></div> <div class=\"company-action-center\"><a href=\"/overview/tcs-overview\" title=\"TCS Overview\" class=\"body-medium\">\\n\\t\\t\\tAbout\\n\\t\\t\\t<!----></a><a href=\"/reviews/tcs-reviews\" title=\"TCS Reviews\" class=\"body-medium\">\\n\\t\\t\\tReviews\\n\\t\\t\\t<span class=\"caption-subdued-large\">\\n\\t\\t\\t\\t30.2k\\n\\t\\t\\t</span></a><a title=\"TCS Salaries\" href=\"https://www.ambitionbox.com/salaries/tcs-salaries\" class=\"body-medium\">\\n\\t\\t\\tSalaries\\n\\t\\t\\t<span class=\"caption-subdued-large\">\\n\\t\\t\\t\\t323.1k\\n\\t\\t\\t</span></a><a title=\"TCS Interviews\" href=\"https://www.ambitionbox.com/interviews/tcs-interview-questions\" class=\"body-medium\">\\n\\t\\t\\tInterviews\\n\\t\\t\\t<span class=\"caption-subdued-large\">\\n\\t\\t\\t\\t2.1k\\n\\t\\t\\t</span></a><a href=\"/jobs/tcs-jobs\" title=\"TCS Jobs\" class=\"body-medium\">\\n\\t\\t\\tJobs\\n\\t\\t\\t<span class=\"caption-subdued-large\">\\n\\t\\t\\t\\t523\\n\\t\\t\\t</span></a></div></div><div itemprop=\"itemListElement\" itemscope=\"itemscope\" itemtype=\"http://schema.org/ListItem\" class=\"ab-company-result-card\" data-v-5051744e><meta itemprop=\"position\" content=\"2\"> <meta itemprop=\"name\" content=\"Accenture\"> <meta itemprop=\"alternateName\" content=\"Accenture overview\"> <meta itemprop=\"url\" content=\"https://www.ambitionbox.com/overview/accenture-overview\"> <meta itemprop=\"image\" content=\"https://static.ambitionbox.com/alpha/company/photos/logos/accenture.jpg\"> <div class=\"company-content-wrapper\"><div class=\"company-content\"><div class=\"company-logo\"><img data-src=\"https://static.ambitionbox.com/alpha/company/photos/logos/accenture.jpg\" src=\"https://static.ambitionbox.com/static/icons/company-placeholder.svg\" alt=\"Accenture logo\" onerror=\"this.onerror=null;this.src=\\'/static/icons/company-placeholder.svg\\';\" class=\"lazy\"></div> <div class=\"company-info-wrapper\"><div class=\"company-info\"><div class=\"left\"><a href=\"/overview/accenture-overview\"><h2 title=\"Accenture\" class=\"company-name bold-title-l\">\\n\\t\\t\\t\\t\\t\\t\\t\\tAccenture\\n\\t\\t\\t\\t\\t\\t\\t</h2></a> <div class=\"rating-wrapper\"><p class=\"rating badge-large rating-4\"><i class=\"icon icon-star\"></i>\\n\\t\\t\\t\\t\\t\\t\\t\\t4.0\\n\\t\\t\\t\\t\\t\\t\\t</p> <a href=\"https://www.ambitionbox.com/reviews/accenture-reviews\" class=\"review-count sbold-Labels\">\\n\\t\\t\\t\\t\\t\\t\\t\\t(21.7k Reviews)\\n\\t\\t\\t\\t\\t\\t\\t</a></div></div> <button class=\"ab_btn follow-btn invert round\"><span class=\"ctas-btn-medium\">Follow</span></button></div> <div class=\"leaf-list-wrapper noscrollbars-sm mg-btm-16 mg-top-4\" data-v-230c1e7d><div class=\"award-leaf\" data-v-0c9b8739 data-v-230c1e7d><img width=\"15\" height=\"26\" src=\"https://static.ambitionbox.com/static/awards/black-theme/golden-leaf-left.png\" data-v-0c9b8739> <img width=\"15\" height=\"17\" src=\"https://static.ambitionbox.com/static/awards/black-theme/gold-ambox-logo.svg\" class=\"ambox-logo\" data-v-0c9b8739> <p data-v-0c9b8739>#11 Best Mega Company - 2021</p> <img width=\"15\" height=\"26\" src=\"https://static.ambitionbox.com/static/awards/black-theme/golden-leaf-right.png\" data-v-0c9b8739></div><!----> <!----></div> <div class=\"company-basic-info\"><p class=\"infoEntity sbold-list-header\"><i class=\"icon-domain\"></i>\\n\\t\\t\\t\\t\\t\\tPublic\\n\\t\\t\\t\\t\\t</p> <p class=\"infoEntity sbold-list-header\"><i class=\"icon-pin-drop\"></i>\\n\\t\\t\\t\\t\\t\\tDublin,Dublin \\n\\t\\t\\t\\t\\t</p> <p class=\"infoEntity sbold-list-header\"><i class=\"icon-access-time\"></i>\\n\\t\\t\\t\\t\\t\\t33 years old\\n\\t\\t\\t\\t\\t</p> <p class=\"infoEntity sbold-list-header\"><i class=\"icon-supervisor-account\"></i>\\n\\t\\t\\t\\t\\t\\t1 Lakh+ employees (India)\\n\\t\\t\\t\\t\\t</p></div> <div class=\"chips-block\"><a href=\"/it-services-and-consulting-companies-in-india\" data-filter-name=\"chips_Company-Tags_it-services-and-consulting\" title=\"IT Services &amp; Consulting companies in India\" class=\"ab_chip body-medium\">\\n\\t\\t\\t\\t\\t\\tIT Services &amp; Consulting\\n\\t\\t\\t\\t\\t</a><a href=\"/software-product-companies-in-india\" data-filter-name=\"chips_Company-Tags_software-product\" title=\"Software Product companies in India\" class=\"ab_chip body-medium\">\\n\\t\\t\\t\\t\\t\\tSoftware Product\\n\\t\\t\\t\\t\\t</a><a href=\"/forbesglobal2000-companies-in-india\" data-filter-name=\"chips_Company-Tags_forbesglobal2000\" title=\"Forbes Global 2000 companies in India\" class=\"ab_chip body-medium\">\\n\\t\\t\\t\\t\\t\\tForbes Global 2000\\n\\t\\t\\t\\t\\t</a><a href=\"/public-companies-in-india\" data-filter-name=\"chips_Company-Tags_public\" title=\"Public companies in India\" class=\"ab_chip body-medium\">\\n\\t\\t\\t\\t\\t\\tPublic\\n\\t\\t\\t\\t\\t</a></div></div></div> <!----> <p itemprop=\"description\" class=\"description body-small\">\\n\\t\\t\\t\\tAccenture is a global professional services company with leading capabilities in digital, cloud, and security. Combining unmatched experience and specialized skills across more than 40 industries, we offer Strategy and Consulting, Interactive, Technology, and Operations services — all powered by the world’s largest network of Advanced Technology and Intelligent Operations centers. Our 674,000 people deliver on the promise of technology and human ingenuity every day, serving clients in more than 120 countries. We embrace the power of change to create value and shared success for our clients, people, shareholders, partners, and communities. Visit us at accenture.com.\\n\\t\\t\\t</p></div> <div class=\"company-action-center\"><a href=\"/overview/accenture-overview\" title=\"Accenture Overview\" class=\"body-medium\">\\n\\t\\t\\tAbout\\n\\t\\t\\t<!----></a><a href=\"/reviews/accenture-reviews\" title=\"Accenture Reviews\" class=\"body-medium\">\\n\\t\\t\\tReviews\\n\\t\\t\\t<span class=\"caption-subdued-large\">\\n\\t\\t\\t\\t21.7k\\n\\t\\t\\t</span></a><a title=\"Accenture Salaries\" href=\"https://www.ambitionbox.com/salaries/accenture-salaries\" class=\"body-medium\">\\n\\t\\t\\tSalaries\\n\\t\\t\\t<span class=\"caption-subdued-large\">\\n\\t\\t\\t\\t228.5k\\n\\t\\t\\t</span></a><a title=\"Accenture Interviews\" href=\"https://www.ambitionbox.com/interviews/accenture-interview-questions\" class=\"body-medium\">\\n\\t\\t\\tInterviews\\n\\t\\t\\t<span class=\"caption-subdued-large\">\\n\\t\\t\\t\\t1.6k\\n\\t\\t\\t</span></a><a href=\"/jobs/accenture-jobs\" title=\"Accenture Jobs\" class=\"body-medium\">\\n\\t\\t\\tJobs\\n\\t\\t\\t<span class=\"caption-subdued-large\">\\n\\t\\t\\t\\t8.3k\\n\\t\\t\\t</span></a></div></div><div itemprop=\"itemListElement\" itemscope=\"itemscope\" itemtype=\"http://schema.org/ListItem\" class=\"ab-company-result-card\" data-v-5051744e><meta itemprop=\"position\" content=\"3\"> <meta itemprop=\"name\" content=\"Cognizant\"> <meta itemprop=\"alternateName\" content=\"Cognizant overview\"> <meta itemprop=\"url\" content=\"https://www.ambitionbox.com/overview/cognizant-overview\"> <meta itemprop=\"image\" content=\"https://static.ambitionbox.com/alpha/company/photos/logos/cognizant-technology-solutions.jpg\"> <div class=\"company-content-wrapper\"><div class=\"company-content\"><div class=\"company-logo\"><img data-src=\"https://static.ambitionbox.com/alpha/company/photos/logos/cognizant-technology-solutions.jpg\" src=\"https://static.ambitionbox.com/static/icons/company-placeholder.svg\" alt=\"Cognizant logo\" onerror=\"this.onerror=null;this.src=\\'/static/icons/company-placeholder.svg\\';\" class=\"lazy\"></div> <div class=\"company-info-wrapper\"><div class=\"company-info\"><div class=\"left\"><a href=\"/overview/cognizant-overview\"><h2 title=\"Cognizant\" class=\"company-name bold-title-l\">\\n\\t\\t\\t\\t\\t\\t\\t\\tCognizant\\n\\t\\t\\t\\t\\t\\t\\t</h2></a> <div class=\"rating-wrapper\"><p class=\"rating badge-large rating-35\"><i class=\"icon icon-star\"></i>\\n\\t\\t\\t\\t\\t\\t\\t\\t3.9\\n\\t\\t\\t\\t\\t\\t\\t</p> <a href=\"https://www.ambitionbox.com/reviews/cognizant-reviews\" class=\"review-count sbold-Labels\">\\n\\t\\t\\t\\t\\t\\t\\t\\t(19.9k Reviews)\\n\\t\\t\\t\\t\\t\\t\\t</a></div></div> <button class=\"ab_btn follow-btn invert round\"><span class=\"ctas-btn-medium\">Follow</span></button></div> <!----> <div class=\"company-basic-info\"><p class=\"infoEntity sbold-list-header\"><i class=\"icon-domain\"></i>\\n\\t\\t\\t\\t\\t\\tPrivate\\n\\t\\t\\t\\t\\t</p> <p class=\"infoEntity sbold-list-header\"><i class=\"icon-pin-drop\"></i>\\n\\t\\t\\t\\t\\t\\tTeaneck,New Jersey \\n\\t\\t\\t\\t\\t</p> <p class=\"infoEntity sbold-list-header\"><i class=\"icon-access-time\"></i>\\n\\t\\t\\t\\t\\t\\t28 years old\\n\\t\\t\\t\\t\\t</p> <p class=\"infoEntity sbold-list-header\"><i class=\"icon-supervisor-account\"></i>\\n\\t\\t\\t\\t\\t\\t1 Lakh+ employees (India)\\n\\t\\t\\t\\t\\t</p></div> <div class=\"chips-block\"><a href=\"/it-services-and-consulting-companies-in-india\" data-filter-name=\"chips_Company-Tags_it-services-and-consulting\" title=\"IT Services &amp; Consulting companies in India\" class=\"ab_chip body-medium\">\\n\\t\\t\\t\\t\\t\\tIT Services &amp; Consulting\\n\\t\\t\\t\\t\\t</a><a href=\"/forbesglobal2000-companies-in-india\" data-filter-name=\"chips_Company-Tags_forbesglobal2000\" title=\"Forbes Global 2000 companies in India\" class=\"ab_chip body-medium\">\\n\\t\\t\\t\\t\\t\\tForbes Global 2000\\n\\t\\t\\t\\t\\t</a></div></div></div> <!----> <p itemprop=\"description\" class=\"description body-small\">\\n\\t\\t\\t\\tAt Cognizant, we give organizations the insights to anticipate what customers want and act instantly to deliver on those demands. So they can achieve the goal of every modern business: staying one step ahead of a fast-changing world.\\n\\t\\t\\t</p></div> <div class=\"company-action-center\"><a href=\"/overview/cognizant-overview\" title=\"Cognizant Overview\" class=\"body-medium\">\\n\\t\\t\\tAbout\\n\\t\\t\\t<!----></a><a href=\"/reviews/cognizant-reviews\" title=\"Cognizant Reviews\" class=\"body-medium\">\\n\\t\\t\\tReviews\\n\\t\\t\\t<span class=\"caption-subdued-large\">\\n\\t\\t\\t\\t19.9k\\n\\t\\t\\t</span></a><a title=\"Cognizant Salaries\" href=\"https://www.ambitionbox.com/salaries/cognizant-salaries\" class=\"body-medium\">\\n\\t\\t\\tSalaries\\n\\t\\t\\t<span class=\"caption-subdued-large\">\\n\\t\\t\\t\\t232.2k\\n\\t\\t\\t</span></a><a title=\"Cognizant Interviews\" href=\"https://www.ambitionbox.com/interviews/cognizant-interview-questions\" class=\"body-medium\">\\n\\t\\t\\tInterviews\\n\\t\\t\\t<span class=\"caption-subdued-large\">\\n\\t\\t\\t\\t1.3k\\n\\t\\t\\t</span></a><a href=\"/jobs/cognizant-jobs\" title=\"Cognizant Jobs\" class=\"body-medium\">\\n\\t\\t\\tJobs\\n\\t\\t\\t<span class=\"caption-subdued-large\">\\n\\t\\t\\t\\t136\\n\\t\\t\\t</span></a></div></div><div itemprop=\"itemListElement\" itemscope=\"itemscope\" itemtype=\"http://schema.org/ListItem\" class=\"ab-company-result-card\" data-v-5051744e><meta itemprop=\"position\" content=\"4\"> <meta itemprop=\"name\" content=\"ICICI Bank\"> <meta itemprop=\"alternateName\" content=\"ICICI Bank overview\"> <meta itemprop=\"url\" content=\"https://www.ambitionbox.com/overview/icici-bank-overview\"> <meta itemprop=\"image\" content=\"https://static.ambitionbox.com/alpha/company/photos/logos/icici_bank.jpg\"> <div class=\"company-content-wrapper\"><div class=\"company-content\"><div class=\"company-logo\"><img data-src=\"https://static.ambitionbox.com/alpha/company/photos/logos/icici_bank.jpg\" src=\"https://static.ambitionbox.com/static/icons/company-placeholder.svg\" alt=\"ICICI Bank logo\" onerror=\"this.onerror=null;this.src=\\'/static/icons/company-placeholder.svg\\';\" class=\"lazy\"></div> <div class=\"company-info-wrapper\"><div class=\"company-info\"><div class=\"left\"><a href=\"/overview/icici-bank-overview\"><h2 title=\"ICICI Bank\" class=\"company-name bold-title-l\">\\n\\t\\t\\t\\t\\t\\t\\t\\tICICI Bank\\n\\t\\t\\t\\t\\t\\t\\t</h2></a> <div class=\"rating-wrapper\"><p class=\"rating badge-large rating-4\"><i class=\"icon icon-star\"></i>\\n\\t\\t\\t\\t\\t\\t\\t\\t4.0\\n\\t\\t\\t\\t\\t\\t\\t</p> <a href=\"https://www.ambitionbox.com/reviews/icici-bank-reviews\" class=\"review-count sbold-Labels\">\\n\\t\\t\\t\\t\\t\\t\\t\\t(26.2k Reviews)\\n\\t\\t\\t\\t\\t\\t\\t</a></div></div> <button class=\"ab_btn follow-btn invert round\"><span class=\"ctas-btn-medium\">Follow</span></button></div> <div class=\"leaf-list-wrapper noscrollbars-sm mg-btm-16 mg-top-4\" data-v-230c1e7d><div class=\"award-leaf\" data-v-0c9b8739 data-v-230c1e7d><img width=\"15\" height=\"26\" src=\"https://static.ambitionbox.com/static/awards/black-theme/golden-leaf-left.png\" data-v-0c9b8739> <img width=\"15\" height=\"17\" src=\"https://static.ambitionbox.com/static/awards/black-theme/gold-ambox-logo.svg\" class=\"ambox-logo\" data-v-0c9b8739> <p data-v-0c9b8739>#10 Best Mega Company - 2021</p> <img width=\"15\" height=\"26\" src=\"https://static.ambitionbox.com/static/awards/black-theme/golden-leaf-right.png\" data-v-0c9b8739></div><!----> <!----></div> <div class=\"company-basic-info\"><p class=\"infoEntity sbold-list-header\"><i class=\"icon-domain\"></i>\\n\\t\\t\\t\\t\\t\\tPublic\\n\\t\\t\\t\\t\\t</p> <p class=\"infoEntity sbold-list-header\"><i class=\"icon-pin-drop\"></i>\\n\\t\\t\\t\\t\\t\\tMumbai,Maharashtra \\n\\t\\t\\t\\t\\t</p> <p class=\"infoEntity sbold-list-header\"><i class=\"icon-access-time\"></i>\\n\\t\\t\\t\\t\\t\\t28 years old\\n\\t\\t\\t\\t\\t</p> <p class=\"infoEntity sbold-list-header\"><i class=\"icon-supervisor-account\"></i>\\n\\t\\t\\t\\t\\t\\t50k-1 Lakh employees (India)\\n\\t\\t\\t\\t\\t</p></div> <div class=\"chips-block\"><a href=\"/chemicals-or-agri-inputs-companies-in-india\" data-filter-name=\"chips_Company-Tags_chemicals-or-agri-inputs\" title=\"Chemicals / Agri Inputs companies in India\" class=\"ab_chip body-medium\">\\n\\t\\t\\t\\t\\t\\tChemicals / Agri Inputs\\n\\t\\t\\t\\t\\t</a><a href=\"/financial-services-companies-in-india\" data-filter-name=\"chips_Company-Tags_financial-services\" title=\"Financial Services companies in India\" class=\"ab_chip body-medium\">\\n\\t\\t\\t\\t\\t\\tFinancial Services\\n\\t\\t\\t\\t\\t</a><a href=\"/manufacturing-companies-in-india\" data-filter-name=\"chips_Company-Tags_manufacturing\" title=\"Manufacturing companies in India\" class=\"ab_chip body-medium\">\\n\\t\\t\\t\\t\\t\\tManufacturing\\n\\t\\t\\t\\t\\t</a><a href=\"/banking-companies-in-india\" data-filter-name=\"chips_Company-Tags_banking\" title=\"Banking companies in India\" class=\"ab_chip body-medium\">\\n\\t\\t\\t\\t\\t\\tBanking\\n\\t\\t\\t\\t\\t</a><a href=\"/fortune500-companies-in-india\" data-filter-name=\"chips_Company-Tags_fortune500\" title=\"Fortune500 companies in India\" class=\"ab_chip body-medium\">\\n\\t\\t\\t\\t\\t\\tFortune500\\n\\t\\t\\t\\t\\t</a><a href=\"/forbesglobal2000-companies-in-india\" data-filter-name=\"chips_Company-Tags_forbesglobal2000\" title=\"Forbes Global 2000 companies in India\" class=\"ab_chip body-medium\">\\n\\t\\t\\t\\t\\t\\tForbes Global 2000\\n\\t\\t\\t\\t\\t</a><a href=\"/public-companies-in-india\" data-filter-name=\"chips_Company-Tags_public\" title=\"Public companies in India\" class=\"ab_chip body-medium\">\\n\\t\\t\\t\\t\\t\\tPublic\\n\\t\\t\\t\\t\\t</a><a href=\"/companies-in-mumbai\" data-filter-name=\"chips_Company-Tags_mumbai\" title=\"Companies in Mumbai,Maharashtra\" class=\"ab_chip body-medium\">\\n\\t\\t\\t\\t\\t\\tMumbai,Maharashtra\\n\\t\\t\\t\\t\\t</a></div></div></div> <!----> <p itemprop=\"description\" class=\"description body-small\">\\n\\t\\t\\t\\tICICI Bank is a leading private sector bank in India. The Bank’s consolidated total assets stood at Rs. 14.76 trillion at September 30, 2020.  ICICI Bank currently has a network of 5,288 branches and 13,875 ATMs across India.\\n\\t\\t\\t</p></div> <div class=\"company-action-center\"><a href=\"/overview/icici-bank-overview\" title=\"ICICI Bank Overview\" class=\"body-medium\">\\n\\t\\t\\tAbout\\n\\t\\t\\t<!----></a><a href=\"/reviews/icici-bank-reviews\" title=\"ICICI Bank Reviews\" class=\"body-medium\">\\n\\t\\t\\tReviews\\n\\t\\t\\t<span class=\"caption-subdued-large\">\\n\\t\\t\\t\\t26.2k\\n\\t\\t\\t</span></a><a title=\"ICICI Bank Salaries\" href=\"https://www.ambitionbox.com/salaries/icici-bank-salaries\" class=\"body-medium\">\\n\\t\\t\\tSalaries\\n\\t\\t\\t<span class=\"caption-subdued-large\">\\n\\t\\t\\t\\t87.1k\\n\\t\\t\\t</span></a><a title=\"ICICI Bank Interviews\" href=\"https://www.ambitionbox.com/interviews/icici-bank-interview-questions\" class=\"body-medium\">\\n\\t\\t\\tInterviews\\n\\t\\t\\t<span class=\"caption-subdued-large\">\\n\\t\\t\\t\\t679\\n\\t\\t\\t</span></a><a href=\"/jobs/icici-bank-jobs\" title=\"ICICI Bank Jobs\" class=\"body-medium\">\\n\\t\\t\\tJobs\\n\\t\\t\\t<span class=\"caption-subdued-large\">\\n\\t\\t\\t\\t114\\n\\t\\t\\t</span></a></div></div><div itemprop=\"itemListElement\" itemscope=\"itemscope\" itemtype=\"http://schema.org/ListItem\" class=\"ab-company-result-card\" data-v-5051744e><meta itemprop=\"position\" content=\"5\"> <meta itemprop=\"name\" content=\"HDFC Bank\"> <meta itemprop=\"alternateName\" content=\"HDFC Bank overview\"> <meta itemprop=\"url\" content=\"https://www.ambitionbox.com/overview/hdfc-bank-overview\"> <meta itemprop=\"image\" content=\"https://static.ambitionbox.com/alpha/company/photos/logos/hdfc.jpg\"> <div class=\"company-content-wrapper\"><div class=\"company-content\"><div class=\"company-logo\"><img data-src=\"https://static.ambitionbox.com/alpha/company/photos/logos/hdfc.jpg\" src=\"https://static.ambitionbox.com/static/icons/company-placeholder.svg\" alt=\"HDFC Bank logo\" onerror=\"this.onerror=null;this.src=\\'/static/icons/company-placeholder.svg\\';\" class=\"lazy\"></div> <div class=\"company-info-wrapper\"><div class=\"company-info\"><div class=\"left\"><a href=\"/overview/hdfc-bank-overview\"><h2 title=\"HDFC Bank\" class=\"company-name bold-title-l\">\\n\\t\\t\\t\\t\\t\\t\\t\\tHDFC Bank\\n\\t\\t\\t\\t\\t\\t\\t</h2></a> <div class=\"rating-wrapper\"><p class=\"rating badge-large rating-4\"><i class=\"icon icon-star\"></i>\\n\\t\\t\\t\\t\\t\\t\\t\\t4.0\\n\\t\\t\\t\\t\\t\\t\\t</p> <a href=\"https://www.ambitionbox.com/reviews/hdfc-bank-reviews\" class=\"review-count sbold-Labels\">\\n\\t\\t\\t\\t\\t\\t\\t\\t(27.5k Reviews)\\n\\t\\t\\t\\t\\t\\t\\t</a></div></div> <button class=\"ab_btn follow-btn invert round\"><span class=\"ctas-btn-medium\">Follow</span></button></div> <div class=\"leaf-list-wrapper noscrollbars-sm mg-btm-16 mg-top-4\" data-v-230c1e7d><div class=\"award-leaf\" data-v-0c9b8739 data-v-230c1e7d><img width=\"15\" height=\"26\" src=\"https://static.ambitionbox.com/static/awards/black-theme/golden-leaf-left.png\" data-v-0c9b8739> <img width=\"15\" height=\"17\" src=\"https://static.ambitionbox.com/static/awards/black-theme/gold-ambox-logo.svg\" class=\"ambox-logo\" data-v-0c9b8739> <p data-v-0c9b8739>#9 Best Mega Company - 2021</p> <img width=\"15\" height=\"26\" src=\"https://static.ambitionbox.com/static/awards/black-theme/golden-leaf-right.png\" data-v-0c9b8739></div><!----> <!----></div> <div class=\"company-basic-info\"><p class=\"infoEntity sbold-list-header\"><i class=\"icon-domain\"></i>\\n\\t\\t\\t\\t\\t\\tPublic\\n\\t\\t\\t\\t\\t</p> <p class=\"infoEntity sbold-list-header\"><i class=\"icon-pin-drop\"></i>\\n\\t\\t\\t\\t\\t\\tMumbai,Maharashtra \\n\\t\\t\\t\\t\\t</p> <p class=\"infoEntity sbold-list-header\"><i class=\"icon-access-time\"></i>\\n\\t\\t\\t\\t\\t\\t28 years old\\n\\t\\t\\t\\t\\t</p> <p class=\"infoEntity sbold-list-header\"><i class=\"icon-supervisor-account\"></i>\\n\\t\\t\\t\\t\\t\\t1 Lakh+ employees (India)\\n\\t\\t\\t\\t\\t</p></div> <div class=\"chips-block\"><a href=\"/financial-services-companies-in-india\" data-filter-name=\"chips_Company-Tags_financial-services\" title=\"Financial Services companies in India\" class=\"ab_chip body-medium\">\\n\\t\\t\\t\\t\\t\\tFinancial Services\\n\\t\\t\\t\\t\\t</a><a href=\"/banking-companies-in-india\" data-filter-name=\"chips_Company-Tags_banking\" title=\"Banking companies in India\" class=\"ab_chip body-medium\">\\n\\t\\t\\t\\t\\t\\tBanking\\n\\t\\t\\t\\t\\t</a><a href=\"/insurance-companies-in-india\" data-filter-name=\"chips_Company-Tags_insurance\" title=\"Insurance companies in India\" class=\"ab_chip body-medium\">\\n\\t\\t\\t\\t\\t\\tInsurance\\n\\t\\t\\t\\t\\t</a><a href=\"/fortune500-companies-in-india\" data-filter-name=\"chips_Company-Tags_fortune500\" title=\"Fortune500 companies in India\" class=\"ab_chip body-medium\">\\n\\t\\t\\t\\t\\t\\tFortune500\\n\\t\\t\\t\\t\\t</a><a href=\"/forbesglobal2000-companies-in-india\" data-filter-name=\"chips_Company-Tags_forbesglobal2000\" title=\"Forbes Global 2000 companies in India\" class=\"ab_chip body-medium\">\\n\\t\\t\\t\\t\\t\\tForbes Global 2000\\n\\t\\t\\t\\t\\t</a><a href=\"/public-companies-in-india\" data-filter-name=\"chips_Company-Tags_public\" title=\"Public companies in India\" class=\"ab_chip body-medium\">\\n\\t\\t\\t\\t\\t\\tPublic\\n\\t\\t\\t\\t\\t</a><a href=\"/companies-in-mumbai\" data-filter-name=\"chips_Company-Tags_mumbai\" title=\"Companies in Mumbai,Maharashtra\" class=\"ab_chip body-medium\">\\n\\t\\t\\t\\t\\t\\tMumbai,Maharashtra\\n\\t\\t\\t\\t\\t</a></div></div></div> <!----> <p itemprop=\"description\" class=\"description body-small\">\\n\\t\\t\\t\\tThe Housing Development Finance Corporation Limited or HDFC was among the first financial institutions in India to receive an “in principle” approval from the Reserve Bank of India (RBI) to set up a bank in the private sector. This was done as part of RBI’s policy for the liberalization of the Indian banking industry in 1994.\\n\\nHDFC Bank was incorporated in August 1994 in the name of HDFC Bank Limited, with its registered office in Mumbai, India. The bank commenced operations as a Scheduled Commercial Bank in January 1995. As of March 31, 2021, the Bank had a nationwide distribution network of 5,608 branches and 16,087 ATMs in 2,902 cities/towns.\\n\\n\\t\\t\\t</p></div> <div class=\"company-action-center\"><a href=\"/overview/hdfc-bank-overview\" title=\"HDFC Bank Overview\" class=\"body-medium\">\\n\\t\\t\\tAbout\\n\\t\\t\\t<!----></a><a href=\"/reviews/hdfc-bank-reviews\" title=\"HDFC Bank Reviews\" class=\"body-medium\">\\n\\t\\t\\tReviews\\n\\t\\t\\t<span class=\"caption-subdued-large\">\\n\\t\\t\\t\\t27.5k\\n\\t\\t\\t</span></a><a title=\"HDFC Bank Salaries\" href=\"https://www.ambitionbox.com/salaries/hdfc-bank-salaries\" class=\"body-medium\">\\n\\t\\t\\tSalaries\\n\\t\\t\\t<span class=\"caption-subdued-large\">\\n\\t\\t\\t\\t81.7k\\n\\t\\t\\t</span></a><a title=\"HDFC Bank Interviews\" href=\"https://www.ambitionbox.com/interviews/hdfc-bank-interview-questions\" class=\"body-medium\">\\n\\t\\t\\tInterviews\\n\\t\\t\\t<span class=\"caption-subdued-large\">\\n\\t\\t\\t\\t505\\n\\t\\t\\t</span></a><a href=\"/jobs/hdfc-bank-jobs\" title=\"HDFC Bank Jobs\" class=\"body-medium\">\\n\\t\\t\\tJobs\\n\\t\\t\\t<span class=\"caption-subdued-large\">\\n\\t\\t\\t\\t83\\n\\t\\t\\t</span></a></div></div><div itemprop=\"itemListElement\" itemscope=\"itemscope\" itemtype=\"http://schema.org/ListItem\" class=\"ab-company-result-card\" data-v-5051744e><meta itemprop=\"position\" content=\"6\"> <meta itemprop=\"name\" content=\"Wipro\"> <meta itemprop=\"alternateName\" content=\"Wipro overview\"> <meta itemprop=\"url\" content=\"https://www.ambitionbox.com/overview/wipro-overview\"> <meta itemprop=\"image\" content=\"https://static.ambitionbox.com/alpha/company/photos/logos/wipro.jpg\"> <div class=\"company-content-wrapper\"><div class=\"company-content\"><div class=\"company-logo\"><img data-src=\"https://static.ambitionbox.com/alpha/company/photos/logos/wipro.jpg\" src=\"https://static.ambitionbox.com/static/icons/company-placeholder.svg\" alt=\"Wipro logo\" onerror=\"this.onerror=null;this.src=\\'/static/icons/company-placeholder.svg\\';\" class=\"lazy\"></div> <div class=\"company-info-wrapper\"><div class=\"company-info\"><div class=\"left\"><a href=\"/overview/wipro-overview\"><h2 title=\"Wipro\" class=\"company-name bold-title-l\">\\n\\t\\t\\t\\t\\t\\t\\t\\tWipro\\n\\t\\t\\t\\t\\t\\t\\t</h2></a> <div class=\"rating-wrapper\"><p class=\"rating badge-large rating-35\"><i class=\"icon icon-star\"></i>\\n\\t\\t\\t\\t\\t\\t\\t\\t3.8\\n\\t\\t\\t\\t\\t\\t\\t</p> <a href=\"https://www.ambitionbox.com/reviews/wipro-reviews\" class=\"review-count sbold-Labels\">\\n\\t\\t\\t\\t\\t\\t\\t\\t(18.4k Reviews)\\n\\t\\t\\t\\t\\t\\t\\t</a></div></div> <button class=\"ab_btn follow-btn invert round\"><span class=\"ctas-btn-medium\">Follow</span></button></div> <div class=\"leaf-list-wrapper noscrollbars-sm mg-btm-16 mg-top-4 m-justify-center \" data-v-230c1e7d><div class=\"award-leaf\" data-v-0c9b8739 data-v-230c1e7d><img width=\"15\" height=\"26\" src=\"https://static.ambitionbox.com/static/awards/black-theme/golden-leaf-left.png\" data-v-0c9b8739> <img width=\"15\" height=\"17\" src=\"https://static.ambitionbox.com/static/awards/black-theme/gold-ambox-logo.svg\" class=\"ambox-logo\" data-v-0c9b8739> <p data-v-0c9b8739>#14 Best Mega Company - 2021</p> <img width=\"15\" height=\"26\" src=\"https://static.ambitionbox.com/static/awards/black-theme/golden-leaf-right.png\" data-v-0c9b8739></div> <!----></div> <div class=\"company-basic-info\"><p class=\"infoEntity sbold-list-header\"><i class=\"icon-domain\"></i>\\n\\t\\t\\t\\t\\t\\tPublic\\n\\t\\t\\t\\t\\t</p> <p class=\"infoEntity sbold-list-header\"><i class=\"icon-pin-drop\"></i>\\n\\t\\t\\t\\t\\t\\tBangalore/Bengaluru,Karnataka \\n\\t\\t\\t\\t\\t</p> <p class=\"infoEntity sbold-list-header\"><i class=\"icon-access-time\"></i>\\n\\t\\t\\t\\t\\t\\t77 years old\\n\\t\\t\\t\\t\\t</p> <p class=\"infoEntity sbold-list-header\"><i class=\"icon-supervisor-account\"></i>\\n\\t\\t\\t\\t\\t\\t1 Lakh+ employees (India)\\n\\t\\t\\t\\t\\t</p></div> <div class=\"chips-block\"><a href=\"/it-services-and-consulting-companies-in-india\" data-filter-name=\"chips_Company-Tags_it-services-and-consulting\" title=\"IT Services &amp; Consulting companies in India\" class=\"ab_chip body-medium\">\\n\\t\\t\\t\\t\\t\\tIT Services &amp; Consulting\\n\\t\\t\\t\\t\\t</a><a href=\"/conglomerate-companies-in-india\" data-filter-name=\"chips_Company-Tags_conglomerate\" title=\"Conglomerate companies in India\" class=\"ab_chip body-medium\">\\n\\t\\t\\t\\t\\t\\tConglomerate\\n\\t\\t\\t\\t\\t</a><a href=\"/fortune500-companies-in-india\" data-filter-name=\"chips_Company-Tags_fortune500\" title=\"Fortune500 companies in India\" class=\"ab_chip body-medium\">\\n\\t\\t\\t\\t\\t\\tFortune500\\n\\t\\t\\t\\t\\t</a><a href=\"/forbesglobal2000-companies-in-india\" data-filter-name=\"chips_Company-Tags_forbesglobal2000\" title=\"Forbes Global 2000 companies in India\" class=\"ab_chip body-medium\">\\n\\t\\t\\t\\t\\t\\tForbes Global 2000\\n\\t\\t\\t\\t\\t</a><a href=\"/public-companies-in-india\" data-filter-name=\"chips_Company-Tags_public\" title=\"Public companies in India\" class=\"ab_chip body-medium\">\\n\\t\\t\\t\\t\\t\\tPublic\\n\\t\\t\\t\\t\\t</a><a href=\"/companies-in-bengaluru\" data-filter-name=\"chips_Company-Tags_bengaluru\" title=\"Companies in Bangalore/Bengaluru,Karnataka\" class=\"ab_chip body-medium\">\\n\\t\\t\\t\\t\\t\\tBangalore/Bengaluru,Karnataka\\n\\t\\t\\t\\t\\t</a></div></div></div> <!----> <p itemprop=\"description\" class=\"description body-small\">\\n\\t\\t\\t\\tWipro Limited (NYSE: WIT, BSE: 507685, NSE: WIPRO) is a leading global information technology, consulting and business process services company. We harness the power of cognitive computing, hyper-automation, robotics, cloud, analytics and emerging technologies to help our clients adapt to the digital world and make them successful. A company recognized globally for its comprehensive portfolio of services, a strong commitment to sustainability and good corporate citizenship, we have over 160,000 dedicated employees serving clients across six continents. Together, we discover ideas and connect the dots to build a better and a bold new future.\\n\\t\\t\\t</p></div> <div class=\"company-action-center\"><a href=\"/overview/wipro-overview\" title=\"Wipro Overview\" class=\"body-medium\">\\n\\t\\t\\tAbout\\n\\t\\t\\t<!----></a><a href=\"/reviews/wipro-reviews\" title=\"Wipro Reviews\" class=\"body-medium\">\\n\\t\\t\\tReviews\\n\\t\\t\\t<span class=\"caption-subdued-large\">\\n\\t\\t\\t\\t18.4k\\n\\t\\t\\t</span></a><a title=\"Wipro Salaries\" href=\"https://www.ambitionbox.com/salaries/wipro-salaries\" class=\"body-medium\">\\n\\t\\t\\tSalaries\\n\\t\\t\\t<span class=\"caption-subdued-large\">\\n\\t\\t\\t\\t168.7k\\n\\t\\t\\t</span></a><a title=\"Wipro Interviews\" href=\"https://www.ambitionbox.com/interviews/wipro-interview-questions\" class=\"body-medium\">\\n\\t\\t\\tInterviews\\n\\t\\t\\t<span class=\"caption-subdued-large\">\\n\\t\\t\\t\\t1.2k\\n\\t\\t\\t</span></a><a href=\"/jobs/wipro-jobs\" title=\"Wipro Jobs\" class=\"body-medium\">\\n\\t\\t\\tJobs\\n\\t\\t\\t<span class=\"caption-subdued-large\">\\n\\t\\t\\t\\t499\\n\\t\\t\\t</span></a></div></div><div itemprop=\"itemListElement\" itemscope=\"itemscope\" itemtype=\"http://schema.org/ListItem\" class=\"ab-company-result-card\" data-v-5051744e><meta itemprop=\"position\" content=\"7\"> <meta itemprop=\"name\" content=\"Capgemini\"> <meta itemprop=\"alternateName\" content=\"Capgemini overview\"> <meta itemprop=\"url\" content=\"https://www.ambitionbox.com/overview/capgemini-overview\"> <meta itemprop=\"image\" content=\"https://static.ambitionbox.com/alpha/company/photos/logos/capgemini.jpg\"> <div class=\"company-content-wrapper\"><div class=\"company-content\"><div class=\"company-logo\"><img data-src=\"https://static.ambitionbox.com/alpha/company/photos/logos/capgemini.jpg\" src=\"https://static.ambitionbox.com/static/icons/company-placeholder.svg\" alt=\"Capgemini logo\" onerror=\"this.onerror=null;this.src=\\'/static/icons/company-placeholder.svg\\';\" class=\"lazy\"></div> <div class=\"company-info-wrapper\"><div class=\"company-info\"><div class=\"left\"><a href=\"/overview/capgemini-overview\"><h2 title=\"Capgemini\" class=\"company-name bold-title-l\">\\n\\t\\t\\t\\t\\t\\t\\t\\tCapgemini\\n\\t\\t\\t\\t\\t\\t\\t</h2></a> <div class=\"rating-wrapper\"><p class=\"rating badge-large rating-35\"><i class=\"icon icon-star\"></i>\\n\\t\\t\\t\\t\\t\\t\\t\\t3.8\\n\\t\\t\\t\\t\\t\\t\\t</p> <a href=\"https://www.ambitionbox.com/reviews/capgemini-reviews\" class=\"review-count sbold-Labels\">\\n\\t\\t\\t\\t\\t\\t\\t\\t(15.2k Reviews)\\n\\t\\t\\t\\t\\t\\t\\t</a></div></div> <button class=\"ab_btn follow-btn invert round\"><span class=\"ctas-btn-medium\">Follow</span></button></div> <!----> <div class=\"company-basic-info\"><p class=\"infoEntity sbold-list-header\"><i class=\"icon-domain\"></i>\\n\\t\\t\\t\\t\\t\\tPublic\\n\\t\\t\\t\\t\\t</p> <p class=\"infoEntity sbold-list-header\"><i class=\"icon-pin-drop\"></i>\\n\\t\\t\\t\\t\\t\\tParis \\n\\t\\t\\t\\t\\t</p> <p class=\"infoEntity sbold-list-header\"><i class=\"icon-access-time\"></i>\\n\\t\\t\\t\\t\\t\\t55 years old\\n\\t\\t\\t\\t\\t</p> <p class=\"infoEntity sbold-list-header\"><i class=\"icon-supervisor-account\"></i>\\n\\t\\t\\t\\t\\t\\t1 Lakh+ employees (India)\\n\\t\\t\\t\\t\\t</p></div> <div class=\"chips-block\"><a href=\"/internet-companies-in-india\" data-filter-name=\"chips_Company-Tags_internet\" title=\"Internet companies in India\" class=\"ab_chip body-medium\">\\n\\t\\t\\t\\t\\t\\tInternet\\n\\t\\t\\t\\t\\t</a><a href=\"/analytics-or-bpm-or-research-companies-in-india\" data-filter-name=\"chips_Company-Tags_analytics-or-bpm-or-research\" title=\"Analytics / KPO / Research companies in India\" class=\"ab_chip body-medium\">\\n\\t\\t\\t\\t\\t\\tAnalytics / KPO / Research\\n\\t\\t\\t\\t\\t</a><a href=\"/it-services-and-consulting-companies-in-india\" data-filter-name=\"chips_Company-Tags_it-services-and-consulting\" title=\"IT Services &amp; Consulting companies in India\" class=\"ab_chip body-medium\">\\n\\t\\t\\t\\t\\t\\tIT Services &amp; Consulting\\n\\t\\t\\t\\t\\t</a><a href=\"/software-product-companies-in-india\" data-filter-name=\"chips_Company-Tags_software-product\" title=\"Software Product companies in India\" class=\"ab_chip body-medium\">\\n\\t\\t\\t\\t\\t\\tSoftware Product\\n\\t\\t\\t\\t\\t</a><a href=\"/forbesglobal2000-companies-in-india\" data-filter-name=\"chips_Company-Tags_forbesglobal2000\" title=\"Forbes Global 2000 companies in India\" class=\"ab_chip body-medium\">\\n\\t\\t\\t\\t\\t\\tForbes Global 2000\\n\\t\\t\\t\\t\\t</a><a href=\"/public-companies-in-india\" data-filter-name=\"chips_Company-Tags_public\" title=\"Public companies in India\" class=\"ab_chip body-medium\">\\n\\t\\t\\t\\t\\t\\tPublic\\n\\t\\t\\t\\t\\t</a></div></div></div> <!----> <p itemprop=\"description\" class=\"description body-small\">\\n\\t\\t\\t\\tCapgemini is a global leader in consulting, digital transformation, technology and engineering services. The Group is at the forefront of innovation to address the entire breadth of clients’ opportunities in the evolving world of cloud, digital and platforms. Building on its strong 50-year+ heritage and deep industry-specific expertise, Capgemini enables organizations to realize their business ambitions through an array of services from strategy to operations. Capgemini is driven by the conviction that the business value of technology comes from and through people. Today, it is a multicultural company of 270,000 team members in almost 50 countries. With Altran, the Group reported 2019 combined revenues of €17billion.\\n\\t\\t\\t</p></div> <div class=\"company-action-center\"><a href=\"/overview/capgemini-overview\" title=\"Capgemini Overview\" class=\"body-medium\">\\n\\t\\t\\tAbout\\n\\t\\t\\t<!----></a><a href=\"/reviews/capgemini-reviews\" title=\"Capgemini Reviews\" class=\"body-medium\">\\n\\t\\t\\tReviews\\n\\t\\t\\t<span class=\"caption-subdued-large\">\\n\\t\\t\\t\\t15.2k\\n\\t\\t\\t</span></a><a title=\"Capgemini Salaries\" href=\"https://www.ambitionbox.com/salaries/capgemini-salaries\" class=\"body-medium\">\\n\\t\\t\\tSalaries\\n\\t\\t\\t<span class=\"caption-subdued-large\">\\n\\t\\t\\t\\t151.7k\\n\\t\\t\\t</span></a><a title=\"Capgemini Interviews\" href=\"https://www.ambitionbox.com/interviews/capgemini-interview-questions\" class=\"body-medium\">\\n\\t\\t\\tInterviews\\n\\t\\t\\t<span class=\"caption-subdued-large\">\\n\\t\\t\\t\\t1k\\n\\t\\t\\t</span></a><a href=\"/jobs/capgemini-jobs\" title=\"Capgemini Jobs\" class=\"body-medium\">\\n\\t\\t\\tJobs\\n\\t\\t\\t<span class=\"caption-subdued-large\">\\n\\t\\t\\t\\t946\\n\\t\\t\\t</span></a></div></div><div itemprop=\"itemListElement\" itemscope=\"itemscope\" itemtype=\"http://schema.org/ListItem\" class=\"ab-company-result-card\" data-v-5051744e><meta itemprop=\"position\" content=\"8\"> <meta itemprop=\"name\" content=\"HCL Technologies\"> <meta itemprop=\"alternateName\" content=\"HCL Technologies overview\"> <meta itemprop=\"url\" content=\"https://www.ambitionbox.com/overview/hcl-technologies-overview\"> <meta itemprop=\"image\" content=\"https://static.ambitionbox.com/alpha/company/photos/logos/hcl-technologies-88.jpg\"> <div class=\"company-content-wrapper\"><div class=\"company-content\"><div class=\"company-logo\"><img data-src=\"https://static.ambitionbox.com/alpha/company/photos/logos/hcl-technologies-88.jpg\" src=\"https://static.ambitionbox.com/static/icons/company-placeholder.svg\" alt=\"HCL Technologies logo\" onerror=\"this.onerror=null;this.src=\\'/static/icons/company-placeholder.svg\\';\" class=\"lazy\"></div> <div class=\"company-info-wrapper\"><div class=\"company-info\"><div class=\"left\"><a href=\"/overview/hcl-technologies-overview\"><h2 title=\"HCL Technologies\" class=\"company-name bold-title-l\">\\n\\t\\t\\t\\t\\t\\t\\t\\tHCL Technologies\\n\\t\\t\\t\\t\\t\\t\\t</h2></a> <div class=\"rating-wrapper\"><p class=\"rating badge-large rating-35\"><i class=\"icon icon-star\"></i>\\n\\t\\t\\t\\t\\t\\t\\t\\t3.8\\n\\t\\t\\t\\t\\t\\t\\t</p> <a href=\"https://www.ambitionbox.com/reviews/hcl-technologies-reviews\" class=\"review-count sbold-Labels\">\\n\\t\\t\\t\\t\\t\\t\\t\\t(15.5k Reviews)\\n\\t\\t\\t\\t\\t\\t\\t</a></div></div> <button class=\"ab_btn follow-btn invert round\"><span class=\"ctas-btn-medium\">Follow</span></button></div> <div class=\"leaf-list-wrapper noscrollbars-sm mg-btm-16 mg-top-4 m-justify-center \" data-v-230c1e7d><div class=\"award-leaf\" data-v-0c9b8739 data-v-230c1e7d><img width=\"15\" height=\"26\" src=\"https://static.ambitionbox.com/static/awards/black-theme/golden-leaf-left.png\" data-v-0c9b8739> <img width=\"15\" height=\"17\" src=\"https://static.ambitionbox.com/static/awards/black-theme/gold-ambox-logo.svg\" class=\"ambox-logo\" data-v-0c9b8739> <p data-v-0c9b8739>#13 Best Mega Company - 2021</p> <img width=\"15\" height=\"26\" src=\"https://static.ambitionbox.com/static/awards/black-theme/golden-leaf-right.png\" data-v-0c9b8739></div> <!----></div> <div class=\"company-basic-info\"><p class=\"infoEntity sbold-list-header\"><i class=\"icon-domain\"></i>\\n\\t\\t\\t\\t\\t\\tPublic\\n\\t\\t\\t\\t\\t</p> <p class=\"infoEntity sbold-list-header\"><i class=\"icon-pin-drop\"></i>\\n\\t\\t\\t\\t\\t\\tNoida,Uttar Pradesh \\n\\t\\t\\t\\t\\t</p> <p class=\"infoEntity sbold-list-header\"><i class=\"icon-access-time\"></i>\\n\\t\\t\\t\\t\\t\\t46 years old\\n\\t\\t\\t\\t\\t</p> <p class=\"infoEntity sbold-list-header\"><i class=\"icon-supervisor-account\"></i>\\n\\t\\t\\t\\t\\t\\t1 Lakh+ employees (India)\\n\\t\\t\\t\\t\\t</p></div> <div class=\"chips-block\"><a href=\"/financial-services-companies-in-india\" data-filter-name=\"chips_Company-Tags_financial-services\" title=\"Financial Services companies in India\" class=\"ab_chip body-medium\">\\n\\t\\t\\t\\t\\t\\tFinancial Services\\n\\t\\t\\t\\t\\t</a><a href=\"/consumer-electronics-and-appliances-companies-in-india\" data-filter-name=\"chips_Company-Tags_consumer-electronics-and-appliances\" title=\"Consumer Electronics &amp; Appliances companies in India\" class=\"ab_chip body-medium\">\\n\\t\\t\\t\\t\\t\\tConsumer Electronics &amp; Appliances\\n\\t\\t\\t\\t\\t</a><a href=\"/it-services-and-consulting-companies-in-india\" data-filter-name=\"chips_Company-Tags_it-services-and-consulting\" title=\"IT Services &amp; Consulting companies in India\" class=\"ab_chip body-medium\">\\n\\t\\t\\t\\t\\t\\tIT Services &amp; Consulting\\n\\t\\t\\t\\t\\t</a><a href=\"/software-product-companies-in-india\" data-filter-name=\"chips_Company-Tags_software-product\" title=\"Software Product companies in India\" class=\"ab_chip body-medium\">\\n\\t\\t\\t\\t\\t\\tSoftware Product\\n\\t\\t\\t\\t\\t</a><a href=\"/conglomerate-companies-in-india\" data-filter-name=\"chips_Company-Tags_conglomerate\" title=\"Conglomerate companies in India\" class=\"ab_chip body-medium\">\\n\\t\\t\\t\\t\\t\\tConglomerate\\n\\t\\t\\t\\t\\t</a><a href=\"/fortune500-companies-in-india\" data-filter-name=\"chips_Company-Tags_fortune500\" title=\"Fortune500 companies in India\" class=\"ab_chip body-medium\">\\n\\t\\t\\t\\t\\t\\tFortune500\\n\\t\\t\\t\\t\\t</a><a href=\"/forbesglobal2000-companies-in-india\" data-filter-name=\"chips_Company-Tags_forbesglobal2000\" title=\"Forbes Global 2000 companies in India\" class=\"ab_chip body-medium\">\\n\\t\\t\\t\\t\\t\\tForbes Global 2000\\n\\t\\t\\t\\t\\t</a><a href=\"/public-companies-in-india\" data-filter-name=\"chips_Company-Tags_public\" title=\"Public companies in India\" class=\"ab_chip body-medium\">\\n\\t\\t\\t\\t\\t\\tPublic\\n\\t\\t\\t\\t\\t</a><a href=\"/companies-in-noida\" data-filter-name=\"chips_Company-Tags_noida\" title=\"Companies in Noida,Uttar Pradesh\" class=\"ab_chip body-medium\">\\n\\t\\t\\t\\t\\t\\tNoida,Uttar Pradesh\\n\\t\\t\\t\\t\\t</a></div></div></div> <!----> <p itemprop=\"description\" class=\"description body-small\">\\n\\t\\t\\t\\tHCL Technologies is a next-generation global technology company that helps enterprises reimagine their businesses for the digital age. Our technology products and services are built on four decades of innovation, with a world-renowned management philosophy, a strong culture of invention and risk-taking, and a relentless focus on customer relationships. HCL also takes pride in its many diversity, social responsibility, sustainability, and education initiatives. Through its worldwide network of R&amp;D facilities and co-innovation labs, global delivery capabilities, and over 168,000+ ‘Ideapreneurs’ across 50 countries, HCL delivers holistic services across industry verticals to leading enterprises, including 250 of the Fortune 500 and 650 of the Global 2000.\\nEnterprises across industries stand at an inflection point today. In order to thrive in the digital age, technologies such as analytics, cloud, IoT, and automation occupy center stage. In order to offer enterprises the maximum benefit of these technologies to further their business objectives, HCL offers an integrated portfolio of products and services through three business units. These are IT and Business Services (ITBS), Engineering and R&amp;D Services (ERS), and Products and Platforms (P&amp;P).\\nITBS enables global enterprises to transform their businesses via Digital Foundation, our modernized infrastructure stack built around hybrid cloud, software-defined networks, the digital workplace, and other elements; Digital Business, a combination of our application services and consulting capabilities; and Digital Operations, a three-pronged setup for modernized and efficient operations at enterprise level.\\nERS offers engineering services and solutions in all aspects of product development and platform engineering.\\nUnder P&amp;P, HCL provides modernized software products to global clients for their technological and industry-specific requirements.\\nOur holistic Mode 1-2-3 strategy forms the backbone of these three business units to help enterprises navigate the digital age with ease. It is the core aspect of our ‘Digital Enterprise 4.0’ focus – aimed at offering holistic services to our clients to meet the technology needs of their present while readying them to be future-ready.\\nThe company’s DNA of grassroots innovation, its ingrained culture of co-innovation, and its tradition of going far beyond what is expected, to create customer value, clearly differentiates it and gives it a distinct advantage in creating value for businesses in the digital and connected world.\\n\\t\\t\\t</p></div> <div class=\"company-action-center\"><a href=\"/overview/hcl-technologies-overview\" title=\"HCL Technologies Overview\" class=\"body-medium\">\\n\\t\\t\\tAbout\\n\\t\\t\\t<!----></a><a href=\"/reviews/hcl-technologies-reviews\" title=\"HCL Technologies Reviews\" class=\"body-medium\">\\n\\t\\t\\tReviews\\n\\t\\t\\t<span class=\"caption-subdued-large\">\\n\\t\\t\\t\\t15.5k\\n\\t\\t\\t</span></a><a title=\"HCL Technologies Salaries\" href=\"https://www.ambitionbox.com/salaries/hcl-technologies-salaries\" class=\"body-medium\">\\n\\t\\t\\tSalaries\\n\\t\\t\\t<span class=\"caption-subdued-large\">\\n\\t\\t\\t\\t136.8k\\n\\t\\t\\t</span></a><a title=\"HCL Technologies Interviews\" href=\"https://www.ambitionbox.com/interviews/hcl-technologies-interview-questions\" class=\"body-medium\">\\n\\t\\t\\tInterviews\\n\\t\\t\\t<span class=\"caption-subdued-large\">\\n\\t\\t\\t\\t955\\n\\t\\t\\t</span></a><a href=\"/jobs/hcl-technologies-jobs\" title=\"HCL Technologies Jobs\" class=\"body-medium\">\\n\\t\\t\\tJobs\\n\\t\\t\\t<span class=\"caption-subdued-large\">\\n\\t\\t\\t\\t758\\n\\t\\t\\t</span></a></div></div><div itemprop=\"itemListElement\" itemscope=\"itemscope\" itemtype=\"http://schema.org/ListItem\" class=\"ab-company-result-card\" data-v-5051744e><meta itemprop=\"position\" content=\"9\"> <meta itemprop=\"name\" content=\"Infosys\"> <meta itemprop=\"alternateName\" content=\"Infosys overview\"> <meta itemprop=\"url\" content=\"https://www.ambitionbox.com/overview/infosys-overview\"> <meta itemprop=\"image\" content=\"https://static.ambitionbox.com/alpha/company/photos/logos/infosys.jpg\"> <div class=\"company-content-wrapper\"><div class=\"company-content\"><div class=\"company-logo\"><img data-src=\"https://static.ambitionbox.com/alpha/company/photos/logos/infosys.jpg\" src=\"https://static.ambitionbox.com/static/icons/company-placeholder.svg\" alt=\"Infosys logo\" onerror=\"this.onerror=null;this.src=\\'/static/icons/company-placeholder.svg\\';\" class=\"lazy\"></div> <div class=\"company-info-wrapper\"><div class=\"company-info\"><div class=\"left\"><a href=\"/overview/infosys-overview\"><h2 title=\"Infosys\" class=\"company-name bold-title-l\">\\n\\t\\t\\t\\t\\t\\t\\t\\tInfosys\\n\\t\\t\\t\\t\\t\\t\\t</h2></a> <div class=\"rating-wrapper\"><p class=\"rating badge-large rating-35\"><i class=\"icon icon-star\"></i>\\n\\t\\t\\t\\t\\t\\t\\t\\t3.9\\n\\t\\t\\t\\t\\t\\t\\t</p> <a href=\"https://www.ambitionbox.com/reviews/infosys-reviews\" class=\"review-count sbold-Labels\">\\n\\t\\t\\t\\t\\t\\t\\t\\t(19k Reviews)\\n\\t\\t\\t\\t\\t\\t\\t</a></div></div> <button class=\"ab_btn follow-btn invert round\"><span class=\"ctas-btn-medium\">Follow</span></button></div> <div class=\"leaf-list-wrapper noscrollbars-sm mg-btm-16 mg-top-4 m-justify-center \" data-v-230c1e7d><div class=\"award-leaf\" data-v-0c9b8739 data-v-230c1e7d><img width=\"15\" height=\"26\" src=\"https://static.ambitionbox.com/static/awards/black-theme/golden-leaf-left.png\" data-v-0c9b8739> <img width=\"15\" height=\"17\" src=\"https://static.ambitionbox.com/static/awards/black-theme/gold-ambox-logo.svg\" class=\"ambox-logo\" data-v-0c9b8739> <p data-v-0c9b8739>#12 Best Mega Company - 2021</p> <img width=\"15\" height=\"26\" src=\"https://static.ambitionbox.com/static/awards/black-theme/golden-leaf-right.png\" data-v-0c9b8739></div> <!----></div> <div class=\"company-basic-info\"><p class=\"infoEntity sbold-list-header\"><i class=\"icon-domain\"></i>\\n\\t\\t\\t\\t\\t\\tPublic\\n\\t\\t\\t\\t\\t</p> <p class=\"infoEntity sbold-list-header\"><i class=\"icon-pin-drop\"></i>\\n\\t\\t\\t\\t\\t\\tBangalore/Bengaluru,Karnataka \\n\\t\\t\\t\\t\\t</p> <p class=\"infoEntity sbold-list-header\"><i class=\"icon-access-time\"></i>\\n\\t\\t\\t\\t\\t\\t41 years old\\n\\t\\t\\t\\t\\t</p> <p class=\"infoEntity sbold-list-header\"><i class=\"icon-supervisor-account\"></i>\\n\\t\\t\\t\\t\\t\\t1 Lakh+ employees (India)\\n\\t\\t\\t\\t\\t</p></div> <div class=\"chips-block\"><a href=\"/it-services-and-consulting-companies-in-india\" data-filter-name=\"chips_Company-Tags_it-services-and-consulting\" title=\"IT Services &amp; Consulting companies in India\" class=\"ab_chip body-medium\">\\n\\t\\t\\t\\t\\t\\tIT Services &amp; Consulting\\n\\t\\t\\t\\t\\t</a><a href=\"/fortune500-companies-in-india\" data-filter-name=\"chips_Company-Tags_fortune500\" title=\"Fortune500 companies in India\" class=\"ab_chip body-medium\">\\n\\t\\t\\t\\t\\t\\tFortune500\\n\\t\\t\\t\\t\\t</a><a href=\"/forbesglobal2000-companies-in-india\" data-filter-name=\"chips_Company-Tags_forbesglobal2000\" title=\"Forbes Global 2000 companies in India\" class=\"ab_chip body-medium\">\\n\\t\\t\\t\\t\\t\\tForbes Global 2000\\n\\t\\t\\t\\t\\t</a><a href=\"/public-companies-in-india\" data-filter-name=\"chips_Company-Tags_public\" title=\"Public companies in India\" class=\"ab_chip body-medium\">\\n\\t\\t\\t\\t\\t\\tPublic\\n\\t\\t\\t\\t\\t</a><a href=\"/companies-in-bengaluru\" data-filter-name=\"chips_Company-Tags_bengaluru\" title=\"Companies in Bangalore/Bengaluru,Karnataka\" class=\"ab_chip body-medium\">\\n\\t\\t\\t\\t\\t\\tBangalore/Bengaluru,Karnataka\\n\\t\\t\\t\\t\\t</a></div></div></div> <!----> <p itemprop=\"description\" class=\"description body-small\">\\n\\t\\t\\t\\tInfosys is a global leader in next-generation digital services and consulting. We enable clients in more than 50 countries to navigate their digital transformation. \\n\\nWith over four decades of experience in managing the systems and workings of global enterprises, we expertly steer our clients through their digital journey. We do it by enabling the enterprise with an AI-powered core that helps prioritize the execution of change. \\n\\nWe also empower the business with agile digital at scale to deliver unprecedented levels of performance and customer delight. Our always-on learning agenda drives their continuous improvement through building and transferring digital skills, expertise, and ideas from our innovation ecosystem.\\n\\t\\t\\t</p></div> <div class=\"company-action-center\"><a href=\"/overview/infosys-overview\" title=\"Infosys Overview\" class=\"body-medium\">\\n\\t\\t\\tAbout\\n\\t\\t\\t<!----></a><a href=\"/reviews/infosys-reviews\" title=\"Infosys Reviews\" class=\"body-medium\">\\n\\t\\t\\tReviews\\n\\t\\t\\t<span class=\"caption-subdued-large\">\\n\\t\\t\\t\\t19k\\n\\t\\t\\t</span></a><a title=\"Infosys Salaries\" href=\"https://www.ambitionbox.com/salaries/infosys-salaries\" class=\"body-medium\">\\n\\t\\t\\tSalaries\\n\\t\\t\\t<span class=\"caption-subdued-large\">\\n\\t\\t\\t\\t193.6k\\n\\t\\t\\t</span></a><a title=\"Infosys Interviews\" href=\"https://www.ambitionbox.com/interviews/infosys-interview-questions\" class=\"body-medium\">\\n\\t\\t\\tInterviews\\n\\t\\t\\t<span class=\"caption-subdued-large\">\\n\\t\\t\\t\\t2.4k\\n\\t\\t\\t</span></a><a href=\"/jobs/infosys-jobs\" title=\"Infosys Jobs\" class=\"body-medium\">\\n\\t\\t\\tJobs\\n\\t\\t\\t<span class=\"caption-subdued-large\">\\n\\t\\t\\t\\t615\\n\\t\\t\\t</span></a></div></div><div itemprop=\"itemListElement\" itemscope=\"itemscope\" itemtype=\"http://schema.org/ListItem\" class=\"ab-company-result-card\" data-v-5051744e><meta itemprop=\"position\" content=\"10\"> <meta itemprop=\"name\" content=\"Tech Mahindra\"> <meta itemprop=\"alternateName\" content=\"Tech Mahindra overview\"> <meta itemprop=\"url\" content=\"https://www.ambitionbox.com/overview/tech-mahindra-overview\"> <meta itemprop=\"image\" content=\"https://static.ambitionbox.com/alpha/company/photos/logos/techmahindra.jpg\"> <div class=\"company-content-wrapper\"><div class=\"company-content\"><div class=\"company-logo\"><img data-src=\"https://static.ambitionbox.com/alpha/company/photos/logos/techmahindra.jpg\" src=\"https://static.ambitionbox.com/static/icons/company-placeholder.svg\" alt=\"Tech Mahindra logo\" onerror=\"this.onerror=null;this.src=\\'/static/icons/company-placeholder.svg\\';\" class=\"lazy\"></div> <div class=\"company-info-wrapper\"><div class=\"company-info\"><div class=\"left\"><a href=\"/overview/tech-mahindra-overview\"><h2 title=\"Tech Mahindra\" class=\"company-name bold-title-l\">\\n\\t\\t\\t\\t\\t\\t\\t\\tTech Mahindra\\n\\t\\t\\t\\t\\t\\t\\t</h2></a> <div class=\"rating-wrapper\"><p class=\"rating badge-large rating-35\"><i class=\"icon icon-star\"></i>\\n\\t\\t\\t\\t\\t\\t\\t\\t3.7\\n\\t\\t\\t\\t\\t\\t\\t</p> <a href=\"https://www.ambitionbox.com/reviews/tech-mahindra-reviews\" class=\"review-count sbold-Labels\">\\n\\t\\t\\t\\t\\t\\t\\t\\t(15k Reviews)\\n\\t\\t\\t\\t\\t\\t\\t</a></div></div> <button class=\"ab_btn follow-btn invert round\"><span class=\"ctas-btn-medium\">Follow</span></button></div> <!----> <div class=\"company-basic-info\"><p class=\"infoEntity sbold-list-header\"><i class=\"icon-domain\"></i>\\n\\t\\t\\t\\t\\t\\tPublic\\n\\t\\t\\t\\t\\t</p> <p class=\"infoEntity sbold-list-header\"><i class=\"icon-pin-drop\"></i>\\n\\t\\t\\t\\t\\t\\tPune,Maharashtra \\n\\t\\t\\t\\t\\t</p> <p class=\"infoEntity sbold-list-header\"><i class=\"icon-access-time\"></i>\\n\\t\\t\\t\\t\\t\\t36 years old\\n\\t\\t\\t\\t\\t</p> <p class=\"infoEntity sbold-list-header\"><i class=\"icon-supervisor-account\"></i>\\n\\t\\t\\t\\t\\t\\t50k-1 Lakh employees (India)\\n\\t\\t\\t\\t\\t</p></div> <div class=\"chips-block\"><a href=\"/consulting-companies-in-india\" data-filter-name=\"chips_Company-Tags_consulting\" title=\"Consulting companies in India\" class=\"ab_chip body-medium\">\\n\\t\\t\\t\\t\\t\\tConsulting\\n\\t\\t\\t\\t\\t</a><a href=\"/analytics-or-bpm-or-research-companies-in-india\" data-filter-name=\"chips_Company-Tags_analytics-or-bpm-or-research\" title=\"Analytics / KPO / Research companies in India\" class=\"ab_chip body-medium\">\\n\\t\\t\\t\\t\\t\\tAnalytics / KPO / Research\\n\\t\\t\\t\\t\\t</a><a href=\"/it-services-and-consulting-companies-in-india\" data-filter-name=\"chips_Company-Tags_it-services-and-consulting\" title=\"IT Services &amp; Consulting companies in India\" class=\"ab_chip body-medium\">\\n\\t\\t\\t\\t\\t\\tIT Services &amp; Consulting\\n\\t\\t\\t\\t\\t</a><a href=\"/fortune500-companies-in-india\" data-filter-name=\"chips_Company-Tags_fortune500\" title=\"Fortune500 companies in India\" class=\"ab_chip body-medium\">\\n\\t\\t\\t\\t\\t\\tFortune500\\n\\t\\t\\t\\t\\t</a><a href=\"/forbesglobal2000-companies-in-india\" data-filter-name=\"chips_Company-Tags_forbesglobal2000\" title=\"Forbes Global 2000 companies in India\" class=\"ab_chip body-medium\">\\n\\t\\t\\t\\t\\t\\tForbes Global 2000\\n\\t\\t\\t\\t\\t</a><a href=\"/public-companies-in-india\" data-filter-name=\"chips_Company-Tags_public\" title=\"Public companies in India\" class=\"ab_chip body-medium\">\\n\\t\\t\\t\\t\\t\\tPublic\\n\\t\\t\\t\\t\\t</a><a href=\"/companies-in-pune\" data-filter-name=\"chips_Company-Tags_pune\" title=\"Companies in Pune,Maharashtra\" class=\"ab_chip body-medium\">\\n\\t\\t\\t\\t\\t\\tPune,Maharashtra\\n\\t\\t\\t\\t\\t</a></div></div></div> <!----> <p itemprop=\"description\" class=\"description body-small\">\\n\\t\\t\\t\\tTech Mahindra offers innovative and customer-centric digital experiences, enabling enterprises, associates, and society to rise. We are a USD 5.1 billion organization with 141,100+ professionals across 90 countries helping 1123 global customers, including Fortune 500 companies. \\n\\nWe are focused on leveraging next-generation technologies including 5G, Blockchain, Cybersecurity, Artificial Intelligence, and more, to enable end-to-end digital transformation for global customers. Tech Mahindra is one of the fastest-growing brands and amongst the top 15 IT service providers globally. \\n\\nTech Mahindra has consistently emerged as a leader in sustainability and is recognized amongst the ‘2021 Global 100 Most sustainable corporations in the World’ by Corporate Knights. With the NXT.NOW™ framework, Tech Mahindra aims to enhance ‘Human Centric Experience’ for our ecosystem and drive collaborative disruption with synergies arising from a robust portfolio of companies. \\n\\nTech Mahindra aims at delivering tomorrow’s experiences today and believes that the ‘Future is Now.\\n\\nWe are part of the Mahindra Group, founded in 1945, one of the largest and most admired multinational federations of companies with 260,000 employees in over 100 countries. It enjoys a leadership position in farm equipment, utility vehicles, information technology, and financial services in India and is the world’s largest tractor company by volume. It has a strong presence in renewable energy, agriculture, logistics, hospitality, and real estate. \\n\\nThe Mahindra Group has a clear focus on leading ESG globally, enabling rural prosperity and enhancing urban living, with a goal to drive positive change in the lives of communities and stakeholders to enable them to rise.\\n\\t\\t\\t</p></div> <div class=\"company-action-center\"><a href=\"/overview/tech-mahindra-overview\" title=\"Tech Mahindra Overview\" class=\"body-medium\">\\n\\t\\t\\tAbout\\n\\t\\t\\t<!----></a><a href=\"/reviews/tech-mahindra-reviews\" title=\"Tech Mahindra Reviews\" class=\"body-medium\">\\n\\t\\t\\tReviews\\n\\t\\t\\t<span class=\"caption-subdued-large\">\\n\\t\\t\\t\\t15k\\n\\t\\t\\t</span></a><a title=\"Tech Mahindra Salaries\" href=\"https://www.ambitionbox.com/salaries/tech-mahindra-salaries\" class=\"body-medium\">\\n\\t\\t\\tSalaries\\n\\t\\t\\t<span class=\"caption-subdued-large\">\\n\\t\\t\\t\\t106k\\n\\t\\t\\t</span></a><a title=\"Tech Mahindra Interviews\" href=\"https://www.ambitionbox.com/interviews/tech-mahindra-interview-questions\" class=\"body-medium\">\\n\\t\\t\\tInterviews\\n\\t\\t\\t<span class=\"caption-subdued-large\">\\n\\t\\t\\t\\t722\\n\\t\\t\\t</span></a><a href=\"/jobs/tech-mahindra-jobs\" title=\"Tech Mahindra Jobs\" class=\"body-medium\">\\n\\t\\t\\tJobs\\n\\t\\t\\t<span class=\"caption-subdued-large\">\\n\\t\\t\\t\\t671\\n\\t\\t\\t</span></a></div></div><div itemprop=\"itemListElement\" itemscope=\"itemscope\" itemtype=\"http://schema.org/ListItem\" class=\"ab-company-result-card\" data-v-5051744e><meta itemprop=\"position\" content=\"11\"> <meta itemprop=\"name\" content=\"Genpact\"> <meta itemprop=\"alternateName\" content=\"Genpact overview\"> <meta itemprop=\"url\" content=\"https://www.ambitionbox.com/overview/genpact-overview\"> <meta itemprop=\"image\" content=\"https://static.ambitionbox.com/alpha/company/photos/logos/genpact-india-pvt-limited.jpg\"> <div class=\"company-content-wrapper\"><div class=\"company-content\"><div class=\"company-logo\"><img data-src=\"https://static.ambitionbox.com/alpha/company/photos/logos/genpact-india-pvt-limited.jpg\" src=\"https://static.ambitionbox.com/static/icons/company-placeholder.svg\" alt=\"Genpact logo\" onerror=\"this.onerror=null;this.src=\\'/static/icons/company-placeholder.svg\\';\" class=\"lazy\"></div> <div class=\"company-info-wrapper\"><div class=\"company-info\"><div class=\"left\"><a href=\"/overview/genpact-overview\"><h2 title=\"Genpact\" class=\"company-name bold-title-l\">\\n\\t\\t\\t\\t\\t\\t\\t\\tGenpact\\n\\t\\t\\t\\t\\t\\t\\t</h2></a> <div class=\"rating-wrapper\"><p class=\"rating badge-large rating-4\"><i class=\"icon icon-star\"></i>\\n\\t\\t\\t\\t\\t\\t\\t\\t4.0\\n\\t\\t\\t\\t\\t\\t\\t</p> <a href=\"https://www.ambitionbox.com/reviews/genpact-reviews\" class=\"review-count sbold-Labels\">\\n\\t\\t\\t\\t\\t\\t\\t\\t(14.8k Reviews)\\n\\t\\t\\t\\t\\t\\t\\t</a></div></div> <button class=\"ab_btn follow-btn invert round\"><span class=\"ctas-btn-medium\">Follow</span></button></div> <div class=\"leaf-list-wrapper noscrollbars-sm mg-btm-16 mg-top-4 m-justify-center \" data-v-230c1e7d><div class=\"award-leaf\" data-v-0c9b8739 data-v-230c1e7d><img width=\"15\" height=\"26\" src=\"https://static.ambitionbox.com/static/awards/black-theme/golden-leaf-left.png\" data-v-0c9b8739> <img width=\"15\" height=\"17\" src=\"https://static.ambitionbox.com/static/awards/black-theme/gold-ambox-logo.svg\" class=\"ambox-logo\" data-v-0c9b8739> <p data-v-0c9b8739>#8 Best Mega Company - 2021</p> <img width=\"15\" height=\"26\" src=\"https://static.ambitionbox.com/static/awards/black-theme/golden-leaf-right.png\" data-v-0c9b8739></div> <!----></div> <div class=\"company-basic-info\"><p class=\"infoEntity sbold-list-header\"><i class=\"icon-domain\"></i>\\n\\t\\t\\t\\t\\t\\tPrivate\\n\\t\\t\\t\\t\\t</p> <p class=\"infoEntity sbold-list-header\"><i class=\"icon-pin-drop\"></i>\\n\\t\\t\\t\\t\\t\\tNew York,New York \\n\\t\\t\\t\\t\\t</p> <p class=\"infoEntity sbold-list-header\"><i class=\"icon-access-time\"></i>\\n\\t\\t\\t\\t\\t\\t25 years old\\n\\t\\t\\t\\t\\t</p> <p class=\"infoEntity sbold-list-header\"><i class=\"icon-supervisor-account\"></i>\\n\\t\\t\\t\\t\\t\\t50k-1 Lakh employees (India)\\n\\t\\t\\t\\t\\t</p></div> <div class=\"chips-block\"><a href=\"/analytics-or-bpm-or-research-companies-in-india\" data-filter-name=\"chips_Company-Tags_analytics-or-bpm-or-research\" title=\"Analytics / KPO / Research companies in India\" class=\"ab_chip body-medium\">\\n\\t\\t\\t\\t\\t\\tAnalytics / KPO / Research\\n\\t\\t\\t\\t\\t</a></div></div></div> <!----> <p itemprop=\"description\" class=\"description body-small\">\\n\\t\\t\\t\\tChange is constant. At Genpact, we’re the ones driving it. We think with design, dream in digital, and solve problems with data and analytics. We obsess over operations and focus on the details – all 78,000+ of us. And you could be one of us!\\nWe are a global professional services firm that makes business transformation real. We drive digital-led innovation and digitally-enabled intelligent operations for our clients, guided by our experience running thousands of processes for hundreds of Global Fortune 500 companies.\\nFrom New York to New Delhi and more than 20 countries in between, Genpact has the end-to-end expertise to connect every dot, reimagine every process, and reinvent companies’ ways of working. And it offers you an unparalleled opportunity to grow and transform your career.\\n\\t\\t\\t</p></div> <div class=\"company-action-center\"><a href=\"/overview/genpact-overview\" title=\"Genpact Overview\" class=\"body-medium\">\\n\\t\\t\\tAbout\\n\\t\\t\\t<!----></a><a href=\"/reviews/genpact-reviews\" title=\"Genpact Reviews\" class=\"body-medium\">\\n\\t\\t\\tReviews\\n\\t\\t\\t<span class=\"caption-subdued-large\">\\n\\t\\t\\t\\t14.8k\\n\\t\\t\\t</span></a><a title=\"Genpact Salaries\" href=\"https://www.ambitionbox.com/salaries/genpact-salaries\" class=\"body-medium\">\\n\\t\\t\\tSalaries\\n\\t\\t\\t<span class=\"caption-subdued-large\">\\n\\t\\t\\t\\t74.3k\\n\\t\\t\\t</span></a><a title=\"Genpact Interviews\" href=\"https://www.ambitionbox.com/interviews/genpact-interview-questions\" class=\"body-medium\">\\n\\t\\t\\tInterviews\\n\\t\\t\\t<span class=\"caption-subdued-large\">\\n\\t\\t\\t\\t617\\n\\t\\t\\t</span></a><a href=\"/jobs/genpact-jobs\" title=\"Genpact Jobs\" class=\"body-medium\">\\n\\t\\t\\tJobs\\n\\t\\t\\t<span class=\"caption-subdued-large\">\\n\\t\\t\\t\\t586\\n\\t\\t\\t</span></a></div></div><div itemprop=\"itemListElement\" itemscope=\"itemscope\" itemtype=\"http://schema.org/ListItem\" class=\"ab-company-result-card\" data-v-5051744e><meta itemprop=\"position\" content=\"12\"> <meta itemprop=\"name\" content=\"Axis Bank\"> <meta itemprop=\"alternateName\" content=\"Axis Bank overview\"> <meta itemprop=\"url\" content=\"https://www.ambitionbox.com/overview/axis-bank-overview\"> <meta itemprop=\"image\" content=\"https://static.ambitionbox.com/alpha/company/photos/logos/axis_bank.jpg\"> <div class=\"company-content-wrapper\"><div class=\"company-content\"><div class=\"company-logo\"><img data-src=\"https://static.ambitionbox.com/alpha/company/photos/logos/axis_bank.jpg\" src=\"https://static.ambitionbox.com/static/icons/company-placeholder.svg\" alt=\"Axis Bank logo\" onerror=\"this.onerror=null;this.src=\\'/static/icons/company-placeholder.svg\\';\" class=\"lazy\"></div> <div class=\"company-info-wrapper\"><div class=\"company-info\"><div class=\"left\"><a href=\"/overview/axis-bank-overview\"><h2 title=\"Axis Bank\" class=\"company-name bold-title-l\">\\n\\t\\t\\t\\t\\t\\t\\t\\tAxis Bank\\n\\t\\t\\t\\t\\t\\t\\t</h2></a> <div class=\"rating-wrapper\"><p class=\"rating badge-large rating-35\"><i class=\"icon icon-star\"></i>\\n\\t\\t\\t\\t\\t\\t\\t\\t3.8\\n\\t\\t\\t\\t\\t\\t\\t</p> <a href=\"https://www.ambitionbox.com/reviews/axis-bank-reviews\" class=\"review-count sbold-Labels\">\\n\\t\\t\\t\\t\\t\\t\\t\\t(14.4k Reviews)\\n\\t\\t\\t\\t\\t\\t\\t</a></div></div> <button class=\"ab_btn follow-btn invert round\"><span class=\"ctas-btn-medium\">Follow</span></button></div> <div class=\"leaf-list-wrapper noscrollbars-sm mg-btm-16 mg-top-4\" data-v-230c1e7d><div class=\"award-leaf\" data-v-0c9b8739 data-v-230c1e7d><img width=\"15\" height=\"26\" src=\"https://static.ambitionbox.com/static/awards/black-theme/golden-leaf-left.png\" data-v-0c9b8739> <img width=\"15\" height=\"17\" src=\"https://static.ambitionbox.com/static/awards/black-theme/gold-ambox-logo.svg\" class=\"ambox-logo\" data-v-0c9b8739> <p data-v-0c9b8739>#15 Best Mega Company - 2021</p> <img width=\"15\" height=\"26\" src=\"https://static.ambitionbox.com/static/awards/black-theme/golden-leaf-right.png\" data-v-0c9b8739></div><!----> <!----></div> <div class=\"company-basic-info\"><p class=\"infoEntity sbold-list-header\"><i class=\"icon-domain\"></i>\\n\\t\\t\\t\\t\\t\\tPublic\\n\\t\\t\\t\\t\\t</p> <p class=\"infoEntity sbold-list-header\"><i class=\"icon-pin-drop\"></i>\\n\\t\\t\\t\\t\\t\\tMumbai,Maharashtra \\n\\t\\t\\t\\t\\t</p> <p class=\"infoEntity sbold-list-header\"><i class=\"icon-access-time\"></i>\\n\\t\\t\\t\\t\\t\\t29 years old\\n\\t\\t\\t\\t\\t</p> <p class=\"infoEntity sbold-list-header\"><i class=\"icon-supervisor-account\"></i>\\n\\t\\t\\t\\t\\t\\t50k-1 Lakh employees (India)\\n\\t\\t\\t\\t\\t</p></div> <div class=\"chips-block\"><a href=\"/financial-services-companies-in-india\" data-filter-name=\"chips_Company-Tags_financial-services\" title=\"Financial Services companies in India\" class=\"ab_chip body-medium\">\\n\\t\\t\\t\\t\\t\\tFinancial Services\\n\\t\\t\\t\\t\\t</a><a href=\"/banking-companies-in-india\" data-filter-name=\"chips_Company-Tags_banking\" title=\"Banking companies in India\" class=\"ab_chip body-medium\">\\n\\t\\t\\t\\t\\t\\tBanking\\n\\t\\t\\t\\t\\t</a><a href=\"/fortune500-companies-in-india\" data-filter-name=\"chips_Company-Tags_fortune500\" title=\"Fortune500 companies in India\" class=\"ab_chip body-medium\">\\n\\t\\t\\t\\t\\t\\tFortune500\\n\\t\\t\\t\\t\\t</a><a href=\"/forbesglobal2000-companies-in-india\" data-filter-name=\"chips_Company-Tags_forbesglobal2000\" title=\"Forbes Global 2000 companies in India\" class=\"ab_chip body-medium\">\\n\\t\\t\\t\\t\\t\\tForbes Global 2000\\n\\t\\t\\t\\t\\t</a><a href=\"/public-companies-in-india\" data-filter-name=\"chips_Company-Tags_public\" title=\"Public companies in India\" class=\"ab_chip body-medium\">\\n\\t\\t\\t\\t\\t\\tPublic\\n\\t\\t\\t\\t\\t</a><a href=\"/companies-in-mumbai\" data-filter-name=\"chips_Company-Tags_mumbai\" title=\"Companies in Mumbai,Maharashtra\" class=\"ab_chip body-medium\">\\n\\t\\t\\t\\t\\t\\tMumbai,Maharashtra\\n\\t\\t\\t\\t\\t</a></div></div></div> <!----> <p itemprop=\"description\" class=\"description body-small\">\\n\\t\\t\\t\\tAxis Bank is the third largest private sector bank in India. The Bank offers the entire spectrum of financial services to customer segments covering Large and Mid-Corporates, MSME, Agriculture and Retail Businesses.\\n\\nThe Bank has a large footprint of 4,050 domestic branches (including extension counters) with 11,801 ATMs &amp; 4,917 cash recyclers spread across the country as on 31st March, 2019. The overseas operations of the Bank are spread over nine international offices with branches at Singapore, Hong Kong, Dubai (at the DIFC), Colombo and Shanghai; representative offices at Dhaka, Dubai, Abu Dhabi and an overseas subsidiary at London, UK. The international offices focus on corporate lending, trade finance, syndication, investment banking and liability businesses.\\n\\t\\t\\t</p></div> <div class=\"company-action-center\"><a href=\"/overview/axis-bank-overview\" title=\"Axis Bank Overview\" class=\"body-medium\">\\n\\t\\t\\tAbout\\n\\t\\t\\t<!----></a><a href=\"/reviews/axis-bank-reviews\" title=\"Axis Bank Reviews\" class=\"body-medium\">\\n\\t\\t\\tReviews\\n\\t\\t\\t<span class=\"caption-subdued-large\">\\n\\t\\t\\t\\t14.4k\\n\\t\\t\\t</span></a><a title=\"Axis Bank Salaries\" href=\"https://www.ambitionbox.com/salaries/axis-bank-salaries\" class=\"body-medium\">\\n\\t\\t\\tSalaries\\n\\t\\t\\t<span class=\"caption-subdued-large\">\\n\\t\\t\\t\\t70k\\n\\t\\t\\t</span></a><a title=\"Axis Bank Interviews\" href=\"https://www.ambitionbox.com/interviews/axis-bank-interview-questions\" class=\"body-medium\">\\n\\t\\t\\tInterviews\\n\\t\\t\\t<span class=\"caption-subdued-large\">\\n\\t\\t\\t\\t464\\n\\t\\t\\t</span></a><a href=\"/jobs/axis-bank-jobs\" title=\"Axis Bank Jobs\" class=\"body-medium\">\\n\\t\\t\\tJobs\\n\\t\\t\\t<span class=\"caption-subdued-large\">\\n\\t\\t\\t\\t227\\n\\t\\t\\t</span></a></div></div><div itemprop=\"itemListElement\" itemscope=\"itemscope\" itemtype=\"http://schema.org/ListItem\" class=\"ab-company-result-card\" data-v-5051744e><meta itemprop=\"position\" content=\"13\"> <meta itemprop=\"name\" content=\"Vodafone Idea\"> <meta itemprop=\"alternateName\" content=\"vodafone idea\"> <meta itemprop=\"url\" content=\"https://www.ambitionbox.com/overview/vodafone-idea-overview\"> <meta itemprop=\"image\" content=\"https://static.ambitionbox.com/alpha/company/photos/logos/vodafone-idea.jpg\"> <div class=\"company-content-wrapper\"><div class=\"company-content\"><div class=\"company-logo\"><img data-src=\"https://static.ambitionbox.com/alpha/company/photos/logos/vodafone-idea.jpg\" src=\"https://static.ambitionbox.com/static/icons/company-placeholder.svg\" alt=\"vodafone idea logo\" onerror=\"this.onerror=null;this.src=\\'/static/icons/company-placeholder.svg\\';\" class=\"lazy\"></div> <div class=\"company-info-wrapper\"><div class=\"company-info\"><div class=\"left\"><a href=\"/overview/vodafone-idea-overview\"><h2 title=\"Vodafone Idea\" class=\"company-name bold-title-l\">\\n\\t\\t\\t\\t\\t\\t\\t\\tVodafone Idea\\n\\t\\t\\t\\t\\t\\t\\t</h2></a> <div class=\"rating-wrapper\"><p class=\"rating badge-large rating-4\"><i class=\"icon icon-star\"></i>\\n\\t\\t\\t\\t\\t\\t\\t\\t4.2\\n\\t\\t\\t\\t\\t\\t\\t</p> <a href=\"https://www.ambitionbox.com/reviews/vodafone-idea-reviews\" class=\"review-count sbold-Labels\">\\n\\t\\t\\t\\t\\t\\t\\t\\t(11.6k Reviews)\\n\\t\\t\\t\\t\\t\\t\\t</a></div></div> <button class=\"ab_btn follow-btn invert round\"><span class=\"ctas-btn-medium\">Follow</span></button></div> <!----> <div class=\"company-basic-info\"><p class=\"infoEntity sbold-list-header\"><i class=\"icon-domain\"></i>\\n\\t\\t\\t\\t\\t\\tPublic\\n\\t\\t\\t\\t\\t</p> <p class=\"infoEntity sbold-list-header\"><i class=\"icon-pin-drop\"></i>\\n\\t\\t\\t\\t\\t\\tGandhinagar,Gujrat + 515 more\\n\\t\\t\\t\\t\\t</p> <p class=\"infoEntity sbold-list-header\"><i class=\"icon-access-time\"></i>\\n\\t\\t\\t\\t\\t\\t4 years old\\n\\t\\t\\t\\t\\t</p> <p class=\"infoEntity sbold-list-header\"><i class=\"icon-supervisor-account\"></i>\\n\\t\\t\\t\\t\\t\\t10k-50k employees (India)\\n\\t\\t\\t\\t\\t</p></div> <div class=\"chips-block\"><a href=\"/telecom-or-isp-companies-in-india\" data-filter-name=\"chips_Company-Tags_telecom-or-isp\" title=\"Telecom / ISP companies in India\" class=\"ab_chip body-medium\">\\n\\t\\t\\t\\t\\t\\tTelecom / ISP\\n\\t\\t\\t\\t\\t</a><a href=\"/fortune500-companies-in-india\" data-filter-name=\"chips_Company-Tags_fortune500\" title=\"Fortune500 companies in India\" class=\"ab_chip body-medium\">\\n\\t\\t\\t\\t\\t\\tFortune500\\n\\t\\t\\t\\t\\t</a><a href=\"/forbesglobal2000-companies-in-india\" data-filter-name=\"chips_Company-Tags_forbesglobal2000\" title=\"Forbes Global 2000 companies in India\" class=\"ab_chip body-medium\">\\n\\t\\t\\t\\t\\t\\tForbes Global 2000\\n\\t\\t\\t\\t\\t</a><a href=\"/public-companies-in-india\" data-filter-name=\"chips_Company-Tags_public\" title=\"Public companies in India\" class=\"ab_chip body-medium\">\\n\\t\\t\\t\\t\\t\\tPublic\\n\\t\\t\\t\\t\\t</a><a href=\"/companies-in-mumbai\" data-filter-name=\"chips_Company-Tags_mumbai\" title=\"Companies in Gandhinagar,Gujrat\" class=\"ab_chip body-medium\">\\n\\t\\t\\t\\t\\t\\tGandhinagar,Gujrat\\n\\t\\t\\t\\t\\t</a></div></div></div> <!----> <p itemprop=\"description\" class=\"description body-small\">\\n\\t\\t\\t\\tVodafone Idea Limited is an Aditya Birla Group and Vodafone Group partnership. It is India’s leading telecom service provider. The Company provides pan India Voice and Data services across 2G, 3G and 4G platform. With the large spectrum portfolio to support the growing demand for data and voice, the company is committed to deliver delightful customer experiences and contribute towards creating a truly ‘Digital India’ by enabling millions of citizens to connect and build a better tomorrow. The Company is developing infrastructure to introduce newer and smarter technologies, making both retail and enterprise customers future ready with innovative offerings, conveniently accessible through an ecosystem of digital channels as well as extensive on-ground presence. The Company is listed on National Stock Exchange (NSE) and Bombay Stock Exchange (BSE) in India.\\n\\t\\t\\t</p></div> <div class=\"company-action-center\"><a href=\"/overview/vodafone-idea-overview\" title=\"Vodafone Idea Overview\" class=\"body-medium\">\\n\\t\\t\\tAbout\\n\\t\\t\\t<!----></a><a href=\"/reviews/vodafone-idea-reviews\" title=\"Vodafone Idea Reviews\" class=\"body-medium\">\\n\\t\\t\\tReviews\\n\\t\\t\\t<span class=\"caption-subdued-large\">\\n\\t\\t\\t\\t11.6k\\n\\t\\t\\t</span></a><a title=\"Vodafone Idea Salaries\" href=\"https://www.ambitionbox.com/salaries/vodafone-idea-salaries\" class=\"body-medium\">\\n\\t\\t\\tSalaries\\n\\t\\t\\t<span class=\"caption-subdued-large\">\\n\\t\\t\\t\\t33.5k\\n\\t\\t\\t</span></a><a title=\"Vodafone Idea Interviews\" href=\"https://www.ambitionbox.com/interviews/vodafone-idea-interview-questions\" class=\"body-medium\">\\n\\t\\t\\tInterviews\\n\\t\\t\\t<span class=\"caption-subdued-large\">\\n\\t\\t\\t\\t191\\n\\t\\t\\t</span></a><a href=\"/jobs/vodafone-idea-jobs\" title=\"Vodafone Idea Jobs\" class=\"body-medium\">\\n\\t\\t\\tJobs\\n\\t\\t\\t<span class=\"caption-subdued-large\">\\n\\t\\t\\t\\t281\\n\\t\\t\\t</span></a></div></div><div itemprop=\"itemListElement\" itemscope=\"itemscope\" itemtype=\"http://schema.org/ListItem\" class=\"ab-company-result-card\" data-v-5051744e><meta itemprop=\"position\" content=\"14\"> <meta itemprop=\"name\" content=\"L&amp;T\"> <meta itemprop=\"alternateName\" content=\"Larsen and Toubro\"> <meta itemprop=\"url\" content=\"https://www.ambitionbox.com/overview/l-and-t-overview\"> <meta itemprop=\"image\" content=\"https://static.ambitionbox.com/alpha/company/photos/logos/l-and-t.jpg\"> <div class=\"company-content-wrapper\"><div class=\"company-content\"><div class=\"company-logo\"><img data-src=\"https://static.ambitionbox.com/alpha/company/photos/logos/l-and-t.jpg\" src=\"https://static.ambitionbox.com/static/icons/company-placeholder.svg\" alt=\"Larsen and Toubro logo\" onerror=\"this.onerror=null;this.src=\\'/static/icons/company-placeholder.svg\\';\" class=\"lazy\"></div> <div class=\"company-info-wrapper\"><div class=\"company-info\"><div class=\"left\"><a href=\"/overview/l-and-t-overview\"><h2 title=\"L&amp;T\" class=\"company-name bold-title-l\">\\n\\t\\t\\t\\t\\t\\t\\t\\tL&amp;T\\n\\t\\t\\t\\t\\t\\t\\t</h2></a> <div class=\"rating-wrapper\"><p class=\"rating badge-large rating-35\"><i class=\"icon icon-star\"></i>\\n\\t\\t\\t\\t\\t\\t\\t\\t3.9\\n\\t\\t\\t\\t\\t\\t\\t</p> <a href=\"https://www.ambitionbox.com/reviews/l-and-t-reviews\" class=\"review-count sbold-Labels\">\\n\\t\\t\\t\\t\\t\\t\\t\\t(22.7k Reviews)\\n\\t\\t\\t\\t\\t\\t\\t</a></div></div> <button class=\"ab_btn follow-btn invert round\"><span class=\"ctas-btn-medium\">Follow</span></button></div> <!----> <div class=\"company-basic-info\"><p class=\"infoEntity sbold-list-header\"><i class=\"icon-domain\"></i>\\n\\t\\t\\t\\t\\t\\tPublic\\n\\t\\t\\t\\t\\t</p> <p class=\"infoEntity sbold-list-header\"><i class=\"icon-pin-drop\"></i>\\n\\t\\t\\t\\t\\t\\tMumbai,Maharashtra \\n\\t\\t\\t\\t\\t</p> <p class=\"infoEntity sbold-list-header\"><i class=\"icon-access-time\"></i>\\n\\t\\t\\t\\t\\t\\t84 years old\\n\\t\\t\\t\\t\\t</p> <p class=\"infoEntity sbold-list-header\"><i class=\"icon-supervisor-account\"></i>\\n\\t\\t\\t\\t\\t\\t10k-50k employees (India)\\n\\t\\t\\t\\t\\t</p></div> <div class=\"chips-block\"><a href=\"/engineering-and-construction-companies-in-india\" data-filter-name=\"chips_Company-Tags_engineering-and-construction\" title=\"Engineering &amp; Construction companies in India\" class=\"ab_chip body-medium\">\\n\\t\\t\\t\\t\\t\\tEngineering &amp; Construction\\n\\t\\t\\t\\t\\t</a><a href=\"/industrial-automation-companies-in-india\" data-filter-name=\"chips_Company-Tags_industrial-automation\" title=\"Industrial Automation companies in India\" class=\"ab_chip body-medium\">\\n\\t\\t\\t\\t\\t\\tIndustrial Automation\\n\\t\\t\\t\\t\\t</a><a href=\"/conglomerate-companies-in-india\" data-filter-name=\"chips_Company-Tags_conglomerate\" title=\"Conglomerate companies in India\" class=\"ab_chip body-medium\">\\n\\t\\t\\t\\t\\t\\tConglomerate\\n\\t\\t\\t\\t\\t</a><a href=\"/fortune500-companies-in-india\" data-filter-name=\"chips_Company-Tags_fortune500\" title=\"Fortune500 companies in India\" class=\"ab_chip body-medium\">\\n\\t\\t\\t\\t\\t\\tFortune500\\n\\t\\t\\t\\t\\t</a><a href=\"/forbesglobal2000-companies-in-india\" data-filter-name=\"chips_Company-Tags_forbesglobal2000\" title=\"Forbes Global 2000 companies in India\" class=\"ab_chip body-medium\">\\n\\t\\t\\t\\t\\t\\tForbes Global 2000\\n\\t\\t\\t\\t\\t</a><a href=\"/public-companies-in-india\" data-filter-name=\"chips_Company-Tags_public\" title=\"Public companies in India\" class=\"ab_chip body-medium\">\\n\\t\\t\\t\\t\\t\\tPublic\\n\\t\\t\\t\\t\\t</a><a href=\"/companies-in-mumbai\" data-filter-name=\"chips_Company-Tags_mumbai\" title=\"Companies in Mumbai,Maharashtra\" class=\"ab_chip body-medium\">\\n\\t\\t\\t\\t\\t\\tMumbai,Maharashtra\\n\\t\\t\\t\\t\\t</a></div></div></div> <!----> <p itemprop=\"description\" class=\"description body-small\">\\n\\t\\t\\t\\tLarsen &amp; Toubro is a major technology, engineering, construction, manufacturing and financial services conglomerate, with global operations. L&amp;T addresses critical needs in key sectors - Hydrocarbon, Infrastructure, Power, Process Industries and Defence - for customers in over 30 countries around the world.\\nL&amp;T is engaged in core, high impact sectors of the economy and our integrated capabilities span the entire spectrum of ‘design to deliver’. With 8 decades of a strong, customer focused approach and a continuous quest for world-class quality, we have unmatched expertise across Technology, Engineering, Construction, Infrastructure Projects and Manufacturing, and maintain a leadership in all our major lines of business.\\nEvery aspect of L&amp;T\\'s businesses is characterised by professionalism and high standards of corporate governance. Sustainability is embedded into our long-term strategy for growth.\\n\\t\\t\\t</p></div> <div class=\"company-action-center\"><a href=\"/overview/l-and-t-overview\" title=\"L&amp;T Overview\" class=\"body-medium\">\\n\\t\\t\\tAbout\\n\\t\\t\\t<!----></a><a href=\"/reviews/l-and-t-reviews\" title=\"L&amp;T Reviews\" class=\"body-medium\">\\n\\t\\t\\tReviews\\n\\t\\t\\t<span class=\"caption-subdued-large\">\\n\\t\\t\\t\\t22.7k\\n\\t\\t\\t</span></a><a title=\"L&amp;T Salaries\" href=\"https://www.ambitionbox.com/salaries/l-and-t-salaries\" class=\"body-medium\">\\n\\t\\t\\tSalaries\\n\\t\\t\\t<span class=\"caption-subdued-large\">\\n\\t\\t\\t\\t44.3k\\n\\t\\t\\t</span></a><a title=\"L&amp;T Interviews\" href=\"https://www.ambitionbox.com/interviews/l-and-t-interview-questions\" class=\"body-medium\">\\n\\t\\t\\tInterviews\\n\\t\\t\\t<span class=\"caption-subdued-large\">\\n\\t\\t\\t\\t406\\n\\t\\t\\t</span></a><a href=\"/jobs/l-and-t-jobs\" title=\"L&amp;T Jobs\" class=\"body-medium\">\\n\\t\\t\\tJobs\\n\\t\\t\\t<span class=\"caption-subdued-large\">\\n\\t\\t\\t\\t893\\n\\t\\t\\t</span></a></div></div><div itemprop=\"itemListElement\" itemscope=\"itemscope\" itemtype=\"http://schema.org/ListItem\" class=\"ab-company-result-card\" data-v-5051744e><meta itemprop=\"position\" content=\"15\"> <meta itemprop=\"name\" content=\"Reliance jio\"> <meta itemprop=\"alternateName\" content=\"Reliance jio overview\"> <meta itemprop=\"url\" content=\"https://www.ambitionbox.com/overview/reliance-jio-overview\"> <meta itemprop=\"image\" content=\"https://static.ambitionbox.com/alpha/company/photos/logos/reliance-jio-infocomm.jpg\"> <div class=\"company-content-wrapper\"><div class=\"company-content\"><div class=\"company-logo\"><img data-src=\"https://static.ambitionbox.com/alpha/company/photos/logos/reliance-jio-infocomm.jpg\" src=\"https://static.ambitionbox.com/static/icons/company-placeholder.svg\" alt=\"Reliance jio logo\" onerror=\"this.onerror=null;this.src=\\'/static/icons/company-placeholder.svg\\';\" class=\"lazy\"></div> <div class=\"company-info-wrapper\"><div class=\"company-info\"><div class=\"left\"><a href=\"/overview/reliance-jio-overview\"><h2 title=\"Reliance jio\" class=\"company-name bold-title-l\">\\n\\t\\t\\t\\t\\t\\t\\t\\tReliance jio\\n\\t\\t\\t\\t\\t\\t\\t</h2></a> <div class=\"rating-wrapper\"><p class=\"rating badge-large rating-4\"><i class=\"icon icon-star\"></i>\\n\\t\\t\\t\\t\\t\\t\\t\\t4.0\\n\\t\\t\\t\\t\\t\\t\\t</p> <a href=\"https://www.ambitionbox.com/reviews/reliance-jio-reviews\" class=\"review-count sbold-Labels\">\\n\\t\\t\\t\\t\\t\\t\\t\\t(11.4k Reviews)\\n\\t\\t\\t\\t\\t\\t\\t</a></div></div> <button class=\"ab_btn follow-btn invert round\"><span class=\"ctas-btn-medium\">Follow</span></button></div> <!----> <div class=\"company-basic-info\"><p class=\"infoEntity sbold-list-header\"><i class=\"icon-domain\"></i>\\n\\t\\t\\t\\t\\t\\tPublic\\n\\t\\t\\t\\t\\t</p> <p class=\"infoEntity sbold-list-header\"><i class=\"icon-pin-drop\"></i>\\n\\t\\t\\t\\t\\t\\tNavi Mumbai,Maharashtra \\n\\t\\t\\t\\t\\t</p> <p class=\"infoEntity sbold-list-header\"><i class=\"icon-access-time\"></i>\\n\\t\\t\\t\\t\\t\\t15 years old\\n\\t\\t\\t\\t\\t</p> <p class=\"infoEntity sbold-list-header\"><i class=\"icon-supervisor-account\"></i>\\n\\t\\t\\t\\t\\t\\t10k-50k employees (India)\\n\\t\\t\\t\\t\\t</p></div> <div class=\"chips-block\"><a href=\"/telecom-or-isp-companies-in-india\" data-filter-name=\"chips_Company-Tags_telecom-or-isp\" title=\"Telecom / ISP companies in India\" class=\"ab_chip body-medium\">\\n\\t\\t\\t\\t\\t\\tTelecom / ISP\\n\\t\\t\\t\\t\\t</a><a href=\"/public-companies-in-india\" data-filter-name=\"chips_Company-Tags_public\" title=\"Public companies in India\" class=\"ab_chip body-medium\">\\n\\t\\t\\t\\t\\t\\tPublic\\n\\t\\t\\t\\t\\t</a><a href=\"/companies-in-navi-mumbai\" data-filter-name=\"chips_Company-Tags_navi-mumbai\" title=\"Companies in Navi Mumbai,Maharashtra\" class=\"ab_chip body-medium\">\\n\\t\\t\\t\\t\\t\\tNavi Mumbai,Maharashtra\\n\\t\\t\\t\\t\\t</a></div></div></div> <!----> <p itemprop=\"description\" class=\"description body-small\">\\n\\t\\t\\t\\tMake a new start. A start that will build beautiful relationships, shape millions of ideas. Enable a new way to live, learn, work and play.\\nAt Jio, we build products and services of the future to empower billions of Indians make their dreams a reality.\\nJio is about YOU. Join the movement to make India Digital.\\n\\t\\t\\t</p></div> <div class=\"company-action-center\"><a href=\"/overview/reliance-jio-overview\" title=\"Reliance jio Overview\" class=\"body-medium\">\\n\\t\\t\\tAbout\\n\\t\\t\\t<!----></a><a href=\"/reviews/reliance-jio-reviews\" title=\"Reliance jio Reviews\" class=\"body-medium\">\\n\\t\\t\\tReviews\\n\\t\\t\\t<span class=\"caption-subdued-large\">\\n\\t\\t\\t\\t11.4k\\n\\t\\t\\t</span></a><a title=\"Reliance jio Salaries\" href=\"https://www.ambitionbox.com/salaries/reliance-jio-salaries\" class=\"body-medium\">\\n\\t\\t\\tSalaries\\n\\t\\t\\t<span class=\"caption-subdued-large\">\\n\\t\\t\\t\\t42.8k\\n\\t\\t\\t</span></a><a title=\"Reliance jio Interviews\" href=\"https://www.ambitionbox.com/interviews/reliance-jio-interview-questions\" class=\"body-medium\">\\n\\t\\t\\tInterviews\\n\\t\\t\\t<span class=\"caption-subdued-large\">\\n\\t\\t\\t\\t342\\n\\t\\t\\t</span></a><a href=\"/jobs/reliance-jio-jobs\" title=\"Reliance jio Jobs\" class=\"body-medium\">\\n\\t\\t\\tJobs\\n\\t\\t\\t<span class=\"caption-subdued-large\">\\n\\t\\t\\t\\t291\\n\\t\\t\\t</span></a></div></div><div itemprop=\"itemListElement\" itemscope=\"itemscope\" itemtype=\"http://schema.org/ListItem\" class=\"ab-company-result-card\" data-v-5051744e><meta itemprop=\"position\" content=\"16\"> <meta itemprop=\"name\" content=\"IBM\"> <meta itemprop=\"alternateName\" content=\"IBM overview\"> <meta itemprop=\"url\" content=\"https://www.ambitionbox.com/overview/ibm-overview\"> <meta itemprop=\"image\" content=\"https://static.ambitionbox.com/alpha/company/photos/logos/ibm-global-services.jpg\"> <div class=\"company-content-wrapper\"><div class=\"company-content\"><div class=\"company-logo\"><img data-src=\"https://static.ambitionbox.com/alpha/company/photos/logos/ibm-global-services.jpg\" src=\"https://static.ambitionbox.com/static/icons/company-placeholder.svg\" alt=\"IBM logo\" onerror=\"this.onerror=null;this.src=\\'/static/icons/company-placeholder.svg\\';\" class=\"lazy\"></div> <div class=\"company-info-wrapper\"><div class=\"company-info\"><div class=\"left\"><a href=\"/overview/ibm-overview\"><h2 title=\"IBM\" class=\"company-name bold-title-l\">\\n\\t\\t\\t\\t\\t\\t\\t\\tIBM\\n\\t\\t\\t\\t\\t\\t\\t</h2></a> <div class=\"rating-wrapper\"><p class=\"rating badge-large rating-4\"><i class=\"icon icon-star\"></i>\\n\\t\\t\\t\\t\\t\\t\\t\\t4.1\\n\\t\\t\\t\\t\\t\\t\\t</p> <a href=\"https://www.ambitionbox.com/reviews/ibm-reviews\" class=\"review-count sbold-Labels\">\\n\\t\\t\\t\\t\\t\\t\\t\\t(11.3k Reviews)\\n\\t\\t\\t\\t\\t\\t\\t</a></div></div> <button class=\"ab_btn follow-btn invert round\"><span class=\"ctas-btn-medium\">Follow</span></button></div> <div class=\"leaf-list-wrapper noscrollbars-sm mg-btm-16 mg-top-4\" data-v-230c1e7d><div class=\"award-leaf\" data-v-0c9b8739 data-v-230c1e7d><img width=\"15\" height=\"26\" src=\"https://static.ambitionbox.com/static/awards/black-theme/golden-leaf-left.png\" data-v-0c9b8739> <img width=\"15\" height=\"17\" src=\"https://static.ambitionbox.com/static/awards/black-theme/gold-ambox-logo.svg\" class=\"ambox-logo\" data-v-0c9b8739> <p data-v-0c9b8739>#5 Best Mega Company - 2021</p> <img width=\"15\" height=\"26\" src=\"https://static.ambitionbox.com/static/awards/black-theme/golden-leaf-right.png\" data-v-0c9b8739></div><!----> <!----></div> <div class=\"company-basic-info\"><p class=\"infoEntity sbold-list-header\"><i class=\"icon-domain\"></i>\\n\\t\\t\\t\\t\\t\\tPublic\\n\\t\\t\\t\\t\\t</p> <p class=\"infoEntity sbold-list-header\"><i class=\"icon-pin-drop\"></i>\\n\\t\\t\\t\\t\\t\\tNew York \\n\\t\\t\\t\\t\\t</p> <p class=\"infoEntity sbold-list-header\"><i class=\"icon-access-time\"></i>\\n\\t\\t\\t\\t\\t\\t111 years old\\n\\t\\t\\t\\t\\t</p> <p class=\"infoEntity sbold-list-header\"><i class=\"icon-supervisor-account\"></i>\\n\\t\\t\\t\\t\\t\\t50k-1 Lakh employees (India)\\n\\t\\t\\t\\t\\t</p></div> <div class=\"chips-block\"><a href=\"/bpo-or-kpo-companies-in-india\" data-filter-name=\"chips_Company-Tags_bpo-or-kpo\" title=\"BPO/KPO companies in India\" class=\"ab_chip body-medium\">\\n\\t\\t\\t\\t\\t\\tBPO/KPO\\n\\t\\t\\t\\t\\t</a><a href=\"/consulting-companies-in-india\" data-filter-name=\"chips_Company-Tags_consulting\" title=\"Consulting companies in India\" class=\"ab_chip body-medium\">\\n\\t\\t\\t\\t\\t\\tConsulting\\n\\t\\t\\t\\t\\t</a><a href=\"/financial-services-companies-in-india\" data-filter-name=\"chips_Company-Tags_financial-services\" title=\"Financial Services companies in India\" class=\"ab_chip body-medium\">\\n\\t\\t\\t\\t\\t\\tFinancial Services\\n\\t\\t\\t\\t\\t</a><a href=\"/analytics-or-bpm-or-research-companies-in-india\" data-filter-name=\"chips_Company-Tags_analytics-or-bpm-or-research\" title=\"Analytics / KPO / Research companies in India\" class=\"ab_chip body-medium\">\\n\\t\\t\\t\\t\\t\\tAnalytics / KPO / Research\\n\\t\\t\\t\\t\\t</a><a href=\"/bpo-or-call-centre-companies-in-india\" data-filter-name=\"chips_Company-Tags_bpo-or-call-centre\" title=\"BPO / Call Centre companies in India\" class=\"ab_chip body-medium\">\\n\\t\\t\\t\\t\\t\\tBPO / Call Centre\\n\\t\\t\\t\\t\\t</a><a href=\"/it-services-and-consulting-companies-in-india\" data-filter-name=\"chips_Company-Tags_it-services-and-consulting\" title=\"IT Services &amp; Consulting companies in India\" class=\"ab_chip body-medium\">\\n\\t\\t\\t\\t\\t\\tIT Services &amp; Consulting\\n\\t\\t\\t\\t\\t</a><a href=\"/software-product-companies-in-india\" data-filter-name=\"chips_Company-Tags_software-product\" title=\"Software Product companies in India\" class=\"ab_chip body-medium\">\\n\\t\\t\\t\\t\\t\\tSoftware Product\\n\\t\\t\\t\\t\\t</a><a href=\"/industrial-automation-companies-in-india\" data-filter-name=\"chips_Company-Tags_industrial-automation\" title=\"Industrial Automation companies in India\" class=\"ab_chip body-medium\">\\n\\t\\t\\t\\t\\t\\tIndustrial Automation\\n\\t\\t\\t\\t\\t</a><a href=\"/forbesglobal2000-companies-in-india\" data-filter-name=\"chips_Company-Tags_forbesglobal2000\" title=\"Forbes Global 2000 companies in India\" class=\"ab_chip body-medium\">\\n\\t\\t\\t\\t\\t\\tForbes Global 2000\\n\\t\\t\\t\\t\\t</a><a href=\"/public-companies-in-india\" data-filter-name=\"chips_Company-Tags_public\" title=\"Public companies in India\" class=\"ab_chip body-medium\">\\n\\t\\t\\t\\t\\t\\tPublic\\n\\t\\t\\t\\t\\t</a></div></div></div> <!----> <p itemprop=\"description\" class=\"description body-small\">\\n\\t\\t\\t\\tIBMers believe in progress—that the application of intelligence, reason and science can improve business, society and the human condition\\n\\nIBM has developed a thoughtful, comprehensive approach to corporate citizenship that we believe aligns with IBM’s values and maximised the impact we can make as a global enterprise. We focus on specific societal issues, including the environment, community economic development, education and skills, public health, literacy, language and culture.\\n\\nThe mission of India CSR is to foster life-long learning opportunities across India through streamlined initiatives that cut pathways across education [access], skills/employability [inclusion], and employment [equity and quality].\\n\\nIBM’s greatest asset is the IBMer. We believe our strength lies in the diversity of our employees. IBM encourages creative pursuits and passions outside of work, because when IBMers can explore their curiosity, it gives all of us a new outlook on the world and its possibilities for emerging tech. Together, IBM can drive progress through meaningful innovation and action.\\n\\nThe new generation of hybrid cloud enables you to build once, deploy anywhere and manage it all from a single pane of glass. So your business can adapt and transform like never before.\\n\\t\\t\\t</p></div> <div class=\"company-action-center\"><a href=\"/overview/ibm-overview\" title=\"IBM Overview\" class=\"body-medium\">\\n\\t\\t\\tAbout\\n\\t\\t\\t<!----></a><a href=\"/reviews/ibm-reviews\" title=\"IBM Reviews\" class=\"body-medium\">\\n\\t\\t\\tReviews\\n\\t\\t\\t<span class=\"caption-subdued-large\">\\n\\t\\t\\t\\t11.3k\\n\\t\\t\\t</span></a><a title=\"IBM Salaries\" href=\"https://www.ambitionbox.com/salaries/ibm-salaries\" class=\"body-medium\">\\n\\t\\t\\tSalaries\\n\\t\\t\\t<span class=\"caption-subdued-large\">\\n\\t\\t\\t\\t97.5k\\n\\t\\t\\t</span></a><a title=\"IBM Interviews\" href=\"https://www.ambitionbox.com/interviews/ibm-interview-questions\" class=\"body-medium\">\\n\\t\\t\\tInterviews\\n\\t\\t\\t<span class=\"caption-subdued-large\">\\n\\t\\t\\t\\t596\\n\\t\\t\\t</span></a><a href=\"/jobs/ibm-jobs\" title=\"IBM Jobs\" class=\"body-medium\">\\n\\t\\t\\tJobs\\n\\t\\t\\t<span class=\"caption-subdued-large\">\\n\\t\\t\\t\\t4.7k\\n\\t\\t\\t</span></a></div></div><div itemprop=\"itemListElement\" itemscope=\"itemscope\" itemtype=\"http://schema.org/ListItem\" class=\"ab-company-result-card\" data-v-5051744e><meta itemprop=\"position\" content=\"17\"> <meta itemprop=\"name\" content=\"Concentrix Corporation\"> <meta itemprop=\"alternateName\" content=\"Concentrix Corporation overview\"> <meta itemprop=\"url\" content=\"https://www.ambitionbox.com/overview/concentrix-corporation-overview\"> <meta itemprop=\"image\" content=\"https://static.ambitionbox.com/alpha/company/photos/logos/concentrix-corporation.jpg\"> <div class=\"company-content-wrapper\"><div class=\"company-content\"><div class=\"company-logo\"><img data-src=\"https://static.ambitionbox.com/alpha/company/photos/logos/concentrix-corporation.jpg\" src=\"https://static.ambitionbox.com/static/icons/company-placeholder.svg\" alt=\"Concentrix Corporation logo\" onerror=\"this.onerror=null;this.src=\\'/static/icons/company-placeholder.svg\\';\" class=\"lazy\"></div> <div class=\"company-info-wrapper\"><div class=\"company-info\"><div class=\"left\"><a href=\"/overview/concentrix-corporation-overview\"><h2 title=\"Concentrix Corporation\" class=\"company-name bold-title-l\">\\n\\t\\t\\t\\t\\t\\t\\t\\tConcentrix Corpora...\\n\\t\\t\\t\\t\\t\\t\\t</h2></a> <div class=\"rating-wrapper\"><p class=\"rating badge-large rating-4\"><i class=\"icon icon-star\"></i>\\n\\t\\t\\t\\t\\t\\t\\t\\t4.1\\n\\t\\t\\t\\t\\t\\t\\t</p> <a href=\"https://www.ambitionbox.com/reviews/concentrix-corporation-reviews\" class=\"review-count sbold-Labels\">\\n\\t\\t\\t\\t\\t\\t\\t\\t(10.9k Reviews)\\n\\t\\t\\t\\t\\t\\t\\t</a></div></div> <button class=\"ab_btn follow-btn invert round\"><span class=\"ctas-btn-medium\">Follow</span></button></div> <div class=\"leaf-list-wrapper noscrollbars-sm mg-btm-16 mg-top-4 m-justify-center \" data-v-230c1e7d><div class=\"award-leaf\" data-v-0c9b8739 data-v-230c1e7d><img width=\"15\" height=\"26\" src=\"https://static.ambitionbox.com/static/awards/black-theme/golden-leaf-left.png\" data-v-0c9b8739> <img width=\"15\" height=\"17\" src=\"https://static.ambitionbox.com/static/awards/black-theme/gold-ambox-logo.svg\" class=\"ambox-logo\" data-v-0c9b8739> <p data-v-0c9b8739>#4 Best Mega Company - 2021</p> <img width=\"15\" height=\"26\" src=\"https://static.ambitionbox.com/static/awards/black-theme/golden-leaf-right.png\" data-v-0c9b8739></div> <!----></div> <div class=\"company-basic-info\"><p class=\"infoEntity sbold-list-header\"><i class=\"icon-domain\"></i>\\n\\t\\t\\t\\t\\t\\tPublic\\n\\t\\t\\t\\t\\t</p> <p class=\"infoEntity sbold-list-header\"><i class=\"icon-pin-drop\"></i>\\n\\t\\t\\t\\t\\t\\tFremont,California + 55 more\\n\\t\\t\\t\\t\\t</p> <p class=\"infoEntity sbold-list-header\"><i class=\"icon-access-time\"></i>\\n\\t\\t\\t\\t\\t\\t39 years old\\n\\t\\t\\t\\t\\t</p> <p class=\"infoEntity sbold-list-header\"><i class=\"icon-supervisor-account\"></i>\\n\\t\\t\\t\\t\\t\\t10k-50k employees (India)\\n\\t\\t\\t\\t\\t</p></div> <div class=\"chips-block\"><a href=\"/bpo-or-kpo-companies-in-india\" data-filter-name=\"chips_Company-Tags_bpo-or-kpo\" title=\"BPO/KPO companies in India\" class=\"ab_chip body-medium\">\\n\\t\\t\\t\\t\\t\\tBPO/KPO\\n\\t\\t\\t\\t\\t</a><a href=\"/recruitment-or-staffing-companies-in-india\" data-filter-name=\"chips_Company-Tags_recruitment-or-staffing\" title=\"Recruitment / Staffing companies in India\" class=\"ab_chip body-medium\">\\n\\t\\t\\t\\t\\t\\tRecruitment / Staffing\\n\\t\\t\\t\\t\\t</a><a href=\"/bpo-or-call-centre-companies-in-india\" data-filter-name=\"chips_Company-Tags_bpo-or-call-centre\" title=\"BPO / Call Centre companies in India\" class=\"ab_chip body-medium\">\\n\\t\\t\\t\\t\\t\\tBPO / Call Centre\\n\\t\\t\\t\\t\\t</a><a href=\"/public-companies-in-india\" data-filter-name=\"chips_Company-Tags_public\" title=\"Public companies in India\" class=\"ab_chip body-medium\">\\n\\t\\t\\t\\t\\t\\tPublic\\n\\t\\t\\t\\t\\t</a></div></div></div> <!----> <p itemprop=\"description\" class=\"description body-small\">\\n\\t\\t\\t\\tConcentrix is a technology-enabled global business services company specializing in customer engagement and improving business performance. We partner with ambitious, progressive executives around the world to future-proof their business and stay ahead of the competition and customer expectations.It’s all about tapping into sentiment and building an emotional connection that keeps customers and staff fanatical about your brand. That’s where we come in—we create exceptional customer engagement, accelerate digital transformation, and deliver actionable CX insights.\\n\\t\\t\\t</p></div> <div class=\"company-action-center\"><a href=\"/overview/concentrix-corporation-overview\" title=\"Concentrix Corporation Overview\" class=\"body-medium\">\\n\\t\\t\\tAbout\\n\\t\\t\\t<!----></a><a href=\"/reviews/concentrix-corporation-reviews\" title=\"Concentrix Corporation Reviews\" class=\"body-medium\">\\n\\t\\t\\tReviews\\n\\t\\t\\t<span class=\"caption-subdued-large\">\\n\\t\\t\\t\\t10.9k\\n\\t\\t\\t</span></a><a title=\"Concentrix Corporation Salaries\" href=\"https://www.ambitionbox.com/salaries/concentrix-corporation-salaries\" class=\"body-medium\">\\n\\t\\t\\tSalaries\\n\\t\\t\\t<span class=\"caption-subdued-large\">\\n\\t\\t\\t\\t39.7k\\n\\t\\t\\t</span></a><a title=\"Concentrix Corporation Interviews\" href=\"https://www.ambitionbox.com/interviews/concentrix-corporation-interview-questions\" class=\"body-medium\">\\n\\t\\t\\tInterviews\\n\\t\\t\\t<span class=\"caption-subdued-large\">\\n\\t\\t\\t\\t362\\n\\t\\t\\t</span></a><a href=\"/jobs/concentrix-corporation-jobs\" title=\"Concentrix Corporation Jobs\" class=\"body-medium\">\\n\\t\\t\\tJobs\\n\\t\\t\\t<span class=\"caption-subdued-large\">\\n\\t\\t\\t\\t101\\n\\t\\t\\t</span></a></div></div><div itemprop=\"itemListElement\" itemscope=\"itemscope\" itemtype=\"http://schema.org/ListItem\" class=\"ab-company-result-card\" data-v-5051744e><meta itemprop=\"position\" content=\"18\"> <meta itemprop=\"name\" content=\"Amazon\"> <meta itemprop=\"alternateName\" content=\"Amazon overview\"> <meta itemprop=\"url\" content=\"https://www.ambitionbox.com/overview/amazon-overview\"> <meta itemprop=\"image\" content=\"https://static.ambitionbox.com/alpha/company/photos/logos/amazon.jpg\"> <div class=\"company-content-wrapper\"><div class=\"company-content\"><div class=\"company-logo\"><img data-src=\"https://static.ambitionbox.com/alpha/company/photos/logos/amazon.jpg\" src=\"https://static.ambitionbox.com/static/icons/company-placeholder.svg\" alt=\"Amazon logo\" onerror=\"this.onerror=null;this.src=\\'/static/icons/company-placeholder.svg\\';\" class=\"lazy\"></div> <div class=\"company-info-wrapper\"><div class=\"company-info\"><div class=\"left\"><a href=\"/overview/amazon-overview\"><h2 title=\"Amazon\" class=\"company-name bold-title-l\">\\n\\t\\t\\t\\t\\t\\t\\t\\tAmazon\\n\\t\\t\\t\\t\\t\\t\\t</h2></a> <div class=\"rating-wrapper\"><p class=\"rating badge-large rating-4\"><i class=\"icon icon-star\"></i>\\n\\t\\t\\t\\t\\t\\t\\t\\t4.2\\n\\t\\t\\t\\t\\t\\t\\t</p> <a href=\"https://www.ambitionbox.com/reviews/amazon-reviews\" class=\"review-count sbold-Labels\">\\n\\t\\t\\t\\t\\t\\t\\t\\t(10.3k Reviews)\\n\\t\\t\\t\\t\\t\\t\\t</a></div></div> <button class=\"ab_btn follow-btn invert round\"><span class=\"ctas-btn-medium\">Follow</span></button></div> <div class=\"leaf-list-wrapper noscrollbars-sm mg-btm-16 mg-top-4\" data-v-230c1e7d><div class=\"award-leaf\" data-v-0c9b8739 data-v-230c1e7d><img width=\"15\" height=\"26\" src=\"https://static.ambitionbox.com/static/awards/black-theme/golden-leaf-left.png\" data-v-0c9b8739> <img width=\"15\" height=\"17\" src=\"https://static.ambitionbox.com/static/awards/black-theme/gold-ambox-logo.svg\" class=\"ambox-logo\" data-v-0c9b8739> <p data-v-0c9b8739>#1 Best Mega Company - 2021</p> <img width=\"15\" height=\"26\" src=\"https://static.ambitionbox.com/static/awards/black-theme/golden-leaf-right.png\" data-v-0c9b8739></div><!----> <!----></div> <div class=\"company-basic-info\"><p class=\"infoEntity sbold-list-header\"><i class=\"icon-domain\"></i>\\n\\t\\t\\t\\t\\t\\tPrivate\\n\\t\\t\\t\\t\\t</p> <p class=\"infoEntity sbold-list-header\"><i class=\"icon-pin-drop\"></i>\\n\\t\\t\\t\\t\\t\\tSeattle,Washington \\n\\t\\t\\t\\t\\t</p> <p class=\"infoEntity sbold-list-header\"><i class=\"icon-access-time\"></i>\\n\\t\\t\\t\\t\\t\\t28 years old\\n\\t\\t\\t\\t\\t</p> <p class=\"infoEntity sbold-list-header\"><i class=\"icon-supervisor-account\"></i>\\n\\t\\t\\t\\t\\t\\t10k-50k employees (India)\\n\\t\\t\\t\\t\\t</p></div> <div class=\"chips-block\"><a href=\"/internet-companies-in-india\" data-filter-name=\"chips_Company-Tags_internet\" title=\"Internet companies in India\" class=\"ab_chip body-medium\">\\n\\t\\t\\t\\t\\t\\tInternet\\n\\t\\t\\t\\t\\t</a><a href=\"/retail-companies-in-india\" data-filter-name=\"chips_Company-Tags_retail\" title=\"Retail companies in India\" class=\"ab_chip body-medium\">\\n\\t\\t\\t\\t\\t\\tRetail\\n\\t\\t\\t\\t\\t</a><a href=\"/courier-or-logistics-companies-in-india\" data-filter-name=\"chips_Company-Tags_courier-or-logistics\" title=\"Courier / Logistics companies in India\" class=\"ab_chip body-medium\">\\n\\t\\t\\t\\t\\t\\tCourier / Logistics\\n\\t\\t\\t\\t\\t</a><a href=\"/it-services-and-consulting-companies-in-india\" data-filter-name=\"chips_Company-Tags_it-services-and-consulting\" title=\"IT Services &amp; Consulting companies in India\" class=\"ab_chip body-medium\">\\n\\t\\t\\t\\t\\t\\tIT Services &amp; Consulting\\n\\t\\t\\t\\t\\t</a><a href=\"/software-product-companies-in-india\" data-filter-name=\"chips_Company-Tags_software-product\" title=\"Software Product companies in India\" class=\"ab_chip body-medium\">\\n\\t\\t\\t\\t\\t\\tSoftware Product\\n\\t\\t\\t\\t\\t</a><a href=\"/forbesglobal2000-companies-in-india\" data-filter-name=\"chips_Company-Tags_forbesglobal2000\" title=\"Forbes Global 2000 companies in India\" class=\"ab_chip body-medium\">\\n\\t\\t\\t\\t\\t\\tForbes Global 2000\\n\\t\\t\\t\\t\\t</a></div></div></div> <!----> <p itemprop=\"description\" class=\"description body-small\">\\n\\t\\t\\t\\tAmazon is guided by four principles: customer obsession rather than competitor focus, passion for invention, commitment to operational excellence, and long-term thinking. \\n\\nWe are driven by the excitement of building technologies, inventing products, and providing services that change lives. We embrace new ways of doing things, make decisions quickly, and are not afraid to fail. We have the scope and capabilities of a large company and the spirit and heart of a small one. \\n\\nTogether, Amazonians research and develop new technologies from Amazon Web Services to Alexa on behalf of our customers: shoppers, sellers, content creators, and developers around the world. \\n\\nOur mission is to be Earth\\'s most customer-centric company. Our actions, goals, projects, programs, and inventions begin and end with the customer\\'s top of mind. \\n\\nYou\\'ll also hear us say that at Amazon, it\\'s always &quot;Day 1.&quot;\\u200b What do we mean? That our approach remains the same as it was on Amazon\\'s very first day - to make smart, fast decisions, stay nimble, invent, and focus on delighting our customers.\\n\\t\\t\\t</p></div> <div class=\"company-action-center\"><a href=\"/overview/amazon-overview\" title=\"Amazon Overview\" class=\"body-medium\">\\n\\t\\t\\tAbout\\n\\t\\t\\t<!----></a><a href=\"/reviews/amazon-reviews\" title=\"Amazon Reviews\" class=\"body-medium\">\\n\\t\\t\\tReviews\\n\\t\\t\\t<span class=\"caption-subdued-large\">\\n\\t\\t\\t\\t10.3k\\n\\t\\t\\t</span></a><a title=\"Amazon Salaries\" href=\"https://www.ambitionbox.com/salaries/amazon-salaries\" class=\"body-medium\">\\n\\t\\t\\tSalaries\\n\\t\\t\\t<span class=\"caption-subdued-large\">\\n\\t\\t\\t\\t61.1k\\n\\t\\t\\t</span></a><a title=\"Amazon Interviews\" href=\"https://www.ambitionbox.com/interviews/amazon-interview-questions\" class=\"body-medium\">\\n\\t\\t\\tInterviews\\n\\t\\t\\t<span class=\"caption-subdued-large\">\\n\\t\\t\\t\\t1.4k\\n\\t\\t\\t</span></a><a href=\"/jobs/amazon-jobs\" title=\"Amazon Jobs\" class=\"body-medium\">\\n\\t\\t\\tJobs\\n\\t\\t\\t<span class=\"caption-subdued-large\">\\n\\t\\t\\t\\t604\\n\\t\\t\\t</span></a></div></div><div itemprop=\"itemListElement\" itemscope=\"itemscope\" itemtype=\"http://schema.org/ListItem\" class=\"ab-company-result-card\" data-v-5051744e><meta itemprop=\"position\" content=\"19\"> <meta itemprop=\"name\" content=\"HDB Financial Services\"> <meta itemprop=\"alternateName\" content=\"HDB Financial Services overview\"> <meta itemprop=\"url\" content=\"https://www.ambitionbox.com/overview/hdb-financial-services-overview\"> <meta itemprop=\"image\" content=\"https://static.ambitionbox.com/alpha/company/photos/logos/hdb-financial-services-6193.jpg\"> <div class=\"company-content-wrapper\"><div class=\"company-content\"><div class=\"company-logo\"><img data-src=\"https://static.ambitionbox.com/alpha/company/photos/logos/hdb-financial-services-6193.jpg\" src=\"https://static.ambitionbox.com/static/icons/company-placeholder.svg\" alt=\"HDB Financial Services logo\" onerror=\"this.onerror=null;this.src=\\'/static/icons/company-placeholder.svg\\';\" class=\"lazy\"></div> <div class=\"company-info-wrapper\"><div class=\"company-info\"><div class=\"left\"><a href=\"/overview/hdb-financial-services-overview\"><h2 title=\"HDB Financial Services\" class=\"company-name bold-title-l\">\\n\\t\\t\\t\\t\\t\\t\\t\\tHDB Financial Serv...\\n\\t\\t\\t\\t\\t\\t\\t</h2></a> <div class=\"rating-wrapper\"><p class=\"rating badge-large rating-4\"><i class=\"icon icon-star\"></i>\\n\\t\\t\\t\\t\\t\\t\\t\\t4.0\\n\\t\\t\\t\\t\\t\\t\\t</p> <a href=\"https://www.ambitionbox.com/reviews/hdb-financial-services-reviews\" class=\"review-count sbold-Labels\">\\n\\t\\t\\t\\t\\t\\t\\t\\t(9.9k Reviews)\\n\\t\\t\\t\\t\\t\\t\\t</a></div></div> <button class=\"ab_btn follow-btn invert round\"><span class=\"ctas-btn-medium\">Follow</span></button></div> <div class=\"leaf-list-wrapper noscrollbars-sm mg-btm-16 mg-top-4 m-justify-center \" data-v-230c1e7d><div class=\"award-leaf\" data-v-0c9b8739 data-v-230c1e7d><img width=\"15\" height=\"26\" src=\"https://static.ambitionbox.com/static/awards/black-theme/golden-leaf-left.png\" data-v-0c9b8739> <img width=\"15\" height=\"17\" src=\"https://static.ambitionbox.com/static/awards/black-theme/gold-ambox-logo.svg\" class=\"ambox-logo\" data-v-0c9b8739> <p data-v-0c9b8739>#1 Best Mega Financial Services Company - 2021</p> <img width=\"15\" height=\"26\" src=\"https://static.ambitionbox.com/static/awards/black-theme/golden-leaf-right.png\" data-v-0c9b8739></div> <!----></div> <div class=\"company-basic-info\"><p class=\"infoEntity sbold-list-header\"><i class=\"icon-domain\"></i>\\n\\t\\t\\t\\t\\t\\tPrivate\\n\\t\\t\\t\\t\\t</p> <p class=\"infoEntity sbold-list-header\"><i class=\"icon-pin-drop\"></i>\\n\\t\\t\\t\\t\\t\\tAhmedabad,Gujrat \\n\\t\\t\\t\\t\\t</p> <p class=\"infoEntity sbold-list-header\"><i class=\"icon-access-time\"></i>\\n\\t\\t\\t\\t\\t\\t15 years old\\n\\t\\t\\t\\t\\t</p> <p class=\"infoEntity sbold-list-header\"><i class=\"icon-supervisor-account\"></i>\\n\\t\\t\\t\\t\\t\\t1 Lakh+ employees (India)\\n\\t\\t\\t\\t\\t</p></div> <div class=\"chips-block\"><a href=\"/financial-services-companies-in-india\" data-filter-name=\"chips_Company-Tags_financial-services\" title=\"Financial Services companies in India\" class=\"ab_chip body-medium\">\\n\\t\\t\\t\\t\\t\\tFinancial Services\\n\\t\\t\\t\\t\\t</a><a href=\"/nbfc-companies-in-india\" data-filter-name=\"chips_Company-Tags_nbfc\" title=\"NBFC companies in India\" class=\"ab_chip body-medium\">\\n\\t\\t\\t\\t\\t\\tNBFC\\n\\t\\t\\t\\t\\t</a><a href=\"/companies-in-ahmedabad\" data-filter-name=\"chips_Company-Tags_ahmedabad\" title=\"Companies in Ahmedabad,Gujrat\" class=\"ab_chip body-medium\">\\n\\t\\t\\t\\t\\t\\tAhmedabad,Gujrat\\n\\t\\t\\t\\t\\t</a></div></div></div> <!----> <p itemprop=\"description\" class=\"description body-small\">\\n\\t\\t\\t\\tHDB Financial Services (HDBFS) is a leading Non-Banking Financial Company (NBFC) that caters to the growing needs of an Aspirational India, serving both Individual &amp; Business Clients.\\n\\nIncorporated in 2007, we are a well-established business with strong capitalization. HDBFS is accredited with CARE AAA &amp; CRISIL AAA ratings for its long-term debt &amp; Bank facilities and an A1+ rating for its short-term debt &amp; commercial papers, making it a strong and reliable financial institution.\\n\\nHDBFS maintains a strong commitment to ethical conduct. Transparency is ingrained in the structure of our Code of Ethics and our compliance policies to ensure that the highest standards of professional conduct are consistently reinforced and embedded in every corner of the organisation.\\n\\n\\t\\t\\t</p></div> <div class=\"company-action-center\"><a href=\"/overview/hdb-financial-services-overview\" title=\"HDB Financial Services Overview\" class=\"body-medium\">\\n\\t\\t\\tAbout\\n\\t\\t\\t<!----></a><a href=\"/reviews/hdb-financial-services-reviews\" title=\"HDB Financial Services Reviews\" class=\"body-medium\">\\n\\t\\t\\tReviews\\n\\t\\t\\t<span class=\"caption-subdued-large\">\\n\\t\\t\\t\\t9.9k\\n\\t\\t\\t</span></a><a title=\"HDB Financial Services Salaries\" href=\"https://www.ambitionbox.com/salaries/hdb-financial-services-salaries\" class=\"body-medium\">\\n\\t\\t\\tSalaries\\n\\t\\t\\t<span class=\"caption-subdued-large\">\\n\\t\\t\\t\\t37.6k\\n\\t\\t\\t</span></a><a title=\"HDB Financial Services Interviews\" href=\"https://www.ambitionbox.com/interviews/hdb-financial-services-interview-questions\" class=\"body-medium\">\\n\\t\\t\\tInterviews\\n\\t\\t\\t<span class=\"caption-subdued-large\">\\n\\t\\t\\t\\t198\\n\\t\\t\\t</span></a><a href=\"/jobs/hdb-financial-services-jobs\" title=\"HDB Financial Services Jobs\" class=\"body-medium\">\\n\\t\\t\\tJobs\\n\\t\\t\\t<span class=\"caption-subdued-large\">\\n\\t\\t\\t\\t169\\n\\t\\t\\t</span></a></div></div><div itemprop=\"itemListElement\" itemscope=\"itemscope\" itemtype=\"http://schema.org/ListItem\" class=\"ab-company-result-card\" data-v-5051744e><meta itemprop=\"position\" content=\"20\"> <meta itemprop=\"name\" content=\"Kotak Mahindra Bank\"> <meta itemprop=\"alternateName\" content=\"Kotak Mahindra Bank Ltd..\"> <meta itemprop=\"url\" content=\"https://www.ambitionbox.com/overview/kotak-mahindra-bank-overview\"> <meta itemprop=\"image\" content=\"https://static.ambitionbox.com/alpha/company/photos/logos/kotak-mahindra-bank.jpg\"> <div class=\"company-content-wrapper\"><div class=\"company-content\"><div class=\"company-logo\"><img data-src=\"https://static.ambitionbox.com/alpha/company/photos/logos/kotak-mahindra-bank.jpg\" src=\"https://static.ambitionbox.com/static/icons/company-placeholder.svg\" alt=\"Kotak Mahindra Bank Ltd.. logo\" onerror=\"this.onerror=null;this.src=\\'/static/icons/company-placeholder.svg\\';\" class=\"lazy\"></div> <div class=\"company-info-wrapper\"><div class=\"company-info\"><div class=\"left\"><a href=\"/overview/kotak-mahindra-bank-overview\"><h2 title=\"Kotak Mahindra Bank\" class=\"company-name bold-title-l\">\\n\\t\\t\\t\\t\\t\\t\\t\\tKotak Mahindra Ban...\\n\\t\\t\\t\\t\\t\\t\\t</h2></a> <div class=\"rating-wrapper\"><p class=\"rating badge-large rating-35\"><i class=\"icon icon-star\"></i>\\n\\t\\t\\t\\t\\t\\t\\t\\t3.9\\n\\t\\t\\t\\t\\t\\t\\t</p> <a href=\"https://www.ambitionbox.com/reviews/kotak-mahindra-bank-reviews\" class=\"review-count sbold-Labels\">\\n\\t\\t\\t\\t\\t\\t\\t\\t(10.2k Reviews)\\n\\t\\t\\t\\t\\t\\t\\t</a></div></div> <button class=\"ab_btn follow-btn invert round\"><span class=\"ctas-btn-medium\">Follow</span></button></div> <!----> <div class=\"company-basic-info\"><p class=\"infoEntity sbold-list-header\"><i class=\"icon-domain\"></i>\\n\\t\\t\\t\\t\\t\\tPublic\\n\\t\\t\\t\\t\\t</p> <p class=\"infoEntity sbold-list-header\"><i class=\"icon-pin-drop\"></i>\\n\\t\\t\\t\\t\\t\\tMumbai,Maharashtra \\n\\t\\t\\t\\t\\t</p> <p class=\"infoEntity sbold-list-header\"><i class=\"icon-access-time\"></i>\\n\\t\\t\\t\\t\\t\\t19 years old\\n\\t\\t\\t\\t\\t</p> <p class=\"infoEntity sbold-list-header\"><i class=\"icon-supervisor-account\"></i>\\n\\t\\t\\t\\t\\t\\t10k-50k employees (India)\\n\\t\\t\\t\\t\\t</p></div> <div class=\"chips-block\"><a href=\"/financial-services-companies-in-india\" data-filter-name=\"chips_Company-Tags_financial-services\" title=\"Financial Services companies in India\" class=\"ab_chip body-medium\">\\n\\t\\t\\t\\t\\t\\tFinancial Services\\n\\t\\t\\t\\t\\t</a><a href=\"/banking-companies-in-india\" data-filter-name=\"chips_Company-Tags_banking\" title=\"Banking companies in India\" class=\"ab_chip body-medium\">\\n\\t\\t\\t\\t\\t\\tBanking\\n\\t\\t\\t\\t\\t</a><a href=\"/conglomerate-companies-in-india\" data-filter-name=\"chips_Company-Tags_conglomerate\" title=\"Conglomerate companies in India\" class=\"ab_chip body-medium\">\\n\\t\\t\\t\\t\\t\\tConglomerate\\n\\t\\t\\t\\t\\t</a><a href=\"/fortune500-companies-in-india\" data-filter-name=\"chips_Company-Tags_fortune500\" title=\"Fortune500 companies in India\" class=\"ab_chip body-medium\">\\n\\t\\t\\t\\t\\t\\tFortune500\\n\\t\\t\\t\\t\\t</a><a href=\"/forbesglobal2000-companies-in-india\" data-filter-name=\"chips_Company-Tags_forbesglobal2000\" title=\"Forbes Global 2000 companies in India\" class=\"ab_chip body-medium\">\\n\\t\\t\\t\\t\\t\\tForbes Global 2000\\n\\t\\t\\t\\t\\t</a><a href=\"/public-companies-in-india\" data-filter-name=\"chips_Company-Tags_public\" title=\"Public companies in India\" class=\"ab_chip body-medium\">\\n\\t\\t\\t\\t\\t\\tPublic\\n\\t\\t\\t\\t\\t</a><a href=\"/companies-in-mumbai\" data-filter-name=\"chips_Company-Tags_mumbai\" title=\"Companies in Mumbai,Maharashtra\" class=\"ab_chip body-medium\">\\n\\t\\t\\t\\t\\t\\tMumbai,Maharashtra\\n\\t\\t\\t\\t\\t</a></div></div></div> <!----> <p itemprop=\"description\" class=\"description body-small\">\\n\\t\\t\\t\\tIn February 2003, Kotak Mahindra Finance Ltd. (KMFL), the Group\\'s flagship company, received banking license from the Reserve Bank of India (RBI), becoming the first non-banking finance company in India to convert into a bank - Kotak Mahindra Bank Ltd.\\nEffective April 1, 2015, ING Vysya Bank Ltd. merged with Kotak Mahindra Bank Ltd. \\nThe Bank has four Strategic Business Units – Consumer Banking, Corporate Banking, Commercial Banking and Treasury, which cater to retail and corporate customers across urban and rural India.\\n\\nThe Group offers a wide range of financial services that encompass every sphere of life. From commercial banking, to stock broking, mutual funds, life insurance and investment banking, the Group caters to the diverse financial needs of individuals and the corporate sector. The Group has a wide distribution network through branches and franchisees across India, and international offices in London, New York, California, Dubai, Abu Dhabi, Bahrain, Mauritius and Singapore.\\n\\t\\t\\t</p></div> <div class=\"company-action-center\"><a href=\"/overview/kotak-mahindra-bank-overview\" title=\"Kotak Mahindra Bank Overview\" class=\"body-medium\">\\n\\t\\t\\tAbout\\n\\t\\t\\t<!----></a><a href=\"/reviews/kotak-mahindra-bank-reviews\" title=\"Kotak Mahindra Bank Reviews\" class=\"body-medium\">\\n\\t\\t\\tReviews\\n\\t\\t\\t<span class=\"caption-subdued-large\">\\n\\t\\t\\t\\t10.2k\\n\\t\\t\\t</span></a><a title=\"Kotak Mahindra Bank Salaries\" href=\"https://www.ambitionbox.com/salaries/kotak-mahindra-bank-salaries\" class=\"body-medium\">\\n\\t\\t\\tSalaries\\n\\t\\t\\t<span class=\"caption-subdued-large\">\\n\\t\\t\\t\\t41.7k\\n\\t\\t\\t</span></a><a title=\"Kotak Mahindra Bank Interviews\" href=\"https://www.ambitionbox.com/interviews/kotak-mahindra-bank-interview-questions\" class=\"body-medium\">\\n\\t\\t\\tInterviews\\n\\t\\t\\t<span class=\"caption-subdued-large\">\\n\\t\\t\\t\\t264\\n\\t\\t\\t</span></a><a href=\"/jobs/kotak-mahindra-bank-jobs\" title=\"Kotak Mahindra Bank Jobs\" class=\"body-medium\">\\n\\t\\t\\tJobs\\n\\t\\t\\t<span class=\"caption-subdued-large\">\\n\\t\\t\\t\\t113\\n\\t\\t\\t</span></a></div></div><div itemprop=\"itemListElement\" itemscope=\"itemscope\" itemtype=\"http://schema.org/ListItem\" class=\"ab-company-result-card\" data-v-5051744e><meta itemprop=\"position\" content=\"21\"> <meta itemprop=\"name\" content=\"Teleperformance\"> <meta itemprop=\"alternateName\" content=\"Teleperformance overview\"> <meta itemprop=\"url\" content=\"https://www.ambitionbox.com/overview/teleperformance-overview\"> <meta itemprop=\"image\" content=\"https://static.ambitionbox.com/alpha/company/photos/logos/teleperformance-group.jpg\"> <div class=\"company-content-wrapper\"><div class=\"company-content\"><div class=\"company-logo\"><img data-src=\"https://static.ambitionbox.com/alpha/company/photos/logos/teleperformance-group.jpg\" src=\"https://static.ambitionbox.com/static/icons/company-placeholder.svg\" alt=\"Teleperformance logo\" onerror=\"this.onerror=null;this.src=\\'/static/icons/company-placeholder.svg\\';\" class=\"lazy\"></div> <div class=\"company-info-wrapper\"><div class=\"company-info\"><div class=\"left\"><a href=\"/overview/teleperformance-overview\"><h2 title=\"Teleperformance\" class=\"company-name bold-title-l\">\\n\\t\\t\\t\\t\\t\\t\\t\\tTeleperformance\\n\\t\\t\\t\\t\\t\\t\\t</h2></a> <div class=\"rating-wrapper\"><p class=\"rating badge-large rating-35\"><i class=\"icon icon-star\"></i>\\n\\t\\t\\t\\t\\t\\t\\t\\t3.6\\n\\t\\t\\t\\t\\t\\t\\t</p> <a href=\"https://www.ambitionbox.com/reviews/teleperformance-reviews\" class=\"review-count sbold-Labels\">\\n\\t\\t\\t\\t\\t\\t\\t\\t(7.4k Reviews)\\n\\t\\t\\t\\t\\t\\t\\t</a></div></div> <button class=\"ab_btn follow-btn invert round\"><span class=\"ctas-btn-medium\">Follow</span></button></div> <!----> <div class=\"company-basic-info\"><p class=\"infoEntity sbold-list-header\"><i class=\"icon-domain\"></i>\\n\\t\\t\\t\\t\\t\\tPrivate\\n\\t\\t\\t\\t\\t</p> <p class=\"infoEntity sbold-list-header\"><i class=\"icon-pin-drop\"></i>\\n\\t\\t\\t\\t\\t\\tParis \\n\\t\\t\\t\\t\\t</p> <p class=\"infoEntity sbold-list-header\"><i class=\"icon-access-time\"></i>\\n\\t\\t\\t\\t\\t\\t44 years old\\n\\t\\t\\t\\t\\t</p> <p class=\"infoEntity sbold-list-header\"><i class=\"icon-supervisor-account\"></i>\\n\\t\\t\\t\\t\\t\\t50k-1 Lakh employees (India)\\n\\t\\t\\t\\t\\t</p></div> <div class=\"chips-block\"><a href=\"/bpo-or-call-centre-companies-in-india\" data-filter-name=\"chips_Company-Tags_bpo-or-call-centre\" title=\"BPO / Call Centre companies in India\" class=\"ab_chip body-medium\">\\n\\t\\t\\t\\t\\t\\tBPO / Call Centre\\n\\t\\t\\t\\t\\t</a><a href=\"/it-services-and-consulting-companies-in-india\" data-filter-name=\"chips_Company-Tags_it-services-and-consulting\" title=\"IT Services &amp; Consulting companies in India\" class=\"ab_chip body-medium\">\\n\\t\\t\\t\\t\\t\\tIT Services &amp; Consulting\\n\\t\\t\\t\\t\\t</a><a href=\"/forbesglobal2000-companies-in-india\" data-filter-name=\"chips_Company-Tags_forbesglobal2000\" title=\"Forbes Global 2000 companies in India\" class=\"ab_chip body-medium\">\\n\\t\\t\\t\\t\\t\\tForbes Global 2000\\n\\t\\t\\t\\t\\t</a></div></div></div> <!----> <p itemprop=\"description\" class=\"description body-small\">\\n\\t\\t\\t\\tTeleperformance is the agile business services partner that companies need in this digital world.\\nFor over 40 years, Teleperformance has been connecting customers with the world’s most successful companies. It is the global leader in customer experience outsourcing management and the trusted provider of digitally integrated business services.\\nAt Teleperformance, we combine human touch and high technology to deliver extraordinary customer experiences. While technology creates new and agile ways of working, our interaction experts remain committed to creating unique connections through empathy, adaptive communication skills, and more importantly, a passion to make it happen.\\n\\t\\t\\t</p></div> <div class=\"company-action-center\"><a href=\"/overview/teleperformance-overview\" title=\"Teleperformance Overview\" class=\"body-medium\">\\n\\t\\t\\tAbout\\n\\t\\t\\t<!----></a><a href=\"/reviews/teleperformance-reviews\" title=\"Teleperformance Reviews\" class=\"body-medium\">\\n\\t\\t\\tReviews\\n\\t\\t\\t<span class=\"caption-subdued-large\">\\n\\t\\t\\t\\t7.4k\\n\\t\\t\\t</span></a><a title=\"Teleperformance Salaries\" href=\"https://www.ambitionbox.com/salaries/teleperformance-salaries\" class=\"body-medium\">\\n\\t\\t\\tSalaries\\n\\t\\t\\t<span class=\"caption-subdued-large\">\\n\\t\\t\\t\\t36.6k\\n\\t\\t\\t</span></a><a title=\"Teleperformance Interviews\" href=\"https://www.ambitionbox.com/interviews/teleperformance-interview-questions\" class=\"body-medium\">\\n\\t\\t\\tInterviews\\n\\t\\t\\t<span class=\"caption-subdued-large\">\\n\\t\\t\\t\\t360\\n\\t\\t\\t</span></a><a href=\"/jobs/teleperformance-jobs\" title=\"Teleperformance Jobs\" class=\"body-medium\">\\n\\t\\t\\tJobs\\n\\t\\t\\t<span class=\"caption-subdued-large\">\\n\\t\\t\\t\\t237\\n\\t\\t\\t</span></a></div></div><div itemprop=\"itemListElement\" itemscope=\"itemscope\" itemtype=\"http://schema.org/ListItem\" class=\"ab-company-result-card\" data-v-5051744e><meta itemprop=\"position\" content=\"22\"> <meta itemprop=\"name\" content=\"Tata Motors\"> <meta itemprop=\"alternateName\" content=\"Tata Motors overview\"> <meta itemprop=\"url\" content=\"https://www.ambitionbox.com/overview/tata-motors-overview\"> <meta itemprop=\"image\" content=\"https://static.ambitionbox.com/alpha/company/photos/logos/tata-motors.jpg\"> <div class=\"company-content-wrapper\"><div class=\"company-content\"><div class=\"company-logo\"><img data-src=\"https://static.ambitionbox.com/alpha/company/photos/logos/tata-motors.jpg\" src=\"https://static.ambitionbox.com/static/icons/company-placeholder.svg\" alt=\"Tata Motors logo\" onerror=\"this.onerror=null;this.src=\\'/static/icons/company-placeholder.svg\\';\" class=\"lazy\"></div> <div class=\"company-info-wrapper\"><div class=\"company-info\"><div class=\"left\"><a href=\"/overview/tata-motors-overview\"><h2 title=\"Tata Motors\" class=\"company-name bold-title-l\">\\n\\t\\t\\t\\t\\t\\t\\t\\tTata Motors\\n\\t\\t\\t\\t\\t\\t\\t</h2></a> <div class=\"rating-wrapper\"><p class=\"rating badge-large rating-4\"><i class=\"icon icon-star\"></i>\\n\\t\\t\\t\\t\\t\\t\\t\\t4.1\\n\\t\\t\\t\\t\\t\\t\\t</p> <a href=\"https://www.ambitionbox.com/reviews/tata-motors-reviews\" class=\"review-count sbold-Labels\">\\n\\t\\t\\t\\t\\t\\t\\t\\t(7.4k Reviews)\\n\\t\\t\\t\\t\\t\\t\\t</a></div></div> <button class=\"ab_btn follow-btn invert round\"><span class=\"ctas-btn-medium\">Follow</span></button></div> <div class=\"leaf-list-wrapper noscrollbars-sm mg-btm-16 mg-top-4\" data-v-230c1e7d><div class=\"award-leaf\" data-v-0c9b8739 data-v-230c1e7d><img width=\"15\" height=\"26\" src=\"https://static.ambitionbox.com/static/awards/black-theme/golden-leaf-left.png\" data-v-0c9b8739> <img width=\"15\" height=\"17\" src=\"https://static.ambitionbox.com/static/awards/black-theme/gold-ambox-logo.svg\" class=\"ambox-logo\" data-v-0c9b8739> <p data-v-0c9b8739>#2 Best Mega Company - 2021</p> <img width=\"15\" height=\"26\" src=\"https://static.ambitionbox.com/static/awards/black-theme/golden-leaf-right.png\" data-v-0c9b8739></div><!----> <!----></div> <div class=\"company-basic-info\"><p class=\"infoEntity sbold-list-header\"><i class=\"icon-domain\"></i>\\n\\t\\t\\t\\t\\t\\tPublic\\n\\t\\t\\t\\t\\t</p> <p class=\"infoEntity sbold-list-header\"><i class=\"icon-pin-drop\"></i>\\n\\t\\t\\t\\t\\t\\tPune,Maharashtra + 348 more\\n\\t\\t\\t\\t\\t</p> <p class=\"infoEntity sbold-list-header\"><i class=\"icon-access-time\"></i>\\n\\t\\t\\t\\t\\t\\t77 years old\\n\\t\\t\\t\\t\\t</p> <p class=\"infoEntity sbold-list-header\"><i class=\"icon-supervisor-account\"></i>\\n\\t\\t\\t\\t\\t\\t50k-1 Lakh employees (India)\\n\\t\\t\\t\\t\\t</p></div> <div class=\"chips-block\"><a href=\"/automobile-companies-in-india\" data-filter-name=\"chips_Company-Tags_automobile\" title=\"Automobile companies in India\" class=\"ab_chip body-medium\">\\n\\t\\t\\t\\t\\t\\tAutomobile\\n\\t\\t\\t\\t\\t</a><a href=\"/manufacturing-companies-in-india\" data-filter-name=\"chips_Company-Tags_manufacturing\" title=\"Manufacturing companies in India\" class=\"ab_chip body-medium\">\\n\\t\\t\\t\\t\\t\\tManufacturing\\n\\t\\t\\t\\t\\t</a><a href=\"/fortune500-companies-in-india\" data-filter-name=\"chips_Company-Tags_fortune500\" title=\"Fortune500 companies in India\" class=\"ab_chip body-medium\">\\n\\t\\t\\t\\t\\t\\tFortune500\\n\\t\\t\\t\\t\\t</a><a href=\"/forbesglobal2000-companies-in-india\" data-filter-name=\"chips_Company-Tags_forbesglobal2000\" title=\"Forbes Global 2000 companies in India\" class=\"ab_chip body-medium\">\\n\\t\\t\\t\\t\\t\\tForbes Global 2000\\n\\t\\t\\t\\t\\t</a><a href=\"/public-companies-in-india\" data-filter-name=\"chips_Company-Tags_public\" title=\"Public companies in India\" class=\"ab_chip body-medium\">\\n\\t\\t\\t\\t\\t\\tPublic\\n\\t\\t\\t\\t\\t</a><a href=\"/companies-in-pune\" data-filter-name=\"chips_Company-Tags_pune\" title=\"Companies in Pune,Maharashtra\" class=\"ab_chip body-medium\">\\n\\t\\t\\t\\t\\t\\tPune,Maharashtra\\n\\t\\t\\t\\t\\t</a></div></div></div> <!----> <p itemprop=\"description\" class=\"description body-small\">\\n\\t\\t\\t\\tTata Motors Group (Tata Motors) is a $34 billion organization. It is a leading global automobile manufacturing company. Its diverse portfolio includes an extensive range of cars, sports utility vehicles, trucks, buses, and defence vehicles. \\n\\nTata Motors is one of India\\'s largest OEMs offering an extensive range of integrated, smart, and e-mobility solutions. Part of the USD110 billion Tata group founded by Jamsetji Tata in 1868, Tata Motors is among the world’s leading manufacturers of automobiles. \\n\\nWe believe in ‘Connecting aspirations’, by offering innovative mobility solutions that are in line with customers\\' aspirations. We are India\\'s largest automobile manufacturer, and we continue to take the lead in shaping the Indian commercial vehicle landscape, with the introduction of leading-edge powertrains and electric solutions packaged for power performances and user comfort at the lowest life-cycle costs. \\n\\nOur new passenger cars and utility vehicles are based on Impact Design and offer a superior blend of performance, driveability, and connectivity.\\n\\nOur focus on connecting aspirations and our pipeline of tech-enabled products keeps us at the forefront of the market. We have identified six key mobility drivers that will lead us into the future – modular architecture, complexity reduction in manufacturing, connected &amp; autonomous vehicles, clean drivelines, shared mobility, and low total cost of ownership. \\n\\nOur sub-brand TAMO is an incubating centre of innovation that will spark new mobility solutions through new technologies, business models, and partnerships.\\n\\t\\t\\t</p></div> <div class=\"company-action-center\"><a href=\"/overview/tata-motors-overview\" title=\"Tata Motors Overview\" class=\"body-medium\">\\n\\t\\t\\tAbout\\n\\t\\t\\t<!----></a><a href=\"/reviews/tata-motors-reviews\" title=\"Tata Motors Reviews\" class=\"body-medium\">\\n\\t\\t\\tReviews\\n\\t\\t\\t<span class=\"caption-subdued-large\">\\n\\t\\t\\t\\t7.4k\\n\\t\\t\\t</span></a><a title=\"Tata Motors Salaries\" href=\"https://www.ambitionbox.com/salaries/tata-motors-salaries\" class=\"body-medium\">\\n\\t\\t\\tSalaries\\n\\t\\t\\t<span class=\"caption-subdued-large\">\\n\\t\\t\\t\\t23.4k\\n\\t\\t\\t</span></a><a title=\"Tata Motors Interviews\" href=\"https://www.ambitionbox.com/interviews/tata-motors-interview-questions\" class=\"body-medium\">\\n\\t\\t\\tInterviews\\n\\t\\t\\t<span class=\"caption-subdued-large\">\\n\\t\\t\\t\\t299\\n\\t\\t\\t</span></a><a href=\"/jobs/tata-motors-jobs\" title=\"Tata Motors Jobs\" class=\"body-medium\">\\n\\t\\t\\tJobs\\n\\t\\t\\t<span class=\"caption-subdued-large\">\\n\\t\\t\\t\\t18\\n\\t\\t\\t</span></a></div></div><div itemprop=\"itemListElement\" itemscope=\"itemscope\" itemtype=\"http://schema.org/ListItem\" class=\"ab-company-result-card\" data-v-5051744e><meta itemprop=\"position\" content=\"23\"> <meta itemprop=\"name\" content=\"Bharti Airtel\"> <meta itemprop=\"alternateName\" content=\"Bharti Airtel overview\"> <meta itemprop=\"url\" content=\"https://www.ambitionbox.com/overview/bharti-airtel-overview\"> <meta itemprop=\"image\" content=\"https://static.ambitionbox.com/alpha/company/photos/logos/airtel-bharti.jpg\"> <div class=\"company-content-wrapper\"><div class=\"company-content\"><div class=\"company-logo\"><img data-src=\"https://static.ambitionbox.com/alpha/company/photos/logos/airtel-bharti.jpg\" src=\"https://static.ambitionbox.com/static/icons/company-placeholder.svg\" alt=\"Bharti Airtel logo\" onerror=\"this.onerror=null;this.src=\\'/static/icons/company-placeholder.svg\\';\" class=\"lazy\"></div> <div class=\"company-info-wrapper\"><div class=\"company-info\"><div class=\"left\"><a href=\"/overview/bharti-airtel-overview\"><h2 title=\"Bharti Airtel\" class=\"company-name bold-title-l\">\\n\\t\\t\\t\\t\\t\\t\\t\\tBharti Airtel\\n\\t\\t\\t\\t\\t\\t\\t</h2></a> <div class=\"rating-wrapper\"><p class=\"rating badge-large rating-4\"><i class=\"icon icon-star\"></i>\\n\\t\\t\\t\\t\\t\\t\\t\\t4.1\\n\\t\\t\\t\\t\\t\\t\\t</p> <a href=\"https://www.ambitionbox.com/reviews/bharti-airtel-reviews\" class=\"review-count sbold-Labels\">\\n\\t\\t\\t\\t\\t\\t\\t\\t(9.9k Reviews)\\n\\t\\t\\t\\t\\t\\t\\t</a></div></div> <button class=\"ab_btn follow-btn invert round\"><span class=\"ctas-btn-medium\">Follow</span></button></div> <!----> <div class=\"company-basic-info\"><p class=\"infoEntity sbold-list-header\"><i class=\"icon-domain\"></i>\\n\\t\\t\\t\\t\\t\\tPublic\\n\\t\\t\\t\\t\\t</p> <p class=\"infoEntity sbold-list-header\"><i class=\"icon-pin-drop\"></i>\\n\\t\\t\\t\\t\\t\\tGurgaon/Gurugram,Haryana \\n\\t\\t\\t\\t\\t</p> <p class=\"infoEntity sbold-list-header\"><i class=\"icon-access-time\"></i>\\n\\t\\t\\t\\t\\t\\t27 years old\\n\\t\\t\\t\\t\\t</p> <p class=\"infoEntity sbold-list-header\"><i class=\"icon-supervisor-account\"></i>\\n\\t\\t\\t\\t\\t\\t5k-10k employees (India)\\n\\t\\t\\t\\t\\t</p></div> <div class=\"chips-block\"><a href=\"/telecom-or-isp-companies-in-india\" data-filter-name=\"chips_Company-Tags_telecom-or-isp\" title=\"Telecom / ISP companies in India\" class=\"ab_chip body-medium\">\\n\\t\\t\\t\\t\\t\\tTelecom / ISP\\n\\t\\t\\t\\t\\t</a><a href=\"/fortune500-companies-in-india\" data-filter-name=\"chips_Company-Tags_fortune500\" title=\"Fortune500 companies in India\" class=\"ab_chip body-medium\">\\n\\t\\t\\t\\t\\t\\tFortune500\\n\\t\\t\\t\\t\\t</a><a href=\"/forbesglobal2000-companies-in-india\" data-filter-name=\"chips_Company-Tags_forbesglobal2000\" title=\"Forbes Global 2000 companies in India\" class=\"ab_chip body-medium\">\\n\\t\\t\\t\\t\\t\\tForbes Global 2000\\n\\t\\t\\t\\t\\t</a><a href=\"/public-companies-in-india\" data-filter-name=\"chips_Company-Tags_public\" title=\"Public companies in India\" class=\"ab_chip body-medium\">\\n\\t\\t\\t\\t\\t\\tPublic\\n\\t\\t\\t\\t\\t</a><a href=\"/companies-in-gurgaon\" data-filter-name=\"chips_Company-Tags_gurgaon\" title=\"Companies in Gurgaon/Gurugram,Haryana\" class=\"ab_chip body-medium\">\\n\\t\\t\\t\\t\\t\\tGurgaon/Gurugram,Haryana\\n\\t\\t\\t\\t\\t</a></div></div></div> <!----> <p itemprop=\"description\" class=\"description body-small\">\\n\\t\\t\\t\\tBharti Airtel Limited is a leading global telecommunications company with operations in 18 countries across Asia and Africa. Headquartered in New Delhi, India, the company ranks amongst the top 3 mobile service providers globally in terms of subscribers. In India, the company\\'s product offerings include 2G, 3G and 4G wireless services, mobile commerce, fixed line services, high speed home broadband, DTH, enterprise services including national &amp; international long distance services to carriers. In the rest of the geographies, it offers 2G, 3G, 4G wireless services and mobile commerce. Bharti Airtel had over 403 million customers across its operations at the end of March 2019.\\n\\t\\t\\t</p></div> <div class=\"company-action-center\"><a href=\"/overview/bharti-airtel-overview\" title=\"Bharti Airtel Overview\" class=\"body-medium\">\\n\\t\\t\\tAbout\\n\\t\\t\\t<!----></a><a href=\"/reviews/bharti-airtel-reviews\" title=\"Bharti Airtel Reviews\" class=\"body-medium\">\\n\\t\\t\\tReviews\\n\\t\\t\\t<span class=\"caption-subdued-large\">\\n\\t\\t\\t\\t9.9k\\n\\t\\t\\t</span></a><a title=\"Bharti Airtel Salaries\" href=\"https://www.ambitionbox.com/salaries/bharti-airtel-salaries\" class=\"body-medium\">\\n\\t\\t\\tSalaries\\n\\t\\t\\t<span class=\"caption-subdued-large\">\\n\\t\\t\\t\\t25.8k\\n\\t\\t\\t</span></a><a title=\"Bharti Airtel Interviews\" href=\"https://www.ambitionbox.com/interviews/bharti-airtel-interview-questions\" class=\"body-medium\">\\n\\t\\t\\tInterviews\\n\\t\\t\\t<span class=\"caption-subdued-large\">\\n\\t\\t\\t\\t182\\n\\t\\t\\t</span></a><a href=\"/jobs/bharti-airtel-jobs\" title=\"Bharti Airtel Jobs\" class=\"body-medium\">\\n\\t\\t\\tJobs\\n\\t\\t\\t<span class=\"caption-subdued-large\">\\n\\t\\t\\t\\t181\\n\\t\\t\\t</span></a></div></div><div itemprop=\"itemListElement\" itemscope=\"itemscope\" itemtype=\"http://schema.org/ListItem\" class=\"ab-company-result-card\" data-v-5051744e><meta itemprop=\"position\" content=\"24\"> <meta itemprop=\"name\" content=\"Reliance Industries Limited \"> <meta itemprop=\"alternateName\" content=\"Reliance Industries Limited\"> <meta itemprop=\"url\" content=\"https://www.ambitionbox.com/overview/reliance-overview\"> <meta itemprop=\"image\" content=\"https://static.ambitionbox.com/alpha/company/photos/logos/reliance.jpg\"> <div class=\"company-content-wrapper\"><div class=\"company-content\"><div class=\"company-logo\"><img data-src=\"https://static.ambitionbox.com/alpha/company/photos/logos/reliance.jpg\" src=\"https://static.ambitionbox.com/static/icons/company-placeholder.svg\" alt=\"Reliance Industries Limited logo\" onerror=\"this.onerror=null;this.src=\\'/static/icons/company-placeholder.svg\\';\" class=\"lazy\"></div> <div class=\"company-info-wrapper\"><div class=\"company-info\"><div class=\"left\"><a href=\"/overview/reliance-overview\"><h2 title=\"Reliance Industries Limited \" class=\"company-name bold-title-l\">\\n\\t\\t\\t\\t\\t\\t\\t\\tReliance Industrie...\\n\\t\\t\\t\\t\\t\\t\\t</h2></a> <div class=\"rating-wrapper\"><p class=\"rating badge-large rating-4\"><i class=\"icon icon-star\"></i>\\n\\t\\t\\t\\t\\t\\t\\t\\t4.0\\n\\t\\t\\t\\t\\t\\t\\t</p> <a href=\"https://www.ambitionbox.com/reviews/reliance-reviews\" class=\"review-count sbold-Labels\">\\n\\t\\t\\t\\t\\t\\t\\t\\t(29.2k Reviews)\\n\\t\\t\\t\\t\\t\\t\\t</a></div></div> <button class=\"ab_btn follow-btn invert round\"><span class=\"ctas-btn-medium\">Follow</span></button></div> <div class=\"leaf-list-wrapper noscrollbars-sm mg-btm-16 mg-top-4 m-justify-center \" data-v-230c1e7d><div class=\"award-leaf\" data-v-0c9b8739 data-v-230c1e7d><img width=\"15\" height=\"26\" src=\"https://static.ambitionbox.com/static/awards/black-theme/golden-leaf-left.png\" data-v-0c9b8739> <img width=\"15\" height=\"17\" src=\"https://static.ambitionbox.com/static/awards/black-theme/gold-ambox-logo.svg\" class=\"ambox-logo\" data-v-0c9b8739> <p data-v-0c9b8739>#6 Best Mega Company - 2021</p> <img width=\"15\" height=\"26\" src=\"https://static.ambitionbox.com/static/awards/black-theme/golden-leaf-right.png\" data-v-0c9b8739></div> <!----></div> <div class=\"company-basic-info\"><p class=\"infoEntity sbold-list-header\"><i class=\"icon-domain\"></i>\\n\\t\\t\\t\\t\\t\\tPublic\\n\\t\\t\\t\\t\\t</p> <p class=\"infoEntity sbold-list-header\"><i class=\"icon-pin-drop\"></i>\\n\\t\\t\\t\\t\\t\\tNavi Mumbai,Maharashtra \\n\\t\\t\\t\\t\\t</p> <p class=\"infoEntity sbold-list-header\"><i class=\"icon-access-time\"></i>\\n\\t\\t\\t\\t\\t\\t49 years old\\n\\t\\t\\t\\t\\t</p> <p class=\"infoEntity sbold-list-header\"><i class=\"icon-supervisor-account\"></i>\\n\\t\\t\\t\\t\\t\\t1 Lakh+ employees (India)\\n\\t\\t\\t\\t\\t</p></div> <div class=\"chips-block\"><a href=\"/manufacturing-companies-in-india\" data-filter-name=\"chips_Company-Tags_manufacturing\" title=\"Manufacturing companies in India\" class=\"ab_chip body-medium\">\\n\\t\\t\\t\\t\\t\\tManufacturing\\n\\t\\t\\t\\t\\t</a><a href=\"/oil-or-gas-or-petro-chemicals-companies-in-india\" data-filter-name=\"chips_Company-Tags_oil-or-gas-or-petro-chemicals\" title=\"Oil / Gas / Petro Chemicals companies in India\" class=\"ab_chip body-medium\">\\n\\t\\t\\t\\t\\t\\tOil / Gas / Petro Chemicals\\n\\t\\t\\t\\t\\t</a><a href=\"/power-and-energy-companies-in-india\" data-filter-name=\"chips_Company-Tags_power-and-energy\" title=\"Power companies in India\" class=\"ab_chip body-medium\">\\n\\t\\t\\t\\t\\t\\tPower\\n\\t\\t\\t\\t\\t</a><a href=\"/textile-or-apparel-companies-in-india\" data-filter-name=\"chips_Company-Tags_textile-or-apparel\" title=\"Textile &amp; Apparel companies in India\" class=\"ab_chip body-medium\">\\n\\t\\t\\t\\t\\t\\tTextile &amp; Apparel\\n\\t\\t\\t\\t\\t</a><a href=\"/oil-and-gas-companies-in-india\" data-filter-name=\"chips_Company-Tags_oil-and-gas\" title=\"Oil &amp; Gas companies in India\" class=\"ab_chip body-medium\">\\n\\t\\t\\t\\t\\t\\tOil &amp; Gas\\n\\t\\t\\t\\t\\t</a><a href=\"/petrochemical-or-plastics-or-rubber-companies-in-india\" data-filter-name=\"chips_Company-Tags_petrochemical-or-plastics-or-rubber\" title=\"Petrochemical / Plastics / Rubber companies in India\" class=\"ab_chip body-medium\">\\n\\t\\t\\t\\t\\t\\tPetrochemical / Plastics / Rubber\\n\\t\\t\\t\\t\\t</a><a href=\"/conglomerate-companies-in-india\" data-filter-name=\"chips_Company-Tags_conglomerate\" title=\"Conglomerate companies in India\" class=\"ab_chip body-medium\">\\n\\t\\t\\t\\t\\t\\tConglomerate\\n\\t\\t\\t\\t\\t</a><a href=\"/fortune500-companies-in-india\" data-filter-name=\"chips_Company-Tags_fortune500\" title=\"Fortune500 companies in India\" class=\"ab_chip body-medium\">\\n\\t\\t\\t\\t\\t\\tFortune500\\n\\t\\t\\t\\t\\t</a><a href=\"/forbesglobal2000-companies-in-india\" data-filter-name=\"chips_Company-Tags_forbesglobal2000\" title=\"Forbes Global 2000 companies in India\" class=\"ab_chip body-medium\">\\n\\t\\t\\t\\t\\t\\tForbes Global 2000\\n\\t\\t\\t\\t\\t</a><a href=\"/public-companies-in-india\" data-filter-name=\"chips_Company-Tags_public\" title=\"Public companies in India\" class=\"ab_chip body-medium\">\\n\\t\\t\\t\\t\\t\\tPublic\\n\\t\\t\\t\\t\\t</a><a href=\"/companies-in-navi-mumbai\" data-filter-name=\"chips_Company-Tags_navi-mumbai\" title=\"Companies in Navi Mumbai,Maharashtra\" class=\"ab_chip body-medium\">\\n\\t\\t\\t\\t\\t\\tNavi Mumbai,Maharashtra\\n\\t\\t\\t\\t\\t</a></div></div></div> <!----> <p itemprop=\"description\" class=\"description body-small\">\\n\\t\\t\\t\\tRIL is India’s largest private sector company, with a consolidated turnover of Rs.659,205 crore ($87.1 billion), cash profit of Rs.71,446 crores ($9.4 billion), and net profit of Rs39,880 crore ($5.3 billion) for the year ended March 31, 2020.\\nRIL’s activities span hydrocarbon exploration and production, petroleum refining and marketing, petrochemicals, retail and digital services. RIL is the top-most ranked company from India to feature in Fortune’s Global 500 list of ‘World’s Largest Companies’ – currently ranking 96th. The company stands 58th in the ‘Forbes Global 2000’ rankings for 2020 – top-most among Indian companies. RIL has also featured in Forbes\\' list of &quot;World\\'s Best Employers 2020” and has ranked 81st. It ranks 10th among LinkedIn’s ‘The Best Companies to Work for In India’ (2019).  RIL is also a GPTWTM Certified organisation and features as a part of the GPTW “Best Workplaces in Manufacturing 2021” list.\\n\\t\\t\\t</p></div> <div class=\"company-action-center\"><a href=\"/overview/reliance-overview\" title=\"Reliance Industries Limited  Overview\" class=\"body-medium\">\\n\\t\\t\\tAbout\\n\\t\\t\\t<!----></a><a href=\"/reviews/reliance-reviews\" title=\"Reliance Industries Limited  Reviews\" class=\"body-medium\">\\n\\t\\t\\tReviews\\n\\t\\t\\t<span class=\"caption-subdued-large\">\\n\\t\\t\\t\\t29.2k\\n\\t\\t\\t</span></a><a title=\"Reliance Industries Limited  Salaries\" href=\"https://www.ambitionbox.com/salaries/reliance-salaries\" class=\"body-medium\">\\n\\t\\t\\tSalaries\\n\\t\\t\\t<span class=\"caption-subdued-large\">\\n\\t\\t\\t\\t33.1k\\n\\t\\t\\t</span></a><a title=\"Reliance Industries Limited  Interviews\" href=\"https://www.ambitionbox.com/interviews/reliance-interview-questions\" class=\"body-medium\">\\n\\t\\t\\tInterviews\\n\\t\\t\\t<span class=\"caption-subdued-large\">\\n\\t\\t\\t\\t312\\n\\t\\t\\t</span></a><a href=\"/jobs/reliance-jobs\" title=\"Reliance Industries Limited  Jobs\" class=\"body-medium\">\\n\\t\\t\\tJobs\\n\\t\\t\\t<span class=\"caption-subdued-large\">\\n\\t\\t\\t\\t103\\n\\t\\t\\t</span></a></div></div><div itemprop=\"itemListElement\" itemscope=\"itemscope\" itemtype=\"http://schema.org/ListItem\" class=\"ab-company-result-card\" data-v-5051744e><meta itemprop=\"position\" content=\"25\"> <meta itemprop=\"name\" content=\"Deloitte\"> <meta itemprop=\"alternateName\" content=\"Deloitte overview\"> <meta itemprop=\"url\" content=\"https://www.ambitionbox.com/overview/deloitte-overview\"> <meta itemprop=\"image\" content=\"https://static.ambitionbox.com/alpha/company/photos/logos/deloitte-us-india.jpg\"> <div class=\"company-content-wrapper\"><div class=\"company-content\"><div class=\"company-logo\"><img data-src=\"https://static.ambitionbox.com/alpha/company/photos/logos/deloitte-us-india.jpg\" src=\"https://static.ambitionbox.com/static/icons/company-placeholder.svg\" alt=\"Deloitte logo\" onerror=\"this.onerror=null;this.src=\\'/static/icons/company-placeholder.svg\\';\" class=\"lazy\"></div> <div class=\"company-info-wrapper\"><div class=\"company-info\"><div class=\"left\"><a href=\"/overview/deloitte-overview\"><h2 title=\"Deloitte\" class=\"company-name bold-title-l\">\\n\\t\\t\\t\\t\\t\\t\\t\\tDeloitte\\n\\t\\t\\t\\t\\t\\t\\t</h2></a> <div class=\"rating-wrapper\"><p class=\"rating badge-large rating-35\"><i class=\"icon icon-star\"></i>\\n\\t\\t\\t\\t\\t\\t\\t\\t3.9\\n\\t\\t\\t\\t\\t\\t\\t</p> <a href=\"https://www.ambitionbox.com/reviews/deloitte-reviews\" class=\"review-count sbold-Labels\">\\n\\t\\t\\t\\t\\t\\t\\t\\t(6k Reviews)\\n\\t\\t\\t\\t\\t\\t\\t</a></div></div> <button class=\"ab_btn follow-btn invert round\"><span class=\"ctas-btn-medium\">Follow</span></button></div> <!----> <div class=\"company-basic-info\"><p class=\"infoEntity sbold-list-header\"><i class=\"icon-domain\"></i>\\n\\t\\t\\t\\t\\t\\tPrivate\\n\\t\\t\\t\\t\\t</p> <p class=\"infoEntity sbold-list-header\"><i class=\"icon-pin-drop\"></i>\\n\\t\\t\\t\\t\\t\\tNew York,New York \\n\\t\\t\\t\\t\\t</p> <p class=\"infoEntity sbold-list-header\"><i class=\"icon-access-time\"></i>\\n\\t\\t\\t\\t\\t\\t177 years old\\n\\t\\t\\t\\t\\t</p> <p class=\"infoEntity sbold-list-header\"><i class=\"icon-supervisor-account\"></i>\\n\\t\\t\\t\\t\\t\\t10k-50k employees (India)\\n\\t\\t\\t\\t\\t</p></div> <div class=\"chips-block\"><a href=\"/consulting-companies-in-india\" data-filter-name=\"chips_Company-Tags_consulting\" title=\"Consulting companies in India\" class=\"ab_chip body-medium\">\\n\\t\\t\\t\\t\\t\\tConsulting\\n\\t\\t\\t\\t\\t</a><a href=\"/accounting-or-auditing-companies-in-india\" data-filter-name=\"chips_Company-Tags_accounting-or-auditing\" title=\"Accounting / Auditing companies in India\" class=\"ab_chip body-medium\">\\n\\t\\t\\t\\t\\t\\tAccounting / Auditing\\n\\t\\t\\t\\t\\t</a></div></div></div> <!----> <p itemprop=\"description\" class=\"description body-small\">\\n\\t\\t\\t\\tDeloitte drives progress. Our firms around the world help clients become leaders wherever they choose to compete. Deloitte invests in outstanding people of diverse talents and backgrounds and empowers them to achieve more than they could elsewhere. Our work combines advice with action and integrity. We believe that when our clients and society are stronger, so are we. \\n\\nDeloitte refers to one or more of Deloitte Touche Tohmatsu Limited (“DTTL”), its global network of member firms, and their related entities. DTTL (also referred to as “Deloitte Global”) and each of its member firms are legally separate and independent entities. DTTL does not provide services to clients. \\n\\t\\t\\t</p></div> <div class=\"company-action-center\"><a href=\"/overview/deloitte-overview\" title=\"Deloitte Overview\" class=\"body-medium\">\\n\\t\\t\\tAbout\\n\\t\\t\\t<!----></a><a href=\"/reviews/deloitte-reviews\" title=\"Deloitte Reviews\" class=\"body-medium\">\\n\\t\\t\\tReviews\\n\\t\\t\\t<span class=\"caption-subdued-large\">\\n\\t\\t\\t\\t6k\\n\\t\\t\\t</span></a><a title=\"Deloitte Salaries\" href=\"https://www.ambitionbox.com/salaries/deloitte-salaries\" class=\"body-medium\">\\n\\t\\t\\tSalaries\\n\\t\\t\\t<span class=\"caption-subdued-large\">\\n\\t\\t\\t\\t58.7k\\n\\t\\t\\t</span></a><a title=\"Deloitte Interviews\" href=\"https://www.ambitionbox.com/interviews/deloitte-interview-questions\" class=\"body-medium\">\\n\\t\\t\\tInterviews\\n\\t\\t\\t<span class=\"caption-subdued-large\">\\n\\t\\t\\t\\t652\\n\\t\\t\\t</span></a><a href=\"/jobs/deloitte-jobs\" title=\"Deloitte Jobs\" class=\"body-medium\">\\n\\t\\t\\tJobs\\n\\t\\t\\t<span class=\"caption-subdued-large\">\\n\\t\\t\\t\\t76\\n\\t\\t\\t</span></a></div></div><div itemprop=\"itemListElement\" itemscope=\"itemscope\" itemtype=\"http://schema.org/ListItem\" class=\"ab-company-result-card\" data-v-5051744e><meta itemprop=\"position\" content=\"26\"> <meta itemprop=\"name\" content=\"Mahindra &amp; Mahindra Limited\"> <meta itemprop=\"alternateName\" content=\"Mahindra &amp; Mahindra\"> <meta itemprop=\"url\" content=\"https://www.ambitionbox.com/overview/mahindra-and-mahindra-overview\"> <meta itemprop=\"image\" content=\"https://static.ambitionbox.com/alpha/company/photos/logos/mahindra-and-mahindra-228.jpg\"> <div class=\"company-content-wrapper\"><div class=\"company-content\"><div class=\"company-logo\"><img data-src=\"https://static.ambitionbox.com/alpha/company/photos/logos/mahindra-and-mahindra-228.jpg\" src=\"https://static.ambitionbox.com/static/icons/company-placeholder.svg\" alt=\"Mahindra &amp; Mahindra logo\" onerror=\"this.onerror=null;this.src=\\'/static/icons/company-placeholder.svg\\';\" class=\"lazy\"></div> <div class=\"company-info-wrapper\"><div class=\"company-info\"><div class=\"left\"><a href=\"/overview/mahindra-and-mahindra-overview\"><h2 title=\"Mahindra &amp; Mahindra Limited\" class=\"company-name bold-title-l\">\\n\\t\\t\\t\\t\\t\\t\\t\\tMahindra &amp; Mahindr...\\n\\t\\t\\t\\t\\t\\t\\t</h2></a> <div class=\"rating-wrapper\"><p class=\"rating badge-large rating-4\"><i class=\"icon icon-star\"></i>\\n\\t\\t\\t\\t\\t\\t\\t\\t4.1\\n\\t\\t\\t\\t\\t\\t\\t</p> <a href=\"https://www.ambitionbox.com/reviews/mahindra-and-mahindra-reviews\" class=\"review-count sbold-Labels\">\\n\\t\\t\\t\\t\\t\\t\\t\\t(15.2k Reviews)\\n\\t\\t\\t\\t\\t\\t\\t</a></div></div> <button class=\"ab_btn follow-btn invert round\"><span class=\"ctas-btn-medium\">Follow</span></button></div> <div class=\"leaf-list-wrapper noscrollbars-sm mg-btm-16 mg-top-4\" data-v-230c1e7d><div class=\"award-leaf\" data-v-0c9b8739 data-v-230c1e7d><img width=\"15\" height=\"26\" src=\"https://static.ambitionbox.com/static/awards/black-theme/golden-leaf-left.png\" data-v-0c9b8739> <img width=\"15\" height=\"17\" src=\"https://static.ambitionbox.com/static/awards/black-theme/gold-ambox-logo.svg\" class=\"ambox-logo\" data-v-0c9b8739> <p data-v-0c9b8739>#14 Best Large Company - 2021</p> <img width=\"15\" height=\"26\" src=\"https://static.ambitionbox.com/static/awards/black-theme/golden-leaf-right.png\" data-v-0c9b8739></div><!----> <!----></div> <div class=\"company-basic-info\"><p class=\"infoEntity sbold-list-header\"><i class=\"icon-domain\"></i>\\n\\t\\t\\t\\t\\t\\tPublic\\n\\t\\t\\t\\t\\t</p> <p class=\"infoEntity sbold-list-header\"><i class=\"icon-pin-drop\"></i>\\n\\t\\t\\t\\t\\t\\tMumbai,Maharashtra \\n\\t\\t\\t\\t\\t</p> <p class=\"infoEntity sbold-list-header\"><i class=\"icon-access-time\"></i>\\n\\t\\t\\t\\t\\t\\t77 years old\\n\\t\\t\\t\\t\\t</p> <p class=\"infoEntity sbold-list-header\"><i class=\"icon-supervisor-account\"></i>\\n\\t\\t\\t\\t\\t\\t10k-50k employees (India)\\n\\t\\t\\t\\t\\t</p></div> <div class=\"chips-block\"><a href=\"/automobile-companies-in-india\" data-filter-name=\"chips_Company-Tags_automobile\" title=\"Automobile companies in India\" class=\"ab_chip body-medium\">\\n\\t\\t\\t\\t\\t\\tAutomobile\\n\\t\\t\\t\\t\\t</a><a href=\"/machinery-or-equipment-companies-in-india\" data-filter-name=\"chips_Company-Tags_machinery-or-equipment\" title=\"Industrial Equipment / Machinery companies in India\" class=\"ab_chip body-medium\">\\n\\t\\t\\t\\t\\t\\tIndustrial Equipment / Machinery\\n\\t\\t\\t\\t\\t</a><a href=\"/manufacturing-companies-in-india\" data-filter-name=\"chips_Company-Tags_manufacturing\" title=\"Manufacturing companies in India\" class=\"ab_chip body-medium\">\\n\\t\\t\\t\\t\\t\\tManufacturing\\n\\t\\t\\t\\t\\t</a><a href=\"/conglomerate-companies-in-india\" data-filter-name=\"chips_Company-Tags_conglomerate\" title=\"Conglomerate companies in India\" class=\"ab_chip body-medium\">\\n\\t\\t\\t\\t\\t\\tConglomerate\\n\\t\\t\\t\\t\\t</a><a href=\"/fortune500-companies-in-india\" data-filter-name=\"chips_Company-Tags_fortune500\" title=\"Fortune500 companies in India\" class=\"ab_chip body-medium\">\\n\\t\\t\\t\\t\\t\\tFortune500\\n\\t\\t\\t\\t\\t</a><a href=\"/forbesglobal2000-companies-in-india\" data-filter-name=\"chips_Company-Tags_forbesglobal2000\" title=\"Forbes Global 2000 companies in India\" class=\"ab_chip body-medium\">\\n\\t\\t\\t\\t\\t\\tForbes Global 2000\\n\\t\\t\\t\\t\\t</a><a href=\"/public-companies-in-india\" data-filter-name=\"chips_Company-Tags_public\" title=\"Public companies in India\" class=\"ab_chip body-medium\">\\n\\t\\t\\t\\t\\t\\tPublic\\n\\t\\t\\t\\t\\t</a><a href=\"/companies-in-mumbai\" data-filter-name=\"chips_Company-Tags_mumbai\" title=\"Companies in Mumbai,Maharashtra\" class=\"ab_chip body-medium\">\\n\\t\\t\\t\\t\\t\\tMumbai,Maharashtra\\n\\t\\t\\t\\t\\t</a></div></div></div> <!----> <p itemprop=\"description\" class=\"description body-small\">\\n\\t\\t\\t\\tA federation of companies, bound by one purpose – to Rise. Inspired by this spirit, our legacy, and values, our goal to always positively impact our partners, stakeholders, communities, and the world at large, remains unshakeable.\\n\\nWhat began as a steel-trading venture seven decades ago, steadily turned into a global brand, spanning nations and industries. This is a story with an upward curve, narrating how an Indian company paved its way to become a global powerhouse. We have come a long way since 1945 and as we accelerate into the 21st century, we aim at achieving even more.\\n\\t\\t\\t</p></div> <div class=\"company-action-center\"><a href=\"/overview/mahindra-and-mahindra-overview\" title=\"Mahindra &amp; Mahindra Limited Overview\" class=\"body-medium\">\\n\\t\\t\\tAbout\\n\\t\\t\\t<!----></a><a href=\"/reviews/mahindra-and-mahindra-reviews\" title=\"Mahindra &amp; Mahindra Limited Reviews\" class=\"body-medium\">\\n\\t\\t\\tReviews\\n\\t\\t\\t<span class=\"caption-subdued-large\">\\n\\t\\t\\t\\t15.2k\\n\\t\\t\\t</span></a><a title=\"Mahindra &amp; Mahindra Limited Salaries\" href=\"https://www.ambitionbox.com/salaries/mahindra-and-mahindra-salaries\" class=\"body-medium\">\\n\\t\\t\\tSalaries\\n\\t\\t\\t<span class=\"caption-subdued-large\">\\n\\t\\t\\t\\t21.8k\\n\\t\\t\\t</span></a><a title=\"Mahindra &amp; Mahindra Limited Interviews\" href=\"https://www.ambitionbox.com/interviews/mahindra-and-mahindra-interview-questions\" class=\"body-medium\">\\n\\t\\t\\tInterviews\\n\\t\\t\\t<span class=\"caption-subdued-large\">\\n\\t\\t\\t\\t170\\n\\t\\t\\t</span></a><a href=\"/jobs/mahindra-and-mahindra-jobs\" title=\"Mahindra &amp; Mahindra Limited Jobs\" class=\"body-medium\">\\n\\t\\t\\tJobs\\n\\t\\t\\t<span class=\"caption-subdued-large\">\\n\\t\\t\\t\\t4\\n\\t\\t\\t</span></a></div></div><div itemprop=\"itemListElement\" itemscope=\"itemscope\" itemtype=\"http://schema.org/ListItem\" class=\"ab-company-result-card\" data-v-5051744e><meta itemprop=\"position\" content=\"27\"> <meta itemprop=\"name\" content=\"IndusInd Bank\"> <meta itemprop=\"alternateName\" content=\"IndusInd Bank overview\"> <meta itemprop=\"url\" content=\"https://www.ambitionbox.com/overview/indusind-bank-overview\"> <meta itemprop=\"image\" content=\"https://static.ambitionbox.com/alpha/company/photos/logos/indusind-bank.jpg\"> <div class=\"company-content-wrapper\"><div class=\"company-content\"><div class=\"company-logo\"><img data-src=\"https://static.ambitionbox.com/alpha/company/photos/logos/indusind-bank.jpg\" src=\"https://static.ambitionbox.com/static/icons/company-placeholder.svg\" alt=\"IndusInd Bank logo\" onerror=\"this.onerror=null;this.src=\\'/static/icons/company-placeholder.svg\\';\" class=\"lazy\"></div> <div class=\"company-info-wrapper\"><div class=\"company-info\"><div class=\"left\"><a href=\"/overview/indusind-bank-overview\"><h2 title=\"IndusInd Bank\" class=\"company-name bold-title-l\">\\n\\t\\t\\t\\t\\t\\t\\t\\tIndusInd Bank\\n\\t\\t\\t\\t\\t\\t\\t</h2></a> <div class=\"rating-wrapper\"><p class=\"rating badge-large rating-35\"><i class=\"icon icon-star\"></i>\\n\\t\\t\\t\\t\\t\\t\\t\\t3.8\\n\\t\\t\\t\\t\\t\\t\\t</p> <a href=\"https://www.ambitionbox.com/reviews/indusind-bank-reviews\" class=\"review-count sbold-Labels\">\\n\\t\\t\\t\\t\\t\\t\\t\\t(5.2k Reviews)\\n\\t\\t\\t\\t\\t\\t\\t</a></div></div> <button class=\"ab_btn follow-btn invert round\"><span class=\"ctas-btn-medium\">Follow</span></button></div> <!----> <div class=\"company-basic-info\"><p class=\"infoEntity sbold-list-header\"><i class=\"icon-domain\"></i>\\n\\t\\t\\t\\t\\t\\tPublic\\n\\t\\t\\t\\t\\t</p> <p class=\"infoEntity sbold-list-header\"><i class=\"icon-pin-drop\"></i>\\n\\t\\t\\t\\t\\t\\tGurgaon/Gurugram,Haryana + 471 more\\n\\t\\t\\t\\t\\t</p> <p class=\"infoEntity sbold-list-header\"><i class=\"icon-access-time\"></i>\\n\\t\\t\\t\\t\\t\\t28 years old\\n\\t\\t\\t\\t\\t</p> <p class=\"infoEntity sbold-list-header\"><i class=\"icon-supervisor-account\"></i>\\n\\t\\t\\t\\t\\t\\t10k-50k employees (India)\\n\\t\\t\\t\\t\\t</p></div> <div class=\"chips-block\"><a href=\"/financial-services-companies-in-india\" data-filter-name=\"chips_Company-Tags_financial-services\" title=\"Financial Services companies in India\" class=\"ab_chip body-medium\">\\n\\t\\t\\t\\t\\t\\tFinancial Services\\n\\t\\t\\t\\t\\t</a><a href=\"/banking-companies-in-india\" data-filter-name=\"chips_Company-Tags_banking\" title=\"Banking companies in India\" class=\"ab_chip body-medium\">\\n\\t\\t\\t\\t\\t\\tBanking\\n\\t\\t\\t\\t\\t</a><a href=\"/fortune500-companies-in-india\" data-filter-name=\"chips_Company-Tags_fortune500\" title=\"Fortune500 companies in India\" class=\"ab_chip body-medium\">\\n\\t\\t\\t\\t\\t\\tFortune500\\n\\t\\t\\t\\t\\t</a><a href=\"/forbesglobal2000-companies-in-india\" data-filter-name=\"chips_Company-Tags_forbesglobal2000\" title=\"Forbes Global 2000 companies in India\" class=\"ab_chip body-medium\">\\n\\t\\t\\t\\t\\t\\tForbes Global 2000\\n\\t\\t\\t\\t\\t</a><a href=\"/public-companies-in-india\" data-filter-name=\"chips_Company-Tags_public\" title=\"Public companies in India\" class=\"ab_chip body-medium\">\\n\\t\\t\\t\\t\\t\\tPublic\\n\\t\\t\\t\\t\\t</a><a href=\"/companies-in-gurgaon\" data-filter-name=\"chips_Company-Tags_gurgaon\" title=\"Companies in Gurgaon/Gurugram,Haryana\" class=\"ab_chip body-medium\">\\n\\t\\t\\t\\t\\t\\tGurgaon/Gurugram,Haryana\\n\\t\\t\\t\\t\\t</a></div></div></div> <!----> <p itemprop=\"description\" class=\"description body-small\">\\n\\t\\t\\t\\tIndusInd Bank is a Mumbai based scheduled private bank founded in Mumbai in April 1994. This bank offers a wide range of banking as well as financial products and services to the customers and is headquartered in Mumbai, Maharashtra. The bank has over 745 branches with a total network of over 1635 operating ATMs. It has two representative offices outside India in London and Dubai respectively.\\nIndusInd Bank stands tall today as one of the reputed banking brands in the country. The bank has been continuously investing in various advertising &amp; marketing programs to enhance the brand image &amp; recall. In an endeavor to emerge as best-in-class brand, IndusInd Bank has made \\'Responsive Innovation\\' as a central theme of its brand building program. The Bank has combined responsiveness with innovation to launch a wide range of banking products and services which are unique, convenient and very relevant to Indian consumer.\\n\\t\\t\\t</p></div> <div class=\"company-action-center\"><a href=\"/overview/indusind-bank-overview\" title=\"IndusInd Bank Overview\" class=\"body-medium\">\\n\\t\\t\\tAbout\\n\\t\\t\\t<!----></a><a href=\"/reviews/indusind-bank-reviews\" title=\"IndusInd Bank Reviews\" class=\"body-medium\">\\n\\t\\t\\tReviews\\n\\t\\t\\t<span class=\"caption-subdued-large\">\\n\\t\\t\\t\\t5.2k\\n\\t\\t\\t</span></a><a title=\"IndusInd Bank Salaries\" href=\"https://www.ambitionbox.com/salaries/indusind-bank-salaries\" class=\"body-medium\">\\n\\t\\t\\tSalaries\\n\\t\\t\\t<span class=\"caption-subdued-large\">\\n\\t\\t\\t\\t29k\\n\\t\\t\\t</span></a><a title=\"IndusInd Bank Interviews\" href=\"https://www.ambitionbox.com/interviews/indusind-bank-interview-questions\" class=\"body-medium\">\\n\\t\\t\\tInterviews\\n\\t\\t\\t<span class=\"caption-subdued-large\">\\n\\t\\t\\t\\t162\\n\\t\\t\\t</span></a><a href=\"/jobs/indusind-bank-jobs\" title=\"IndusInd Bank Jobs\" class=\"body-medium\">\\n\\t\\t\\tJobs\\n\\t\\t\\t<span class=\"caption-subdued-large\">\\n\\t\\t\\t\\t285\\n\\t\\t\\t</span></a></div></div><div itemprop=\"itemListElement\" itemscope=\"itemscope\" itemtype=\"http://schema.org/ListItem\" class=\"ab-company-result-card\" data-v-5051744e><meta itemprop=\"position\" content=\"28\"> <meta itemprop=\"name\" content=\"Hinduja Global Solutions\"> <meta itemprop=\"alternateName\" content=\"Hinduja Global Solutions overview\"> <meta itemprop=\"url\" content=\"https://www.ambitionbox.com/overview/hinduja-global-solutions-overview\"> <meta itemprop=\"image\" content=\"https://static.ambitionbox.com/alpha/company/photos/logos/hinduja-global-solutions.jpg\"> <div class=\"company-content-wrapper\"><div class=\"company-content\"><div class=\"company-logo\"><img data-src=\"https://static.ambitionbox.com/alpha/company/photos/logos/hinduja-global-solutions.jpg\" src=\"https://static.ambitionbox.com/static/icons/company-placeholder.svg\" alt=\"Hinduja Global Solutions logo\" onerror=\"this.onerror=null;this.src=\\'/static/icons/company-placeholder.svg\\';\" class=\"lazy\"></div> <div class=\"company-info-wrapper\"><div class=\"company-info\"><div class=\"left\"><a href=\"/overview/hinduja-global-solutions-overview\"><h2 title=\"Hinduja Global Solutions\" class=\"company-name bold-title-l\">\\n\\t\\t\\t\\t\\t\\t\\t\\tHinduja Global Sol...\\n\\t\\t\\t\\t\\t\\t\\t</h2></a> <div class=\"rating-wrapper\"><p class=\"rating badge-large rating-35\"><i class=\"icon icon-star\"></i>\\n\\t\\t\\t\\t\\t\\t\\t\\t3.9\\n\\t\\t\\t\\t\\t\\t\\t</p> <a href=\"https://www.ambitionbox.com/reviews/hinduja-global-solutions-reviews\" class=\"review-count sbold-Labels\">\\n\\t\\t\\t\\t\\t\\t\\t\\t(5k Reviews)\\n\\t\\t\\t\\t\\t\\t\\t</a></div></div> <button class=\"ab_btn follow-btn invert round\"><span class=\"ctas-btn-medium\">Follow</span></button></div> <!----> <div class=\"company-basic-info\"><p class=\"infoEntity sbold-list-header\"><i class=\"icon-domain\"></i>\\n\\t\\t\\t\\t\\t\\tPublic\\n\\t\\t\\t\\t\\t</p> <p class=\"infoEntity sbold-list-header\"><i class=\"icon-pin-drop\"></i>\\n\\t\\t\\t\\t\\t\\tBangalore/Bengaluru,Karnataka \\n\\t\\t\\t\\t\\t</p> <p class=\"infoEntity sbold-list-header\"><i class=\"icon-access-time\"></i>\\n\\t\\t\\t\\t\\t\\t22 years old\\n\\t\\t\\t\\t\\t</p> <p class=\"infoEntity sbold-list-header\"><i class=\"icon-supervisor-account\"></i>\\n\\t\\t\\t\\t\\t\\t10k-50k employees (India)\\n\\t\\t\\t\\t\\t</p></div> <div class=\"chips-block\"><a href=\"/bpo-or-call-centre-companies-in-india\" data-filter-name=\"chips_Company-Tags_bpo-or-call-centre\" title=\"BPO / Call Centre companies in India\" class=\"ab_chip body-medium\">\\n\\t\\t\\t\\t\\t\\tBPO / Call Centre\\n\\t\\t\\t\\t\\t</a><a href=\"/conglomerate-companies-in-india\" data-filter-name=\"chips_Company-Tags_conglomerate\" title=\"Conglomerate companies in India\" class=\"ab_chip body-medium\">\\n\\t\\t\\t\\t\\t\\tConglomerate\\n\\t\\t\\t\\t\\t</a><a href=\"/fortune500-companies-in-india\" data-filter-name=\"chips_Company-Tags_fortune500\" title=\"Fortune500 companies in India\" class=\"ab_chip body-medium\">\\n\\t\\t\\t\\t\\t\\tFortune500\\n\\t\\t\\t\\t\\t</a><a href=\"/public-companies-in-india\" data-filter-name=\"chips_Company-Tags_public\" title=\"Public companies in India\" class=\"ab_chip body-medium\">\\n\\t\\t\\t\\t\\t\\tPublic\\n\\t\\t\\t\\t\\t</a><a href=\"/companies-in-bengaluru\" data-filter-name=\"chips_Company-Tags_bengaluru\" title=\"Companies in Bangalore/Bengaluru,Karnataka\" class=\"ab_chip body-medium\">\\n\\t\\t\\t\\t\\t\\tBangalore/Bengaluru,Karnataka\\n\\t\\t\\t\\t\\t</a></div></div></div> <!----> <p itemprop=\"description\" class=\"description body-small\">\\n\\t\\t\\t\\tA global leader in optimizing the customer experience lifecycle, digital transformation, and business process management, HGS is helping its clients become more competitive every day. HGS combines automation, analytics, and artificial intelligence with deep domain expertise focusing on digital customer experiences, back-office processing, contact centers, and HRO solutions. Part of the multi-billion dollar conglomerate Hinduja Group, HGS takes a “globally local” approach, with over 46,698 employees across 52 delivery centers in seven countries, making a difference to some of the world’s leading brands across nine key verticals. For the year ended March 31, 2021, HGS had revenues of Rs. 55,889 million (US$ 753.9 million).\\n\\nVisit https://hgs.cx to learn how HGS transforms customer experiences and builds business for the future.\\n\\t\\t\\t</p></div> <div class=\"company-action-center\"><a href=\"/overview/hinduja-global-solutions-overview\" title=\"Hinduja Global Solutions Overview\" class=\"body-medium\">\\n\\t\\t\\tAbout\\n\\t\\t\\t<!----></a><a href=\"/reviews/hinduja-global-solutions-reviews\" title=\"Hinduja Global Solutions Reviews\" class=\"body-medium\">\\n\\t\\t\\tReviews\\n\\t\\t\\t<span class=\"caption-subdued-large\">\\n\\t\\t\\t\\t5k\\n\\t\\t\\t</span></a><a title=\"Hinduja Global Solutions Salaries\" href=\"https://www.ambitionbox.com/salaries/hinduja-global-solutions-salaries\" class=\"body-medium\">\\n\\t\\t\\tSalaries\\n\\t\\t\\t<span class=\"caption-subdued-large\">\\n\\t\\t\\t\\t14.2k\\n\\t\\t\\t</span></a><a title=\"Hinduja Global Solutions Interviews\" href=\"https://www.ambitionbox.com/interviews/hinduja-global-solutions-interview-questions\" class=\"body-medium\">\\n\\t\\t\\tInterviews\\n\\t\\t\\t<span class=\"caption-subdued-large\">\\n\\t\\t\\t\\t82\\n\\t\\t\\t</span></a><a href=\"/jobs/hinduja-global-solutions-jobs\" title=\"Hinduja Global Solutions Jobs\" class=\"body-medium\">\\n\\t\\t\\tJobs\\n\\t\\t\\t<span class=\"caption-subdued-large\">\\n\\t\\t\\t\\t105\\n\\t\\t\\t</span></a></div></div><div itemprop=\"itemListElement\" itemscope=\"itemscope\" itemtype=\"http://schema.org/ListItem\" class=\"ab-company-result-card\" data-v-5051744e><meta itemprop=\"position\" content=\"29\"> <meta itemprop=\"name\" content=\"Reliance Retail\"> <meta itemprop=\"alternateName\" content=\"Reliance Retail Limited\"> <meta itemprop=\"url\" content=\"https://www.ambitionbox.com/overview/reliance-retail-limited-overview\"> <meta itemprop=\"image\" content=\"https://static.ambitionbox.com/alpha/company/photos/logos/reliance-retail-limited.jpg\"> <div class=\"company-content-wrapper\"><div class=\"company-content\"><div class=\"company-logo\"><img data-src=\"https://static.ambitionbox.com/alpha/company/photos/logos/reliance-retail-limited.jpg\" src=\"https://static.ambitionbox.com/static/icons/company-placeholder.svg\" alt=\"Reliance Retail Limited logo\" onerror=\"this.onerror=null;this.src=\\'/static/icons/company-placeholder.svg\\';\" class=\"lazy\"></div> <div class=\"company-info-wrapper\"><div class=\"company-info\"><div class=\"left\"><a href=\"/overview/reliance-retail-limited-overview\"><h2 title=\"Reliance Retail\" class=\"company-name bold-title-l\">\\n\\t\\t\\t\\t\\t\\t\\t\\tReliance Retail\\n\\t\\t\\t\\t\\t\\t\\t</h2></a> <div class=\"rating-wrapper\"><p class=\"rating badge-large rating-4\"><i class=\"icon icon-star\"></i>\\n\\t\\t\\t\\t\\t\\t\\t\\t4.0\\n\\t\\t\\t\\t\\t\\t\\t</p> <a href=\"https://www.ambitionbox.com/reviews/reliance-retail-limited-reviews\" class=\"review-count sbold-Labels\">\\n\\t\\t\\t\\t\\t\\t\\t\\t(9.2k Reviews)\\n\\t\\t\\t\\t\\t\\t\\t</a></div></div> <button class=\"ab_btn follow-btn invert round\"><span class=\"ctas-btn-medium\">Follow</span></button></div> <!----> <div class=\"company-basic-info\"><p class=\"infoEntity sbold-list-header\"><i class=\"icon-domain\"></i>\\n\\t\\t\\t\\t\\t\\tPrivate\\n\\t\\t\\t\\t\\t</p> <p class=\"infoEntity sbold-list-header\"><i class=\"icon-pin-drop\"></i>\\n\\t\\t\\t\\t\\t\\tNavi Mumbai,Maharashtra \\n\\t\\t\\t\\t\\t</p> <p class=\"infoEntity sbold-list-header\"><i class=\"icon-access-time\"></i>\\n\\t\\t\\t\\t\\t\\t16 years old\\n\\t\\t\\t\\t\\t</p> <p class=\"infoEntity sbold-list-header\"><i class=\"icon-supervisor-account\"></i>\\n\\t\\t\\t\\t\\t\\t1 Lakh+ employees (India)\\n\\t\\t\\t\\t\\t</p></div> <div class=\"chips-block\"><a href=\"/retail-companies-in-india\" data-filter-name=\"chips_Company-Tags_retail\" title=\"Retail companies in India\" class=\"ab_chip body-medium\">\\n\\t\\t\\t\\t\\t\\tRetail\\n\\t\\t\\t\\t\\t</a><a href=\"/textile-or-apparel-companies-in-india\" data-filter-name=\"chips_Company-Tags_textile-or-apparel\" title=\"Textile &amp; Apparel companies in India\" class=\"ab_chip body-medium\">\\n\\t\\t\\t\\t\\t\\tTextile &amp; Apparel\\n\\t\\t\\t\\t\\t</a><a href=\"/companies-in-navi-mumbai\" data-filter-name=\"chips_Company-Tags_navi-mumbai\" title=\"Companies in Navi Mumbai,Maharashtra\" class=\"ab_chip body-medium\">\\n\\t\\t\\t\\t\\t\\tNavi Mumbai,Maharashtra\\n\\t\\t\\t\\t\\t</a></div></div></div> <!----> <p itemprop=\"description\" class=\"description body-small\">\\n\\t\\t\\t\\tReliance Retail is the retail initiative of Reliance Industries Limited and is central to the group’s consumer facing businesses. Reliance Retail has been at the forefront of bringing about Organized Retail revolution in India.\\nReliance Retail’s operating model unleashes the aspirational energy of the new, resurgent India. Reliance Retail’s guiding philosophy rests on the tenets of enabling inclusion, growth and building sustainable societal value for millions of Indians.\\nIn a short period, it has forged strong and enduring bonds with millions of consumers by providing them unlimited choice, outstanding value proposition, superior quality and unmatched shopping experience across all its stores.\\nReliance Retail’s growth over the years has triggered a large socio-economic transformation on an extraordinary scale in India.\\nReliance Retail has been ranked as the fastest growing retailer in the world. It is ranked 53rd in the list of Top Global Retailers and is the only Indian Retailer to feature in the Top 100. It is the largest and the most profitable retailer in India with the widest reach.\\nReliance Retail has more than 150 million loyal customers buying across all its formats. It recorded more than 640 million footfalls across all its stores in FY20, a scale unmatched by any other retailer in India. With over 100,000 transactions per hour, Reliance Retail operates at a scale unparalleled in the Indian retail industry and continues to enrich the quality of lives of millions of Indians every day. Reliance Retail has adopted a multi-prong strategy and operates a wide array of store formats which cater to planned shopping needs as well as daily or occasional needs of the customers across major consumption baskets of Grocery, Consumer Electronics and Fashion &amp; Lifestyle.\\nIn Grocery consumption basket, Reliance Retail operates Reliance Fresh, Shree Kannan Departmental stores, SMART and Smart Point store formats focused on food, fresh produce, bakery, dairy products, home and personal care products, as well as general merchandise items.\\nIn Consumer Electronics consumption basket, Reliance Retail operates Reliance Digital and MyJio Store formats offering a wide range of consumer electronics, home appliances, computing and mobility products, latest gadgets and accessories. These stores are backed by ResQ, a full-fledged service organisation and India’s only ISO 9001 certified electronics service brand.\\nIn Fashion and Lifestyle consumption basket, Reliance Retail operates a portfolio of formats that serves customers across value, mid, premium and luxury segments. Reliance Retail operates Trends, Trends Woman, Trends Man, Trends Footwear, Project Eve, Reliance Jewels, Hamleys formats and a portfolio of more than 40 marquee international brands such as Armani, Burberry, Diesel, GAS, Marks &amp; Spencer, Superdry, Brooks Brothers, Steve Madden and more. Reliance Retail has a strong presence in digital commerce channels through AJIO.com, a curated fashion &amp; lifestyle store bringing best of national and international brands to customers doorsteps and Jiomart, India\\'s largest hyperlocal retail solution that leverages the wide network of Reliance Retail\\'s grocery stores and well-established supply chain infrastructure.\\nReliance Retail reported a turnover of Rs. 1,57,629 crore (US$ 21.6 billion) for the financial year 2020-21. As on 31st Mar 2021, Reliance Retail operated 12,711 stores across 7,000+ cities with a retail area of over 33.8 million sft.\\nReliance Retail Ventures Limited, a subsidiary of Reliance Industries Limited is the holding company of Reliance Retail Limited which operates the retail business.\\n\\t\\t\\t</p></div> <div class=\"company-action-center\"><a href=\"/overview/reliance-retail-limited-overview\" title=\"Reliance Retail Overview\" class=\"body-medium\">\\n\\t\\t\\tAbout\\n\\t\\t\\t<!----></a><a href=\"/reviews/reliance-retail-limited-reviews\" title=\"Reliance Retail Reviews\" class=\"body-medium\">\\n\\t\\t\\tReviews\\n\\t\\t\\t<span class=\"caption-subdued-large\">\\n\\t\\t\\t\\t9.2k\\n\\t\\t\\t</span></a><a title=\"Reliance Retail Salaries\" href=\"https://www.ambitionbox.com/salaries/reliance-retail-limited-salaries\" class=\"body-medium\">\\n\\t\\t\\tSalaries\\n\\t\\t\\t<span class=\"caption-subdued-large\">\\n\\t\\t\\t\\t22.3k\\n\\t\\t\\t</span></a><a title=\"Reliance Retail Interviews\" href=\"https://www.ambitionbox.com/interviews/reliance-retail-limited-interview-questions\" class=\"body-medium\">\\n\\t\\t\\tInterviews\\n\\t\\t\\t<span class=\"caption-subdued-large\">\\n\\t\\t\\t\\t264\\n\\t\\t\\t</span></a><a href=\"/jobs/reliance-retail-limited-jobs\" title=\"Reliance Retail Jobs\" class=\"body-medium\">\\n\\t\\t\\tJobs\\n\\t\\t\\t<span class=\"caption-subdued-large\">\\n\\t\\t\\t\\t281\\n\\t\\t\\t</span></a></div></div><div itemprop=\"itemListElement\" itemscope=\"itemscope\" itemtype=\"http://schema.org/ListItem\" class=\"ab-company-result-card\" data-v-5051744e><meta itemprop=\"position\" content=\"30\"> <meta itemprop=\"name\" content=\"WNS\"> <meta itemprop=\"alternateName\" content=\"WNS overview\"> <meta itemprop=\"url\" content=\"https://www.ambitionbox.com/overview/wns-overview\"> <meta itemprop=\"image\" content=\"https://static.ambitionbox.com/alpha/company/photos/logos/wns-global-services.jpg\"> <div class=\"company-content-wrapper\"><div class=\"company-content\"><div class=\"company-logo\"><img data-src=\"https://static.ambitionbox.com/alpha/company/photos/logos/wns-global-services.jpg\" src=\"https://static.ambitionbox.com/static/icons/company-placeholder.svg\" alt=\"WNS logo\" onerror=\"this.onerror=null;this.src=\\'/static/icons/company-placeholder.svg\\';\" class=\"lazy\"></div> <div class=\"company-info-wrapper\"><div class=\"company-info\"><div class=\"left\"><a href=\"/overview/wns-overview\"><h2 title=\"WNS\" class=\"company-name bold-title-l\">\\n\\t\\t\\t\\t\\t\\t\\t\\tWNS\\n\\t\\t\\t\\t\\t\\t\\t</h2></a> <div class=\"rating-wrapper\"><p class=\"rating badge-large rating-35\"><i class=\"icon icon-star\"></i>\\n\\t\\t\\t\\t\\t\\t\\t\\t3.7\\n\\t\\t\\t\\t\\t\\t\\t</p> <a href=\"https://www.ambitionbox.com/reviews/wns-reviews\" class=\"review-count sbold-Labels\">\\n\\t\\t\\t\\t\\t\\t\\t\\t(4.8k Reviews)\\n\\t\\t\\t\\t\\t\\t\\t</a></div></div> <button class=\"ab_btn follow-btn invert round\"><span class=\"ctas-btn-medium\">Follow</span></button></div> <!----> <div class=\"company-basic-info\"><p class=\"infoEntity sbold-list-header\"><i class=\"icon-domain\"></i>\\n\\t\\t\\t\\t\\t\\tPrivate\\n\\t\\t\\t\\t\\t</p> <p class=\"infoEntity sbold-list-header\"><i class=\"icon-pin-drop\"></i>\\n\\t\\t\\t\\t\\t\\tMumbai,Maharashtra \\n\\t\\t\\t\\t\\t</p> <p class=\"infoEntity sbold-list-header\"><i class=\"icon-access-time\"></i>\\n\\t\\t\\t\\t\\t\\t26 years old\\n\\t\\t\\t\\t\\t</p> <p class=\"infoEntity sbold-list-header\"><i class=\"icon-supervisor-account\"></i>\\n\\t\\t\\t\\t\\t\\t10k-50k employees (India)\\n\\t\\t\\t\\t\\t</p></div> <div class=\"chips-block\"><a href=\"/bpo-or-kpo-companies-in-india\" data-filter-name=\"chips_Company-Tags_bpo-or-kpo\" title=\"BPO/KPO companies in India\" class=\"ab_chip body-medium\">\\n\\t\\t\\t\\t\\t\\tBPO/KPO\\n\\t\\t\\t\\t\\t</a><a href=\"/consulting-companies-in-india\" data-filter-name=\"chips_Company-Tags_consulting\" title=\"Consulting companies in India\" class=\"ab_chip body-medium\">\\n\\t\\t\\t\\t\\t\\tConsulting\\n\\t\\t\\t\\t\\t</a><a href=\"/analytics-or-bpm-or-research-companies-in-india\" data-filter-name=\"chips_Company-Tags_analytics-or-bpm-or-research\" title=\"Analytics / KPO / Research companies in India\" class=\"ab_chip body-medium\">\\n\\t\\t\\t\\t\\t\\tAnalytics / KPO / Research\\n\\t\\t\\t\\t\\t</a><a href=\"/companies-in-mumbai\" data-filter-name=\"chips_Company-Tags_mumbai\" title=\"Companies in Mumbai,Maharashtra\" class=\"ab_chip body-medium\">\\n\\t\\t\\t\\t\\t\\tMumbai,Maharashtra\\n\\t\\t\\t\\t\\t</a></div></div></div> <!----> <p itemprop=\"description\" class=\"description body-small\">\\n\\t\\t\\t\\tWNS (Holdings) Limited (NYSE: WNS), is a leading Business Process Management (BPM) company. We combine our deep industry knowledge with technology and analytics expertise to co-create innovative, digital-led transformational solutions with clients across 10 industries. We enable businesses in Travel, Insurance, Banking and Financial Services, Manufacturing, Retail and Consumer Packaged Goods, Shipping and Logistics, Healthcare, and Utilities to re-imagine their digital future and transform their outcomes with operational excellence.\\nWe deliver an entire spectrum of BPM services in finance and accounting, procurement, customer interaction services and human resources leveraging collaborative models that are tailored to address the unique business challenges of each client. We co-create and execute the future vision of 350+ clients with the help of our 41,000+ employees. Our global footprint spans 16 countries with 60 delivery centers worldwide including in China, Costa Rica, India, the Philippines, Poland, Romania, South Africa, Spain, Sri Lanka, Turkey, United Kingdom and the United States.\\n\\t\\t\\t</p></div> <div class=\"company-action-center\"><a href=\"/overview/wns-overview\" title=\"WNS Overview\" class=\"body-medium\">\\n\\t\\t\\tAbout\\n\\t\\t\\t<!----></a><a href=\"/reviews/wns-reviews\" title=\"WNS Reviews\" class=\"body-medium\">\\n\\t\\t\\tReviews\\n\\t\\t\\t<span class=\"caption-subdued-large\">\\n\\t\\t\\t\\t4.8k\\n\\t\\t\\t</span></a><a title=\"WNS Salaries\" href=\"https://www.ambitionbox.com/salaries/wns-salaries\" class=\"body-medium\">\\n\\t\\t\\tSalaries\\n\\t\\t\\t<span class=\"caption-subdued-large\">\\n\\t\\t\\t\\t23.5k\\n\\t\\t\\t</span></a><a title=\"WNS Interviews\" href=\"https://www.ambitionbox.com/interviews/wns-interview-questions\" class=\"body-medium\">\\n\\t\\t\\tInterviews\\n\\t\\t\\t<span class=\"caption-subdued-large\">\\n\\t\\t\\t\\t287\\n\\t\\t\\t</span></a><a href=\"/jobs/wns-jobs\" title=\"WNS Jobs\" class=\"body-medium\">\\n\\t\\t\\tJobs\\n\\t\\t\\t<span class=\"caption-subdued-large\">\\n\\t\\t\\t\\t84\\n\\t\\t\\t</span></a></div></div></div></div> <div id=\"ab-paginator-wrapper\" role=\"navigation\" data-v-5051744e><!----> <div class=\"pagination-btns\"><a href=\"/list-of-companies?page=1\" class=\"page sbold-section-header router-link-exact-active router-link-active link-active\">\\n\\t\\t\\t1\\n\\t\\t</a><a href=\"/list-of-companies?page=2\" class=\"page sbold-section-header router-link-active\">\\n\\t\\t\\t2\\n\\t\\t</a><a href=\"/list-of-companies?page=3\" class=\"page sbold-section-header router-link-active\">\\n\\t\\t\\t3\\n\\t\\t</a><a href=\"/list-of-companies?page=4\" class=\"page sbold-section-header router-link-active\">\\n\\t\\t\\t4\\n\\t\\t</a><a href=\"/list-of-companies?page=5\" class=\"page sbold-section-header router-link-active\">\\n\\t\\t\\t5\\n\\t\\t</a><a href=\"/list-of-companies?page=6\" class=\"page sbold-section-header router-link-active\">\\n\\t\\t\\t6\\n\\t\\t</a><a href=\"/list-of-companies?page=7\" class=\"page sbold-section-header router-link-active\">\\n\\t\\t\\t7\\n\\t\\t</a></div> <a href=\"/list-of-companies?page=2\" class=\"page-nav-btn router-link-active\"><i class=\"icon-chevron-right next nav-btn\"></i></a></div> <!----> <div class=\"ab_seo_interlinking\" data-v-5051744e><div class=\"ab_card card slimCard\" data-v-5051744e> <!----></div></div></section></div></div></div></main> <!----><!----><!----><!----><!----><!----><!----> <!----> <footer id=\"ab-footer\" style=\"margin-bottom:;\" data-v-1b4eaba2><div class=\"container\"><div class=\"info\"><div class=\"logo-wrap\"><img width=\"27.2\" height=\"31\" src=\"https://static.ambitionbox.com/static/logo.svg\" alt=\"AmbitionBox\" class=\"logo-img lazy\"> <span class=\"logo-text\">AmbitionBox</span></div> <p class=\"title semibold\">\\n\\t\\t\\t\\t\\t\\tHelping over\\n\\t\\t\\t\\t\\t\\t57 Lakh job seekers\\n\\t\\t\\t\\t\\t\\tevery month in choosing their right fit company\\n\\t\\t\\t\\t\\t</p> <div class=\"col\"><div class=\"item\"><span class=\"bold-title\">35 Lakh+</span> <p class=\"semibold\">Reviews</p></div><div class=\"item\"><span class=\"bold-title\">1 Crore+</span> <p class=\"semibold\">Salaries</p></div><div class=\"item\"><span class=\"bold-title\">2 Lakh+</span> <p class=\"semibold\">Interviews</p></div><div class=\"item\"><span class=\"bold-title\">57 Lakh+</span> <p class=\"semibold\">Users/Month</p></div></div></div> <div id=\"footer-typeahead\" default-drop-down-option=\"3\" type-id=\"footer-typeahead\" class=\"container ab_typeahead3\"><!----> <!----> <div class=\"typeahead-wrapper3 float-search\"><div class=\"wrapper\"><div class=\"search-company\"><input title=\"Enter a Company or Designation\" name=\"CompanyName\" autocomplete=\"off\" type=\"search\" placeholder=\"Search by Company or Designation\" class=\"component-input\"></div> <div class=\"dropdown\"><div class=\"wrapper-dropdown\" data-v-61f82f61><div class=\"input-box\" data-v-61f82f61><p data-v-61f82f61>About Company</p> <i class=\"icon-chevron-right\" data-v-61f82f61></i></div> <ul class=\"autocomplete-list\" data-v-61f82f61><li rel=\"CompanyReviews\" data-v-61f82f61>\\n\\t\\t\\tReviews\\n\\t\\t</li><li rel=\"CompanyJobs\" data-v-61f82f61>\\n\\t\\t\\tJobs\\n\\t\\t</li><li rel=\"InterviewQuestions\" data-v-61f82f61>\\n\\t\\t\\tInterview Questions\\n\\t\\t</li><li rel=\"CompanyOverview\" class=\"active\" data-v-61f82f61>\\n\\t\\t\\tAbout Company\\n\\t\\t</li><li rel=\"CompanySalaries\" data-v-61f82f61>\\n\\t\\t\\tSalaries\\n\\t\\t</li><li rel=\"CompanyBenefits\" data-v-61f82f61>\\n\\t\\t\\tBenefits\\n\\t\\t</li></ul></div></div> <button class=\"ab_btn search-btn round\"><span class=\"ctas-btn-medium\">Search</span></button></div></div></div> <div class=\"footer-nav-section\"><div class=\"left-col\"><!----> <div class=\"col\"><span class=\"item bold-title\">Users/Jobseekers</span> <a href=\"/list-of-companies\" class=\"item router-link-active\">Companies</a> <a href=\"/reviews\" class=\"item\">Reviews</a> <a href=\"/salaries\" class=\"item\">Salaries</a> <a href=\"/jobs\" class=\"item\">\\n\\t\\t\\t\\t\\t\\t\\tJobs\\n\\t\\t\\t\\t\\t\\t</a> <a href=\"https://www.ambitionbox.com/interviews\" rel=\"noreferrer\" class=\"item\">Interviews</a> <!----> <a href=\"/best-places-to-work-in-india-2021\" class=\"item\">\\n\\t\\t\\t\\t\\t\\t\\tBest Places to Work 2021\\n\\t\\t\\t\\t\\t\\t</a> <a href=\"/salaries/take-home-salary-calculator\" class=\"item\">\\n\\t\\t\\t\\t\\t\\t\\tSalary Calculator\\n\\t\\t\\t\\t\\t\\t</a> <a href=\"https://www.ambitionbox.com/topics/aptitude/questions-and-answers\" rel=\"noreferrer\" class=\"item\">Practice Test</a></div> <div class=\"col\"><span class=\"item bold-title\">Employers</span> <a href=\"https://employer.ambitionbox.com\" target=\"_blank\" rel=\"noreferrer\" class=\"item\">Create a new company</a> <a href=\"https://employer.ambitionbox.com/company-page\" target=\"_blank\" rel=\"noreferrer\" class=\"item\">Update company information</a> <a href=\"https://employer.ambitionbox.com/review-management\" target=\"_blank\" rel=\"noreferrer\" class=\"item\">Respond to reviews</a> <a href=\"https://www.ambitionbox.com/employer/sendemail\" target=\"_blank\" rel=\"noreferrer\" class=\"item\">Invite employees to review</a></div> <div class=\"col\"><span class=\"item bold-title\">AmbitionBox</span> <a href=\"/about-us\" rel=\"noreferrer\" class=\"item\">About</a> <a href=\"/about-us?section=careers\" rel=\"noreferrer\" class=\"item\">Work with Us</a> <a href=\"mailto:hi@ambitionbox.com?Subject=Query\" target=\"_blank\" rel=\"noreferrer\" class=\"body-text-large\">Email Us</a> <a href=\"https://www.ambitionbox.com/unboxed\" target=\"_blank\" rel=\"noreferrer\" class=\"item\">Blog</a> <a href=\"/faq\" target=\"_blank\" rel=\"noreferrer\" class=\"item\">FAQ</a></div> <div class=\"col\"><span class=\"item bold-title\">Support</span> <ul><li class=\"item\"><a href=\"/legal/privacy-policy\" target=\"_blank\" rel=\"noreferrer\" class=\"item\">Privacy</a></li><li class=\"item\"><a href=\"https://www.ambitionbox.com/legal/grievances\" target=\"_blank\" rel=\"noreferrer\" class=\"item\">Grievances</a></li><li class=\"item\"><a href=\"/legal/terms-of-use\" target=\"_blank\" rel=\"noreferrer\" class=\"item\">Terms of Use</a></li><li class=\"item\"><a href=\"https://www.ambitionbox.com/legal/summons-notice-form\" target=\"_blank\" rel=\"noreferrer\" class=\"item\">Summons/Notices</a></li><li class=\"item\"><a href=\"/legal/community-guidelines\" target=\"_blank\" rel=\"noreferrer\" class=\"item\">Community Guidelines</a></li></ul></div> <!----></div> <div class=\"right-col\"><div class=\"col\"><span class=\"item bold-title\">Follow Us</span> <div class=\"social\"><a target=\"_blank\" rel=\"nofollow noopener\" href=\"https://bit.ly/3z5uDdq\"><img width=\"24\" height=\"24\" data-src=\"https://static.ambitionbox.com/static/icons/social/instagram-logo.svg\" class=\"lazy\"></a><a target=\"_blank\" rel=\"nofollow noopener\" href=\"https://bit.ly/2W42b9V \"><img width=\"24\" height=\"24\" data-src=\"https://static.ambitionbox.com/static/icons/social/linkedin-logo.svg\" class=\"lazy\"></a><a target=\"_blank\" rel=\"nofollow noopener\" href=\"https://bit.ly/2YzmnCf\"><img width=\"24\" height=\"24\" data-src=\"https://static.ambitionbox.com/static/icons/social/fb-logo.svg\" class=\"lazy\"></a><a target=\"_blank\" rel=\"nofollow noopener\" href=\"https://bit.ly/35wg97E\"><img width=\"24\" height=\"24\" data-src=\"https://static.ambitionbox.com/static/icons/social/twitter-logo.svg\" class=\"lazy\"></a></div> <span class=\"item bold-title\">Contribute</span> <button class=\"ab_btn btn invert\"><span class=\"ctas-btn-medium\">Write a Review</span></button> <button class=\"ab_btn btn invert\"><span class=\"ctas-btn-medium\">Add a Salary</span></button> <button class=\"ab_btn btn invert\"><span class=\"ctas-btn-medium\">Share an Interview</span></button></div></div></div></div> <!----> <!----> <div class=\"copyright-container\"><p class=\"container body-large\">\\n\\t\\t\\t\\t\\tMade with ❤️ in India. Trademarks belong to their respective owners. All\\n\\t\\t\\t\\t\\trights reserved © 2022 Info Edge (India) Ltd.\\n\\t\\t\\t\\t</p></div></footer></div></div></div><script>window.__NUXT__=(function(a,b,c,d,e,f,g,h,i,j,k,l,m,n,o,p,q,r,s,t,u,v,w,x,y,z,A,B,C,D,E,F,G,H,I,J,K,L,M,N,O,P,Q,R,S,T,U,V,W,X,Y,Z,_,$,aa,ab,ac,ad,ae,af,ag,ah,ai,aj,ak,al,am,an,ao,ap,aq,ar,as,at,au,av,aw,ax,ay,az,aA,aB,aC,aD,aE,aF,aG,aH,aI,aJ,aK,aL,aM,aN,aO,aP,aQ,aR,aS,aT,aU,aV,aW,aX,aY,aZ,a_,a$,ba,bb,bc,bd,be,bf,bg,bh,bi,bj,bk,bl,bm,bn,bo,bp,bq,br,bs,bt,bu,bv,bw,bx,by,bz,bA,bB,bC,bD,bE,bF,bG,bH,bI,bJ,bK,bL,bM,bN,bO,bP,bQ,bR,bS,bT,bU,bV){return {layout:\"browseCompaniesLayout\",data:[{metaData:{title:\"List of companies - 594.3k companies | AmbitionBox\",h1:\"List of companies in India\",canonical:\"list-of-companies\",description:\"View list of companies in India with in-depth information on reviews, salaries, interviews, employee benefits, and more shared by 20 Lakh+ real employees.\"},companyListingData:[{TotalEmployees:g,TotalEmployeesIndia:g,Rating:bi,UrlName:bU,CompanyType:i,Name:\"Tata Consultancy Services\",CompanyReviewsLive:30245,CompanySalaries:323060,InterviewExperiencesLive:2069,Age:54,ShortName:\"TCS\",Logo:bU,HQCountry:l,headquaters:p,industries:[{Priority:b,UrlName:X,Id:N,Name:K},{Priority:e,UrlName:t,Id:v,Name:q}],CompanyJobsLive:523,About:\"We ensure the highest levels of certainty and satisfaction through a deep-set commitment to our clients, comprehensive industry expertise and a global network of innovation and delivery centers.\\\\n\\\\nWe function as a full stakeholder to business, offering a consulting-led approach with an integrated portfolio of technology led solutions that encompass the entire Enterprise value chain. Our Customer-centric Engagement Model defines how we do engage with you, offering specialized services and solutions that meet the distinct needs of your business.\\\\n\\\\nWe build bespoke teams around your domain and technology requirements drawn from our talent pool of over 488,649 global professionals including 36.5% women from 154 nationalities. Our domain expertise has been built upon decades of experience working across industries and this knowledge underpins our suite of solutions.\\\\n\\\\nOur organization structure is domain led and empowered to help provide Customers a single window to industry specific solutions. Agile industry units have embedded capabilities to enable rapid responses that provide a competitive edge to our Customers. This is coupled with a unique Global Network Delivery Model™ (GNDM™), spanning 40 global locations, that is today recognized as the benchmark of excellence in technology deployment.\\\\n\\\\nWe have made significant investments in Digital platforms and products spanning Technology Products, Horizontal Platforms and Products, Vertical Platforms and Products.\",HQUrlName:A,first_location:[p],CompanyId:42,Awards:[{Name:r,UrlName:s,Subfilter:f,Rank:ad,Year:h,SubfilterName:f},{Name:z,UrlName:w,Subfilter:t,Rank:au,Year:h,SubfilterName:ao}],tags:[{Name:n,UrlName:o},{Name:k,UrlName:j}],location_count:a,industry_string:aL,Subscribed:a},{TotalEmployees:g,TotalEmployeesIndia:g,Rating:aj,UrlName:aA,CompanyType:i,Name:az,CompanyReviewsLive:21722,CompanySalaries:228539,InterviewExperiencesLive:1635,Age:33,ShortName:az,Logo:aA,HQCountry:\"Ireland\",headquaters:aP,industries:[{Priority:e,UrlName:t,Id:v,Name:q},{Priority:b,UrlName:U,Id:V,Name:W}],CompanyJobsLive:8282,About:\"Accenture is a global professional services company with leading capabilities in digital, cloud, and security. Combining unmatched experience and specialized skills across more than 40 industries, we offer Strategy and Consulting, Interactive, Technology, and Operations services — all powered by the world’s largest network of Advanced Technology and Intelligent Operations centers. Our 674,000 people deliver on the promise of technology and human ingenuity every day, serving clients in more than 120 countries. We embrace the power of change to create value and shared success for our clients, people, shareholders, partners, and communities. Visit us at accenture.com.\",HQUrlName:d,first_location:[aP],CompanyId:273,Awards:[{Name:r,UrlName:s,Subfilter:f,Rank:aR,Year:h,SubfilterName:f},{Name:z,UrlName:w,Subfilter:t,Rank:aX,Year:h,SubfilterName:ao}],tags:[{Name:k,UrlName:j}],location_count:a,industry_string:\"IT Services & Consulting,Software Product\",Subscribed:a},{TotalEmployees:g,TotalEmployeesIndia:g,Rating:3.87,UrlName:\"cognizant\",CompanyType:D,Name:bh,CompanyReviewsLive:19892,CompanySalaries:232232,InterviewExperiencesLive:1273,Age:Q,ShortName:bh,Logo:\"cognizant-technology-solutions\",HQCountry:R,headquaters:bE,industries:[{Priority:e,UrlName:t,Id:v,Name:q}],CompanyJobsLive:bF,About:\"At Cognizant, we give organizations the insights to anticipate what customers want and act instantly to deliver on those demands. So they can achieve the goal of every modern business: staying one step ahead of a fast-changing world.\",HQUrlName:d,first_location:[bE],CompanyId:43,Awards:[],tags:[{Name:k,UrlName:j}],location_count:a,industry_string:q,Subscribed:a},{TotalEmployees:u,TotalEmployeesIndia:u,Rating:3.98,UrlName:\"icici-bank\",CompanyType:i,Name:bH,CompanyReviewsLive:26156,CompanySalaries:87054,InterviewExperiencesLive:679,Age:Q,ShortName:bH,Logo:\"icici_bank\",HQCountry:l,headquaters:p,industries:[{UrlName:\"chemicals-or-agri-inputs\",Id:aR,Name:\"Chemicals \\\\u002F Agri Inputs\"},{Priority:b,UrlName:y,Id:C,Name:x},{UrlName:_,Id:Z,Name:ae},{Priority:e,UrlName:F,Id:T,Name:B}],CompanyJobsLive:bm,About:\"ICICI Bank is a leading private sector bank in India. The Bank’s consolidated total assets stood at Rs. 14.76 trillion at September 30, 2020.  ICICI Bank currently has a network of 5,288 branches and 13,875 ATMs across India.\",HQUrlName:A,first_location:[p],CompanyId:134,Awards:[{Name:r,UrlName:s,Subfilter:f,Rank:ac,Year:h,SubfilterName:f},{Name:z,UrlName:w,Subfilter:F,Rank:au,Year:h,SubfilterName:B}],tags:[{Name:n,UrlName:o},{Name:k,UrlName:j}],location_count:a,industry_string:\"Chemicals \\\\u002F Agri Inputs,Financial Services,Manufacturing,Banking\",Subscribed:a},{TotalEmployees:g,TotalEmployeesIndia:g,Rating:3.99,UrlName:\"hdfc-bank\",CompanyType:i,Name:bl,CompanyReviewsLive:27482,CompanySalaries:81748,InterviewExperiencesLive:505,Age:Q,ShortName:bl,Logo:\"hdfc\",HQCountry:l,headquaters:p,industries:[{Priority:b,UrlName:y,Id:C,Name:x},{Priority:e,UrlName:F,Id:T,Name:B},{Priority:b,UrlName:\"insurance\",Id:\"99\",Name:\"Insurance\"}],CompanyJobsLive:83,About:\"The Housing Development Finance Corporation Limited or HDFC was among the first financial institutions in India to receive an “in principle” approval from the Reserve Bank of India (RBI) to set up a bank in the private sector. This was done as part of RBI’s policy for the liberalization of the Indian banking industry in 1994.\\\\n\\\\nHDFC Bank was incorporated in August 1994 in the name of HDFC Bank Limited, with its registered office in Mumbai, India. The bank commenced operations as a Scheduled Commercial Bank in January 1995. As of March 31, 2021, the Bank had a nationwide distribution network of 5,608 branches and 16,087 ATMs in 2,902 cities\\\\u002Ftowns.\\\\n\",HQUrlName:A,first_location:[p],CompanyId:137,Awards:[{Name:r,UrlName:s,Subfilter:f,Rank:\"9\",Year:h,SubfilterName:f},{Name:z,UrlName:w,Subfilter:F,Rank:E,Year:h,SubfilterName:B}],tags:[{Name:n,UrlName:o},{Name:k,UrlName:j}],location_count:a,industry_string:\"Financial Services,Banking,Insurance\",Subscribed:a},{TotalEmployees:g,TotalEmployeesIndia:g,Rating:bg,UrlName:a_,CompanyType:i,Name:aY,CompanyReviewsLive:18372,CompanySalaries:168698,InterviewExperiencesLive:1199,Age:av,ShortName:aY,Logo:a_,HQCountry:l,headquaters:L,industries:[{Priority:e,UrlName:t,Id:v,Name:q}],CompanyJobsLive:499,About:\"Wipro Limited (NYSE: WIT, BSE: 507685, NSE: WIPRO) is a leading global information technology, consulting and business process services company. We harness the power of cognitive computing, hyper-automation, robotics, cloud, analytics and emerging technologies to help our clients adapt to the digital world and make them successful. A company recognized globally for its comprehensive portfolio of services, a strong commitment to sustainability and good corporate citizenship, we have over 160,000 dedicated employees serving clients across six continents. Together, we discover ideas and connect the dots to build a better and a bold new future.\",HQUrlName:am,first_location:[L],CompanyId:aW,Awards:[{Name:r,UrlName:s,Subfilter:f,Rank:aS,Year:h,SubfilterName:f}],tags:[{Name:H,UrlName:G},{Name:n,UrlName:o},{Name:k,UrlName:j}],location_count:a,industry_string:q,Subscribed:a},{TotalEmployees:g,TotalEmployeesIndia:g,Rating:3.75,UrlName:aM,CompanyType:i,Name:aK,CompanyReviewsLive:15156,CompanySalaries:151737,InterviewExperiencesLive:1001,Age:aJ,ShortName:aK,Logo:aM,HQCountry:aB,headquaters:ak,industries:[{Priority:b,UrlName:aw,Id:ay,Name:al},{Priority:b,UrlName:P,Id:O,Name:J},{Priority:e,UrlName:t,Id:v,Name:q},{Priority:b,UrlName:U,Id:V,Name:W}],CompanyJobsLive:946,About:\"Capgemini is a global leader in consulting, digital transformation, technology and engineering services. The Group is at the forefront of innovation to address the entire breadth of clients’ opportunities in the evolving world of cloud, digital and platforms. Building on its strong 50-year+ heritage and deep industry-specific expertise, Capgemini enables organizations to realize their business ambitions through an array of services from strategy to operations. Capgemini is driven by the conviction that the business value of technology comes from and through people. Today, it is a multicultural company of 270,000 team members in almost 50 countries. With Altran, the Group reported 2019 combined revenues of €17billion.\",HQUrlName:d,first_location:[ak],CompanyId:95,Awards:[],tags:[{Name:k,UrlName:j}],location_count:a,industry_string:\"Internet,Analytics \\\\u002F KPO \\\\u002F Research,IT Services & Consulting,Software Product\",Subscribed:a},{TotalEmployees:g,TotalEmployeesIndia:g,Rating:aC,UrlName:\"hcl-technologies\",CompanyType:i,Name:aD,CompanyReviewsLive:15464,CompanySalaries:136756,InterviewExperiencesLive:955,Age:46,ShortName:aD,Logo:\"hcl-technologies-88\",HQCountry:l,headquaters:aE,industries:[{Priority:b,UrlName:y,Id:C,Name:x},{Priority:b,UrlName:\"consumer-electronics-and-appliances\",Id:\"111\",Name:\"Consumer Electronics & Appliances\"},{Priority:e,UrlName:t,Id:v,Name:q},{Priority:b,UrlName:U,Id:V,Name:W}],CompanyJobsLive:758,About:\"HCL Technologies is a next-generation global technology company that helps enterprises reimagine their businesses for the digital age. Our technology products and services are built on four decades of innovation, with a world-renowned management philosophy, a strong culture of invention and risk-taking, and a relentless focus on customer relationships. HCL also takes pride in its many diversity, social responsibility, sustainability, and education initiatives. Through its worldwide network of R&D facilities and co-innovation labs, global delivery capabilities, and over 168,000+ ‘Ideapreneurs’ across 50 countries, HCL delivers holistic services across industry verticals to leading enterprises, including 250 of the Fortune 500 and 650 of the Global 2000.\\\\nEnterprises across industries stand at an inflection point today. In order to thrive in the digital age, technologies such as analytics, cloud, IoT, and automation occupy center stage. In order to offer enterprises the maximum benefit of these technologies to further their business objectives, HCL offers an integrated portfolio of products and services through three business units. These are IT and Business Services (ITBS), Engineering and R&D Services (ERS), and Products and Platforms (P&P).\\\\nITBS enables global enterprises to transform their businesses via Digital Foundation, our modernized infrastructure stack built around hybrid cloud, software-defined networks, the digital workplace, and other elements; Digital Business, a combination of our application services and consulting capabilities; and Digital Operations, a three-pronged setup for modernized and efficient operations at enterprise level.\\\\nERS offers engineering services and solutions in all aspects of product development and platform engineering.\\\\nUnder P&P, HCL provides modernized software products to global clients for their technological and industry-specific requirements.\\\\nOur holistic Mode 1-2-3 strategy forms the backbone of these three business units to help enterprises navigate the digital age with ease. It is the core aspect of our ‘Digital Enterprise 4.0’ focus – aimed at offering holistic services to our clients to meet the technology needs of their present while readying them to be future-ready.\\\\nThe company’s DNA of grassroots innovation, its ingrained culture of co-innovation, and its tradition of going far beyond what is expected, to create customer value, clearly differentiates it and gives it a distinct advantage in creating value for businesses in the digital and connected world.\",HQUrlName:\"noida\",first_location:[aE],CompanyId:88,Awards:[{Name:r,UrlName:s,Subfilter:f,Rank:\"13\",Year:h,SubfilterName:f}],tags:[{Name:H,UrlName:G},{Name:n,UrlName:o},{Name:k,UrlName:j}],location_count:a,industry_string:\"Financial Services,Consumer Electronics & Appliances,IT Services & Consulting,Software Product\",Subscribed:a},{TotalEmployees:g,TotalEmployeesIndia:g,Rating:bi,UrlName:aF,CompanyType:i,Name:aG,CompanyReviewsLive:19028,CompanySalaries:193612,InterviewExperiencesLive:2439,Age:aH,ShortName:aG,Logo:aF,HQCountry:l,headquaters:L,industries:[{Priority:e,UrlName:t,Id:v,Name:q}],CompanyJobsLive:615,About:\"Infosys is a global leader in next-generation digital services and consulting. We enable clients in more than 50 countries to navigate their digital transformation. \\\\n\\\\nWith over four decades of experience in managing the systems and workings of global enterprises, we expertly steer our clients through their digital journey. We do it by enabling the enterprise with an AI-powered core that helps prioritize the execution of change. \\\\n\\\\nWe also empower the business with agile digital at scale to deliver unprecedented levels of performance and customer delight. Our always-on learning agenda drives their continuous improvement through building and transferring digital skills, expertise, and ideas from our innovation ecosystem.\",HQUrlName:am,first_location:[L],CompanyId:aH,Awards:[{Name:r,UrlName:s,Subfilter:f,Rank:\"12\",Year:h,SubfilterName:f}],tags:[{Name:n,UrlName:o},{Name:k,UrlName:j}],location_count:a,industry_string:q,Subscribed:a},{TotalEmployees:g,TotalEmployeesIndia:u,Rating:3.65,UrlName:\"tech-mahindra\",CompanyType:i,Name:aI,CompanyReviewsLive:15042,CompanySalaries:105975,InterviewExperiencesLive:722,Age:36,ShortName:aI,Logo:\"techmahindra\",HQCountry:l,headquaters:ai,industries:[{Priority:b,UrlName:ah,Id:Y,Name:ag},{Priority:b,UrlName:P,Id:O,Name:J},{Priority:e,UrlName:t,Id:v,Name:q}],CompanyJobsLive:671,About:\"Tech Mahindra offers innovative and customer-centric digital experiences, enabling enterprises, associates, and society to rise. We are a USD 5.1 billion organization with 141,100+ professionals across 90 countries helping 1123 global customers, including Fortune 500 companies. \\\\n\\\\nWe are focused on leveraging next-generation technologies including 5G, Blockchain, Cybersecurity, Artificial Intelligence, and more, to enable end-to-end digital transformation for global customers. Tech Mahindra is one of the fastest-growing brands and amongst the top 15 IT service providers globally. \\\\n\\\\nTech Mahindra has consistently emerged as a leader in sustainability and is recognized amongst the ‘2021 Global 100 Most sustainable corporations in the World’ by Corporate Knights. With the NXT.NOW™ framework, Tech Mahindra aims to enhance ‘Human Centric Experience’ for our ecosystem and drive collaborative disruption with synergies arising from a robust portfolio of companies. \\\\n\\\\nTech Mahindra aims at delivering tomorrow’s experiences today and believes that the ‘Future is Now.\\\\n\\\\nWe are part of the Mahindra Group, founded in 1945, one of the largest and most admired multinational federations of companies with 260,000 employees in over 100 countries. It enjoys a leadership position in farm equipment, utility vehicles, information technology, and financial services in India and is the world’s largest tractor company by volume. It has a strong presence in renewable energy, agriculture, logistics, hospitality, and real estate. \\\\n\\\\nThe Mahindra Group has a clear focus on leading ESG globally, enabling rural prosperity and enhancing urban living, with a goal to drive positive change in the lives of communities and stakeholders to enable them to rise.\",HQUrlName:aN,first_location:[ai],CompanyId:351,Awards:[],tags:[{Name:n,UrlName:o},{Name:k,UrlName:j}],location_count:a,industry_string:\"Consulting,Analytics \\\\u002F KPO \\\\u002F Research,IT Services & Consulting\",Subscribed:a},{TotalEmployees:u,TotalEmployeesIndia:u,Rating:aj,UrlName:\"genpact\",CompanyType:D,Name:aO,CompanyReviewsLive:14773,CompanySalaries:74285,InterviewExperiencesLive:617,Age:25,ShortName:aO,Logo:\"genpact-india-pvt-limited\",HQCountry:R,headquaters:af,industries:[{Priority:e,UrlName:P,Id:O,Name:J}],CompanyJobsLive:586,About:\"Change is constant. At Genpact, we’re the ones driving it. We think with design, dream in digital, and solve problems with data and analytics. We obsess over operations and focus on the details – all 78,000+ of us. And you could be one of us!\\\\nWe are a global professional services firm that makes business transformation real. We drive digital-led innovation and digitally-enabled intelligent operations for our clients, guided by our experience running thousands of processes for hundreds of Global Fortune 500 companies.\\\\nFrom New York to New Delhi and more than 20 countries in between, Genpact has the end-to-end expertise to connect every dot, reimagine every process, and reinvent companies’ ways of working. And it offers you an unparalleled opportunity to grow and transform your career.\",HQUrlName:d,first_location:[af],CompanyId:298,Awards:[{Name:r,UrlName:s,Subfilter:f,Rank:\"8\",Year:h,SubfilterName:f}],tags:[],location_count:a,industry_string:J,Subscribed:a},{TotalEmployees:u,TotalEmployeesIndia:u,Rating:bg,UrlName:\"axis-bank\",CompanyType:i,Name:aQ,CompanyReviewsLive:14403,CompanySalaries:69962,InterviewExperiencesLive:464,Age:29,ShortName:aQ,Logo:\"axis_bank\",HQCountry:l,headquaters:p,industries:[{Priority:b,UrlName:y,Id:C,Name:x},{Priority:e,UrlName:F,Id:T,Name:B}],CompanyJobsLive:227,About:\"Axis Bank is the third largest private sector bank in India. The Bank offers the entire spectrum of financial services to customer segments covering Large and Mid-Corporates, MSME, Agriculture and Retail Businesses.\\\\n\\\\nThe Bank has a large footprint of 4,050 domestic branches (including extension counters) with 11,801 ATMs & 4,917 cash recyclers spread across the country as on 31st March, 2019. The overseas operations of the Bank are spread over nine international offices with branches at Singapore, Hong Kong, Dubai (at the DIFC), Colombo and Shanghai; representative offices at Dhaka, Dubai, Abu Dhabi and an overseas subsidiary at London, UK. The international offices focus on corporate lending, trade finance, syndication, investment banking and liability businesses.\",HQUrlName:A,first_location:[p],CompanyId:562,Awards:[{Name:r,UrlName:s,Subfilter:f,Rank:Y,Year:h,SubfilterName:f},{Name:z,UrlName:w,Subfilter:F,Rank:aX,Year:h,SubfilterName:B}],tags:[{Name:n,UrlName:o},{Name:k,UrlName:j}],location_count:a,industry_string:ap,Subscribed:a},{TotalEmployees:m,TotalEmployeesIndia:m,Rating:4.2,UrlName:aT,CompanyType:i,Name:\"vodafone idea\",CompanyReviewsLive:11614,CompanySalaries:33526,InterviewExperiencesLive:191,Age:aU,ShortName:\"Vodafone Idea\",Logo:aT,HQCountry:l,headquaters:aV,industries:[{Priority:e,UrlName:an,Id:ax,Name:M}],CompanyJobsLive:aZ,About:\"Vodafone Idea Limited is an Aditya Birla Group and Vodafone Group partnership. It is India’s leading telecom service provider. The Company provides pan India Voice and Data services across 2G, 3G and 4G platform. With the large spectrum portfolio to support the growing demand for data and voice, the company is committed to deliver delightful customer experiences and contribute towards creating a truly ‘Digital India’ by enabling millions of citizens to connect and build a better tomorrow. The Company is developing infrastructure to introduce newer and smarter technologies, making both retail and enterprise customers future ready with innovative offerings, conveniently accessible through an ecosystem of digital channels as well as extensive on-ground presence. The Company is listed on National Stock Exchange (NSE) and Bombay Stock Exchange (BSE) in India.\",HQUrlName:A,first_location:[aV,\"Pune\"],CompanyId:296267,Awards:[],tags:[{Name:n,UrlName:o},{Name:k,UrlName:j}],location_count:515,industry_string:M,Subscribed:a},{TotalEmployees:u,TotalEmployeesIndia:m,Rating:at,UrlName:a$,CompanyType:i,Name:\"Larsen and Toubro\",CompanyReviewsLive:22705,CompanySalaries:44293,InterviewExperiencesLive:406,Age:ba,ShortName:\"L&T\",Logo:a$,HQCountry:l,headquaters:p,industries:[{Priority:e,UrlName:\"engineering-and-construction\",Id:\"91\",Name:\"Engineering & Construction\"},{Priority:b,UrlName:bb,Id:bc,Name:bd}],CompanyJobsLive:893,About:\"Larsen & Toubro is a major technology, engineering, construction, manufacturing and financial services conglomerate, with global operations. L&T addresses critical needs in key sectors - Hydrocarbon, Infrastructure, Power, Process Industries and Defence - for customers in over 30 countries around the world.\\\\nL&T is engaged in core, high impact sectors of the economy and our integrated capabilities span the entire spectrum of ‘design to deliver’. With 8 decades of a strong, customer focused approach and a continuous quest for world-class quality, we have unmatched expertise across Technology, Engineering, Construction, Infrastructure Projects and Manufacturing, and maintain a leadership in all our major lines of business.\\\\nEvery aspect of L&T\\'s businesses is characterised by professionalism and high standards of corporate governance. Sustainability is embedded into our long-term strategy for growth.\",HQUrlName:A,first_location:[p],CompanyId:70,Awards:[],tags:[{Name:H,UrlName:G},{Name:n,UrlName:o},{Name:k,UrlName:j}],location_count:a,industry_string:\"Engineering & Construction,Industrial Automation\",Subscribed:a},{TotalEmployees:m,TotalEmployeesIndia:m,Rating:3.97,UrlName:\"reliance-jio\",CompanyType:i,Name:be,CompanyReviewsLive:11428,CompanySalaries:42788,InterviewExperiencesLive:342,Age:bf,ShortName:be,Logo:\"reliance-jio-infocomm\",HQCountry:l,headquaters:I,industries:[{Priority:e,UrlName:an,Id:ax,Name:M}],CompanyJobsLive:291,About:\"Make a new start. A start that will build beautiful relationships, shape millions of ideas. Enable a new way to live, learn, work and play.\\\\nAt Jio, we build products and services of the future to empower billions of Indians make their dreams a reality.\\\\nJio is about YOU. Join the movement to make India Digital.\",HQUrlName:ar,first_location:[I],CompanyId:417825,Awards:[],tags:[],location_count:a,industry_string:M,Subscribed:a},{TotalEmployees:g,TotalEmployeesIndia:u,Rating:bV,UrlName:\"ibm\",CompanyType:i,Name:bj,CompanyReviewsLive:11279,CompanySalaries:97505,InterviewExperiencesLive:596,Age:111,ShortName:bj,Logo:\"ibm-global-services\",HQCountry:\"UnitedStates\",headquaters:bk,industries:[{Priority:b,UrlName:aq,Id:ac,Name:as},{Priority:b,UrlName:ah,Id:Y,Name:ag},{Priority:b,UrlName:y,Id:C,Name:x},{Priority:b,UrlName:P,Id:O,Name:J},{Priority:b,UrlName:X,Id:N,Name:K},{Priority:e,UrlName:t,Id:v,Name:q},{Priority:b,UrlName:U,Id:V,Name:W},{Priority:b,UrlName:bb,Id:bc,Name:bd}],CompanyJobsLive:4744,About:\"IBMers believe in progress—that the application of intelligence, reason and science can improve business, society and the human condition\\\\n\\\\nIBM has developed a thoughtful, comprehensive approach to corporate citizenship that we believe aligns with IBM’s values and maximised the impact we can make as a global enterprise. We focus on specific societal issues, including the environment, community economic development, education and skills, public health, literacy, language and culture.\\\\n\\\\nThe mission of India CSR is to foster life-long learning opportunities across India through streamlined initiatives that cut pathways across education [access], skills\\\\u002Femployability [inclusion], and employment [equity and quality].\\\\n\\\\nIBM’s greatest asset is the IBMer. We believe our strength lies in the diversity of our employees. IBM encourages creative pursuits and passions outside of work, because when IBMers can explore their curiosity, it gives all of us a new outlook on the world and its possibilities for emerging tech. Together, IBM can drive progress through meaningful innovation and action.\\\\n\\\\nThe new generation of hybrid cloud enables you to build once, deploy anywhere and manage it all from a single pane of glass. So your business can adapt and transform like never before.\",HQUrlName:d,first_location:[bk],CompanyId:bF,Awards:[{Name:r,UrlName:s,Subfilter:f,Rank:\"5\",Year:h,SubfilterName:f},{Name:z,UrlName:w,Subfilter:t,Rank:E,Year:h,SubfilterName:ao}],tags:[{Name:k,UrlName:j}],location_count:a,industry_string:\"BPO\\\\u002FKPO,Consulting,Financial Services,Analytics \\\\u002F KPO \\\\u002F Research,BPO \\\\u002F Call Centre,IT Services & Consulting,Software Product,Industrial Automation\",Subscribed:a},{TotalEmployees:g,TotalEmployeesIndia:m,Rating:bn,UrlName:bo,CompanyType:i,Name:bp,CompanyReviewsLive:10873,CompanySalaries:39676,InterviewExperiencesLive:362,Age:39,ShortName:bp,Logo:bo,HQCountry:R,headquaters:bq,industries:[{Priority:b,UrlName:aq,Id:ac,Name:as},{Priority:b,UrlName:\"recruitment-or-staffing\",Id:\"85\",Name:\"Recruitment \\\\u002F Staffing\"},{Priority:e,UrlName:X,Id:N,Name:K}],CompanyJobsLive:101,About:\"Concentrix is a technology-enabled global business services company specializing in customer engagement and improving business performance. We partner with ambitious, progressive executives around the world to future-proof their business and stay ahead of the competition and customer expectations.It’s all about tapping into sentiment and building an emotional connection that keeps customers and staff fanatical about your brand. That’s where we come in—we create exceptional customer engagement, accelerate digital transformation, and deliver actionable CX insights.\",HQUrlName:d,first_location:[bq,\"Gurgaon\\\\u002FGurugram\"],CompanyId:631479,Awards:[{Name:r,UrlName:s,Subfilter:f,Rank:\"4\",Year:h,SubfilterName:f}],tags:[],location_count:aJ,industry_string:\"BPO\\\\u002FKPO,Recruitment \\\\u002F Staffing,BPO \\\\u002F Call Centre\",Subscribed:a},{TotalEmployees:g,TotalEmployeesIndia:m,Rating:4.19,UrlName:br,CompanyType:D,Name:bs,CompanyReviewsLive:10256,CompanySalaries:61068,InterviewExperiencesLive:1368,Age:Q,ShortName:bs,Logo:br,HQCountry:R,headquaters:bt,industries:[{Priority:e,UrlName:aw,Id:ay,Name:al},{Priority:b,UrlName:bu,Id:bv,Name:bw},{Priority:b,UrlName:\"courier-or-logistics\",Id:\"135\",Name:\"Courier \\\\u002F Logistics\"},{Priority:b,UrlName:t,Id:v,Name:q},{Priority:b,UrlName:U,Id:V,Name:W}],CompanyJobsLive:604,About:\"Amazon is guided by four principles: customer obsession rather than competitor focus, passion for invention, commitment to operational excellence, and long-term thinking. \\\\n\\\\nWe are driven by the excitement of building technologies, inventing products, and providing services that change lives. We embrace new ways of doing things, make decisions quickly, and are not afraid to fail. We have the scope and capabilities of a large company and the spirit and heart of a small one. \\\\n\\\\nTogether, Amazonians research and develop new technologies from Amazon Web Services to Alexa on behalf of our customers: shoppers, sellers, content creators, and developers around the world. \\\\n\\\\nOur mission is to be Earth\\'s most customer-centric company. Our actions, goals, projects, programs, and inventions begin and end with the customer\\'s top of mind. \\\\n\\\\nYou\\'ll also hear us say that at Amazon, it\\'s always \\\\\"Day 1.\\\\\"\\u200b What do we mean? That our approach remains the same as it was on Amazon\\'s very first day - to make smart, fast decisions, stay nimble, invent, and focus on delighting our customers.\",HQUrlName:d,first_location:[bt],CompanyId:bm,Awards:[{Name:r,UrlName:s,Subfilter:f,Rank:E,Year:h,SubfilterName:f},{Name:z,UrlName:w,Subfilter:aw,Rank:E,Year:h,SubfilterName:al}],tags:[{Name:k,UrlName:j}],location_count:a,industry_string:\"Internet,Retail,Courier \\\\u002F Logistics,IT Services & Consulting,Software Product\",Subscribed:a},{TotalEmployees:g,TotalEmployeesIndia:g,Rating:aj,UrlName:\"hdb-financial-services\",CompanyType:D,Name:bx,CompanyReviewsLive:9882,CompanySalaries:37560,InterviewExperiencesLive:198,Age:bf,ShortName:bx,Logo:\"hdb-financial-services-6193\",HQCountry:l,headquaters:by,industries:[{Priority:b,UrlName:y,Id:C,Name:x},{Priority:e,UrlName:\"nbfc\",Id:\"103\",Name:\"NBFC\"}],CompanyJobsLive:169,About:\"HDB Financial Services (HDBFS) is a leading Non-Banking Financial Company (NBFC) that caters to the growing needs of an Aspirational India, serving both Individual & Business Clients.\\\\n\\\\nIncorporated in 2007, we are a well-established business with strong capitalization. HDBFS is accredited with CARE AAA & CRISIL AAA ratings for its long-term debt & Bank facilities and an A1+ rating for its short-term debt & commercial papers, making it a strong and reliable financial institution.\\\\n\\\\nHDBFS maintains a strong commitment to ethical conduct. Transparency is ingrained in the structure of our Code of Ethics and our compliance policies to ensure that the highest standards of professional conduct are consistently reinforced and embedded in every corner of the organisation.\\\\n\",HQUrlName:\"ahmedabad\",first_location:[by],CompanyId:6193,Awards:[{Name:z,UrlName:w,Subfilter:y,Rank:E,Year:h,SubfilterName:x}],tags:[],location_count:a,industry_string:\"Financial Services,NBFC\",Subscribed:a},{TotalEmployees:m,TotalEmployeesIndia:m,Rating:3.85,UrlName:bz,CompanyType:i,Name:\"Kotak Mahindra Bank Ltd..\",CompanyReviewsLive:10187,CompanySalaries:41709,InterviewExperiencesLive:bA,Age:19,ShortName:\"Kotak Mahindra Bank\",Logo:bz,HQCountry:l,headquaters:p,industries:[{Priority:b,UrlName:y,Id:C,Name:x},{Priority:e,UrlName:F,Id:T,Name:B}],CompanyJobsLive:113,About:\"In February 2003, Kotak Mahindra Finance Ltd. (KMFL), the Group\\'s flagship company, received banking license from the Reserve Bank of India (RBI), becoming the first non-banking finance company in India to convert into a bank - Kotak Mahindra Bank Ltd.\\\\nEffective April 1, 2015, ING Vysya Bank Ltd. merged with Kotak Mahindra Bank Ltd. \\\\nThe Bank has four Strategic Business Units – Consumer Banking, Corporate Banking, Commercial Banking and Treasury, which cater to retail and corporate customers across urban and rural India.\\\\n\\\\nThe Group offers a wide range of financial services that encompass every sphere of life. From commercial banking, to stock broking, mutual funds, life insurance and investment banking, the Group caters to the diverse financial needs of individuals and the corporate sector. The Group has a wide distribution network through branches and franchisees across India, and international offices in London, New York, California, Dubai, Abu Dhabi, Bahrain, Mauritius and Singapore.\",HQUrlName:A,first_location:[p],CompanyId:293916,Awards:[],tags:[{Name:H,UrlName:G},{Name:n,UrlName:o},{Name:k,UrlName:j}],location_count:a,industry_string:ap,Subscribed:a},{TotalEmployees:g,TotalEmployeesIndia:u,Rating:3.57,UrlName:\"teleperformance\",CompanyType:D,Name:bB,CompanyReviewsLive:7448,CompanySalaries:36587,InterviewExperiencesLive:360,Age:aW,ShortName:bB,Logo:\"teleperformance-group\",HQCountry:aB,headquaters:ak,industries:[{Priority:e,UrlName:X,Id:N,Name:K},{Priority:b,UrlName:t,Id:v,Name:q}],CompanyJobsLive:237,About:\"Teleperformance is the agile business services partner that companies need in this digital world.\\\\nFor over 40 years, Teleperformance has been connecting customers with the world’s most successful companies. It is the global leader in customer experience outsourcing management and the trusted provider of digitally integrated business services.\\\\nAt Teleperformance, we combine human touch and high technology to deliver extraordinary customer experiences. While technology creates new and agile ways of working, our interaction experts remain committed to creating unique connections through empathy, adaptive communication skills, and more importantly, a passion to make it happen.\",HQUrlName:d,first_location:[ak],CompanyId:153271,Awards:[],tags:[{Name:k,UrlName:j}],location_count:a,industry_string:aL,Subscribed:a},{TotalEmployees:u,TotalEmployeesIndia:u,Rating:bn,UrlName:bC,CompanyType:i,Name:bD,CompanyReviewsLive:7403,CompanySalaries:23439,InterviewExperiencesLive:299,Age:av,ShortName:bD,Logo:bC,HQCountry:l,headquaters:ai,industries:[{Priority:e,UrlName:ab,Id:ad,Name:aa},{Priority:b,UrlName:_,Id:Z,Name:ae}],CompanyJobsLive:18,About:\"Tata Motors Group (Tata Motors) is a $34 billion organization. It is a leading global automobile manufacturing company. Its diverse portfolio includes an extensive range of cars, sports utility vehicles, trucks, buses, and defence vehicles. \\\\n\\\\nTata Motors is one of India\\'s largest OEMs offering an extensive range of integrated, smart, and e-mobility solutions. Part of the USD110 billion Tata group founded by Jamsetji Tata in 1868, Tata Motors is among the world’s leading manufacturers of automobiles. \\\\n\\\\nWe believe in ‘Connecting aspirations’, by offering innovative mobility solutions that are in line with customers\\' aspirations. We are India\\'s largest automobile manufacturer, and we continue to take the lead in shaping the Indian commercial vehicle landscape, with the introduction of leading-edge powertrains and electric solutions packaged for power performances and user comfort at the lowest life-cycle costs. \\\\n\\\\nOur new passenger cars and utility vehicles are based on Impact Design and offer a superior blend of performance, driveability, and connectivity.\\\\n\\\\nOur focus on connecting aspirations and our pipeline of tech-enabled products keeps us at the forefront of the market. We have identified six key mobility drivers that will lead us into the future – modular architecture, complexity reduction in manufacturing, connected & autonomous vehicles, clean drivelines, shared mobility, and low total cost of ownership. \\\\n\\\\nOur sub-brand TAMO is an incubating centre of innovation that will spark new mobility solutions through new technologies, business models, and partnerships.\",HQUrlName:aN,first_location:[ai,\"Lucknow\"],CompanyId:142,Awards:[{Name:r,UrlName:s,Subfilter:f,Rank:au,Year:h,SubfilterName:f},{Name:z,UrlName:w,Subfilter:ab,Rank:E,Year:h,SubfilterName:aa}],tags:[{Name:n,UrlName:o},{Name:k,UrlName:j}],location_count:348,industry_string:\"Automobile,Manufacturing\",Subscribed:a},{TotalEmployees:m,TotalEmployeesIndia:\"5001-10000\",Rating:bV,UrlName:\"bharti-airtel\",CompanyType:i,Name:bG,CompanyReviewsLive:9933,CompanySalaries:25842,InterviewExperiencesLive:182,Age:27,ShortName:bG,Logo:\"airtel-bharti\",HQCountry:l,headquaters:$,industries:[{Priority:e,UrlName:an,Id:ax,Name:M}],CompanyJobsLive:181,About:\"Bharti Airtel Limited is a leading global telecommunications company with operations in 18 countries across Asia and Africa. Headquartered in New Delhi, India, the company ranks amongst the top 3 mobile service providers globally in terms of subscribers. In India, the company\\'s product offerings include 2G, 3G and 4G wireless services, mobile commerce, fixed line services, high speed home broadband, DTH, enterprise services including national & international long distance services to carriers. In the rest of the geographies, it offers 2G, 3G, 4G wireless services and mobile commerce. Bharti Airtel had over 403 million customers across its operations at the end of March 2019.\",HQUrlName:bI,first_location:[$],CompanyId:2244,Awards:[],tags:[{Name:n,UrlName:o},{Name:k,UrlName:j}],location_count:a,industry_string:M,Subscribed:a},{TotalEmployees:g,TotalEmployeesIndia:g,Rating:aj,UrlName:bJ,CompanyType:i,Name:\"Reliance Industries Limited\",CompanyReviewsLive:29203,CompanySalaries:33057,InterviewExperiencesLive:312,Age:49,ShortName:\"Reliance Industries Limited \",Logo:bJ,HQCountry:l,headquaters:I,industries:[{Priority:b,UrlName:_,Id:Z,Name:ae},{Priority:b,UrlName:\"oil-or-gas-or-petro-chemicals\",Id:\"42\",Name:\"Oil \\\\u002F Gas \\\\u002F Petro Chemicals\"},{Priority:b,UrlName:\"power-and-energy\",Id:\"44\",Name:\"Power\"},{Priority:b,UrlName:bK,Id:bL,Name:bM},{Priority:e,UrlName:\"oil-and-gas\",Id:\"137\",Name:\"Oil & Gas\"},{Priority:b,UrlName:\"petrochemical-or-plastics-or-rubber\",Id:\"171\",Name:\"Petrochemical \\\\u002F Plastics \\\\u002F Rubber\"}],CompanyJobsLive:103,About:\"RIL is India’s largest private sector company, with a consolidated turnover of Rs.659,205 crore ($87.1 billion), cash profit of Rs.71,446 crores ($9.4 billion), and net profit of Rs39,880 crore ($5.3 billion) for the year ended March 31, 2020.\\\\nRIL’s activities span hydrocarbon exploration and production, petroleum refining and marketing, petrochemicals, retail and digital services. RIL is the top-most ranked company from India to feature in Fortune’s Global 500 list of ‘World’s Largest Companies’ – currently ranking 96th. The company stands 58th in the ‘Forbes Global 2000’ rankings for 2020 – top-most among Indian companies. RIL has also featured in Forbes\\' list of \\\\\"World\\'s Best Employers 2020” and has ranked 81st. It ranks 10th among LinkedIn’s ‘The Best Companies to Work for In India’ (2019).  RIL is also a GPTWTM Certified organisation and features as a part of the GPTW “Best Workplaces in Manufacturing 2021” list.\",HQUrlName:ar,first_location:[I],CompanyId:167,Awards:[{Name:r,UrlName:s,Subfilter:f,Rank:ad,Year:h,SubfilterName:f}],tags:[{Name:H,UrlName:G},{Name:n,UrlName:o},{Name:k,UrlName:j}],location_count:a,industry_string:\"Manufacturing,Oil \\\\u002F Gas \\\\u002F Petro Chemicals,Power,Textile & Apparel,Oil & Gas,Petrochemical \\\\u002F Plastics \\\\u002F Rubber\",Subscribed:a},{TotalEmployees:g,TotalEmployeesIndia:m,Rating:at,UrlName:\"deloitte\",CompanyType:D,Name:bN,CompanyReviewsLive:6033,CompanySalaries:58696,InterviewExperiencesLive:652,Age:177,ShortName:bN,Logo:\"deloitte-us-india\",HQCountry:R,headquaters:af,industries:[{Priority:b,UrlName:ah,Id:Y,Name:ag},{Priority:e,UrlName:\"accounting-or-auditing\",Id:\"189\",Name:\"Accounting \\\\u002F Auditing\"}],CompanyJobsLive:76,About:\"Deloitte drives progress. Our firms around the world help clients become leaders wherever they choose to compete. Deloitte invests in outstanding people of diverse talents and backgrounds and empowers them to achieve more than they could elsewhere. Our work combines advice with action and integrity. We believe that when our clients and society are stronger, so are we. \\\\n\\\\nDeloitte refers to one or more of Deloitte Touche Tohmatsu Limited (“DTTL”), its global network of member firms, and their related entities. DTTL (also referred to as “Deloitte Global”) and each of its member firms are legally separate and independent entities. DTTL does not provide services to clients. \",HQUrlName:d,first_location:[af],CompanyId:45,Awards:[],tags:[],location_count:a,industry_string:\"Consulting,Accounting \\\\u002F Auditing\",Subscribed:a},{TotalEmployees:m,TotalEmployeesIndia:m,Rating:4.12,UrlName:\"mahindra-and-mahindra\",CompanyType:i,Name:\"Mahindra & Mahindra\",CompanyReviewsLive:15178,CompanySalaries:21818,InterviewExperiencesLive:170,Age:av,ShortName:\"Mahindra & Mahindra Limited\",Logo:\"mahindra-and-mahindra-228\",HQCountry:l,headquaters:p,industries:[{Priority:e,UrlName:ab,Id:ad,Name:aa},{Priority:b,UrlName:\"machinery-or-equipment\",Id:\"36\",Name:\"Industrial Equipment \\\\u002F Machinery\"},{Priority:b,UrlName:_,Id:Z,Name:ae}],CompanyJobsLive:aU,About:\"A federation of companies, bound by one purpose – to Rise. Inspired by this spirit, our legacy, and values, our goal to always positively impact our partners, stakeholders, communities, and the world at large, remains unshakeable.\\\\n\\\\nWhat began as a steel-trading venture seven decades ago, steadily turned into a global brand, spanning nations and industries. This is a story with an upward curve, narrating how an Indian company paved its way to become a global powerhouse. We have come a long way since 1945 and as we accelerate into the 21st century, we aim at achieving even more.\",HQUrlName:A,first_location:[p],CompanyId:228,Awards:[{Name:\"Top Large Companies\",UrlName:\"large-industry\",Subfilter:f,Rank:aS,Year:h,SubfilterName:f},{Name:\"Large\",UrlName:w,Subfilter:ab,Rank:E,Year:h,SubfilterName:aa}],tags:[{Name:H,UrlName:G},{Name:n,UrlName:o},{Name:k,UrlName:j}],location_count:a,industry_string:\"Automobile,Industrial Equipment \\\\u002F Machinery,Manufacturing\",Subscribed:a},{TotalEmployees:m,TotalEmployeesIndia:m,Rating:aC,UrlName:bO,CompanyType:i,Name:bP,CompanyReviewsLive:5237,CompanySalaries:29040,InterviewExperiencesLive:162,Age:Q,ShortName:bP,Logo:bO,HQCountry:l,headquaters:$,industries:[{Priority:b,UrlName:y,Id:C,Name:x},{Priority:e,UrlName:F,Id:T,Name:B}],CompanyJobsLive:285,About:\"IndusInd Bank is a Mumbai based scheduled private bank founded in Mumbai in April 1994. This bank offers a wide range of banking as well as financial products and services to the customers and is headquartered in Mumbai, Maharashtra. The bank has over 745 branches with a total network of over 1635 operating ATMs. It has two representative offices outside India in London and Dubai respectively.\\\\nIndusInd Bank stands tall today as one of the reputed banking brands in the country. The bank has been continuously investing in various advertising & marketing programs to enhance the brand image & recall. In an endeavor to emerge as best-in-class brand, IndusInd Bank has made \\'Responsive Innovation\\' as a central theme of its brand building program. The Bank has combined responsiveness with innovation to launch a wide range of banking products and services which are unique, convenient and very relevant to Indian consumer.\",HQUrlName:bI,first_location:[$,\"Mumbai\"],CompanyId:12059,Awards:[],tags:[{Name:n,UrlName:o},{Name:k,UrlName:j}],location_count:471,industry_string:ap,Subscribed:a},{TotalEmployees:m,TotalEmployeesIndia:m,Rating:at,UrlName:bQ,CompanyType:i,Name:bR,CompanyReviewsLive:5032,CompanySalaries:14247,InterviewExperiencesLive:82,Age:22,ShortName:bR,Logo:bQ,HQCountry:l,headquaters:L,industries:[{Priority:e,UrlName:X,Id:N,Name:K}],CompanyJobsLive:105,About:\"A global leader in optimizing the customer experience lifecycle, digital transformation, and business process management, HGS is helping its clients become more competitive every day. HGS combines automation, analytics, and artificial intelligence with deep domain expertise focusing on digital customer experiences, back-office processing, contact centers, and HRO solutions. Part of the multi-billion dollar conglomerate Hinduja Group, HGS takes a “globally local” approach, with over 46,698 employees across 52 delivery centers in seven countries, making a difference to some of the world’s leading brands across nine key verticals. For the year ended March 31, 2021, HGS had revenues of Rs. 55,889 million (US$ 753.9 million).\\\\n\\\\nVisit https:\\\\u002F\\\\u002Fhgs.cx to learn how HGS transforms customer experiences and builds business for the future.\",HQUrlName:am,first_location:[L],CompanyId:2326,Awards:[],tags:[{Name:H,UrlName:G},{Name:n,UrlName:o}],location_count:a,industry_string:K,Subscribed:a},{TotalEmployees:g,TotalEmployeesIndia:g,Rating:4.04,UrlName:bS,CompanyType:D,Name:\"Reliance Retail Limited\",CompanyReviewsLive:9230,CompanySalaries:22337,InterviewExperiencesLive:bA,Age:16,ShortName:\"Reliance Retail\",Logo:bS,HQCountry:l,headquaters:I,industries:[{Priority:e,UrlName:bu,Id:bv,Name:bw},{Priority:b,UrlName:bK,Id:bL,Name:bM}],CompanyJobsLive:aZ,About:\"Reliance Retail is the retail initiative of Reliance Industries Limited and is central to the group’s consumer facing businesses. Reliance Retail has been at the forefront of bringing about Organized Retail revolution in India.\\\\nReliance Retail’s operating model unleashes the aspirational energy of the new, resurgent India. Reliance Retail’s guiding philosophy rests on the tenets of enabling inclusion, growth and building sustainable societal value for millions of Indians.\\\\nIn a short period, it has forged strong and enduring bonds with millions of consumers by providing them unlimited choice, outstanding value proposition, superior quality and unmatched shopping experience across all its stores.\\\\nReliance Retail’s growth over the years has triggered a large socio-economic transformation on an extraordinary scale in India.\\\\nReliance Retail has been ranked as the fastest growing retailer in the world. It is ranked 53rd in the list of Top Global Retailers and is the only Indian Retailer to feature in the Top 100. It is the largest and the most profitable retailer in India with the widest reach.\\\\nReliance Retail has more than 150 million loyal customers buying across all its formats. It recorded more than 640 million footfalls across all its stores in FY20, a scale unmatched by any other retailer in India. With over 100,000 transactions per hour, Reliance Retail operates at a scale unparalleled in the Indian retail industry and continues to enrich the quality of lives of millions of Indians every day. Reliance Retail has adopted a multi-prong strategy and operates a wide array of store formats which cater to planned shopping needs as well as daily or occasional needs of the customers across major consumption baskets of Grocery, Consumer Electronics and Fashion & Lifestyle.\\\\nIn Grocery consumption basket, Reliance Retail operates Reliance Fresh, Shree Kannan Departmental stores, SMART and Smart Point store formats focused on food, fresh produce, bakery, dairy products, home and personal care products, as well as general merchandise items.\\\\nIn Consumer Electronics consumption basket, Reliance Retail operates Reliance Digital and MyJio Store formats offering a wide range of consumer electronics, home appliances, computing and mobility products, latest gadgets and accessories. These stores are backed by ResQ, a full-fledged service organisation and India’s only ISO 9001 certified electronics service brand.\\\\nIn Fashion and Lifestyle consumption basket, Reliance Retail operates a portfolio of formats that serves customers across value, mid, premium and luxury segments. Reliance Retail operates Trends, Trends Woman, Trends Man, Trends Footwear, Project Eve, Reliance Jewels, Hamleys formats and a portfolio of more than 40 marquee international brands such as Armani, Burberry, Diesel, GAS, Marks & Spencer, Superdry, Brooks Brothers, Steve Madden and more. Reliance Retail has a strong presence in digital commerce channels through AJIO.com, a curated fashion & lifestyle store bringing best of national and international brands to customers doorsteps and Jiomart, India\\'s largest hyperlocal retail solution that leverages the wide network of Reliance Retail\\'s grocery stores and well-established supply chain infrastructure.\\\\nReliance Retail reported a turnover of Rs. 1,57,629 crore (US$ 21.6 billion) for the financial year 2020-21. As on 31st Mar 2021, Reliance Retail operated 12,711 stores across 7,000+ cities with a retail area of over 33.8 million sft.\\\\nReliance Retail Ventures Limited, a subsidiary of Reliance Industries Limited is the holding company of Reliance Retail Limited which operates the retail business.\",HQUrlName:ar,first_location:[I],CompanyId:6092,Awards:[],tags:[],location_count:a,industry_string:\"Retail,Textile & Apparel\",Subscribed:a},{TotalEmployees:m,TotalEmployeesIndia:m,Rating:3.66,UrlName:\"wns\",CompanyType:D,Name:bT,CompanyReviewsLive:4784,CompanySalaries:23528,InterviewExperiencesLive:287,Age:26,ShortName:bT,Logo:\"wns-global-services\",HQCountry:l,headquaters:p,industries:[{Priority:b,UrlName:aq,Id:ac,Name:as},{Priority:b,UrlName:ah,Id:Y,Name:ag},{Priority:e,UrlName:P,Id:O,Name:J}],CompanyJobsLive:ba,About:\"WNS (Holdings) Limited (NYSE: WNS), is a leading Business Process Management (BPM) company. We combine our deep industry knowledge with technology and analytics expertise to co-create innovative, digital-led transformational solutions with clients across 10 industries. We enable businesses in Travel, Insurance, Banking and Financial Services, Manufacturing, Retail and Consumer Packaged Goods, Shipping and Logistics, Healthcare, and Utilities to re-imagine their digital future and transform their outcomes with operational excellence.\\\\nWe deliver an entire spectrum of BPM services in finance and accounting, procurement, customer interaction services and human resources leveraging collaborative models that are tailored to address the unique business challenges of each client. We co-create and execute the future vision of 350+ clients with the help of our 41,000+ employees. Our global footprint spans 16 countries with 60 delivery centers worldwide including in China, Costa Rica, India, the Philippines, Poland, Romania, South Africa, Spain, Sri Lanka, Turkey, United Kingdom and the United States.\",HQUrlName:A,first_location:[p],CompanyId:2237,Awards:[],tags:[],location_count:a,industry_string:\"BPO\\\\u002FKPO,Consulting,Analytics \\\\u002F KPO \\\\u002F Research\",Subscribed:a}],urlNameToNameMappings:[],pagination:{currentPage:e,pageBase:{page:E},totalPages:19809,baseUrl:\"\\\\u002Flist-of-companies\",totalResults:594260},totalAppliedFiltersCount:a}],error:d,state:{company:{companyInfo:d,stats:d,metaObj:d,companyTabs:d,awardsList:[],congratulationCount:a,customCompanyInfo:d},designation:{desigInfo:d,desigTabs:d,desigInterviewMeta:d,desigJobsMeta:d},globals:{DOMAIN:\"https:\\\\u002F\\\\u002Fwww.ambitionbox.com\",CDN:\"https:\\\\u002F\\\\u002Fstatic.ambitionbox.com\"},user:{user:d,clientId:d},loginModal:{isLoginOpen:c,loginProps:d,isPersonaliseOpen:c,personaliseProps:d,isOverlayOpen:c},bottomSheetController:{isOpen:c,openedTab:[c,c,c,c,c,c,c,c,c,c,c,c]},filerDropdownController:{openedFilters:[c,c,c,c,c,c,c,c,c,c,c,c]},feed:{entityMapping:d,helpfulHistory:[]},amboxStats:{amboxStats:{Reviews:\"35 Lakh+\",InterviewQuestions:\"2 Lakh+\",Salaries:\"1 Crore+\",UsersPerMonth:\"57 Lakh+\",Companies:\"5 Lakh+\",RegisteredCompanies:\"5,100\",NewCompaniesPerMonth:\"300\"}},comments:{commentsMap:{},reportModal:{open:c,commentId:S,type:S},helpfulIds:{},userCommentsIds:{},onLandL2Comments:d},abusiveWords:{abusiveWordsRegex:S,progressValue:a},qna:{question:S,answer:S,anonymous:c,tags:d,userCredential:d,isEditQuestion:c,userQuestionIds:[],userAnswerIds:[],isAddQuesModalOpen:c,isCredentialModalOpen:c,isReportModalOpen:c,type:\"question\",questionId:d,answerId:d,deletedAnswerData:{},addAnswerData:d,helpfulMarkedQnaQuestions:[],qnaTags:[],getEditedQuestionTags:d}},serverRendered:true}}(0,2,false,null,1,\"NULL\",\"100001+\",\"2021\",\"Public\",\"forbesglobal2000\",\"Forbes Global 2000\",\"India\",\"10001-50000\",\"Fortune500\",\"fortune500\",\"Mumbai,Maharashtra\",\"IT Services & Consulting\",\"Top Mega Companies\",\"mega\",\"it-services-and-consulting\",\"50001-100000\",\"155\",\"industry\",\"Financial Services\",\"financial-services\",\"Mega\",\"mumbai\",\"Banking\",\"21\",\"Private\",\"1\",\"banking\",\"conglomerate\",\"Conglomerate\",\"Navi Mumbai,Maharashtra\",\"Analytics \\\\u002F KPO \\\\u002F Research\",\"BPO \\\\u002F Call Centre\",\"Bangalore\\\\u002FBengaluru,Karnataka\",\"Telecom \\\\u002F ISP\",\"145\",\"83\",\"analytics-or-bpm-or-research\",28,\"United States (USA)\",\"\",\"95\",\"software-product\",\"157\",\"Software Product\",\"bpo-or-call-centre\",\"15\",\"37\",\"manufacturing\",\"Gurgaon\\\\u002FGurugram,Haryana\",\"Automobile\",\"automobile\",\"10\",\"6\",\"Manufacturing\",\"New York,New York\",\"Consulting\",\"consulting\",\"Pune,Maharashtra\",4.01,\"Paris\",\"Internet\",\"bengaluru\",\"telecom-or-isp\",\"IT\\\\u002FITES\",\"Financial Services,Banking\",\"bpo-or-kpo\",\"navi-mumbai\",\"BPO\\\\u002FKPO\",3.94,\"2\",77,\"internet\",\"55\",\"31\",\"Accenture\",\"accenture\",\"France\",3.77,\"HCL Technologies\",\"Noida,Uttar Pradesh\",\"infosys\",\"Infosys\",41,\"Tech Mahindra\",55,\"Capgemini\",\"BPO \\\\u002F Call Centre,IT Services & Consulting\",\"capgemini\",\"pune\",\"Genpact\",\"Dublin,Dublin\",\"Axis Bank\",\"11\",\"14\",\"vodafone-idea\",4,\"Gandhinagar,Gujrat\",44,\"3\",\"Wipro\",281,\"wipro\",\"l-and-t\",84,\"industrial-automation\",\"167\",\"Industrial Automation\",\"Reliance jio\",15,3.84,\"Cognizant\",3.92,\"IBM\",\"New York\",\"HDFC Bank\",114,4.07,\"concentrix-corporation\",\"Concentrix Corporation\",\"Fremont,California\",\"amazon\",\"Amazon\",\"Seattle,Washington\",\"retail\",\"49\",\"Retail\",\"HDB Financial Services\",\"Ahmedabad,Gujrat\",\"kotak-mahindra-bank\",264,\"Teleperformance\",\"tata-motors\",\"Tata Motors\",\"Teaneck,New Jersey\",136,\"Bharti Airtel\",\"ICICI Bank\",\"gurgaon\",\"reliance\",\"textile-or-apparel\",\"56\",\"Textile & Apparel\",\"Deloitte\",\"indusind-bank\",\"IndusInd Bank\",\"hinduja-global-solutions\",\"Hinduja Global Solutions\",\"reliance-retail-limited\",\"WNS\",\"tcs\",4.08));</script><script src=\"https://static.ambitionbox.com/_nuxt/runtime.7fb9fd1e6d6e473b93c1.js\" defer></script><script src=\"https://static.ambitionbox.com/_nuxt/layouts/browseCompaniesLayout.66af76835d9108d3869b.js\" defer></script><script src=\"https://static.ambitionbox.com/_nuxt/header.0f1ba168b1350143bba4.js\" defer></script><script src=\"https://static.ambitionbox.com/_nuxt/typeahead.9113ae7c31f7c08bd5c2.js\" defer></script><script src=\"https://static.ambitionbox.com/_nuxt/15.42014493982e2af45b48.js\" defer></script><script src=\"https://static.ambitionbox.com/_nuxt/ab.atoms.6846b8df70411d225aa3.js\" defer></script><script src=\"https://static.ambitionbox.com/_nuxt/c.listing.7654b57a8d517940a961.js\" defer></script><script src=\"https://static.ambitionbox.com/_nuxt/145.53a74adfa7255dd014be.js\" defer></script><script src=\"https://static.ambitionbox.com/_nuxt/paginator.7d724f4233a699ccd96c.js\" defer></script><script src=\"https://static.ambitionbox.com/_nuxt/footer.88a72de2437db7706258.js\" defer></script><script src=\"https://static.ambitionbox.com/_nuxt/commons.app.8235bf4a5d300332f246.js\" defer></script><script src=\"https://static.ambitionbox.com/_nuxt/vendors.app.0daf207a203db8f95566.js\" defer></script><script src=\"https://static.ambitionbox.com/_nuxt/app.8f5ac79de539bca73fe2.js\" defer></script><script data-n-head=\"ssr\" src=\"https://cdnjs.cloudflare.com/ajax/libs/jquery/3.5.1/jquery.min.js\" data-body=\"true\" crossorigin=\"\"></script><script data-n-head=\"ssr\" src=\"https://cdnjs.cloudflare.com/ajax/libs/corejs-typeahead/1.2.1/typeahead.bundle.min.js\" data-body=\"true\" crossorigin=\"\"></script><script data-n-head=\"ssr\" src=\"https://cdnjs.cloudflare.com/ajax/libs/vanilla-lazyload/12.1.0/lazyload.min.js\" data-body=\"true\" crossorigin=\"\"></script><script data-n-head=\"ssr\" src=\"https://cdnjs.cloudflare.com/ajax/libs/lightslider/1.1.6/js/lightslider.min.js\" skip=\"false\" data-body=\"true\"></script>\\n  </body>\\n</html>'"
      ]
     },
     "execution_count": 3,
     "metadata": {},
     "output_type": "execute_result"
    }
   ],
   "source": [
    "requests.get(\"https://www.ambitionbox.com/list-of-companies?page=1\").text"
   ]
  },
  {
   "cell_type": "code",
   "execution_count": 4,
   "metadata": {},
   "outputs": [],
   "source": [
    "# google chrome browser's request header (to make it look like, we are making this request from a browser)\n",
    "header = {\n",
    "    \"User-Agent\": \"Mozilla/5.0 (Windows NT 10.0; Win64; x64) AppleWebKit/537.36 (KHTML, like Gecko) Chrome/80.0.3987.163 Safari/537.36\"\n",
    "}"
   ]
  },
  {
   "cell_type": "code",
   "execution_count": 5,
   "metadata": {},
   "outputs": [],
   "source": [
    "# hit using the header\n",
    "response = requests.get(\"https://www.ambitionbox.com/list-of-companies?page=1\", headers=header)"
   ]
  },
  {
   "cell_type": "code",
   "execution_count": 6,
   "metadata": {},
   "outputs": [
    {
     "data": {
      "text/plain": [
       "'<!doctype html>\\n<html data-n-head-ssr lang=\"en\" data-n-head=\"%7B%22lang%22:%7B%22ssr%22:%22en%22%7D%7D\">\\n  <head >\\n    <meta charset=\"UTF-8\">\\n    <meta name=\"viewport\" content=\"width=device-width,initial-scale=1\">\\n    <meta http-equiv=\"X-UA-Compatible\" content=\"IE=edge\"> \\n    <title>List of companies - 594.3k companies | AmbitionBox</title><meta data-n-head=\"ssr\" name=\"copyright\" content=\"2021 AmbitionBox\"><meta data-n-head=\"ssr\" name=\"revisit-after\" content=\"1 day\"><meta data-n-head=\"ssr\" name='"
      ]
     },
     "execution_count": 6,
     "metadata": {},
     "output_type": "execute_result"
    }
   ],
   "source": [
    "# see the recieved page source\n",
    "response.text[0:500]"
   ]
  },
  {
   "cell_type": "markdown",
   "metadata": {},
   "source": [
    "### C) Pass the fetched webpage response to Beautiful Soup"
   ]
  },
  {
   "cell_type": "code",
   "execution_count": 7,
   "metadata": {},
   "outputs": [],
   "source": [
    "# give the webpage to Beautiful Soup using parsers: \"html.parser\" or \"lxml\"\n",
    "soup = BeautifulSoup(response.text, 'lxml')"
   ]
  },
  {
   "cell_type": "code",
   "execution_count": 8,
   "metadata": {},
   "outputs": [],
   "source": [
    "# we see the whole webpage is made of cards and each card has the company info\n",
    "# on inspecting, we see the cards are HTML: \"div\"s with class-name = \"company-content-wrapper\"\n",
    "# Let us extract the first card and see how we can extract data from it...\n",
    "\n",
    "first_company_card = soup.find(\"div\", class_=\"company-content-wrapper\")"
   ]
  },
  {
   "cell_type": "code",
   "execution_count": 9,
   "metadata": {},
   "outputs": [
    {
     "data": {
      "text/plain": [
       "<div class=\"company-content-wrapper\"><div class=\"company-content\"><div class=\"company-logo\"><img alt=\"Tata Consultancy Services logo\" class=\"lazy\" data-src=\"https://static.ambitionbox.com/alpha/company/photos/logos/tcs.jpg\" onerror=\"this.onerror=null;this.src='/static/icons/company-placeholder.svg';\" src=\"https://static.ambitionbox.com/static/icons/company-placeholder.svg\"/></div> <div class=\"company-info-wrapper\"><div class=\"company-info\"><div class=\"left\"><a href=\"/overview/tcs-overview\"><h2 class=\"company-name bold-title-l\" title=\"TCS\">\n",
       "\t\t\t\t\t\t\t\tTCS\n",
       "\t\t\t\t\t\t\t</h2></a> <div class=\"rating-wrapper\"><p class=\"rating badge-large rating-35\"><i class=\"icon icon-star\"></i>\n",
       "\t\t\t\t\t\t\t\t3.9\n",
       "\t\t\t\t\t\t\t</p> <a class=\"review-count sbold-Labels\" href=\"https://www.ambitionbox.com/reviews/tcs-reviews\">\n",
       "\t\t\t\t\t\t\t\t(30.2k Reviews)\n",
       "\t\t\t\t\t\t\t</a></div></div> <button class=\"ab_btn follow-btn invert round\"><span class=\"ctas-btn-medium\">Follow</span></button></div> <div class=\"leaf-list-wrapper noscrollbars-sm mg-btm-16 mg-top-4\" data-v-230c1e7d=\"\"><div class=\"award-leaf\" data-v-0c9b8739=\"\" data-v-230c1e7d=\"\"><img data-v-0c9b8739=\"\" height=\"26\" src=\"https://static.ambitionbox.com/static/awards/black-theme/golden-leaf-left.png\" width=\"15\"/> <img class=\"ambox-logo\" data-v-0c9b8739=\"\" height=\"17\" src=\"https://static.ambitionbox.com/static/awards/black-theme/gold-ambox-logo.svg\" width=\"15\"/> <p data-v-0c9b8739=\"\">#6 Best Mega Company - 2021</p> <img data-v-0c9b8739=\"\" height=\"26\" src=\"https://static.ambitionbox.com/static/awards/black-theme/golden-leaf-right.png\" width=\"15\"/></div><!-- --> <!-- --></div> <div class=\"company-basic-info\"><p class=\"infoEntity sbold-list-header\"><i class=\"icon-domain\"></i>\n",
       "\t\t\t\t\t\tPublic\n",
       "\t\t\t\t\t</p> <p class=\"infoEntity sbold-list-header\"><i class=\"icon-pin-drop\"></i>\n",
       "\t\t\t\t\t\tMumbai,Maharashtra \n",
       "\t\t\t\t\t</p> <p class=\"infoEntity sbold-list-header\"><i class=\"icon-access-time\"></i>\n",
       "\t\t\t\t\t\t54 years old\n",
       "\t\t\t\t\t</p> <p class=\"infoEntity sbold-list-header\"><i class=\"icon-supervisor-account\"></i>\n",
       "\t\t\t\t\t\t1 Lakh+ employees (India)\n",
       "\t\t\t\t\t</p></div> <div class=\"chips-block\"><a class=\"ab_chip body-medium\" data-filter-name=\"chips_Company-Tags_bpo-or-call-centre\" href=\"/bpo-or-call-centre-companies-in-india\" title=\"BPO / Call Centre companies in India\">\n",
       "\t\t\t\t\t\tBPO / Call Centre\n",
       "\t\t\t\t\t</a><a class=\"ab_chip body-medium\" data-filter-name=\"chips_Company-Tags_it-services-and-consulting\" href=\"/it-services-and-consulting-companies-in-india\" title=\"IT Services &amp; Consulting companies in India\">\n",
       "\t\t\t\t\t\tIT Services &amp; Consulting\n",
       "\t\t\t\t\t</a><a class=\"ab_chip body-medium\" data-filter-name=\"chips_Company-Tags_fortune500\" href=\"/fortune500-companies-in-india\" title=\"Fortune500 companies in India\">\n",
       "\t\t\t\t\t\tFortune500\n",
       "\t\t\t\t\t</a><a class=\"ab_chip body-medium\" data-filter-name=\"chips_Company-Tags_forbesglobal2000\" href=\"/forbesglobal2000-companies-in-india\" title=\"Forbes Global 2000 companies in India\">\n",
       "\t\t\t\t\t\tForbes Global 2000\n",
       "\t\t\t\t\t</a><a class=\"ab_chip body-medium\" data-filter-name=\"chips_Company-Tags_public\" href=\"/public-companies-in-india\" title=\"Public companies in India\">\n",
       "\t\t\t\t\t\tPublic\n",
       "\t\t\t\t\t</a><a class=\"ab_chip body-medium\" data-filter-name=\"chips_Company-Tags_mumbai\" href=\"/companies-in-mumbai\" title=\"Companies in Mumbai,Maharashtra\">\n",
       "\t\t\t\t\t\tMumbai,Maharashtra\n",
       "\t\t\t\t\t</a></div></div></div> <!-- --> <p class=\"description body-small\" itemprop=\"description\">\n",
       "\t\t\t\tWe ensure the highest levels of certainty and satisfaction through a deep-set commitment to our clients, comprehensive industry expertise and a global network of innovation and delivery centers.\n",
       "\n",
       "We function as a full stakeholder to business, offering a consulting-led approach with an integrated portfolio of technology led solutions that encompass the entire Enterprise value chain. Our Customer-centric Engagement Model defines how we do engage with you, offering specialized services and solutions that meet the distinct needs of your business.\n",
       "\n",
       "We build bespoke teams around your domain and technology requirements drawn from our talent pool of over 488,649 global professionals including 36.5% women from 154 nationalities. Our domain expertise has been built upon decades of experience working across industries and this knowledge underpins our suite of solutions.\n",
       "\n",
       "Our organization structure is domain led and empowered to help provide Customers a single window to industry specific solutions. Agile industry units have embedded capabilities to enable rapid responses that provide a competitive edge to our Customers. This is coupled with a unique Global Network Delivery Model™ (GNDM™), spanning 40 global locations, that is today recognized as the benchmark of excellence in technology deployment.\n",
       "\n",
       "We have made significant investments in Digital platforms and products spanning Technology Products, Horizontal Platforms and Products, Vertical Platforms and Products.\n",
       "\t\t\t</p></div>"
      ]
     },
     "execution_count": 9,
     "metadata": {},
     "output_type": "execute_result"
    }
   ],
   "source": [
    "first_company_card"
   ]
  },
  {
   "cell_type": "code",
   "execution_count": 10,
   "metadata": {},
   "outputs": [
    {
     "name": "stdout",
     "output_type": "stream",
     "text": [
      "<div class=\"company-content-wrapper\">\n",
      " <div class=\"company-content\">\n",
      "  <div class=\"company-logo\">\n",
      "   <img alt=\"Tata Consultancy Services logo\" class=\"lazy\" data-src=\"https://static.ambitionbox.com/alpha/company/photos/logos/tcs.jpg\" onerror=\"this.onerror=null;this.src='/static/icons/company-placeholder.svg';\" src=\"https://static.ambitionbox.com/static/icons/company-placeholder.svg\"/>\n",
      "  </div>\n",
      "  <div class=\"company-info-wrapper\">\n",
      "   <div class=\"company-info\">\n",
      "    <div class=\"left\">\n",
      "     <a href=\"/overview/tcs-overview\">\n",
      "      <h2 class=\"company-name bold-title-l\" title=\"TCS\">\n",
      "       TCS\n",
      "      </h2>\n",
      "     </a>\n",
      "     <div class=\"rating-wrapper\">\n",
      "      <p class=\"rating badge-large rating-35\">\n",
      "       <i class=\"icon icon-star\">\n",
      "       </i>\n",
      "       3.9\n",
      "      </p>\n",
      "      <a class=\"review-count sbold-Labels\" href=\"https://www.ambitionbox.com/reviews/tcs-reviews\">\n",
      "       (30.2k Reviews)\n",
      "      </a>\n",
      "     </div>\n",
      "    </div>\n",
      "    <button class=\"ab_btn follow-btn invert round\">\n",
      "     <span class=\"ctas-btn-medium\">\n",
      "      Follow\n",
      "     </span>\n",
      "    </button>\n",
      "   </div>\n",
      "   <div class=\"leaf-list-wrapper noscrollbars-sm mg-btm-16 mg-top-4\" data-v-230c1e7d=\"\">\n",
      "    <div class=\"award-leaf\" data-v-0c9b8739=\"\" data-v-230c1e7d=\"\">\n",
      "     <img data-v-0c9b8739=\"\" height=\"26\" src=\"https://static.ambitionbox.com/static/awards/black-theme/golden-leaf-left.png\" width=\"15\"/>\n",
      "     <img class=\"ambox-logo\" data-v-0c9b8739=\"\" height=\"17\" src=\"https://static.ambitionbox.com/static/awards/black-theme/gold-ambox-logo.svg\" width=\"15\"/>\n",
      "     <p data-v-0c9b8739=\"\">\n",
      "      #6 Best Mega Company - 2021\n",
      "     </p>\n",
      "     <img data-v-0c9b8739=\"\" height=\"26\" src=\"https://static.ambitionbox.com/static/awards/black-theme/golden-leaf-right.png\" width=\"15\"/>\n",
      "    </div>\n",
      "    <!-- -->\n",
      "    <!-- -->\n",
      "   </div>\n",
      "   <div class=\"company-basic-info\">\n",
      "    <p class=\"infoEntity sbold-list-header\">\n",
      "     <i class=\"icon-domain\">\n",
      "     </i>\n",
      "     Public\n",
      "    </p>\n",
      "    <p class=\"infoEntity sbold-list-header\">\n",
      "     <i class=\"icon-pin-drop\">\n",
      "     </i>\n",
      "     Mumbai,Maharashtra\n",
      "    </p>\n",
      "    <p class=\"infoEntity sbold-list-header\">\n",
      "     <i class=\"icon-access-time\">\n",
      "     </i>\n",
      "     54 years old\n",
      "    </p>\n",
      "    <p class=\"infoEntity sbold-list-header\">\n",
      "     <i class=\"icon-supervisor-account\">\n",
      "     </i>\n",
      "     1 Lakh+ employees (India)\n",
      "    </p>\n",
      "   </div>\n",
      "   <div class=\"chips-block\">\n",
      "    <a class=\"ab_chip body-medium\" data-filter-name=\"chips_Company-Tags_bpo-or-call-centre\" href=\"/bpo-or-call-centre-companies-in-india\" title=\"BPO / Call Centre companies in India\">\n",
      "     BPO / Call Centre\n",
      "    </a>\n",
      "    <a class=\"ab_chip body-medium\" data-filter-name=\"chips_Company-Tags_it-services-and-consulting\" href=\"/it-services-and-consulting-companies-in-india\" title=\"IT Services &amp; Consulting companies in India\">\n",
      "     IT Services &amp; Consulting\n",
      "    </a>\n",
      "    <a class=\"ab_chip body-medium\" data-filter-name=\"chips_Company-Tags_fortune500\" href=\"/fortune500-companies-in-india\" title=\"Fortune500 companies in India\">\n",
      "     Fortune500\n",
      "    </a>\n",
      "    <a class=\"ab_chip body-medium\" data-filter-name=\"chips_Company-Tags_forbesglobal2000\" href=\"/forbesglobal2000-companies-in-india\" title=\"Forbes Global 2000 companies in India\">\n",
      "     Forbes Global 2000\n",
      "    </a>\n",
      "    <a class=\"ab_chip body-medium\" data-filter-name=\"chips_Company-Tags_public\" href=\"/public-companies-in-india\" title=\"Public companies in India\">\n",
      "     Public\n",
      "    </a>\n",
      "    <a class=\"ab_chip body-medium\" data-filter-name=\"chips_Company-Tags_mumbai\" href=\"/companies-in-mumbai\" title=\"Companies in Mumbai,Maharashtra\">\n",
      "     Mumbai,Maharashtra\n",
      "    </a>\n",
      "   </div>\n",
      "  </div>\n",
      " </div>\n",
      " <!-- -->\n",
      " <p class=\"description body-small\" itemprop=\"description\">\n",
      "  We ensure the highest levels of certainty and satisfaction through a deep-set commitment to our clients, comprehensive industry expertise and a global network of innovation and delivery centers.\n",
      "\n",
      "We function as a full stakeholder to business, offering a consulting-led approach with an integrated portfolio of technology led solutions that encompass the entire Enterprise value chain. Our Customer-centric Engagement Model defines how we do engage with you, offering specialized services and solutions that meet the distinct needs of your business.\n",
      "\n",
      "We build bespoke teams around your domain and technology requirements drawn from our talent pool of over 488,649 global professionals including 36.5% women from 154 nationalities. Our domain expertise has been built upon decades of experience working across industries and this knowledge underpins our suite of solutions.\n",
      "\n",
      "Our organization structure is domain led and empowered to help provide Customers a single window to industry specific solutions. Agile industry units have embedded capabilities to enable rapid responses that provide a competitive edge to our Customers. This is coupled with a unique Global Network Delivery Model™ (GNDM™), spanning 40 global locations, that is today recognized as the benchmark of excellence in technology deployment.\n",
      "\n",
      "We have made significant investments in Digital platforms and products spanning Technology Products, Horizontal Platforms and Products, Vertical Platforms and Products.\n",
      " </p>\n",
      "</div>\n",
      "\n"
     ]
    }
   ],
   "source": [
    "# let's see what we got here...\n",
    "print(first_company_card.prettify())"
   ]
  },
  {
   "cell_type": "markdown",
   "metadata": {},
   "source": [
    "### D) Extract the data from a single company card with its diferent attributes"
   ]
  },
  {
   "cell_type": "markdown",
   "metadata": {},
   "source": [
    "### D-1: Company Name"
   ]
  },
  {
   "cell_type": "code",
   "execution_count": 11,
   "metadata": {},
   "outputs": [
    {
     "data": {
      "text/plain": [
       "<h2 class=\"company-name bold-title-l\" title=\"TCS\">\n",
       "\t\t\t\t\t\t\t\tTCS\n",
       "\t\t\t\t\t\t\t</h2>"
      ]
     },
     "execution_count": 11,
     "metadata": {},
     "output_type": "execute_result"
    }
   ],
   "source": [
    "# 1. company name is inside h2 tag: <h2 class=\"company-name bold-title-l\" title=\"TCS\">\n",
    "first_company_card.find(\"h2\")"
   ]
  },
  {
   "cell_type": "code",
   "execution_count": 12,
   "metadata": {},
   "outputs": [
    {
     "data": {
      "text/plain": [
       "'TCS'"
      ]
     },
     "execution_count": 12,
     "metadata": {},
     "output_type": "execute_result"
    }
   ],
   "source": [
    "# extract company name\n",
    "first_company_card.find(\"h2\").text.strip()"
   ]
  },
  {
   "cell_type": "markdown",
   "metadata": {},
   "source": [
    "### D-2: Company Rating"
   ]
  },
  {
   "cell_type": "code",
   "execution_count": 13,
   "metadata": {},
   "outputs": [
    {
     "data": {
      "text/plain": [
       "<p class=\"rating badge-large rating-35\"><i class=\"icon icon-star\"></i>\n",
       "\t\t\t\t\t\t\t\t3.9\n",
       "\t\t\t\t\t\t\t</p>"
      ]
     },
     "execution_count": 13,
     "metadata": {},
     "output_type": "execute_result"
    }
   ],
   "source": [
    "# 2. company rating lies inside p tag: <p class=\"rating badge-large rating-35\">\n",
    "first_company_card.find(\"p\", class_=\"rating\")"
   ]
  },
  {
   "cell_type": "code",
   "execution_count": 14,
   "metadata": {},
   "outputs": [
    {
     "data": {
      "text/plain": [
       "'3.9'"
      ]
     },
     "execution_count": 14,
     "metadata": {},
     "output_type": "execute_result"
    }
   ],
   "source": [
    "# extract company rating\n",
    "first_company_card.find(\"p\", class_=\"rating\").text.strip()"
   ]
  },
  {
   "cell_type": "markdown",
   "metadata": {},
   "source": [
    "### D-3: Number of Company Reviews"
   ]
  },
  {
   "cell_type": "code",
   "execution_count": 15,
   "metadata": {},
   "outputs": [
    {
     "data": {
      "text/plain": [
       "<a class=\"review-count sbold-Labels\" href=\"https://www.ambitionbox.com/reviews/tcs-reviews\">\n",
       "\t\t\t\t\t\t\t\t(30.2k Reviews)\n",
       "\t\t\t\t\t\t\t</a>"
      ]
     },
     "execution_count": 15,
     "metadata": {},
     "output_type": "execute_result"
    }
   ],
   "source": [
    "# 3. number of company reviews lies inside a tag: <a class=\"review-count sbold-Labels\">\n",
    "first_company_card.find(\"a\", class_=\"review-count sbold-Labels\")"
   ]
  },
  {
   "cell_type": "code",
   "execution_count": 16,
   "metadata": {},
   "outputs": [
    {
     "data": {
      "text/plain": [
       "'(30.2k Reviews)'"
      ]
     },
     "execution_count": 16,
     "metadata": {},
     "output_type": "execute_result"
    }
   ],
   "source": [
    "# extract number of company reviews\n",
    "first_company_card.find(\"a\", class_=\"review-count sbold-Labels\").text.strip()"
   ]
  },
  {
   "cell_type": "code",
   "execution_count": 17,
   "metadata": {},
   "outputs": [
    {
     "data": {
      "text/plain": [
       "'(30.2k)'"
      ]
     },
     "execution_count": 17,
     "metadata": {},
     "output_type": "execute_result"
    }
   ],
   "source": [
    "first_company_card.find(\"a\", class_=\"review-count sbold-Labels\").text.strip().replace(\" Reviews\", \"\")"
   ]
  },
  {
   "cell_type": "markdown",
   "metadata": {},
   "source": [
    "### D-4: Domain | D-5: Location | D-6: Years Old | D-7: Employee Strength\n",
    "\n",
    "Extract \"__infoEntity__\" containing: 'domain', 'location', 'years old', 'employee strength'"
   ]
  },
  {
   "cell_type": "code",
   "execution_count": 18,
   "metadata": {},
   "outputs": [
    {
     "data": {
      "text/plain": [
       "[<p class=\"infoEntity sbold-list-header\"><i class=\"icon-domain\"></i>\n",
       " \t\t\t\t\t\tPublic\n",
       " \t\t\t\t\t</p>,\n",
       " <p class=\"infoEntity sbold-list-header\"><i class=\"icon-pin-drop\"></i>\n",
       " \t\t\t\t\t\tMumbai,Maharashtra \n",
       " \t\t\t\t\t</p>,\n",
       " <p class=\"infoEntity sbold-list-header\"><i class=\"icon-access-time\"></i>\n",
       " \t\t\t\t\t\t54 years old\n",
       " \t\t\t\t\t</p>,\n",
       " <p class=\"infoEntity sbold-list-header\"><i class=\"icon-supervisor-account\"></i>\n",
       " \t\t\t\t\t\t1 Lakh+ employees (India)\n",
       " \t\t\t\t\t</p>]"
      ]
     },
     "execution_count": 18,
     "metadata": {},
     "output_type": "execute_result"
    }
   ],
   "source": [
    "first_company_card.find_all(\"p\", class_=\"infoEntity sbold-list-header\")"
   ]
  },
  {
   "cell_type": "code",
   "execution_count": 19,
   "metadata": {},
   "outputs": [
    {
     "data": {
      "text/plain": [
       "<p class=\"infoEntity sbold-list-header\"><i class=\"icon-domain\"></i>\n",
       "\t\t\t\t\t\tPublic\n",
       "\t\t\t\t\t</p>"
      ]
     },
     "execution_count": 19,
     "metadata": {},
     "output_type": "execute_result"
    }
   ],
   "source": [
    "first_company_card.find_all(\"p\", class_=\"infoEntity sbold-list-header\")[0]"
   ]
  },
  {
   "cell_type": "code",
   "execution_count": 20,
   "metadata": {},
   "outputs": [
    {
     "data": {
      "text/plain": [
       "[<p class=\"infoEntity sbold-list-header\"><i class=\"icon-domain\"></i>\n",
       " \t\t\t\t\t\tPublic\n",
       " \t\t\t\t\t</p>,\n",
       " <p class=\"infoEntity sbold-list-header\"><i class=\"icon-pin-drop\"></i>\n",
       " \t\t\t\t\t\tMumbai,Maharashtra \n",
       " \t\t\t\t\t</p>,\n",
       " <p class=\"infoEntity sbold-list-header\"><i class=\"icon-access-time\"></i>\n",
       " \t\t\t\t\t\t54 years old\n",
       " \t\t\t\t\t</p>,\n",
       " <p class=\"infoEntity sbold-list-header\"><i class=\"icon-supervisor-account\"></i>\n",
       " \t\t\t\t\t\t1 Lakh+ employees (India)\n",
       " \t\t\t\t\t</p>]"
      ]
     },
     "execution_count": 20,
     "metadata": {},
     "output_type": "execute_result"
    }
   ],
   "source": [
    "inner_company_info_list = first_company_card.find_all(\"p\", class_=\"infoEntity sbold-list-header\")\n",
    "inner_company_info_list"
   ]
  },
  {
   "cell_type": "code",
   "execution_count": 21,
   "metadata": {},
   "outputs": [
    {
     "data": {
      "text/plain": [
       "<p class=\"infoEntity sbold-list-header\"><i class=\"icon-domain\"></i>\n",
       "\t\t\t\t\t\tPublic\n",
       "\t\t\t\t\t</p>"
      ]
     },
     "execution_count": 21,
     "metadata": {},
     "output_type": "execute_result"
    }
   ],
   "source": [
    "inner_company_info_list[0]"
   ]
  },
  {
   "cell_type": "code",
   "execution_count": 22,
   "metadata": {},
   "outputs": [
    {
     "data": {
      "text/plain": [
       "'icon-supervisor-account'"
      ]
     },
     "execution_count": 22,
     "metadata": {},
     "output_type": "execute_result"
    }
   ],
   "source": [
    "inner_company_info_list[3].findChildren(\"i\")[0][\"class\"][0]"
   ]
  },
  {
   "cell_type": "code",
   "execution_count": 23,
   "metadata": {},
   "outputs": [
    {
     "data": {
      "text/plain": [
       "'1 Lakh+ employees (India)'"
      ]
     },
     "execution_count": 23,
     "metadata": {},
     "output_type": "execute_result"
    }
   ],
   "source": [
    "inner_company_info_list[3].text.strip()"
   ]
  },
  {
   "cell_type": "code",
   "execution_count": 24,
   "metadata": {},
   "outputs": [
    {
     "name": "stdout",
     "output_type": "stream",
     "text": [
      "<div class=\"company-basic-info\">\n",
      " <p class=\"infoEntity sbold-list-header\">\n",
      "  <i class=\"icon-domain\">\n",
      "  </i>\n",
      "  Public\n",
      " </p>\n",
      " <p class=\"infoEntity sbold-list-header\">\n",
      "  <i class=\"icon-pin-drop\">\n",
      "  </i>\n",
      "  Mumbai,Maharashtra\n",
      " </p>\n",
      " <p class=\"infoEntity sbold-list-header\">\n",
      "  <i class=\"icon-access-time\">\n",
      "  </i>\n",
      "  54 years old\n",
      " </p>\n",
      " <p class=\"infoEntity sbold-list-header\">\n",
      "  <i class=\"icon-supervisor-account\">\n",
      "  </i>\n",
      "  1 Lakh+ employees (India)\n",
      " </p>\n",
      "</div>\n",
      "\n"
     ]
    }
   ],
   "source": [
    "# let's try using it's parent tag: div\n",
    "inner_company_info_card = first_company_card.find(\"div\", class_=\"company-basic-info\")\n",
    "print(inner_company_info_card.prettify())"
   ]
  },
  {
   "cell_type": "code",
   "execution_count": 25,
   "metadata": {},
   "outputs": [
    {
     "data": {
      "text/plain": [
       "[<i class=\"icon-domain\"></i>,\n",
       " <i class=\"icon-pin-drop\"></i>,\n",
       " <i class=\"icon-access-time\"></i>,\n",
       " <i class=\"icon-supervisor-account\"></i>]"
      ]
     },
     "execution_count": 25,
     "metadata": {},
     "output_type": "execute_result"
    }
   ],
   "source": [
    "inner_company_info_card.findChildren(\"i\")"
   ]
  },
  {
   "cell_type": "code",
   "execution_count": 26,
   "metadata": {},
   "outputs": [
    {
     "data": {
      "text/plain": [
       "'icon-domain'"
      ]
     },
     "execution_count": 26,
     "metadata": {},
     "output_type": "execute_result"
    }
   ],
   "source": [
    "inner_company_info_card.findChildren(\"i\")[0][\"class\"][0]"
   ]
  },
  {
   "cell_type": "code",
   "execution_count": 27,
   "metadata": {},
   "outputs": [
    {
     "data": {
      "text/plain": [
       "'Public'"
      ]
     },
     "execution_count": 27,
     "metadata": {},
     "output_type": "execute_result"
    }
   ],
   "source": [
    "inner_company_info_card.find_all(\"p\")[0].text.strip()"
   ]
  },
  {
   "cell_type": "code",
   "execution_count": 28,
   "metadata": {},
   "outputs": [
    {
     "data": {
      "text/plain": [
       "<p class=\"infoEntity sbold-list-header\"><i class=\"icon-domain\"></i>\n",
       "\t\t\t\t\t\tPublic\n",
       "\t\t\t\t\t</p>"
      ]
     },
     "execution_count": 28,
     "metadata": {},
     "output_type": "execute_result"
    }
   ],
   "source": [
    "# ignore\n",
    "first_company_card.find_all(\"p\", class_=\"infoEntity sbold-list-header\")[0]"
   ]
  },
  {
   "cell_type": "code",
   "execution_count": 29,
   "metadata": {},
   "outputs": [
    {
     "name": "stdout",
     "output_type": "stream",
     "text": [
      "domain: Public\n",
      "location: Mumbai,Maharashtra\n",
      "years old: 54 years old\n",
      "employee strength: 1 Lakh+ employees (India)\n"
     ]
    }
   ],
   "source": [
    "# Extract \"infoEntity\" containing 'domain', 'location', 'years old' & 'employee strength'\n",
    "\n",
    "info_list = first_company_card.find_all(\"p\", class_=\"infoEntity sbold-list-header\")\n",
    "dom = None\n",
    "loc = None\n",
    "old = None\n",
    "emp = None\n",
    "\n",
    "for i in range(4):\n",
    "    if info_list[i].findChildren(\"i\")[0][\"class\"][0] == 'icon-domain':\n",
    "        dom = info_list[i].text.strip()\n",
    "        \n",
    "    if info_list[i].findChildren(\"i\")[0][\"class\"][0] == 'icon-pin-drop':\n",
    "        loc = info_list[i].text.strip()\n",
    "        \n",
    "    if info_list[i].findChildren(\"i\")[0][\"class\"][0] == 'icon-access-time':\n",
    "        old = info_list[i].text.strip()\n",
    "        \n",
    "    if info_list[i].findChildren(\"i\")[0][\"class\"][0] == 'icon-supervisor-account':\n",
    "        emp = info_list[i].text.strip()\n",
    "    \n",
    "print(\"domain:\", dom)\n",
    "print(\"location:\", loc)\n",
    "print(\"years old:\", old)\n",
    "print(\"employee strength:\", emp)"
   ]
  },
  {
   "cell_type": "markdown",
   "metadata": {},
   "source": [
    "### D-8: Company Tags"
   ]
  },
  {
   "cell_type": "code",
   "execution_count": 30,
   "metadata": {},
   "outputs": [
    {
     "data": {
      "text/plain": [
       "[<a class=\"ab_chip body-medium\" data-filter-name=\"chips_Company-Tags_bpo-or-call-centre\" href=\"/bpo-or-call-centre-companies-in-india\" title=\"BPO / Call Centre companies in India\">\n",
       " \t\t\t\t\t\tBPO / Call Centre\n",
       " \t\t\t\t\t</a>,\n",
       " <a class=\"ab_chip body-medium\" data-filter-name=\"chips_Company-Tags_it-services-and-consulting\" href=\"/it-services-and-consulting-companies-in-india\" title=\"IT Services &amp; Consulting companies in India\">\n",
       " \t\t\t\t\t\tIT Services &amp; Consulting\n",
       " \t\t\t\t\t</a>,\n",
       " <a class=\"ab_chip body-medium\" data-filter-name=\"chips_Company-Tags_fortune500\" href=\"/fortune500-companies-in-india\" title=\"Fortune500 companies in India\">\n",
       " \t\t\t\t\t\tFortune500\n",
       " \t\t\t\t\t</a>,\n",
       " <a class=\"ab_chip body-medium\" data-filter-name=\"chips_Company-Tags_forbesglobal2000\" href=\"/forbesglobal2000-companies-in-india\" title=\"Forbes Global 2000 companies in India\">\n",
       " \t\t\t\t\t\tForbes Global 2000\n",
       " \t\t\t\t\t</a>,\n",
       " <a class=\"ab_chip body-medium\" data-filter-name=\"chips_Company-Tags_public\" href=\"/public-companies-in-india\" title=\"Public companies in India\">\n",
       " \t\t\t\t\t\tPublic\n",
       " \t\t\t\t\t</a>,\n",
       " <a class=\"ab_chip body-medium\" data-filter-name=\"chips_Company-Tags_mumbai\" href=\"/companies-in-mumbai\" title=\"Companies in Mumbai,Maharashtra\">\n",
       " \t\t\t\t\t\tMumbai,Maharashtra\n",
       " \t\t\t\t\t</a>]"
      ]
     },
     "execution_count": 30,
     "metadata": {},
     "output_type": "execute_result"
    }
   ],
   "source": [
    "# 8. company tags are inside a tags: <a class=\"ab_chip\">\n",
    "first_company_card.find_all(\"a\", class_=\"ab_chip\")"
   ]
  },
  {
   "cell_type": "code",
   "execution_count": 31,
   "metadata": {},
   "outputs": [
    {
     "data": {
      "text/plain": [
       "['BPO / Call Centre',\n",
       " 'IT Services & Consulting',\n",
       " 'Fortune500',\n",
       " 'Forbes Global 2000',\n",
       " 'Public',\n",
       " 'Mumbai,Maharashtra']"
      ]
     },
     "execution_count": 31,
     "metadata": {},
     "output_type": "execute_result"
    }
   ],
   "source": [
    "# extract company tags\n",
    "tags = []\n",
    "for tag in first_company_card.find_all(\"a\", class_=\"ab_chip\"):\n",
    "    tags.append(tag.text.strip())\n",
    "tags"
   ]
  },
  {
   "cell_type": "code",
   "execution_count": 32,
   "metadata": {},
   "outputs": [
    {
     "data": {
      "text/plain": [
       "'BPO / Call Centre, IT Services & Consulting, Fortune500, Forbes Global 2000, Public, Mumbai,Maharashtra'"
      ]
     },
     "execution_count": 32,
     "metadata": {},
     "output_type": "execute_result"
    }
   ],
   "source": [
    "tags = ', '.join(tags)\n",
    "tags"
   ]
  },
  {
   "cell_type": "markdown",
   "metadata": {},
   "source": [
    "### D-9: Company Description"
   ]
  },
  {
   "cell_type": "code",
   "execution_count": 33,
   "metadata": {},
   "outputs": [
    {
     "data": {
      "text/plain": [
       "<p class=\"description body-small\" itemprop=\"description\">\n",
       "\t\t\t\tWe ensure the highest levels of certainty and satisfaction through a deep-set commitment to our clients, comprehensive industry expertise and a global network of innovation and delivery centers.\n",
       "\n",
       "We function as a full stakeholder to business, offering a consulting-led approach with an integrated portfolio of technology led solutions that encompass the entire Enterprise value chain. Our Customer-centric Engagement Model defines how we do engage with you, offering specialized services and solutions that meet the distinct needs of your business.\n",
       "\n",
       "We build bespoke teams around your domain and technology requirements drawn from our talent pool of over 488,649 global professionals including 36.5% women from 154 nationalities. Our domain expertise has been built upon decades of experience working across industries and this knowledge underpins our suite of solutions.\n",
       "\n",
       "Our organization structure is domain led and empowered to help provide Customers a single window to industry specific solutions. Agile industry units have embedded capabilities to enable rapid responses that provide a competitive edge to our Customers. This is coupled with a unique Global Network Delivery Model™ (GNDM™), spanning 40 global locations, that is today recognized as the benchmark of excellence in technology deployment.\n",
       "\n",
       "We have made significant investments in Digital platforms and products spanning Technology Products, Horizontal Platforms and Products, Vertical Platforms and Products.\n",
       "\t\t\t</p>"
      ]
     },
     "execution_count": 33,
     "metadata": {},
     "output_type": "execute_result"
    }
   ],
   "source": [
    "# 9. company description is inside p tag: <p class=\"description\">\n",
    "first_company_card.find(\"p\", class_=\"description\")"
   ]
  },
  {
   "cell_type": "code",
   "execution_count": 34,
   "metadata": {},
   "outputs": [
    {
     "data": {
      "text/plain": [
       "'We ensure the highest levels of certainty and satisfaction through a deep-set commitment to our clients, comprehensive industry expertise and a global network of innovation and delivery centers.\\n\\nWe function as a full stakeholder to business, offering a consulting-led approach with an integrated portfolio of technology led solutions that encompass the entire Enterprise value chain. Our Customer-centric Engagement Model defines how we do engage with you, offering specialized services and solutions that meet the distinct needs of your business.\\n\\nWe build bespoke teams around your domain and technology requirements drawn from our talent pool of over 488,649 global professionals including 36.5% women from 154 nationalities. Our domain expertise has been built upon decades of experience working across industries and this knowledge underpins our suite of solutions.\\n\\nOur organization structure is domain led and empowered to help provide Customers a single window to industry specific solutions. Agile industry units have embedded capabilities to enable rapid responses that provide a competitive edge to our Customers. This is coupled with a unique Global Network Delivery Model™ (GNDM™), spanning 40 global locations, that is today recognized as the benchmark of excellence in technology deployment.\\n\\nWe have made significant investments in Digital platforms and products spanning Technology Products, Horizontal Platforms and Products, Vertical Platforms and Products.'"
      ]
     },
     "execution_count": 34,
     "metadata": {},
     "output_type": "execute_result"
    }
   ],
   "source": [
    "# extract company description\n",
    "first_company_card.find(\"p\", class_=\"description\").text.strip()"
   ]
  },
  {
   "cell_type": "markdown",
   "metadata": {},
   "source": [
    "### E) Scraping a Single WebPage"
   ]
  },
  {
   "cell_type": "code",
   "execution_count": 35,
   "metadata": {},
   "outputs": [
    {
     "data": {
      "text/plain": [
       "30"
      ]
     },
     "execution_count": 35,
     "metadata": {},
     "output_type": "execute_result"
    }
   ],
   "source": [
    "# find all the company cards in the webpage (HTML divs that encloses data about each company)\n",
    "company_cards = soup.find_all(\"div\", class_=\"company-content-wrapper\")\n",
    "len(company_cards)"
   ]
  },
  {
   "cell_type": "code",
   "execution_count": 36,
   "metadata": {},
   "outputs": [
    {
     "name": "stdout",
     "output_type": "stream",
     "text": [
      "Wall time: 57.5 ms\n"
     ]
    }
   ],
   "source": [
    "%%time\n",
    "\n",
    "name = []\n",
    "rating = []\n",
    "reviews = []\n",
    "domain = []\n",
    "location = []\n",
    "years_old = []\n",
    "employee_strength = []\n",
    "tags = []\n",
    "about = []\n",
    "\n",
    "for card in company_cards:\n",
    "    # 1. name\n",
    "    name.append(card.find(\"h2\").text.strip())\n",
    "    \n",
    "    # 2. rating\n",
    "    rating.append(card.find(\"p\", class_=\"rating\").text.strip())\n",
    "    \n",
    "    # 3. reviews\n",
    "    reviews.append(card.find(\"a\", class_=\"review-count sbold-Labels\").text.strip().replace(\" Reviews\", \"\"))\n",
    "    \n",
    "    # 4. domain, 5. location, 6. years old & 7. employee strength\n",
    "    info_list = card.find_all(\"p\", class_=\"infoEntity sbold-list-header\")\n",
    "    dom = None\n",
    "    loc = None\n",
    "    old = None\n",
    "    emp = None\n",
    "    for i in range(4):\n",
    "        try:\n",
    "            if info_list[i].findChildren(\"i\")[0][\"class\"][0] == 'icon-domain':\n",
    "                dom = info_list[i].text.strip()\n",
    "\n",
    "            if info_list[i].findChildren(\"i\")[0][\"class\"][0] == 'icon-pin-drop':\n",
    "                loc = info_list[i].text.strip()\n",
    "\n",
    "            if info_list[i].findChildren(\"i\")[0][\"class\"][0] == 'icon-access-time':\n",
    "                old = info_list[i].text.strip()\n",
    "\n",
    "            if info_list[i].findChildren(\"i\")[0][\"class\"][0] == 'icon-supervisor-account':\n",
    "                emp = info_list[i].text.strip()\n",
    "        except:\n",
    "            pass\n",
    "    \n",
    "    domain.append(dom)\n",
    "    location.append(loc)\n",
    "    years_old.append(old)\n",
    "    employee_strength.append(emp)\n",
    "    \n",
    "    # 8. tags\n",
    "    t = []\n",
    "    for tag in card.find_all(\"a\", class_=\"ab_chip\"):\n",
    "        t.append(tag.text.strip())\n",
    "    t = ', '.join(t)\n",
    "    tags.append(t)\n",
    "    \n",
    "    # 9. about\n",
    "    about.append(card.find(\"p\", class_=\"description\").text.strip())\n",
    "    \n",
    "col_dic = {\n",
    "    \"name\": name,\n",
    "    \"rating\": rating,\n",
    "    \"reviews\": reviews,\n",
    "    \"domain\": domain,\n",
    "    \"location\": location,\n",
    "    \"years_old\": years_old,\n",
    "    \"employee_strength\": employee_strength,\n",
    "     \"tags\": tags,\n",
    "    \"about\": about\n",
    "}\n",
    "\n",
    "df = pd.DataFrame(col_dic)"
   ]
  },
  {
   "cell_type": "code",
   "execution_count": 37,
   "metadata": {},
   "outputs": [
    {
     "data": {
      "text/html": [
       "<div>\n",
       "<style scoped>\n",
       "    .dataframe tbody tr th:only-of-type {\n",
       "        vertical-align: middle;\n",
       "    }\n",
       "\n",
       "    .dataframe tbody tr th {\n",
       "        vertical-align: top;\n",
       "    }\n",
       "\n",
       "    .dataframe thead th {\n",
       "        text-align: right;\n",
       "    }\n",
       "</style>\n",
       "<table border=\"1\" class=\"dataframe\">\n",
       "  <thead>\n",
       "    <tr style=\"text-align: right;\">\n",
       "      <th></th>\n",
       "      <th>name</th>\n",
       "      <th>rating</th>\n",
       "      <th>reviews</th>\n",
       "      <th>domain</th>\n",
       "      <th>location</th>\n",
       "      <th>years_old</th>\n",
       "      <th>employee_strength</th>\n",
       "      <th>tags</th>\n",
       "      <th>about</th>\n",
       "    </tr>\n",
       "  </thead>\n",
       "  <tbody>\n",
       "    <tr>\n",
       "      <th>0</th>\n",
       "      <td>TCS</td>\n",
       "      <td>3.9</td>\n",
       "      <td>(30.2k)</td>\n",
       "      <td>Public</td>\n",
       "      <td>Mumbai,Maharashtra</td>\n",
       "      <td>54 years old</td>\n",
       "      <td>1 Lakh+ employees (India)</td>\n",
       "      <td>BPO / Call Centre, IT Services &amp; Consulting, F...</td>\n",
       "      <td>We ensure the highest levels of certainty and ...</td>\n",
       "    </tr>\n",
       "    <tr>\n",
       "      <th>1</th>\n",
       "      <td>Accenture</td>\n",
       "      <td>4.0</td>\n",
       "      <td>(21.7k)</td>\n",
       "      <td>Public</td>\n",
       "      <td>Dublin,Dublin</td>\n",
       "      <td>33 years old</td>\n",
       "      <td>1 Lakh+ employees (India)</td>\n",
       "      <td>IT Services &amp; Consulting, Software Product, Fo...</td>\n",
       "      <td>Accenture is a global professional services co...</td>\n",
       "    </tr>\n",
       "    <tr>\n",
       "      <th>2</th>\n",
       "      <td>Cognizant</td>\n",
       "      <td>3.9</td>\n",
       "      <td>(19.9k)</td>\n",
       "      <td>Private</td>\n",
       "      <td>Teaneck,New Jersey</td>\n",
       "      <td>28 years old</td>\n",
       "      <td>1 Lakh+ employees (India)</td>\n",
       "      <td>IT Services &amp; Consulting, Forbes Global 2000</td>\n",
       "      <td>At Cognizant, we give organizations the insigh...</td>\n",
       "    </tr>\n",
       "    <tr>\n",
       "      <th>3</th>\n",
       "      <td>ICICI Bank</td>\n",
       "      <td>4.0</td>\n",
       "      <td>(26.2k)</td>\n",
       "      <td>Public</td>\n",
       "      <td>Mumbai,Maharashtra</td>\n",
       "      <td>28 years old</td>\n",
       "      <td>50k-1 Lakh employees (India)</td>\n",
       "      <td>Chemicals / Agri Inputs, Financial Services, M...</td>\n",
       "      <td>ICICI Bank is a leading private sector bank in...</td>\n",
       "    </tr>\n",
       "    <tr>\n",
       "      <th>4</th>\n",
       "      <td>HDFC Bank</td>\n",
       "      <td>4.0</td>\n",
       "      <td>(27.5k)</td>\n",
       "      <td>Public</td>\n",
       "      <td>Mumbai,Maharashtra</td>\n",
       "      <td>28 years old</td>\n",
       "      <td>1 Lakh+ employees (India)</td>\n",
       "      <td>Financial Services, Banking, Insurance, Fortun...</td>\n",
       "      <td>The Housing Development Finance Corporation Li...</td>\n",
       "    </tr>\n",
       "    <tr>\n",
       "      <th>5</th>\n",
       "      <td>Wipro</td>\n",
       "      <td>3.8</td>\n",
       "      <td>(18.4k)</td>\n",
       "      <td>Public</td>\n",
       "      <td>Bangalore/Bengaluru,Karnataka</td>\n",
       "      <td>77 years old</td>\n",
       "      <td>1 Lakh+ employees (India)</td>\n",
       "      <td>IT Services &amp; Consulting, Conglomerate, Fortun...</td>\n",
       "      <td>Wipro Limited (NYSE: WIT, BSE: 507685, NSE: WI...</td>\n",
       "    </tr>\n",
       "    <tr>\n",
       "      <th>6</th>\n",
       "      <td>Capgemini</td>\n",
       "      <td>3.8</td>\n",
       "      <td>(15.2k)</td>\n",
       "      <td>Public</td>\n",
       "      <td>Paris</td>\n",
       "      <td>55 years old</td>\n",
       "      <td>1 Lakh+ employees (India)</td>\n",
       "      <td>Internet, Analytics / KPO / Research, IT Servi...</td>\n",
       "      <td>Capgemini is a global leader in consulting, di...</td>\n",
       "    </tr>\n",
       "    <tr>\n",
       "      <th>7</th>\n",
       "      <td>HCL Technologies</td>\n",
       "      <td>3.8</td>\n",
       "      <td>(15.5k)</td>\n",
       "      <td>Public</td>\n",
       "      <td>Noida,Uttar Pradesh</td>\n",
       "      <td>46 years old</td>\n",
       "      <td>1 Lakh+ employees (India)</td>\n",
       "      <td>Financial Services, Consumer Electronics &amp; App...</td>\n",
       "      <td>HCL Technologies is a next-generation global t...</td>\n",
       "    </tr>\n",
       "    <tr>\n",
       "      <th>8</th>\n",
       "      <td>Infosys</td>\n",
       "      <td>3.9</td>\n",
       "      <td>(19k)</td>\n",
       "      <td>Public</td>\n",
       "      <td>Bangalore/Bengaluru,Karnataka</td>\n",
       "      <td>41 years old</td>\n",
       "      <td>1 Lakh+ employees (India)</td>\n",
       "      <td>IT Services &amp; Consulting, Fortune500, Forbes G...</td>\n",
       "      <td>Infosys is a global leader in next-generation ...</td>\n",
       "    </tr>\n",
       "    <tr>\n",
       "      <th>9</th>\n",
       "      <td>Tech Mahindra</td>\n",
       "      <td>3.7</td>\n",
       "      <td>(15k)</td>\n",
       "      <td>Public</td>\n",
       "      <td>Pune,Maharashtra</td>\n",
       "      <td>36 years old</td>\n",
       "      <td>50k-1 Lakh employees (India)</td>\n",
       "      <td>Consulting, Analytics / KPO / Research, IT Ser...</td>\n",
       "      <td>Tech Mahindra offers innovative and customer-c...</td>\n",
       "    </tr>\n",
       "    <tr>\n",
       "      <th>10</th>\n",
       "      <td>Genpact</td>\n",
       "      <td>4.0</td>\n",
       "      <td>(14.8k)</td>\n",
       "      <td>Private</td>\n",
       "      <td>New York,New York</td>\n",
       "      <td>25 years old</td>\n",
       "      <td>50k-1 Lakh employees (India)</td>\n",
       "      <td>Analytics / KPO / Research</td>\n",
       "      <td>Change is constant. At Genpact, we’re the ones...</td>\n",
       "    </tr>\n",
       "    <tr>\n",
       "      <th>11</th>\n",
       "      <td>Axis Bank</td>\n",
       "      <td>3.8</td>\n",
       "      <td>(14.4k)</td>\n",
       "      <td>Public</td>\n",
       "      <td>Mumbai,Maharashtra</td>\n",
       "      <td>29 years old</td>\n",
       "      <td>50k-1 Lakh employees (India)</td>\n",
       "      <td>Financial Services, Banking, Fortune500, Forbe...</td>\n",
       "      <td>Axis Bank is the third largest private sector ...</td>\n",
       "    </tr>\n",
       "    <tr>\n",
       "      <th>12</th>\n",
       "      <td>Vodafone Idea</td>\n",
       "      <td>4.2</td>\n",
       "      <td>(11.6k)</td>\n",
       "      <td>Public</td>\n",
       "      <td>Gandhinagar,Gujrat + 515 more</td>\n",
       "      <td>4 years old</td>\n",
       "      <td>10k-50k employees (India)</td>\n",
       "      <td>Telecom / ISP, Fortune500, Forbes Global 2000,...</td>\n",
       "      <td>Vodafone Idea Limited is an Aditya Birla Group...</td>\n",
       "    </tr>\n",
       "    <tr>\n",
       "      <th>13</th>\n",
       "      <td>L&amp;T</td>\n",
       "      <td>3.9</td>\n",
       "      <td>(22.7k)</td>\n",
       "      <td>Public</td>\n",
       "      <td>Mumbai,Maharashtra</td>\n",
       "      <td>84 years old</td>\n",
       "      <td>10k-50k employees (India)</td>\n",
       "      <td>Engineering &amp; Construction, Industrial Automat...</td>\n",
       "      <td>Larsen &amp; Toubro is a major technology, enginee...</td>\n",
       "    </tr>\n",
       "    <tr>\n",
       "      <th>14</th>\n",
       "      <td>Reliance jio</td>\n",
       "      <td>4.0</td>\n",
       "      <td>(11.4k)</td>\n",
       "      <td>Public</td>\n",
       "      <td>Navi Mumbai,Maharashtra</td>\n",
       "      <td>15 years old</td>\n",
       "      <td>10k-50k employees (India)</td>\n",
       "      <td>Telecom / ISP, Public, Navi Mumbai,Maharashtra</td>\n",
       "      <td>Make a new start. A start that will build beau...</td>\n",
       "    </tr>\n",
       "    <tr>\n",
       "      <th>15</th>\n",
       "      <td>IBM</td>\n",
       "      <td>4.1</td>\n",
       "      <td>(11.3k)</td>\n",
       "      <td>Public</td>\n",
       "      <td>New York</td>\n",
       "      <td>111 years old</td>\n",
       "      <td>50k-1 Lakh employees (India)</td>\n",
       "      <td>BPO/KPO, Consulting, Financial Services, Analy...</td>\n",
       "      <td>IBMers believe in progress—that the applicatio...</td>\n",
       "    </tr>\n",
       "    <tr>\n",
       "      <th>16</th>\n",
       "      <td>Concentrix Corpora...</td>\n",
       "      <td>4.1</td>\n",
       "      <td>(10.9k)</td>\n",
       "      <td>Public</td>\n",
       "      <td>Fremont,California + 55 more</td>\n",
       "      <td>39 years old</td>\n",
       "      <td>10k-50k employees (India)</td>\n",
       "      <td>BPO/KPO, Recruitment / Staffing, BPO / Call Ce...</td>\n",
       "      <td>Concentrix is a technology-enabled global busi...</td>\n",
       "    </tr>\n",
       "    <tr>\n",
       "      <th>17</th>\n",
       "      <td>Amazon</td>\n",
       "      <td>4.2</td>\n",
       "      <td>(10.3k)</td>\n",
       "      <td>Private</td>\n",
       "      <td>Seattle,Washington</td>\n",
       "      <td>28 years old</td>\n",
       "      <td>10k-50k employees (India)</td>\n",
       "      <td>Internet, Retail, Courier / Logistics, IT Serv...</td>\n",
       "      <td>Amazon is guided by four principles: customer ...</td>\n",
       "    </tr>\n",
       "    <tr>\n",
       "      <th>18</th>\n",
       "      <td>HDB Financial Serv...</td>\n",
       "      <td>4.0</td>\n",
       "      <td>(9.9k)</td>\n",
       "      <td>Private</td>\n",
       "      <td>Ahmedabad,Gujrat</td>\n",
       "      <td>15 years old</td>\n",
       "      <td>1 Lakh+ employees (India)</td>\n",
       "      <td>Financial Services, NBFC, Ahmedabad,Gujrat</td>\n",
       "      <td>HDB Financial Services (HDBFS) is a leading No...</td>\n",
       "    </tr>\n",
       "    <tr>\n",
       "      <th>19</th>\n",
       "      <td>Kotak Mahindra Ban...</td>\n",
       "      <td>3.9</td>\n",
       "      <td>(10.2k)</td>\n",
       "      <td>Public</td>\n",
       "      <td>Mumbai,Maharashtra</td>\n",
       "      <td>19 years old</td>\n",
       "      <td>10k-50k employees (India)</td>\n",
       "      <td>Financial Services, Banking, Conglomerate, For...</td>\n",
       "      <td>In February 2003, Kotak Mahindra Finance Ltd. ...</td>\n",
       "    </tr>\n",
       "    <tr>\n",
       "      <th>20</th>\n",
       "      <td>Teleperformance</td>\n",
       "      <td>3.6</td>\n",
       "      <td>(7.4k)</td>\n",
       "      <td>Private</td>\n",
       "      <td>Paris</td>\n",
       "      <td>44 years old</td>\n",
       "      <td>50k-1 Lakh employees (India)</td>\n",
       "      <td>BPO / Call Centre, IT Services &amp; Consulting, F...</td>\n",
       "      <td>Teleperformance is the agile business services...</td>\n",
       "    </tr>\n",
       "    <tr>\n",
       "      <th>21</th>\n",
       "      <td>Tata Motors</td>\n",
       "      <td>4.1</td>\n",
       "      <td>(7.4k)</td>\n",
       "      <td>Public</td>\n",
       "      <td>Pune,Maharashtra + 348 more</td>\n",
       "      <td>77 years old</td>\n",
       "      <td>50k-1 Lakh employees (India)</td>\n",
       "      <td>Automobile, Manufacturing, Fortune500, Forbes ...</td>\n",
       "      <td>Tata Motors Group (Tata Motors) is a $34 billi...</td>\n",
       "    </tr>\n",
       "    <tr>\n",
       "      <th>22</th>\n",
       "      <td>Bharti Airtel</td>\n",
       "      <td>4.1</td>\n",
       "      <td>(9.9k)</td>\n",
       "      <td>Public</td>\n",
       "      <td>Gurgaon/Gurugram,Haryana</td>\n",
       "      <td>27 years old</td>\n",
       "      <td>5k-10k employees (India)</td>\n",
       "      <td>Telecom / ISP, Fortune500, Forbes Global 2000,...</td>\n",
       "      <td>Bharti Airtel Limited is a leading global tele...</td>\n",
       "    </tr>\n",
       "    <tr>\n",
       "      <th>23</th>\n",
       "      <td>Reliance Industrie...</td>\n",
       "      <td>4.0</td>\n",
       "      <td>(29.2k)</td>\n",
       "      <td>Public</td>\n",
       "      <td>Navi Mumbai,Maharashtra</td>\n",
       "      <td>49 years old</td>\n",
       "      <td>1 Lakh+ employees (India)</td>\n",
       "      <td>Manufacturing, Oil / Gas / Petro Chemicals, Po...</td>\n",
       "      <td>RIL is India’s largest private sector company,...</td>\n",
       "    </tr>\n",
       "    <tr>\n",
       "      <th>24</th>\n",
       "      <td>Deloitte</td>\n",
       "      <td>3.9</td>\n",
       "      <td>(6k)</td>\n",
       "      <td>Private</td>\n",
       "      <td>New York,New York</td>\n",
       "      <td>177 years old</td>\n",
       "      <td>10k-50k employees (India)</td>\n",
       "      <td>Consulting, Accounting / Auditing</td>\n",
       "      <td>Deloitte drives progress. Our firms around the...</td>\n",
       "    </tr>\n",
       "    <tr>\n",
       "      <th>25</th>\n",
       "      <td>Mahindra &amp; Mahindr...</td>\n",
       "      <td>4.1</td>\n",
       "      <td>(15.2k)</td>\n",
       "      <td>Public</td>\n",
       "      <td>Mumbai,Maharashtra</td>\n",
       "      <td>77 years old</td>\n",
       "      <td>10k-50k employees (India)</td>\n",
       "      <td>Automobile, Industrial Equipment / Machinery, ...</td>\n",
       "      <td>A federation of companies, bound by one purpos...</td>\n",
       "    </tr>\n",
       "    <tr>\n",
       "      <th>26</th>\n",
       "      <td>IndusInd Bank</td>\n",
       "      <td>3.8</td>\n",
       "      <td>(5.2k)</td>\n",
       "      <td>Public</td>\n",
       "      <td>Gurgaon/Gurugram,Haryana + 471 more</td>\n",
       "      <td>28 years old</td>\n",
       "      <td>10k-50k employees (India)</td>\n",
       "      <td>Financial Services, Banking, Fortune500, Forbe...</td>\n",
       "      <td>IndusInd Bank is a Mumbai based scheduled priv...</td>\n",
       "    </tr>\n",
       "    <tr>\n",
       "      <th>27</th>\n",
       "      <td>Hinduja Global Sol...</td>\n",
       "      <td>3.9</td>\n",
       "      <td>(5k)</td>\n",
       "      <td>Public</td>\n",
       "      <td>Bangalore/Bengaluru,Karnataka</td>\n",
       "      <td>22 years old</td>\n",
       "      <td>10k-50k employees (India)</td>\n",
       "      <td>BPO / Call Centre, Conglomerate, Fortune500, P...</td>\n",
       "      <td>A global leader in optimizing the customer exp...</td>\n",
       "    </tr>\n",
       "    <tr>\n",
       "      <th>28</th>\n",
       "      <td>Reliance Retail</td>\n",
       "      <td>4.0</td>\n",
       "      <td>(9.2k)</td>\n",
       "      <td>Private</td>\n",
       "      <td>Navi Mumbai,Maharashtra</td>\n",
       "      <td>16 years old</td>\n",
       "      <td>1 Lakh+ employees (India)</td>\n",
       "      <td>Retail, Textile &amp; Apparel, Navi Mumbai,Maharas...</td>\n",
       "      <td>Reliance Retail is the retail initiative of Re...</td>\n",
       "    </tr>\n",
       "    <tr>\n",
       "      <th>29</th>\n",
       "      <td>WNS</td>\n",
       "      <td>3.7</td>\n",
       "      <td>(4.8k)</td>\n",
       "      <td>Private</td>\n",
       "      <td>Mumbai,Maharashtra</td>\n",
       "      <td>26 years old</td>\n",
       "      <td>10k-50k employees (India)</td>\n",
       "      <td>BPO/KPO, Consulting, Analytics / KPO / Researc...</td>\n",
       "      <td>WNS (Holdings) Limited (NYSE: WNS), is a leadi...</td>\n",
       "    </tr>\n",
       "  </tbody>\n",
       "</table>\n",
       "</div>"
      ],
      "text/plain": [
       "                     name rating  reviews   domain  \\\n",
       "0                     TCS    3.9  (30.2k)   Public   \n",
       "1               Accenture    4.0  (21.7k)   Public   \n",
       "2               Cognizant    3.9  (19.9k)  Private   \n",
       "3              ICICI Bank    4.0  (26.2k)   Public   \n",
       "4               HDFC Bank    4.0  (27.5k)   Public   \n",
       "5                   Wipro    3.8  (18.4k)   Public   \n",
       "6               Capgemini    3.8  (15.2k)   Public   \n",
       "7        HCL Technologies    3.8  (15.5k)   Public   \n",
       "8                 Infosys    3.9    (19k)   Public   \n",
       "9           Tech Mahindra    3.7    (15k)   Public   \n",
       "10                Genpact    4.0  (14.8k)  Private   \n",
       "11              Axis Bank    3.8  (14.4k)   Public   \n",
       "12          Vodafone Idea    4.2  (11.6k)   Public   \n",
       "13                    L&T    3.9  (22.7k)   Public   \n",
       "14           Reliance jio    4.0  (11.4k)   Public   \n",
       "15                    IBM    4.1  (11.3k)   Public   \n",
       "16  Concentrix Corpora...    4.1  (10.9k)   Public   \n",
       "17                 Amazon    4.2  (10.3k)  Private   \n",
       "18  HDB Financial Serv...    4.0   (9.9k)  Private   \n",
       "19  Kotak Mahindra Ban...    3.9  (10.2k)   Public   \n",
       "20        Teleperformance    3.6   (7.4k)  Private   \n",
       "21            Tata Motors    4.1   (7.4k)   Public   \n",
       "22          Bharti Airtel    4.1   (9.9k)   Public   \n",
       "23  Reliance Industrie...    4.0  (29.2k)   Public   \n",
       "24               Deloitte    3.9     (6k)  Private   \n",
       "25  Mahindra & Mahindr...    4.1  (15.2k)   Public   \n",
       "26          IndusInd Bank    3.8   (5.2k)   Public   \n",
       "27  Hinduja Global Sol...    3.9     (5k)   Public   \n",
       "28        Reliance Retail    4.0   (9.2k)  Private   \n",
       "29                    WNS    3.7   (4.8k)  Private   \n",
       "\n",
       "                               location      years_old  \\\n",
       "0                    Mumbai,Maharashtra   54 years old   \n",
       "1                         Dublin,Dublin   33 years old   \n",
       "2                    Teaneck,New Jersey   28 years old   \n",
       "3                    Mumbai,Maharashtra   28 years old   \n",
       "4                    Mumbai,Maharashtra   28 years old   \n",
       "5         Bangalore/Bengaluru,Karnataka   77 years old   \n",
       "6                                 Paris   55 years old   \n",
       "7                   Noida,Uttar Pradesh   46 years old   \n",
       "8         Bangalore/Bengaluru,Karnataka   41 years old   \n",
       "9                      Pune,Maharashtra   36 years old   \n",
       "10                    New York,New York   25 years old   \n",
       "11                   Mumbai,Maharashtra   29 years old   \n",
       "12        Gandhinagar,Gujrat + 515 more    4 years old   \n",
       "13                   Mumbai,Maharashtra   84 years old   \n",
       "14              Navi Mumbai,Maharashtra   15 years old   \n",
       "15                             New York  111 years old   \n",
       "16         Fremont,California + 55 more   39 years old   \n",
       "17                   Seattle,Washington   28 years old   \n",
       "18                     Ahmedabad,Gujrat   15 years old   \n",
       "19                   Mumbai,Maharashtra   19 years old   \n",
       "20                                Paris   44 years old   \n",
       "21          Pune,Maharashtra + 348 more   77 years old   \n",
       "22             Gurgaon/Gurugram,Haryana   27 years old   \n",
       "23              Navi Mumbai,Maharashtra   49 years old   \n",
       "24                    New York,New York  177 years old   \n",
       "25                   Mumbai,Maharashtra   77 years old   \n",
       "26  Gurgaon/Gurugram,Haryana + 471 more   28 years old   \n",
       "27        Bangalore/Bengaluru,Karnataka   22 years old   \n",
       "28              Navi Mumbai,Maharashtra   16 years old   \n",
       "29                   Mumbai,Maharashtra   26 years old   \n",
       "\n",
       "               employee_strength  \\\n",
       "0      1 Lakh+ employees (India)   \n",
       "1      1 Lakh+ employees (India)   \n",
       "2      1 Lakh+ employees (India)   \n",
       "3   50k-1 Lakh employees (India)   \n",
       "4      1 Lakh+ employees (India)   \n",
       "5      1 Lakh+ employees (India)   \n",
       "6      1 Lakh+ employees (India)   \n",
       "7      1 Lakh+ employees (India)   \n",
       "8      1 Lakh+ employees (India)   \n",
       "9   50k-1 Lakh employees (India)   \n",
       "10  50k-1 Lakh employees (India)   \n",
       "11  50k-1 Lakh employees (India)   \n",
       "12     10k-50k employees (India)   \n",
       "13     10k-50k employees (India)   \n",
       "14     10k-50k employees (India)   \n",
       "15  50k-1 Lakh employees (India)   \n",
       "16     10k-50k employees (India)   \n",
       "17     10k-50k employees (India)   \n",
       "18     1 Lakh+ employees (India)   \n",
       "19     10k-50k employees (India)   \n",
       "20  50k-1 Lakh employees (India)   \n",
       "21  50k-1 Lakh employees (India)   \n",
       "22      5k-10k employees (India)   \n",
       "23     1 Lakh+ employees (India)   \n",
       "24     10k-50k employees (India)   \n",
       "25     10k-50k employees (India)   \n",
       "26     10k-50k employees (India)   \n",
       "27     10k-50k employees (India)   \n",
       "28     1 Lakh+ employees (India)   \n",
       "29     10k-50k employees (India)   \n",
       "\n",
       "                                                 tags  \\\n",
       "0   BPO / Call Centre, IT Services & Consulting, F...   \n",
       "1   IT Services & Consulting, Software Product, Fo...   \n",
       "2        IT Services & Consulting, Forbes Global 2000   \n",
       "3   Chemicals / Agri Inputs, Financial Services, M...   \n",
       "4   Financial Services, Banking, Insurance, Fortun...   \n",
       "5   IT Services & Consulting, Conglomerate, Fortun...   \n",
       "6   Internet, Analytics / KPO / Research, IT Servi...   \n",
       "7   Financial Services, Consumer Electronics & App...   \n",
       "8   IT Services & Consulting, Fortune500, Forbes G...   \n",
       "9   Consulting, Analytics / KPO / Research, IT Ser...   \n",
       "10                         Analytics / KPO / Research   \n",
       "11  Financial Services, Banking, Fortune500, Forbe...   \n",
       "12  Telecom / ISP, Fortune500, Forbes Global 2000,...   \n",
       "13  Engineering & Construction, Industrial Automat...   \n",
       "14     Telecom / ISP, Public, Navi Mumbai,Maharashtra   \n",
       "15  BPO/KPO, Consulting, Financial Services, Analy...   \n",
       "16  BPO/KPO, Recruitment / Staffing, BPO / Call Ce...   \n",
       "17  Internet, Retail, Courier / Logistics, IT Serv...   \n",
       "18         Financial Services, NBFC, Ahmedabad,Gujrat   \n",
       "19  Financial Services, Banking, Conglomerate, For...   \n",
       "20  BPO / Call Centre, IT Services & Consulting, F...   \n",
       "21  Automobile, Manufacturing, Fortune500, Forbes ...   \n",
       "22  Telecom / ISP, Fortune500, Forbes Global 2000,...   \n",
       "23  Manufacturing, Oil / Gas / Petro Chemicals, Po...   \n",
       "24                  Consulting, Accounting / Auditing   \n",
       "25  Automobile, Industrial Equipment / Machinery, ...   \n",
       "26  Financial Services, Banking, Fortune500, Forbe...   \n",
       "27  BPO / Call Centre, Conglomerate, Fortune500, P...   \n",
       "28  Retail, Textile & Apparel, Navi Mumbai,Maharas...   \n",
       "29  BPO/KPO, Consulting, Analytics / KPO / Researc...   \n",
       "\n",
       "                                                about  \n",
       "0   We ensure the highest levels of certainty and ...  \n",
       "1   Accenture is a global professional services co...  \n",
       "2   At Cognizant, we give organizations the insigh...  \n",
       "3   ICICI Bank is a leading private sector bank in...  \n",
       "4   The Housing Development Finance Corporation Li...  \n",
       "5   Wipro Limited (NYSE: WIT, BSE: 507685, NSE: WI...  \n",
       "6   Capgemini is a global leader in consulting, di...  \n",
       "7   HCL Technologies is a next-generation global t...  \n",
       "8   Infosys is a global leader in next-generation ...  \n",
       "9   Tech Mahindra offers innovative and customer-c...  \n",
       "10  Change is constant. At Genpact, we’re the ones...  \n",
       "11  Axis Bank is the third largest private sector ...  \n",
       "12  Vodafone Idea Limited is an Aditya Birla Group...  \n",
       "13  Larsen & Toubro is a major technology, enginee...  \n",
       "14  Make a new start. A start that will build beau...  \n",
       "15  IBMers believe in progress—that the applicatio...  \n",
       "16  Concentrix is a technology-enabled global busi...  \n",
       "17  Amazon is guided by four principles: customer ...  \n",
       "18  HDB Financial Services (HDBFS) is a leading No...  \n",
       "19  In February 2003, Kotak Mahindra Finance Ltd. ...  \n",
       "20  Teleperformance is the agile business services...  \n",
       "21  Tata Motors Group (Tata Motors) is a $34 billi...  \n",
       "22  Bharti Airtel Limited is a leading global tele...  \n",
       "23  RIL is India’s largest private sector company,...  \n",
       "24  Deloitte drives progress. Our firms around the...  \n",
       "25  A federation of companies, bound by one purpos...  \n",
       "26  IndusInd Bank is a Mumbai based scheduled priv...  \n",
       "27  A global leader in optimizing the customer exp...  \n",
       "28  Reliance Retail is the retail initiative of Re...  \n",
       "29  WNS (Holdings) Limited (NYSE: WNS), is a leadi...  "
      ]
     },
     "execution_count": 37,
     "metadata": {},
     "output_type": "execute_result"
    }
   ],
   "source": [
    "df"
   ]
  },
  {
   "cell_type": "markdown",
   "metadata": {},
   "source": [
    "### F) Scraping the Whole Website"
   ]
  },
  {
   "cell_type": "code",
   "execution_count": 38,
   "metadata": {},
   "outputs": [],
   "source": [
    "start_time = time.time()\n",
    "dataframe_final = pd.DataFrame()\n",
    "\n",
    "# 4,86,333 unique companies found / 30 per page = 16,211 pages\n",
    "# total_number_of_webpages = 16,211\n",
    "total_number_of_webpages = 10"
   ]
  },
  {
   "cell_type": "code",
   "execution_count": 39,
   "metadata": {},
   "outputs": [
    {
     "name": "stdout",
     "output_type": "stream",
     "text": [
      "scraping webpage number: 1 of 10\n",
      "success!\n",
      "time taken: 590.39 ms\n",
      "total time elapsed: 0:00:04.598708\n",
      "\n",
      "scraping webpage number: 2 of 10\n",
      "success!\n",
      "time taken: 749.94 ms\n",
      "total time elapsed: 0:00:05.349651\n",
      "\n",
      "scraping webpage number: 3 of 10\n",
      "success!\n",
      "time taken: 1241.58 ms\n",
      "total time elapsed: 0:00:06.591232\n",
      "\n",
      "scraping webpage number: 4 of 10\n",
      "success!\n",
      "time taken: 1273.45 ms\n",
      "total time elapsed: 0:00:07.864686\n",
      "\n",
      "scraping webpage number: 5 of 10\n",
      "success!\n",
      "time taken: 1266.6 ms\n",
      "total time elapsed: 0:00:09.131507\n",
      "\n",
      "scraping webpage number: 6 of 10\n",
      "success!\n",
      "time taken: 1160.19 ms\n",
      "total time elapsed: 0:00:10.291692\n",
      "\n",
      "scraping webpage number: 7 of 10\n",
      "success!\n",
      "time taken: 1188.41 ms\n",
      "total time elapsed: 0:00:11.480097\n",
      "\n",
      "scraping webpage number: 8 of 10\n",
      "success!\n",
      "time taken: 1086.04 ms\n",
      "total time elapsed: 0:00:12.566141\n",
      "\n",
      "scraping webpage number: 9 of 10\n",
      "success!\n",
      "time taken: 1106.96 ms\n",
      "total time elapsed: 0:00:13.673098\n",
      "\n",
      "scraping webpage number: 10 of 10\n",
      "success!\n",
      "time taken: 1190.85 ms\n",
      "total time elapsed: 0:00:14.863945\n",
      "\n",
      "full website scraped successfully!\n",
      "total time taken: 0:00:14.863945\n",
      "\n"
     ]
    }
   ],
   "source": [
    "for page in range(1, total_number_of_webpages+1):\n",
    "    print(\"scraping webpage number: {page} of {total}\".format(page=page, total=total_number_of_webpages))\n",
    "    loop_time = time.time()\n",
    "    \n",
    "    # set page url and header\n",
    "    url = \"https://www.ambitionbox.com/list-of-companies?page={}\".format(page)\n",
    "    header = {\"User-Agent\": \"Mozilla/5.0 (Windows NT 10.0; Win64; x64) AppleWebKit/537.36 (KHTML, like Gecko) Chrome/80.0.3987.163 Safari/537.36\"}\n",
    "    \n",
    "    # get page response from the website\n",
    "    response = requests.get(url, headers=header)\n",
    "    # time.sleep(0.1)\n",
    "    \n",
    "    # pass the page to BeautifulSoup\n",
    "    soup = BeautifulSoup(response.text, 'lxml')\n",
    "    \n",
    "    # find all the company cards from the webpage\n",
    "    company_cards = soup.find_all(\"div\", class_=\"company-content-wrapper\")\n",
    "    \n",
    "    # extract all the required data from each company card and store them in a list\n",
    "    name = []\n",
    "    rating = []\n",
    "    reviews = []\n",
    "    domain = []\n",
    "    location = []\n",
    "    years_old = []\n",
    "    employee_strength = []\n",
    "    tags = []\n",
    "    about = []\n",
    "    \n",
    "    # scrap scrap scrap!\n",
    "    for card in company_cards:\n",
    "        # 1. name\n",
    "        try:\n",
    "            name.append(card.find(\"h2\").text.strip())\n",
    "        except:\n",
    "            name.append(None)\n",
    "            # 2. rating\n",
    "        try:\n",
    "            rating.append(card.find(\"p\", class_=\"rating\").text.strip())\n",
    "        except:\n",
    "            rating.append(None)\n",
    "\n",
    "        # 3. reviews\n",
    "        try:\n",
    "            reviews.append(card.find(\"a\", class_=\"review-count sbold-Labels\").text.strip().replace(\" Reviews\", \"\"))\n",
    "        except:\n",
    "            reviews.append(None)\n",
    "\n",
    "        # 4. domain, 5. location, 6. years old & 7. employee strength\n",
    "        info_list = card.find_all(\"p\", class_=\"infoEntity sbold-list-header\")\n",
    "        dom = None\n",
    "        loc = None\n",
    "        old = None\n",
    "        emp = None\n",
    "        for i in range(4):\n",
    "            try:\n",
    "                if info_list[i].findChildren(\"i\")[0][\"class\"][0] == 'icon-domain':\n",
    "                    dom = info_list[i].text.strip()\n",
    "\n",
    "                if info_list[i].findChildren(\"i\")[0][\"class\"][0] == 'icon-pin-drop':\n",
    "                    loc = info_list[i].text.strip()\n",
    "\n",
    "                if info_list[i].findChildren(\"i\")[0][\"class\"][0] == 'icon-access-time':\n",
    "                    old = info_list[i].text.strip()\n",
    "\n",
    "                if info_list[i].findChildren(\"i\")[0][\"class\"][0] == 'icon-supervisor-account':\n",
    "                    emp = info_list[i].text.strip()\n",
    "            except:\n",
    "                pass\n",
    "            \n",
    "        domain.append(dom)\n",
    "        location.append(loc)\n",
    "        years_old.append(old)\n",
    "        employee_strength.append(emp)\n",
    "\n",
    "        # 8. tags\n",
    "        t = []\n",
    "        try:\n",
    "            for tag in card.find_all(\"a\", class_=\"ab_chip\"):\n",
    "                t.append(tag.text.strip())\n",
    "            t = ', '.join(t)\n",
    "            tags.append(t)\n",
    "        except:\n",
    "            tags.append(None)\n",
    "\n",
    "        # 9. about\n",
    "        try:\n",
    "            about.append(card.find(\"p\", class_=\"description\").text.strip())\n",
    "        except:\n",
    "            about.append(None)\n",
    "    \n",
    "    # make a dictionary containing all the data extracted\n",
    "    col_dic = {\n",
    "        \"name\": name,\n",
    "        \"rating\": rating,\n",
    "        \"reviews\": reviews,\n",
    "        \"domain\": domain,\n",
    "        \"location\": location,\n",
    "        \"years_old\": years_old,\n",
    "        \"employee_strength\": employee_strength,\n",
    "        \"tags\": tags,\n",
    "        \"about\": about\n",
    "    }\n",
    "    \n",
    "    # pass the dictionary to pandas to create a dataframe (page)\n",
    "    df = pd.DataFrame(col_dic)\n",
    "    \n",
    "    # append the dataframe to the final dataframe (the whole website)\n",
    "    dataframe_final = dataframe_final.append(df, ignore_index=True)\n",
    "    \n",
    "    # success\n",
    "    print(\"success!\")\n",
    "    print(\"time taken:\", round((time.time()-loop_time)*1000, 2), \"ms\")\n",
    "    print(\"total time elapsed:\", str(timedelta(seconds=(time.time()-start_time))))\n",
    "    print()\n",
    "\n",
    "end_time = time.time()\n",
    "print(\"full website scraped successfully!\")\n",
    "print(\"total time taken:\", str(timedelta(seconds=(end_time - start_time))))\n",
    "print()"
   ]
  },
  {
   "cell_type": "code",
   "execution_count": 40,
   "metadata": {},
   "outputs": [
    {
     "data": {
      "text/html": [
       "<div>\n",
       "<style scoped>\n",
       "    .dataframe tbody tr th:only-of-type {\n",
       "        vertical-align: middle;\n",
       "    }\n",
       "\n",
       "    .dataframe tbody tr th {\n",
       "        vertical-align: top;\n",
       "    }\n",
       "\n",
       "    .dataframe thead th {\n",
       "        text-align: right;\n",
       "    }\n",
       "</style>\n",
       "<table border=\"1\" class=\"dataframe\">\n",
       "  <thead>\n",
       "    <tr style=\"text-align: right;\">\n",
       "      <th></th>\n",
       "      <th>name</th>\n",
       "      <th>rating</th>\n",
       "      <th>reviews</th>\n",
       "      <th>domain</th>\n",
       "      <th>location</th>\n",
       "      <th>years_old</th>\n",
       "      <th>employee_strength</th>\n",
       "      <th>tags</th>\n",
       "      <th>about</th>\n",
       "    </tr>\n",
       "  </thead>\n",
       "  <tbody>\n",
       "    <tr>\n",
       "      <th>0</th>\n",
       "      <td>TCS</td>\n",
       "      <td>3.9</td>\n",
       "      <td>(30.2k)</td>\n",
       "      <td>Public</td>\n",
       "      <td>Mumbai,Maharashtra</td>\n",
       "      <td>54 years old</td>\n",
       "      <td>1 Lakh+ employees (India)</td>\n",
       "      <td>BPO / Call Centre, IT Services &amp; Consulting, F...</td>\n",
       "      <td>We ensure the highest levels of certainty and ...</td>\n",
       "    </tr>\n",
       "    <tr>\n",
       "      <th>1</th>\n",
       "      <td>Accenture</td>\n",
       "      <td>4.0</td>\n",
       "      <td>(21.7k)</td>\n",
       "      <td>Public</td>\n",
       "      <td>Dublin,Dublin</td>\n",
       "      <td>33 years old</td>\n",
       "      <td>1 Lakh+ employees (India)</td>\n",
       "      <td>IT Services &amp; Consulting, Software Product, Fo...</td>\n",
       "      <td>Accenture is a global professional services co...</td>\n",
       "    </tr>\n",
       "    <tr>\n",
       "      <th>2</th>\n",
       "      <td>Cognizant</td>\n",
       "      <td>3.9</td>\n",
       "      <td>(19.9k)</td>\n",
       "      <td>Private</td>\n",
       "      <td>Teaneck,New Jersey</td>\n",
       "      <td>28 years old</td>\n",
       "      <td>1 Lakh+ employees (India)</td>\n",
       "      <td>IT Services &amp; Consulting, Forbes Global 2000</td>\n",
       "      <td>At Cognizant, we give organizations the insigh...</td>\n",
       "    </tr>\n",
       "    <tr>\n",
       "      <th>3</th>\n",
       "      <td>ICICI Bank</td>\n",
       "      <td>4.0</td>\n",
       "      <td>(26.2k)</td>\n",
       "      <td>Public</td>\n",
       "      <td>Mumbai,Maharashtra</td>\n",
       "      <td>28 years old</td>\n",
       "      <td>50k-1 Lakh employees (India)</td>\n",
       "      <td>Chemicals / Agri Inputs, Financial Services, M...</td>\n",
       "      <td>ICICI Bank is a leading private sector bank in...</td>\n",
       "    </tr>\n",
       "    <tr>\n",
       "      <th>4</th>\n",
       "      <td>HDFC Bank</td>\n",
       "      <td>4.0</td>\n",
       "      <td>(27.5k)</td>\n",
       "      <td>Public</td>\n",
       "      <td>Mumbai,Maharashtra</td>\n",
       "      <td>28 years old</td>\n",
       "      <td>1 Lakh+ employees (India)</td>\n",
       "      <td>Financial Services, Banking, Insurance, Fortun...</td>\n",
       "      <td>The Housing Development Finance Corporation Li...</td>\n",
       "    </tr>\n",
       "    <tr>\n",
       "      <th>...</th>\n",
       "      <td>...</td>\n",
       "      <td>...</td>\n",
       "      <td>...</td>\n",
       "      <td>...</td>\n",
       "      <td>...</td>\n",
       "      <td>...</td>\n",
       "      <td>...</td>\n",
       "      <td>...</td>\n",
       "      <td>...</td>\n",
       "    </tr>\n",
       "    <tr>\n",
       "      <th>294</th>\n",
       "      <td>Honda</td>\n",
       "      <td>4.1</td>\n",
       "      <td>(2.6k)</td>\n",
       "      <td>Private</td>\n",
       "      <td>Greater Noida,Uttar Pradesh</td>\n",
       "      <td>37 years old</td>\n",
       "      <td>5k-10k employees (India)</td>\n",
       "      <td>Industrial Equipment / Machinery, Manufacturin...</td>\n",
       "      <td>From commuter models loved all over the world,...</td>\n",
       "    </tr>\n",
       "    <tr>\n",
       "      <th>295</th>\n",
       "      <td>Cogent E Services</td>\n",
       "      <td>3.3</td>\n",
       "      <td>(1.1k)</td>\n",
       "      <td>Private</td>\n",
       "      <td>Noida,Uttar Pradesh + 20 more</td>\n",
       "      <td>18 years old</td>\n",
       "      <td>10k-50k employees (India)</td>\n",
       "      <td>BPO/KPO, BPO / Call Centre, IT Services &amp; Cons...</td>\n",
       "      <td>Cogent is a multinational business process sol...</td>\n",
       "    </tr>\n",
       "    <tr>\n",
       "      <th>296</th>\n",
       "      <td>Mahindra Holidays ...</td>\n",
       "      <td>3.7</td>\n",
       "      <td>(1.1k)</td>\n",
       "      <td>Private</td>\n",
       "      <td>Chennai,Tamil Nadu + 82 more</td>\n",
       "      <td>26 years old</td>\n",
       "      <td>1k-5k employees (India)</td>\n",
       "      <td>Travel &amp; Tourism / Hospitality, Travel &amp; Touri...</td>\n",
       "      <td>Mahindra Holidays &amp; Resorts India Ltd., (MHRIL...</td>\n",
       "    </tr>\n",
       "    <tr>\n",
       "      <th>297</th>\n",
       "      <td>Indiabulls</td>\n",
       "      <td>3.7</td>\n",
       "      <td>(3.3k)</td>\n",
       "      <td>Public</td>\n",
       "      <td>Gurgaon/Gurugram,Haryana</td>\n",
       "      <td>22 years old</td>\n",
       "      <td>10k-50k employees (India)</td>\n",
       "      <td>Financial Services, NBFC, Conglomerate, Public...</td>\n",
       "      <td>Indiabulls Housing Finance Limited is a mortga...</td>\n",
       "    </tr>\n",
       "    <tr>\n",
       "      <th>298</th>\n",
       "      <td>ACT Fibernet</td>\n",
       "      <td>4.0</td>\n",
       "      <td>(1.1k)</td>\n",
       "      <td>Private</td>\n",
       "      <td>Bangalore/Bengaluru,Karnataka</td>\n",
       "      <td>22 years old</td>\n",
       "      <td>5k-10k employees (India)</td>\n",
       "      <td>Telecom / ISP, Bangalore/Bengaluru,Karnataka</td>\n",
       "      <td>ACT (Atria Convergence Technologies Ltd.) was ...</td>\n",
       "    </tr>\n",
       "  </tbody>\n",
       "</table>\n",
       "<p>299 rows × 9 columns</p>\n",
       "</div>"
      ],
      "text/plain": [
       "                      name rating  reviews   domain  \\\n",
       "0                      TCS    3.9  (30.2k)   Public   \n",
       "1                Accenture    4.0  (21.7k)   Public   \n",
       "2                Cognizant    3.9  (19.9k)  Private   \n",
       "3               ICICI Bank    4.0  (26.2k)   Public   \n",
       "4                HDFC Bank    4.0  (27.5k)   Public   \n",
       "..                     ...    ...      ...      ...   \n",
       "294                  Honda    4.1   (2.6k)  Private   \n",
       "295      Cogent E Services    3.3   (1.1k)  Private   \n",
       "296  Mahindra Holidays ...    3.7   (1.1k)  Private   \n",
       "297             Indiabulls    3.7   (3.3k)   Public   \n",
       "298           ACT Fibernet    4.0   (1.1k)  Private   \n",
       "\n",
       "                          location     years_old  \\\n",
       "0               Mumbai,Maharashtra  54 years old   \n",
       "1                    Dublin,Dublin  33 years old   \n",
       "2               Teaneck,New Jersey  28 years old   \n",
       "3               Mumbai,Maharashtra  28 years old   \n",
       "4               Mumbai,Maharashtra  28 years old   \n",
       "..                             ...           ...   \n",
       "294    Greater Noida,Uttar Pradesh  37 years old   \n",
       "295  Noida,Uttar Pradesh + 20 more  18 years old   \n",
       "296   Chennai,Tamil Nadu + 82 more  26 years old   \n",
       "297       Gurgaon/Gurugram,Haryana  22 years old   \n",
       "298  Bangalore/Bengaluru,Karnataka  22 years old   \n",
       "\n",
       "                employee_strength  \\\n",
       "0       1 Lakh+ employees (India)   \n",
       "1       1 Lakh+ employees (India)   \n",
       "2       1 Lakh+ employees (India)   \n",
       "3    50k-1 Lakh employees (India)   \n",
       "4       1 Lakh+ employees (India)   \n",
       "..                            ...   \n",
       "294      5k-10k employees (India)   \n",
       "295     10k-50k employees (India)   \n",
       "296       1k-5k employees (India)   \n",
       "297     10k-50k employees (India)   \n",
       "298      5k-10k employees (India)   \n",
       "\n",
       "                                                  tags  \\\n",
       "0    BPO / Call Centre, IT Services & Consulting, F...   \n",
       "1    IT Services & Consulting, Software Product, Fo...   \n",
       "2         IT Services & Consulting, Forbes Global 2000   \n",
       "3    Chemicals / Agri Inputs, Financial Services, M...   \n",
       "4    Financial Services, Banking, Insurance, Fortun...   \n",
       "..                                                 ...   \n",
       "294  Industrial Equipment / Machinery, Manufacturin...   \n",
       "295  BPO/KPO, BPO / Call Centre, IT Services & Cons...   \n",
       "296  Travel & Tourism / Hospitality, Travel & Touri...   \n",
       "297  Financial Services, NBFC, Conglomerate, Public...   \n",
       "298       Telecom / ISP, Bangalore/Bengaluru,Karnataka   \n",
       "\n",
       "                                                 about  \n",
       "0    We ensure the highest levels of certainty and ...  \n",
       "1    Accenture is a global professional services co...  \n",
       "2    At Cognizant, we give organizations the insigh...  \n",
       "3    ICICI Bank is a leading private sector bank in...  \n",
       "4    The Housing Development Finance Corporation Li...  \n",
       "..                                                 ...  \n",
       "294  From commuter models loved all over the world,...  \n",
       "295  Cogent is a multinational business process sol...  \n",
       "296  Mahindra Holidays & Resorts India Ltd., (MHRIL...  \n",
       "297  Indiabulls Housing Finance Limited is a mortga...  \n",
       "298  ACT (Atria Convergence Technologies Ltd.) was ...  \n",
       "\n",
       "[299 rows x 9 columns]"
      ]
     },
     "execution_count": 40,
     "metadata": {},
     "output_type": "execute_result"
    }
   ],
   "source": [
    "dataframe_final"
   ]
  },
  {
   "cell_type": "code",
   "execution_count": 41,
   "metadata": {},
   "outputs": [
    {
     "name": "stdout",
     "output_type": "stream",
     "text": [
      "dataframe shape (299, 9)\n",
      "\n",
      "column-wise null count\n",
      "name                  0\n",
      "rating                0\n",
      "reviews               0\n",
      "domain               19\n",
      "location              0\n",
      "years_old             1\n",
      "employee_strength     0\n",
      "tags                  0\n",
      "about                 0\n",
      "dtype: int64\n",
      "\n"
     ]
    }
   ],
   "source": [
    "# Print some statistics about the final dataframe:\n",
    "print(\"dataframe shape\", dataframe_final.shape)\n",
    "print()\n",
    "print(\"column-wise null count\")\n",
    "print(dataframe_final.isna().sum())\n",
    "print()"
   ]
  },
  {
   "cell_type": "code",
   "execution_count": 42,
   "metadata": {},
   "outputs": [
    {
     "data": {
      "text/html": [
       "<div>\n",
       "<style scoped>\n",
       "    .dataframe tbody tr th:only-of-type {\n",
       "        vertical-align: middle;\n",
       "    }\n",
       "\n",
       "    .dataframe tbody tr th {\n",
       "        vertical-align: top;\n",
       "    }\n",
       "\n",
       "    .dataframe thead th {\n",
       "        text-align: right;\n",
       "    }\n",
       "</style>\n",
       "<table border=\"1\" class=\"dataframe\">\n",
       "  <thead>\n",
       "    <tr style=\"text-align: right;\">\n",
       "      <th></th>\n",
       "      <th>name</th>\n",
       "      <th>rating</th>\n",
       "      <th>reviews</th>\n",
       "      <th>domain</th>\n",
       "      <th>location</th>\n",
       "      <th>years_old</th>\n",
       "      <th>employee_strength</th>\n",
       "      <th>tags</th>\n",
       "      <th>about</th>\n",
       "    </tr>\n",
       "  </thead>\n",
       "  <tbody>\n",
       "    <tr>\n",
       "      <th>count</th>\n",
       "      <td>299</td>\n",
       "      <td>299</td>\n",
       "      <td>299</td>\n",
       "      <td>280</td>\n",
       "      <td>299</td>\n",
       "      <td>298</td>\n",
       "      <td>299</td>\n",
       "      <td>299</td>\n",
       "      <td>299</td>\n",
       "    </tr>\n",
       "    <tr>\n",
       "      <th>unique</th>\n",
       "      <td>298</td>\n",
       "      <td>17</td>\n",
       "      <td>69</td>\n",
       "      <td>4</td>\n",
       "      <td>213</td>\n",
       "      <td>103</td>\n",
       "      <td>10</td>\n",
       "      <td>275</td>\n",
       "      <td>299</td>\n",
       "    </tr>\n",
       "    <tr>\n",
       "      <th>top</th>\n",
       "      <td>Mahindra &amp; Mahindr...</td>\n",
       "      <td>4.1</td>\n",
       "      <td>(1.2k)</td>\n",
       "      <td>Public</td>\n",
       "      <td>Mumbai,Maharashtra</td>\n",
       "      <td>22 years old</td>\n",
       "      <td>10k-50k employees (India)</td>\n",
       "      <td>Financial Services, Insurance, Mumbai,Maharashtra</td>\n",
       "      <td>Conduent delivers mission-critical services an...</td>\n",
       "    </tr>\n",
       "    <tr>\n",
       "      <th>freq</th>\n",
       "      <td>2</td>\n",
       "      <td>58</td>\n",
       "      <td>23</td>\n",
       "      <td>137</td>\n",
       "      <td>32</td>\n",
       "      <td>20</td>\n",
       "      <td>110</td>\n",
       "      <td>5</td>\n",
       "      <td>1</td>\n",
       "    </tr>\n",
       "  </tbody>\n",
       "</table>\n",
       "</div>"
      ],
      "text/plain": [
       "                         name rating reviews  domain            location  \\\n",
       "count                     299    299     299     280                 299   \n",
       "unique                    298     17      69       4                 213   \n",
       "top     Mahindra & Mahindr...    4.1  (1.2k)  Public  Mumbai,Maharashtra   \n",
       "freq                        2     58      23     137                  32   \n",
       "\n",
       "           years_old          employee_strength  \\\n",
       "count            298                        299   \n",
       "unique           103                         10   \n",
       "top     22 years old  10k-50k employees (India)   \n",
       "freq              20                        110   \n",
       "\n",
       "                                                     tags  \\\n",
       "count                                                 299   \n",
       "unique                                                275   \n",
       "top     Financial Services, Insurance, Mumbai,Maharashtra   \n",
       "freq                                                    5   \n",
       "\n",
       "                                                    about  \n",
       "count                                                 299  \n",
       "unique                                                299  \n",
       "top     Conduent delivers mission-critical services an...  \n",
       "freq                                                    1  "
      ]
     },
     "execution_count": 42,
     "metadata": {},
     "output_type": "execute_result"
    }
   ],
   "source": [
    "dataframe_final.describe()"
   ]
  },
  {
   "cell_type": "code",
   "execution_count": 43,
   "metadata": {},
   "outputs": [],
   "source": [
    "# export the data to external csv\n",
    "dataframe_final.to_csv(\"AMBITION_BOX_COMPANY_DATA.csv\", encoding=\"utf-8\")"
   ]
  },
  {
   "cell_type": "code",
   "execution_count": null,
   "metadata": {},
   "outputs": [],
   "source": []
  }
 ],
 "metadata": {
  "kernelspec": {
   "display_name": "Python 3",
   "language": "python",
   "name": "python3"
  },
  "language_info": {
   "codemirror_mode": {
    "name": "ipython",
    "version": 3
   },
   "file_extension": ".py",
   "mimetype": "text/x-python",
   "name": "python",
   "nbconvert_exporter": "python",
   "pygments_lexer": "ipython3",
   "version": "3.8.8"
  }
 },
 "nbformat": 4,
 "nbformat_minor": 4
}
